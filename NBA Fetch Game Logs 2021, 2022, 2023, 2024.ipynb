{
 "cells": [
  {
   "cell_type": "markdown",
   "id": "56c448fe",
   "metadata": {},
   "source": [
    "### 1. Import libraries and data"
   ]
  },
  {
   "cell_type": "code",
   "execution_count": 3,
   "id": "ad175b1b",
   "metadata": {},
   "outputs": [
    {
     "name": "stdout",
     "output_type": "stream",
     "text": [
      "Requirement already satisfied: nba_api in c:\\users\\jwag1\\anaconda3\\lib\\site-packages (1.4.1)\n",
      "Requirement already satisfied: certifi<2024.0.0,>=2023.7.22 in c:\\users\\jwag1\\anaconda3\\lib\\site-packages (from nba_api) (2023.11.17)\n",
      "Requirement already satisfied: numpy<2.0.0,>=1.22.2 in c:\\users\\jwag1\\anaconda3\\lib\\site-packages (from nba_api) (1.26.4)\n",
      "Requirement already satisfied: requests<3.0,>=2.31 in c:\\users\\jwag1\\anaconda3\\lib\\site-packages (from nba_api) (2.31.0)\n",
      "Requirement already satisfied: charset-normalizer<4,>=2 in c:\\users\\jwag1\\anaconda3\\lib\\site-packages (from requests<3.0,>=2.31->nba_api) (2.0.4)\n",
      "Requirement already satisfied: idna<4,>=2.5 in c:\\users\\jwag1\\anaconda3\\lib\\site-packages (from requests<3.0,>=2.31->nba_api) (3.4)\n",
      "Requirement already satisfied: urllib3<3,>=1.21.1 in c:\\users\\jwag1\\anaconda3\\lib\\site-packages (from requests<3.0,>=2.31->nba_api) (2.0.7)\n"
     ]
    }
   ],
   "source": [
    "import pandas as pd\n",
    "import numpy as np\n",
    "!pip install nba_api\n",
    "from nba_api.stats.endpoints import PlayerGameLog\n",
    "from nba_api.stats.endpoints import CommonAllPlayers"
   ]
  },
  {
   "cell_type": "code",
   "execution_count": 4,
   "id": "be0e2e7c",
   "metadata": {},
   "outputs": [
    {
     "name": "stdout",
     "output_type": "stream",
     "text": [
      "   PERSON_ID DISPLAY_LAST_COMMA_FIRST   DISPLAY_FIRST_LAST  ROSTERSTATUS  \\\n",
      "0      76001          Abdelnaby, Alaa       Alaa Abdelnaby             0   \n",
      "1      76002         Abdul-Aziz, Zaid      Zaid Abdul-Aziz             0   \n",
      "2      76003     Abdul-Jabbar, Kareem  Kareem Abdul-Jabbar             0   \n",
      "3         51      Abdul-Rauf, Mahmoud   Mahmoud Abdul-Rauf             0   \n",
      "4       1505       Abdul-Wahad, Tariq    Tariq Abdul-Wahad             0   \n",
      "\n",
      "  FROM_YEAR TO_YEAR                   PLAYERCODE          PLAYER_SLUG  \\\n",
      "0      1990    1994       HISTADD_alaa_abdelnaby       alaa_abdelnaby   \n",
      "1      1968    1977      HISTADD_zaid_abdul-aziz      zaid_abdul-aziz   \n",
      "2      1969    1988  HISTADD_kareem_abdul-jabbar  kareem_abdul-jabbar   \n",
      "3      1990    2000           mahmoud_abdul-rauf   mahmoud_abdul-rauf   \n",
      "4      1997    2003            tariq_abdul-wahad    tariq_abdul-wahad   \n",
      "\n",
      "   TEAM_ID TEAM_CITY TEAM_NAME TEAM_ABBREVIATION TEAM_CODE TEAM_SLUG  \\\n",
      "0        0                                                      None   \n",
      "1        0                                                      None   \n",
      "2        0                                                      None   \n",
      "3        0                                                      None   \n",
      "4        0                                                      None   \n",
      "\n",
      "  GAMES_PLAYED_FLAG OTHERLEAGUE_EXPERIENCE_CH  \n",
      "0                 Y                        00  \n",
      "1                 Y                        00  \n",
      "2                 Y                        00  \n",
      "3                 Y                        00  \n",
      "4                 Y                        00  \n"
     ]
    }
   ],
   "source": [
    "# Fetch all players data (this can be a large dataset)\n",
    "players_data = CommonAllPlayers().get_data_frames()[0]\n",
    "\n",
    "# Display the first few rows to understand the structure\n",
    "print(players_data.head())"
   ]
  },
  {
   "cell_type": "code",
   "execution_count": 5,
   "id": "0cdae0b2",
   "metadata": {},
   "outputs": [],
   "source": [
    "# Define the seasons of interest\n",
    "seasons = ['2020-21', '2021-22', '2022-23', '2023-24']"
   ]
  },
  {
   "cell_type": "code",
   "execution_count": 6,
   "id": "25550e70",
   "metadata": {},
   "outputs": [],
   "source": [
    "# Fetch game logs for all players across all seasons\n",
    "all_logs = []"
   ]
  },
  {
   "cell_type": "code",
   "execution_count": 12,
   "id": "ccdafac6",
   "metadata": {},
   "outputs": [
    {
     "name": "stdout",
     "output_type": "stream",
     "text": [
      "Fetching all players...\n",
      "Fetched all players.\n",
      "Filtered players data.\n",
      "Starting batch processing...\n"
     ]
    },
    {
     "name": "stderr",
     "output_type": "stream",
     "text": [
      "\r",
      "  0%|          | 0/18 [00:00<?, ?it/s]"
     ]
    },
    {
     "name": "stdout",
     "output_type": "stream",
     "text": [
      "Processing batch 0 to 50...\n",
      "Fetching logs for player Precious Achiuwa (ID: 1630173) for season 2020-21...\n",
      "Fetching logs for player Precious Achiuwa (ID: 1630173) for season 2021-22...\n",
      "Fetching logs for player Precious Achiuwa (ID: 1630173) for season 2022-23...\n",
      "Fetching logs for player Precious Achiuwa (ID: 1630173) for season 2023-24...\n",
      "Fetching logs for player Jaylen Adams (ID: 1629121) for season 2020-21...\n",
      "Fetching logs for player Jaylen Adams (ID: 1629121) for season 2021-22...\n",
      "Fetching logs for player Jaylen Adams (ID: 1629121) for season 2022-23...\n",
      "Fetching logs for player Jaylen Adams (ID: 1629121) for season 2023-24...\n"
     ]
    },
    {
     "name": "stderr",
     "output_type": "stream",
     "text": [
      "C:\\Users\\jwag1\\AppData\\Local\\Temp\\ipykernel_32800\\3592326873.py:51: FutureWarning: The behavior of DataFrame concatenation with empty or all-NA entries is deprecated. In a future version, this will no longer exclude empty or all-NA columns when determining the result dtypes. To retain the old behavior, exclude the relevant entries before the concat operation.\n",
      "  player_logs_concat = pd.concat(player_logs, ignore_index=True)\n"
     ]
    },
    {
     "name": "stdout",
     "output_type": "stream",
     "text": [
      "Fetching logs for player Steven Adams (ID: 203500) for season 2020-21...\n",
      "Fetching logs for player Steven Adams (ID: 203500) for season 2021-22...\n",
      "Fetching logs for player Steven Adams (ID: 203500) for season 2022-23...\n",
      "Fetching logs for player Steven Adams (ID: 203500) for season 2023-24...\n"
     ]
    },
    {
     "name": "stderr",
     "output_type": "stream",
     "text": [
      "C:\\Users\\jwag1\\AppData\\Local\\Temp\\ipykernel_32800\\3592326873.py:51: FutureWarning: The behavior of DataFrame concatenation with empty or all-NA entries is deprecated. In a future version, this will no longer exclude empty or all-NA columns when determining the result dtypes. To retain the old behavior, exclude the relevant entries before the concat operation.\n",
      "  player_logs_concat = pd.concat(player_logs, ignore_index=True)\n"
     ]
    },
    {
     "name": "stdout",
     "output_type": "stream",
     "text": [
      "Fetching logs for player Bam Adebayo (ID: 1628389) for season 2020-21...\n",
      "Fetching logs for player Bam Adebayo (ID: 1628389) for season 2021-22...\n",
      "Fetching logs for player Bam Adebayo (ID: 1628389) for season 2022-23...\n",
      "Fetching logs for player Bam Adebayo (ID: 1628389) for season 2023-24...\n",
      "Fetching logs for player Ochai Agbaji (ID: 1630534) for season 2020-21...\n",
      "Fetching logs for player Ochai Agbaji (ID: 1630534) for season 2021-22...\n",
      "Fetching logs for player Ochai Agbaji (ID: 1630534) for season 2022-23...\n",
      "Fetching logs for player Ochai Agbaji (ID: 1630534) for season 2023-24...\n"
     ]
    },
    {
     "name": "stderr",
     "output_type": "stream",
     "text": [
      "C:\\Users\\jwag1\\AppData\\Local\\Temp\\ipykernel_32800\\3592326873.py:51: FutureWarning: The behavior of DataFrame concatenation with empty or all-NA entries is deprecated. In a future version, this will no longer exclude empty or all-NA columns when determining the result dtypes. To retain the old behavior, exclude the relevant entries before the concat operation.\n",
      "  player_logs_concat = pd.concat(player_logs, ignore_index=True)\n"
     ]
    },
    {
     "name": "stdout",
     "output_type": "stream",
     "text": [
      "Fetching logs for player Santi Aldama (ID: 1630583) for season 2020-21...\n",
      "Fetching logs for player Santi Aldama (ID: 1630583) for season 2021-22...\n",
      "Fetching logs for player Santi Aldama (ID: 1630583) for season 2022-23...\n",
      "Fetching logs for player Santi Aldama (ID: 1630583) for season 2023-24...\n"
     ]
    },
    {
     "name": "stderr",
     "output_type": "stream",
     "text": [
      "C:\\Users\\jwag1\\AppData\\Local\\Temp\\ipykernel_32800\\3592326873.py:51: FutureWarning: The behavior of DataFrame concatenation with empty or all-NA entries is deprecated. In a future version, this will no longer exclude empty or all-NA columns when determining the result dtypes. To retain the old behavior, exclude the relevant entries before the concat operation.\n",
      "  player_logs_concat = pd.concat(player_logs, ignore_index=True)\n"
     ]
    },
    {
     "name": "stdout",
     "output_type": "stream",
     "text": [
      "Fetching logs for player LaMarcus Aldridge (ID: 200746) for season 2020-21...\n",
      "Fetching logs for player LaMarcus Aldridge (ID: 200746) for season 2021-22...\n",
      "Fetching logs for player LaMarcus Aldridge (ID: 200746) for season 2022-23...\n",
      "Fetching logs for player LaMarcus Aldridge (ID: 200746) for season 2023-24...\n"
     ]
    },
    {
     "name": "stderr",
     "output_type": "stream",
     "text": [
      "C:\\Users\\jwag1\\AppData\\Local\\Temp\\ipykernel_32800\\3592326873.py:51: FutureWarning: The behavior of DataFrame concatenation with empty or all-NA entries is deprecated. In a future version, this will no longer exclude empty or all-NA columns when determining the result dtypes. To retain the old behavior, exclude the relevant entries before the concat operation.\n",
      "  player_logs_concat = pd.concat(player_logs, ignore_index=True)\n"
     ]
    },
    {
     "name": "stdout",
     "output_type": "stream",
     "text": [
      "Fetching logs for player Ty-Shon Alexander (ID: 1630234) for season 2020-21...\n",
      "Fetching logs for player Ty-Shon Alexander (ID: 1630234) for season 2021-22...\n",
      "Fetching logs for player Ty-Shon Alexander (ID: 1630234) for season 2022-23...\n",
      "Fetching logs for player Ty-Shon Alexander (ID: 1630234) for season 2023-24...\n"
     ]
    },
    {
     "name": "stderr",
     "output_type": "stream",
     "text": [
      "C:\\Users\\jwag1\\AppData\\Local\\Temp\\ipykernel_32800\\3592326873.py:51: FutureWarning: The behavior of DataFrame concatenation with empty or all-NA entries is deprecated. In a future version, this will no longer exclude empty or all-NA columns when determining the result dtypes. To retain the old behavior, exclude the relevant entries before the concat operation.\n",
      "  player_logs_concat = pd.concat(player_logs, ignore_index=True)\n"
     ]
    },
    {
     "name": "stdout",
     "output_type": "stream",
     "text": [
      "Fetching logs for player Nickeil Alexander-Walker (ID: 1629638) for season 2020-21...\n",
      "Fetching logs for player Nickeil Alexander-Walker (ID: 1629638) for season 2021-22...\n",
      "Fetching logs for player Nickeil Alexander-Walker (ID: 1629638) for season 2022-23...\n",
      "Fetching logs for player Nickeil Alexander-Walker (ID: 1629638) for season 2023-24...\n",
      "Fetching logs for player Grayson Allen (ID: 1628960) for season 2020-21...\n",
      "Fetching logs for player Grayson Allen (ID: 1628960) for season 2021-22...\n",
      "Fetching logs for player Grayson Allen (ID: 1628960) for season 2022-23...\n",
      "Fetching logs for player Grayson Allen (ID: 1628960) for season 2023-24...\n",
      "Fetching logs for player Jarrett Allen (ID: 1628386) for season 2020-21...\n",
      "Fetching logs for player Jarrett Allen (ID: 1628386) for season 2021-22...\n",
      "Fetching logs for player Jarrett Allen (ID: 1628386) for season 2022-23...\n",
      "Fetching logs for player Jarrett Allen (ID: 1628386) for season 2023-24...\n",
      "Fetching logs for player Timmy Allen (ID: 1641851) for season 2020-21...\n",
      "Fetching logs for player Timmy Allen (ID: 1641851) for season 2021-22...\n",
      "Fetching logs for player Timmy Allen (ID: 1641851) for season 2022-23...\n",
      "Fetching logs for player Timmy Allen (ID: 1641851) for season 2023-24...\n"
     ]
    },
    {
     "name": "stderr",
     "output_type": "stream",
     "text": [
      "C:\\Users\\jwag1\\AppData\\Local\\Temp\\ipykernel_32800\\3592326873.py:51: FutureWarning: The behavior of DataFrame concatenation with empty or all-NA entries is deprecated. In a future version, this will no longer exclude empty or all-NA columns when determining the result dtypes. To retain the old behavior, exclude the relevant entries before the concat operation.\n",
      "  player_logs_concat = pd.concat(player_logs, ignore_index=True)\n"
     ]
    },
    {
     "name": "stdout",
     "output_type": "stream",
     "text": [
      "Fetching logs for player Jose Alvarado (ID: 1630631) for season 2020-21...\n",
      "Fetching logs for player Jose Alvarado (ID: 1630631) for season 2021-22...\n",
      "Fetching logs for player Jose Alvarado (ID: 1630631) for season 2022-23...\n",
      "Fetching logs for player Jose Alvarado (ID: 1630631) for season 2023-24...\n"
     ]
    },
    {
     "name": "stderr",
     "output_type": "stream",
     "text": [
      "C:\\Users\\jwag1\\AppData\\Local\\Temp\\ipykernel_32800\\3592326873.py:51: FutureWarning: The behavior of DataFrame concatenation with empty or all-NA entries is deprecated. In a future version, this will no longer exclude empty or all-NA columns when determining the result dtypes. To retain the old behavior, exclude the relevant entries before the concat operation.\n",
      "  player_logs_concat = pd.concat(player_logs, ignore_index=True)\n"
     ]
    },
    {
     "name": "stdout",
     "output_type": "stream",
     "text": [
      "Fetching logs for player Al-Farouq Aminu (ID: 202329) for season 2020-21...\n",
      "Fetching logs for player Al-Farouq Aminu (ID: 202329) for season 2021-22...\n",
      "Fetching logs for player Al-Farouq Aminu (ID: 202329) for season 2022-23...\n",
      "Fetching logs for player Al-Farouq Aminu (ID: 202329) for season 2023-24...\n"
     ]
    },
    {
     "name": "stderr",
     "output_type": "stream",
     "text": [
      "C:\\Users\\jwag1\\AppData\\Local\\Temp\\ipykernel_32800\\3592326873.py:51: FutureWarning: The behavior of DataFrame concatenation with empty or all-NA entries is deprecated. In a future version, this will no longer exclude empty or all-NA columns when determining the result dtypes. To retain the old behavior, exclude the relevant entries before the concat operation.\n",
      "  player_logs_concat = pd.concat(player_logs, ignore_index=True)\n"
     ]
    },
    {
     "name": "stdout",
     "output_type": "stream",
     "text": [
      "Fetching logs for player Justin Anderson (ID: 1626147) for season 2020-21...\n",
      "Fetching logs for player Justin Anderson (ID: 1626147) for season 2021-22...\n",
      "Fetching logs for player Justin Anderson (ID: 1626147) for season 2022-23...\n",
      "Fetching logs for player Justin Anderson (ID: 1626147) for season 2023-24...\n"
     ]
    },
    {
     "name": "stderr",
     "output_type": "stream",
     "text": [
      "C:\\Users\\jwag1\\AppData\\Local\\Temp\\ipykernel_32800\\3592326873.py:51: FutureWarning: The behavior of DataFrame concatenation with empty or all-NA entries is deprecated. In a future version, this will no longer exclude empty or all-NA columns when determining the result dtypes. To retain the old behavior, exclude the relevant entries before the concat operation.\n",
      "  player_logs_concat = pd.concat(player_logs, ignore_index=True)\n"
     ]
    },
    {
     "name": "stdout",
     "output_type": "stream",
     "text": [
      "Fetching logs for player Kyle Anderson (ID: 203937) for season 2020-21...\n",
      "Fetching logs for player Kyle Anderson (ID: 203937) for season 2021-22...\n",
      "Fetching logs for player Kyle Anderson (ID: 203937) for season 2022-23...\n",
      "Fetching logs for player Kyle Anderson (ID: 203937) for season 2023-24...\n",
      "Fetching logs for player Giannis Antetokounmpo (ID: 203507) for season 2020-21...\n",
      "Fetching logs for player Giannis Antetokounmpo (ID: 203507) for season 2021-22...\n",
      "Fetching logs for player Giannis Antetokounmpo (ID: 203507) for season 2022-23...\n",
      "Fetching logs for player Giannis Antetokounmpo (ID: 203507) for season 2023-24...\n",
      "Fetching logs for player Kostas Antetokounmpo (ID: 1628961) for season 2020-21...\n",
      "Fetching logs for player Kostas Antetokounmpo (ID: 1628961) for season 2021-22...\n",
      "Fetching logs for player Kostas Antetokounmpo (ID: 1628961) for season 2022-23...\n",
      "Fetching logs for player Kostas Antetokounmpo (ID: 1628961) for season 2023-24...\n"
     ]
    },
    {
     "name": "stderr",
     "output_type": "stream",
     "text": [
      "C:\\Users\\jwag1\\AppData\\Local\\Temp\\ipykernel_32800\\3592326873.py:51: FutureWarning: The behavior of DataFrame concatenation with empty or all-NA entries is deprecated. In a future version, this will no longer exclude empty or all-NA columns when determining the result dtypes. To retain the old behavior, exclude the relevant entries before the concat operation.\n",
      "  player_logs_concat = pd.concat(player_logs, ignore_index=True)\n"
     ]
    },
    {
     "name": "stdout",
     "output_type": "stream",
     "text": [
      "Fetching logs for player Thanasis Antetokounmpo (ID: 203648) for season 2020-21...\n",
      "Fetching logs for player Thanasis Antetokounmpo (ID: 203648) for season 2021-22...\n",
      "Fetching logs for player Thanasis Antetokounmpo (ID: 203648) for season 2022-23...\n",
      "Fetching logs for player Thanasis Antetokounmpo (ID: 203648) for season 2023-24...\n",
      "Fetching logs for player Carmelo Anthony (ID: 2546) for season 2020-21...\n",
      "Fetching logs for player Carmelo Anthony (ID: 2546) for season 2021-22...\n",
      "Fetching logs for player Carmelo Anthony (ID: 2546) for season 2022-23...\n",
      "Fetching logs for player Carmelo Anthony (ID: 2546) for season 2023-24...\n"
     ]
    },
    {
     "name": "stderr",
     "output_type": "stream",
     "text": [
      "C:\\Users\\jwag1\\AppData\\Local\\Temp\\ipykernel_32800\\3592326873.py:51: FutureWarning: The behavior of DataFrame concatenation with empty or all-NA entries is deprecated. In a future version, this will no longer exclude empty or all-NA columns when determining the result dtypes. To retain the old behavior, exclude the relevant entries before the concat operation.\n",
      "  player_logs_concat = pd.concat(player_logs, ignore_index=True)\n"
     ]
    },
    {
     "name": "stdout",
     "output_type": "stream",
     "text": [
      "Fetching logs for player Cole Anthony (ID: 1630175) for season 2020-21...\n",
      "Fetching logs for player Cole Anthony (ID: 1630175) for season 2021-22...\n",
      "Fetching logs for player Cole Anthony (ID: 1630175) for season 2022-23...\n",
      "Fetching logs for player Cole Anthony (ID: 1630175) for season 2023-24...\n",
      "Fetching logs for player OG Anunoby (ID: 1628384) for season 2020-21...\n",
      "Fetching logs for player OG Anunoby (ID: 1628384) for season 2021-22...\n",
      "Fetching logs for player OG Anunoby (ID: 1628384) for season 2022-23...\n",
      "Fetching logs for player OG Anunoby (ID: 1628384) for season 2023-24...\n",
      "Fetching logs for player Ryan Arcidiacono (ID: 1627853) for season 2020-21...\n",
      "Fetching logs for player Ryan Arcidiacono (ID: 1627853) for season 2021-22...\n",
      "Fetching logs for player Ryan Arcidiacono (ID: 1627853) for season 2022-23...\n",
      "Fetching logs for player Ryan Arcidiacono (ID: 1627853) for season 2023-24...\n",
      "Fetching logs for player Trevor Ariza (ID: 2772) for season 2020-21...\n",
      "Fetching logs for player Trevor Ariza (ID: 2772) for season 2021-22...\n",
      "Fetching logs for player Trevor Ariza (ID: 2772) for season 2022-23...\n",
      "Fetching logs for player Trevor Ariza (ID: 2772) for season 2023-24...\n"
     ]
    },
    {
     "name": "stderr",
     "output_type": "stream",
     "text": [
      "C:\\Users\\jwag1\\AppData\\Local\\Temp\\ipykernel_32800\\3592326873.py:51: FutureWarning: The behavior of DataFrame concatenation with empty or all-NA entries is deprecated. In a future version, this will no longer exclude empty or all-NA columns when determining the result dtypes. To retain the old behavior, exclude the relevant entries before the concat operation.\n",
      "  player_logs_concat = pd.concat(player_logs, ignore_index=True)\n"
     ]
    },
    {
     "name": "stdout",
     "output_type": "stream",
     "text": [
      "Fetching logs for player D.J. Augustin (ID: 201571) for season 2020-21...\n",
      "Fetching logs for player D.J. Augustin (ID: 201571) for season 2021-22...\n",
      "Fetching logs for player D.J. Augustin (ID: 201571) for season 2022-23...\n",
      "Fetching logs for player D.J. Augustin (ID: 201571) for season 2023-24...\n"
     ]
    },
    {
     "name": "stderr",
     "output_type": "stream",
     "text": [
      "C:\\Users\\jwag1\\AppData\\Local\\Temp\\ipykernel_32800\\3592326873.py:51: FutureWarning: The behavior of DataFrame concatenation with empty or all-NA entries is deprecated. In a future version, this will no longer exclude empty or all-NA columns when determining the result dtypes. To retain the old behavior, exclude the relevant entries before the concat operation.\n",
      "  player_logs_concat = pd.concat(player_logs, ignore_index=True)\n"
     ]
    },
    {
     "name": "stdout",
     "output_type": "stream",
     "text": [
      "Fetching logs for player Deni Avdija (ID: 1630166) for season 2020-21...\n",
      "Fetching logs for player Deni Avdija (ID: 1630166) for season 2021-22...\n",
      "Fetching logs for player Deni Avdija (ID: 1630166) for season 2022-23...\n",
      "Fetching logs for player Deni Avdija (ID: 1630166) for season 2023-24...\n",
      "Fetching logs for player Joel Ayayi (ID: 1630555) for season 2020-21...\n",
      "Fetching logs for player Joel Ayayi (ID: 1630555) for season 2021-22...\n",
      "Fetching logs for player Joel Ayayi (ID: 1630555) for season 2022-23...\n",
      "Fetching logs for player Joel Ayayi (ID: 1630555) for season 2023-24...\n"
     ]
    },
    {
     "name": "stderr",
     "output_type": "stream",
     "text": [
      "C:\\Users\\jwag1\\AppData\\Local\\Temp\\ipykernel_32800\\3592326873.py:51: FutureWarning: The behavior of DataFrame concatenation with empty or all-NA entries is deprecated. In a future version, this will no longer exclude empty or all-NA columns when determining the result dtypes. To retain the old behavior, exclude the relevant entries before the concat operation.\n",
      "  player_logs_concat = pd.concat(player_logs, ignore_index=True)\n"
     ]
    },
    {
     "name": "stdout",
     "output_type": "stream",
     "text": [
      "Fetching logs for player Deandre Ayton (ID: 1629028) for season 2020-21...\n",
      "Fetching logs for player Deandre Ayton (ID: 1629028) for season 2021-22...\n",
      "Fetching logs for player Deandre Ayton (ID: 1629028) for season 2022-23...\n",
      "Fetching logs for player Deandre Ayton (ID: 1629028) for season 2023-24...\n",
      "Fetching logs for player Udoka Azubuike (ID: 1628962) for season 2020-21...\n",
      "Fetching logs for player Udoka Azubuike (ID: 1628962) for season 2021-22...\n",
      "Fetching logs for player Udoka Azubuike (ID: 1628962) for season 2022-23...\n",
      "Fetching logs for player Udoka Azubuike (ID: 1628962) for season 2023-24...\n",
      "Fetching logs for player Dwayne Bacon (ID: 1628407) for season 2020-21...\n",
      "Fetching logs for player Dwayne Bacon (ID: 1628407) for season 2021-22...\n",
      "Fetching logs for player Dwayne Bacon (ID: 1628407) for season 2022-23...\n",
      "Fetching logs for player Dwayne Bacon (ID: 1628407) for season 2023-24...\n"
     ]
    },
    {
     "name": "stderr",
     "output_type": "stream",
     "text": [
      "C:\\Users\\jwag1\\AppData\\Local\\Temp\\ipykernel_32800\\3592326873.py:51: FutureWarning: The behavior of DataFrame concatenation with empty or all-NA entries is deprecated. In a future version, this will no longer exclude empty or all-NA columns when determining the result dtypes. To retain the old behavior, exclude the relevant entries before the concat operation.\n",
      "  player_logs_concat = pd.concat(player_logs, ignore_index=True)\n"
     ]
    },
    {
     "name": "stdout",
     "output_type": "stream",
     "text": [
      "Fetching logs for player Ibou Badji (ID: 1630641) for season 2020-21...\n",
      "Fetching logs for player Ibou Badji (ID: 1630641) for season 2021-22...\n",
      "Fetching logs for player Ibou Badji (ID: 1630641) for season 2022-23...\n",
      "Fetching logs for player Ibou Badji (ID: 1630641) for season 2023-24...\n"
     ]
    },
    {
     "name": "stderr",
     "output_type": "stream",
     "text": [
      "C:\\Users\\jwag1\\AppData\\Local\\Temp\\ipykernel_32800\\3592326873.py:51: FutureWarning: The behavior of DataFrame concatenation with empty or all-NA entries is deprecated. In a future version, this will no longer exclude empty or all-NA columns when determining the result dtypes. To retain the old behavior, exclude the relevant entries before the concat operation.\n",
      "  player_logs_concat = pd.concat(player_logs, ignore_index=True)\n"
     ]
    },
    {
     "name": "stdout",
     "output_type": "stream",
     "text": [
      "Fetching logs for player Marvin Bagley III (ID: 1628963) for season 2020-21...\n",
      "Fetching logs for player Marvin Bagley III (ID: 1628963) for season 2021-22...\n",
      "Fetching logs for player Marvin Bagley III (ID: 1628963) for season 2022-23...\n",
      "Fetching logs for player Marvin Bagley III (ID: 1628963) for season 2023-24...\n",
      "Fetching logs for player Amari Bailey (ID: 1641735) for season 2020-21...\n",
      "Fetching logs for player Amari Bailey (ID: 1641735) for season 2021-22...\n",
      "Fetching logs for player Amari Bailey (ID: 1641735) for season 2022-23...\n",
      "Fetching logs for player Amari Bailey (ID: 1641735) for season 2023-24...\n"
     ]
    },
    {
     "name": "stderr",
     "output_type": "stream",
     "text": [
      "C:\\Users\\jwag1\\AppData\\Local\\Temp\\ipykernel_32800\\3592326873.py:51: FutureWarning: The behavior of DataFrame concatenation with empty or all-NA entries is deprecated. In a future version, this will no longer exclude empty or all-NA columns when determining the result dtypes. To retain the old behavior, exclude the relevant entries before the concat operation.\n",
      "  player_logs_concat = pd.concat(player_logs, ignore_index=True)\n"
     ]
    },
    {
     "name": "stdout",
     "output_type": "stream",
     "text": [
      "Fetching logs for player Patrick Baldwin Jr. (ID: 1631116) for season 2020-21...\n",
      "Fetching logs for player Patrick Baldwin Jr. (ID: 1631116) for season 2021-22...\n",
      "Fetching logs for player Patrick Baldwin Jr. (ID: 1631116) for season 2022-23...\n",
      "Fetching logs for player Patrick Baldwin Jr. (ID: 1631116) for season 2023-24...\n"
     ]
    },
    {
     "name": "stderr",
     "output_type": "stream",
     "text": [
      "C:\\Users\\jwag1\\AppData\\Local\\Temp\\ipykernel_32800\\3592326873.py:51: FutureWarning: The behavior of DataFrame concatenation with empty or all-NA entries is deprecated. In a future version, this will no longer exclude empty or all-NA columns when determining the result dtypes. To retain the old behavior, exclude the relevant entries before the concat operation.\n",
      "  player_logs_concat = pd.concat(player_logs, ignore_index=True)\n"
     ]
    },
    {
     "name": "stdout",
     "output_type": "stream",
     "text": [
      "Fetching logs for player LaMelo Ball (ID: 1630163) for season 2020-21...\n",
      "Fetching logs for player LaMelo Ball (ID: 1630163) for season 2021-22...\n",
      "Fetching logs for player LaMelo Ball (ID: 1630163) for season 2022-23...\n",
      "Fetching logs for player LaMelo Ball (ID: 1630163) for season 2023-24...\n",
      "Fetching logs for player Lonzo Ball (ID: 1628366) for season 2020-21...\n",
      "Fetching logs for player Lonzo Ball (ID: 1628366) for season 2021-22...\n",
      "Fetching logs for player Lonzo Ball (ID: 1628366) for season 2022-23...\n",
      "Fetching logs for player Lonzo Ball (ID: 1628366) for season 2023-24...\n"
     ]
    },
    {
     "name": "stderr",
     "output_type": "stream",
     "text": [
      "C:\\Users\\jwag1\\AppData\\Local\\Temp\\ipykernel_32800\\3592326873.py:51: FutureWarning: The behavior of DataFrame concatenation with empty or all-NA entries is deprecated. In a future version, this will no longer exclude empty or all-NA columns when determining the result dtypes. To retain the old behavior, exclude the relevant entries before the concat operation.\n",
      "  player_logs_concat = pd.concat(player_logs, ignore_index=True)\n"
     ]
    },
    {
     "name": "stdout",
     "output_type": "stream",
     "text": [
      "Fetching logs for player Mo Bamba (ID: 1628964) for season 2020-21...\n",
      "Fetching logs for player Mo Bamba (ID: 1628964) for season 2021-22...\n",
      "Fetching logs for player Mo Bamba (ID: 1628964) for season 2022-23...\n",
      "Fetching logs for player Mo Bamba (ID: 1628964) for season 2023-24...\n",
      "Fetching logs for player Paolo Banchero (ID: 1631094) for season 2020-21...\n",
      "Fetching logs for player Paolo Banchero (ID: 1631094) for season 2021-22...\n",
      "Fetching logs for player Paolo Banchero (ID: 1631094) for season 2022-23...\n",
      "Fetching logs for player Paolo Banchero (ID: 1631094) for season 2023-24...\n"
     ]
    },
    {
     "name": "stderr",
     "output_type": "stream",
     "text": [
      "C:\\Users\\jwag1\\AppData\\Local\\Temp\\ipykernel_32800\\3592326873.py:51: FutureWarning: The behavior of DataFrame concatenation with empty or all-NA entries is deprecated. In a future version, this will no longer exclude empty or all-NA columns when determining the result dtypes. To retain the old behavior, exclude the relevant entries before the concat operation.\n",
      "  player_logs_concat = pd.concat(player_logs, ignore_index=True)\n"
     ]
    },
    {
     "name": "stdout",
     "output_type": "stream",
     "text": [
      "Fetching logs for player Desmond Bane (ID: 1630217) for season 2020-21...\n",
      "Fetching logs for player Desmond Bane (ID: 1630217) for season 2021-22...\n",
      "Fetching logs for player Desmond Bane (ID: 1630217) for season 2022-23...\n",
      "Fetching logs for player Desmond Bane (ID: 1630217) for season 2023-24...\n",
      "Fetching logs for player Dalano Banton (ID: 1630625) for season 2020-21...\n",
      "Fetching logs for player Dalano Banton (ID: 1630625) for season 2021-22...\n",
      "Fetching logs for player Dalano Banton (ID: 1630625) for season 2022-23...\n",
      "Fetching logs for player Dalano Banton (ID: 1630625) for season 2023-24...\n"
     ]
    },
    {
     "name": "stderr",
     "output_type": "stream",
     "text": [
      "C:\\Users\\jwag1\\AppData\\Local\\Temp\\ipykernel_32800\\3592326873.py:51: FutureWarning: The behavior of DataFrame concatenation with empty or all-NA entries is deprecated. In a future version, this will no longer exclude empty or all-NA columns when determining the result dtypes. To retain the old behavior, exclude the relevant entries before the concat operation.\n",
      "  player_logs_concat = pd.concat(player_logs, ignore_index=True)\n"
     ]
    },
    {
     "name": "stdout",
     "output_type": "stream",
     "text": [
      "Fetching logs for player Cat Barber (ID: 1627760) for season 2020-21...\n",
      "Fetching logs for player Cat Barber (ID: 1627760) for season 2021-22...\n",
      "Fetching logs for player Cat Barber (ID: 1627760) for season 2022-23...\n",
      "Fetching logs for player Cat Barber (ID: 1627760) for season 2023-24...\n"
     ]
    },
    {
     "name": "stderr",
     "output_type": "stream",
     "text": [
      "C:\\Users\\jwag1\\AppData\\Local\\Temp\\ipykernel_32800\\3592326873.py:51: FutureWarning: The behavior of DataFrame concatenation with empty or all-NA entries is deprecated. In a future version, this will no longer exclude empty or all-NA columns when determining the result dtypes. To retain the old behavior, exclude the relevant entries before the concat operation.\n",
      "  player_logs_concat = pd.concat(player_logs, ignore_index=True)\n"
     ]
    },
    {
     "name": "stdout",
     "output_type": "stream",
     "text": [
      "Fetching logs for player Dominick Barlow (ID: 1631230) for season 2020-21...\n",
      "Fetching logs for player Dominick Barlow (ID: 1631230) for season 2021-22...\n",
      "Fetching logs for player Dominick Barlow (ID: 1631230) for season 2022-23...\n",
      "Fetching logs for player Dominick Barlow (ID: 1631230) for season 2023-24...\n"
     ]
    },
    {
     "name": "stderr",
     "output_type": "stream",
     "text": [
      "C:\\Users\\jwag1\\AppData\\Local\\Temp\\ipykernel_32800\\3592326873.py:51: FutureWarning: The behavior of DataFrame concatenation with empty or all-NA entries is deprecated. In a future version, this will no longer exclude empty or all-NA columns when determining the result dtypes. To retain the old behavior, exclude the relevant entries before the concat operation.\n",
      "  player_logs_concat = pd.concat(player_logs, ignore_index=True)\n"
     ]
    },
    {
     "name": "stdout",
     "output_type": "stream",
     "text": [
      "Fetching logs for player Harrison Barnes (ID: 203084) for season 2020-21...\n",
      "Fetching logs for player Harrison Barnes (ID: 203084) for season 2021-22...\n",
      "Fetching logs for player Harrison Barnes (ID: 203084) for season 2022-23...\n",
      "Fetching logs for player Harrison Barnes (ID: 203084) for season 2023-24...\n",
      "Fetching logs for player Scottie Barnes (ID: 1630567) for season 2020-21...\n",
      "Fetching logs for player Scottie Barnes (ID: 1630567) for season 2021-22...\n",
      "Fetching logs for player Scottie Barnes (ID: 1630567) for season 2022-23...\n",
      "Fetching logs for player Scottie Barnes (ID: 1630567) for season 2023-24...\n"
     ]
    },
    {
     "name": "stderr",
     "output_type": "stream",
     "text": [
      "C:\\Users\\jwag1\\AppData\\Local\\Temp\\ipykernel_32800\\3592326873.py:51: FutureWarning: The behavior of DataFrame concatenation with empty or all-NA entries is deprecated. In a future version, this will no longer exclude empty or all-NA columns when determining the result dtypes. To retain the old behavior, exclude the relevant entries before the concat operation.\n",
      "  player_logs_concat = pd.concat(player_logs, ignore_index=True)\n"
     ]
    },
    {
     "name": "stdout",
     "output_type": "stream",
     "text": [
      "Fetching logs for player RJ Barrett (ID: 1629628) for season 2020-21...\n",
      "Fetching logs for player RJ Barrett (ID: 1629628) for season 2021-22...\n",
      "Fetching logs for player RJ Barrett (ID: 1629628) for season 2022-23...\n",
      "Fetching logs for player RJ Barrett (ID: 1629628) for season 2023-24...\n",
      "Fetching logs for player Will Barton (ID: 203115) for season 2020-21...\n",
      "Fetching logs for player Will Barton (ID: 203115) for season 2021-22...\n",
      "Fetching logs for player Will Barton (ID: 203115) for season 2022-23...\n",
      "Fetching logs for player Will Barton (ID: 203115) for season 2023-24...\n"
     ]
    },
    {
     "name": "stderr",
     "output_type": "stream",
     "text": [
      "C:\\Users\\jwag1\\AppData\\Local\\Temp\\ipykernel_32800\\3592326873.py:51: FutureWarning: The behavior of DataFrame concatenation with empty or all-NA entries is deprecated. In a future version, this will no longer exclude empty or all-NA columns when determining the result dtypes. To retain the old behavior, exclude the relevant entries before the concat operation.\n",
      "  player_logs_concat = pd.concat(player_logs, ignore_index=True)\n"
     ]
    },
    {
     "name": "stdout",
     "output_type": "stream",
     "text": [
      "Fetching logs for player Paris Bass (ID: 1628238) for season 2020-21...\n",
      "Fetching logs for player Paris Bass (ID: 1628238) for season 2021-22...\n",
      "Fetching logs for player Paris Bass (ID: 1628238) for season 2022-23...\n",
      "Fetching logs for player Paris Bass (ID: 1628238) for season 2023-24...\n"
     ]
    },
    {
     "name": "stderr",
     "output_type": "stream",
     "text": [
      "C:\\Users\\jwag1\\AppData\\Local\\Temp\\ipykernel_32800\\3592326873.py:51: FutureWarning: The behavior of DataFrame concatenation with empty or all-NA entries is deprecated. In a future version, this will no longer exclude empty or all-NA columns when determining the result dtypes. To retain the old behavior, exclude the relevant entries before the concat operation.\n",
      "  player_logs_concat = pd.concat(player_logs, ignore_index=True)\n"
     ]
    },
    {
     "name": "stdout",
     "output_type": "stream",
     "text": [
      "Fetching logs for player Charles Bassey (ID: 1629646) for season 2020-21...\n",
      "Fetching logs for player Charles Bassey (ID: 1629646) for season 2021-22...\n",
      "Fetching logs for player Charles Bassey (ID: 1629646) for season 2022-23...\n",
      "Fetching logs for player Charles Bassey (ID: 1629646) for season 2023-24...\n"
     ]
    },
    {
     "name": "stderr",
     "output_type": "stream",
     "text": [
      "C:\\Users\\jwag1\\AppData\\Local\\Temp\\ipykernel_32800\\3592326873.py:51: FutureWarning: The behavior of DataFrame concatenation with empty or all-NA entries is deprecated. In a future version, this will no longer exclude empty or all-NA columns when determining the result dtypes. To retain the old behavior, exclude the relevant entries before the concat operation.\n",
      "  player_logs_concat = pd.concat(player_logs, ignore_index=True)\n"
     ]
    },
    {
     "name": "stdout",
     "output_type": "stream",
     "text": [
      "Fetching logs for player Emoni Bates (ID: 1641734) for season 2020-21...\n",
      "Fetching logs for player Emoni Bates (ID: 1641734) for season 2021-22...\n",
      "Fetching logs for player Emoni Bates (ID: 1641734) for season 2022-23...\n",
      "Fetching logs for player Emoni Bates (ID: 1641734) for season 2023-24...\n"
     ]
    },
    {
     "name": "stderr",
     "output_type": "stream",
     "text": [
      "C:\\Users\\jwag1\\AppData\\Local\\Temp\\ipykernel_32800\\3592326873.py:51: FutureWarning: The behavior of DataFrame concatenation with empty or all-NA entries is deprecated. In a future version, this will no longer exclude empty or all-NA columns when determining the result dtypes. To retain the old behavior, exclude the relevant entries before the concat operation.\n",
      "  player_logs_concat = pd.concat(player_logs, ignore_index=True)\n"
     ]
    },
    {
     "name": "stdout",
     "output_type": "stream",
     "text": [
      "Fetching logs for player Keita Bates-Diop (ID: 1628966) for season 2020-21...\n",
      "Fetching logs for player Keita Bates-Diop (ID: 1628966) for season 2021-22...\n",
      "Fetching logs for player Keita Bates-Diop (ID: 1628966) for season 2022-23...\n",
      "Fetching logs for player Keita Bates-Diop (ID: 1628966) for season 2023-24...\n"
     ]
    },
    {
     "name": "stderr",
     "output_type": "stream",
     "text": [
      "\r",
      "  6%|▌         | 1/18 [01:48<30:41, 108.31s/it]"
     ]
    },
    {
     "name": "stdout",
     "output_type": "stream",
     "text": [
      "Processing batch 50 to 100...\n",
      "Fetching logs for player Nicolas Batum (ID: 201587) for season 2020-21...\n",
      "Fetching logs for player Nicolas Batum (ID: 201587) for season 2021-22...\n",
      "Fetching logs for player Nicolas Batum (ID: 201587) for season 2022-23...\n",
      "Fetching logs for player Nicolas Batum (ID: 201587) for season 2023-24...\n",
      "Fetching logs for player Aron Baynes (ID: 203382) for season 2020-21...\n",
      "Fetching logs for player Aron Baynes (ID: 203382) for season 2021-22...\n",
      "Fetching logs for player Aron Baynes (ID: 203382) for season 2022-23...\n",
      "Fetching logs for player Aron Baynes (ID: 203382) for season 2023-24...\n"
     ]
    },
    {
     "name": "stderr",
     "output_type": "stream",
     "text": [
      "C:\\Users\\jwag1\\AppData\\Local\\Temp\\ipykernel_32800\\3592326873.py:51: FutureWarning: The behavior of DataFrame concatenation with empty or all-NA entries is deprecated. In a future version, this will no longer exclude empty or all-NA columns when determining the result dtypes. To retain the old behavior, exclude the relevant entries before the concat operation.\n",
      "  player_logs_concat = pd.concat(player_logs, ignore_index=True)\n"
     ]
    },
    {
     "name": "stdout",
     "output_type": "stream",
     "text": [
      "Fetching logs for player Kent Bazemore (ID: 203145) for season 2020-21...\n",
      "Fetching logs for player Kent Bazemore (ID: 203145) for season 2021-22...\n",
      "Fetching logs for player Kent Bazemore (ID: 203145) for season 2022-23...\n",
      "Fetching logs for player Kent Bazemore (ID: 203145) for season 2023-24...\n"
     ]
    },
    {
     "name": "stderr",
     "output_type": "stream",
     "text": [
      "C:\\Users\\jwag1\\AppData\\Local\\Temp\\ipykernel_32800\\3592326873.py:51: FutureWarning: The behavior of DataFrame concatenation with empty or all-NA entries is deprecated. In a future version, this will no longer exclude empty or all-NA columns when determining the result dtypes. To retain the old behavior, exclude the relevant entries before the concat operation.\n",
      "  player_logs_concat = pd.concat(player_logs, ignore_index=True)\n"
     ]
    },
    {
     "name": "stdout",
     "output_type": "stream",
     "text": [
      "Fetching logs for player Darius Bazley (ID: 1629647) for season 2020-21...\n",
      "Fetching logs for player Darius Bazley (ID: 1629647) for season 2021-22...\n",
      "Fetching logs for player Darius Bazley (ID: 1629647) for season 2022-23...\n",
      "Fetching logs for player Darius Bazley (ID: 1629647) for season 2023-24...\n",
      "Fetching logs for player Bradley Beal (ID: 203078) for season 2020-21...\n",
      "Fetching logs for player Bradley Beal (ID: 203078) for season 2021-22...\n",
      "Fetching logs for player Bradley Beal (ID: 203078) for season 2022-23...\n",
      "Fetching logs for player Bradley Beal (ID: 203078) for season 2023-24...\n",
      "Fetching logs for player Malik Beasley (ID: 1627736) for season 2020-21...\n",
      "Fetching logs for player Malik Beasley (ID: 1627736) for season 2021-22...\n",
      "Fetching logs for player Malik Beasley (ID: 1627736) for season 2022-23...\n",
      "Fetching logs for player Malik Beasley (ID: 1627736) for season 2023-24...\n",
      "Fetching logs for player MarJon Beauchamp (ID: 1630699) for season 2020-21...\n",
      "Fetching logs for player MarJon Beauchamp (ID: 1630699) for season 2021-22...\n",
      "Fetching logs for player MarJon Beauchamp (ID: 1630699) for season 2022-23...\n",
      "Fetching logs for player MarJon Beauchamp (ID: 1630699) for season 2023-24...\n"
     ]
    },
    {
     "name": "stderr",
     "output_type": "stream",
     "text": [
      "C:\\Users\\jwag1\\AppData\\Local\\Temp\\ipykernel_32800\\3592326873.py:51: FutureWarning: The behavior of DataFrame concatenation with empty or all-NA entries is deprecated. In a future version, this will no longer exclude empty or all-NA columns when determining the result dtypes. To retain the old behavior, exclude the relevant entries before the concat operation.\n",
      "  player_logs_concat = pd.concat(player_logs, ignore_index=True)\n"
     ]
    },
    {
     "name": "stdout",
     "output_type": "stream",
     "text": [
      "Fetching logs for player Jordan Bell (ID: 1628395) for season 2020-21...\n",
      "Fetching logs for player Jordan Bell (ID: 1628395) for season 2021-22...\n",
      "Fetching logs for player Jordan Bell (ID: 1628395) for season 2022-23...\n",
      "Fetching logs for player Jordan Bell (ID: 1628395) for season 2023-24...\n"
     ]
    },
    {
     "name": "stderr",
     "output_type": "stream",
     "text": [
      "C:\\Users\\jwag1\\AppData\\Local\\Temp\\ipykernel_32800\\3592326873.py:51: FutureWarning: The behavior of DataFrame concatenation with empty or all-NA entries is deprecated. In a future version, this will no longer exclude empty or all-NA columns when determining the result dtypes. To retain the old behavior, exclude the relevant entries before the concat operation.\n",
      "  player_logs_concat = pd.concat(player_logs, ignore_index=True)\n"
     ]
    },
    {
     "name": "stdout",
     "output_type": "stream",
     "text": [
      "Fetching logs for player DeAndre' Bembry (ID: 1627761) for season 2020-21...\n",
      "Fetching logs for player DeAndre' Bembry (ID: 1627761) for season 2021-22...\n",
      "Fetching logs for player DeAndre' Bembry (ID: 1627761) for season 2022-23...\n",
      "Fetching logs for player DeAndre' Bembry (ID: 1627761) for season 2023-24...\n"
     ]
    },
    {
     "name": "stderr",
     "output_type": "stream",
     "text": [
      "C:\\Users\\jwag1\\AppData\\Local\\Temp\\ipykernel_32800\\3592326873.py:51: FutureWarning: The behavior of DataFrame concatenation with empty or all-NA entries is deprecated. In a future version, this will no longer exclude empty or all-NA columns when determining the result dtypes. To retain the old behavior, exclude the relevant entries before the concat operation.\n",
      "  player_logs_concat = pd.concat(player_logs, ignore_index=True)\n"
     ]
    },
    {
     "name": "stdout",
     "output_type": "stream",
     "text": [
      "Fetching logs for player Jules Bernard (ID: 1631262) for season 2020-21...\n",
      "Fetching logs for player Jules Bernard (ID: 1631262) for season 2021-22...\n",
      "Fetching logs for player Jules Bernard (ID: 1631262) for season 2022-23...\n",
      "Fetching logs for player Jules Bernard (ID: 1631262) for season 2023-24...\n"
     ]
    },
    {
     "name": "stderr",
     "output_type": "stream",
     "text": [
      "C:\\Users\\jwag1\\AppData\\Local\\Temp\\ipykernel_32800\\3592326873.py:51: FutureWarning: The behavior of DataFrame concatenation with empty or all-NA entries is deprecated. In a future version, this will no longer exclude empty or all-NA columns when determining the result dtypes. To retain the old behavior, exclude the relevant entries before the concat operation.\n",
      "  player_logs_concat = pd.concat(player_logs, ignore_index=True)\n"
     ]
    },
    {
     "name": "stdout",
     "output_type": "stream",
     "text": [
      "Fetching logs for player Davis Bertans (ID: 202722) for season 2020-21...\n",
      "Fetching logs for player Davis Bertans (ID: 202722) for season 2021-22...\n",
      "Fetching logs for player Davis Bertans (ID: 202722) for season 2022-23...\n",
      "Fetching logs for player Davis Bertans (ID: 202722) for season 2023-24...\n",
      "Fetching logs for player Patrick Beverley (ID: 201976) for season 2020-21...\n",
      "Fetching logs for player Patrick Beverley (ID: 201976) for season 2021-22...\n",
      "Fetching logs for player Patrick Beverley (ID: 201976) for season 2022-23...\n",
      "Fetching logs for player Patrick Beverley (ID: 201976) for season 2023-24...\n",
      "Fetching logs for player Saddiq Bey (ID: 1630180) for season 2020-21...\n",
      "Fetching logs for player Saddiq Bey (ID: 1630180) for season 2021-22...\n",
      "Fetching logs for player Saddiq Bey (ID: 1630180) for season 2022-23...\n",
      "Fetching logs for player Saddiq Bey (ID: 1630180) for season 2023-24...\n",
      "Fetching logs for player Tyler Bey (ID: 1630189) for season 2020-21...\n",
      "Fetching logs for player Tyler Bey (ID: 1630189) for season 2021-22...\n",
      "Fetching logs for player Tyler Bey (ID: 1630189) for season 2022-23...\n",
      "Fetching logs for player Tyler Bey (ID: 1630189) for season 2023-24...\n"
     ]
    },
    {
     "name": "stderr",
     "output_type": "stream",
     "text": [
      "C:\\Users\\jwag1\\AppData\\Local\\Temp\\ipykernel_32800\\3592326873.py:51: FutureWarning: The behavior of DataFrame concatenation with empty or all-NA entries is deprecated. In a future version, this will no longer exclude empty or all-NA columns when determining the result dtypes. To retain the old behavior, exclude the relevant entries before the concat operation.\n",
      "  player_logs_concat = pd.concat(player_logs, ignore_index=True)\n"
     ]
    },
    {
     "name": "stdout",
     "output_type": "stream",
     "text": [
      "Fetching logs for player Khem Birch (ID: 203920) for season 2020-21...\n",
      "Fetching logs for player Khem Birch (ID: 203920) for season 2021-22...\n",
      "Fetching logs for player Khem Birch (ID: 203920) for season 2022-23...\n",
      "Fetching logs for player Khem Birch (ID: 203920) for season 2023-24...\n"
     ]
    },
    {
     "name": "stderr",
     "output_type": "stream",
     "text": [
      "C:\\Users\\jwag1\\AppData\\Local\\Temp\\ipykernel_32800\\3592326873.py:51: FutureWarning: The behavior of DataFrame concatenation with empty or all-NA entries is deprecated. In a future version, this will no longer exclude empty or all-NA columns when determining the result dtypes. To retain the old behavior, exclude the relevant entries before the concat operation.\n",
      "  player_logs_concat = pd.concat(player_logs, ignore_index=True)\n"
     ]
    },
    {
     "name": "stdout",
     "output_type": "stream",
     "text": [
      "Fetching logs for player Goga Bitadze (ID: 1629048) for season 2020-21...\n",
      "Fetching logs for player Goga Bitadze (ID: 1629048) for season 2021-22...\n",
      "Fetching logs for player Goga Bitadze (ID: 1629048) for season 2022-23...\n",
      "Fetching logs for player Goga Bitadze (ID: 1629048) for season 2023-24...\n",
      "Fetching logs for player Onuralp Bitim (ID: 1641931) for season 2020-21...\n",
      "Fetching logs for player Onuralp Bitim (ID: 1641931) for season 2021-22...\n",
      "Fetching logs for player Onuralp Bitim (ID: 1641931) for season 2022-23...\n",
      "Fetching logs for player Onuralp Bitim (ID: 1641931) for season 2023-24...\n"
     ]
    },
    {
     "name": "stderr",
     "output_type": "stream",
     "text": [
      "C:\\Users\\jwag1\\AppData\\Local\\Temp\\ipykernel_32800\\3592326873.py:51: FutureWarning: The behavior of DataFrame concatenation with empty or all-NA entries is deprecated. In a future version, this will no longer exclude empty or all-NA columns when determining the result dtypes. To retain the old behavior, exclude the relevant entries before the concat operation.\n",
      "  player_logs_concat = pd.concat(player_logs, ignore_index=True)\n"
     ]
    },
    {
     "name": "stdout",
     "output_type": "stream",
     "text": [
      "Fetching logs for player Bismack Biyombo (ID: 202687) for season 2020-21...\n",
      "Fetching logs for player Bismack Biyombo (ID: 202687) for season 2021-22...\n",
      "Fetching logs for player Bismack Biyombo (ID: 202687) for season 2022-23...\n",
      "Fetching logs for player Bismack Biyombo (ID: 202687) for season 2023-24...\n",
      "Fetching logs for player Nemanja Bjelica (ID: 202357) for season 2020-21...\n",
      "Fetching logs for player Nemanja Bjelica (ID: 202357) for season 2021-22...\n",
      "Fetching logs for player Nemanja Bjelica (ID: 202357) for season 2022-23...\n",
      "Fetching logs for player Nemanja Bjelica (ID: 202357) for season 2023-24...\n"
     ]
    },
    {
     "name": "stderr",
     "output_type": "stream",
     "text": [
      "C:\\Users\\jwag1\\AppData\\Local\\Temp\\ipykernel_32800\\3592326873.py:51: FutureWarning: The behavior of DataFrame concatenation with empty or all-NA entries is deprecated. In a future version, this will no longer exclude empty or all-NA columns when determining the result dtypes. To retain the old behavior, exclude the relevant entries before the concat operation.\n",
      "  player_logs_concat = pd.concat(player_logs, ignore_index=True)\n"
     ]
    },
    {
     "name": "stdout",
     "output_type": "stream",
     "text": [
      "Fetching logs for player Anthony Black (ID: 1641710) for season 2020-21...\n",
      "Fetching logs for player Anthony Black (ID: 1641710) for season 2021-22...\n",
      "Fetching logs for player Anthony Black (ID: 1641710) for season 2022-23...\n",
      "Fetching logs for player Anthony Black (ID: 1641710) for season 2023-24...\n"
     ]
    },
    {
     "name": "stderr",
     "output_type": "stream",
     "text": [
      "C:\\Users\\jwag1\\AppData\\Local\\Temp\\ipykernel_32800\\3592326873.py:51: FutureWarning: The behavior of DataFrame concatenation with empty or all-NA entries is deprecated. In a future version, this will no longer exclude empty or all-NA columns when determining the result dtypes. To retain the old behavior, exclude the relevant entries before the concat operation.\n",
      "  player_logs_concat = pd.concat(player_logs, ignore_index=True)\n"
     ]
    },
    {
     "name": "stdout",
     "output_type": "stream",
     "text": [
      "Fetching logs for player Leaky Black (ID: 1641778) for season 2020-21...\n",
      "Fetching logs for player Leaky Black (ID: 1641778) for season 2021-22...\n",
      "Fetching logs for player Leaky Black (ID: 1641778) for season 2022-23...\n",
      "Fetching logs for player Leaky Black (ID: 1641778) for season 2023-24...\n"
     ]
    },
    {
     "name": "stderr",
     "output_type": "stream",
     "text": [
      "C:\\Users\\jwag1\\AppData\\Local\\Temp\\ipykernel_32800\\3592326873.py:51: FutureWarning: The behavior of DataFrame concatenation with empty or all-NA entries is deprecated. In a future version, this will no longer exclude empty or all-NA columns when determining the result dtypes. To retain the old behavior, exclude the relevant entries before the concat operation.\n",
      "  player_logs_concat = pd.concat(player_logs, ignore_index=True)\n"
     ]
    },
    {
     "name": "stdout",
     "output_type": "stream",
     "text": [
      "Fetching logs for player Eric Bledsoe (ID: 202339) for season 2020-21...\n",
      "Fetching logs for player Eric Bledsoe (ID: 202339) for season 2021-22...\n",
      "Fetching logs for player Eric Bledsoe (ID: 202339) for season 2022-23...\n",
      "Fetching logs for player Eric Bledsoe (ID: 202339) for season 2023-24...\n"
     ]
    },
    {
     "name": "stderr",
     "output_type": "stream",
     "text": [
      "C:\\Users\\jwag1\\AppData\\Local\\Temp\\ipykernel_32800\\3592326873.py:51: FutureWarning: The behavior of DataFrame concatenation with empty or all-NA entries is deprecated. In a future version, this will no longer exclude empty or all-NA columns when determining the result dtypes. To retain the old behavior, exclude the relevant entries before the concat operation.\n",
      "  player_logs_concat = pd.concat(player_logs, ignore_index=True)\n"
     ]
    },
    {
     "name": "stdout",
     "output_type": "stream",
     "text": [
      "Fetching logs for player Keljin Blevins (ID: 1629833) for season 2020-21...\n",
      "Fetching logs for player Keljin Blevins (ID: 1629833) for season 2021-22...\n",
      "Fetching logs for player Keljin Blevins (ID: 1629833) for season 2022-23...\n",
      "Fetching logs for player Keljin Blevins (ID: 1629833) for season 2023-24...\n"
     ]
    },
    {
     "name": "stderr",
     "output_type": "stream",
     "text": [
      "C:\\Users\\jwag1\\AppData\\Local\\Temp\\ipykernel_32800\\3592326873.py:51: FutureWarning: The behavior of DataFrame concatenation with empty or all-NA entries is deprecated. In a future version, this will no longer exclude empty or all-NA columns when determining the result dtypes. To retain the old behavior, exclude the relevant entries before the concat operation.\n",
      "  player_logs_concat = pd.concat(player_logs, ignore_index=True)\n"
     ]
    },
    {
     "name": "stdout",
     "output_type": "stream",
     "text": [
      "Fetching logs for player Buddy Boeheim (ID: 1631205) for season 2020-21...\n",
      "Fetching logs for player Buddy Boeheim (ID: 1631205) for season 2021-22...\n",
      "Fetching logs for player Buddy Boeheim (ID: 1631205) for season 2022-23...\n",
      "Fetching logs for player Buddy Boeheim (ID: 1631205) for season 2023-24...\n"
     ]
    },
    {
     "name": "stderr",
     "output_type": "stream",
     "text": [
      "C:\\Users\\jwag1\\AppData\\Local\\Temp\\ipykernel_32800\\3592326873.py:51: FutureWarning: The behavior of DataFrame concatenation with empty or all-NA entries is deprecated. In a future version, this will no longer exclude empty or all-NA columns when determining the result dtypes. To retain the old behavior, exclude the relevant entries before the concat operation.\n",
      "  player_logs_concat = pd.concat(player_logs, ignore_index=True)\n"
     ]
    },
    {
     "name": "stdout",
     "output_type": "stream",
     "text": [
      "Fetching logs for player Bogdan Bogdanovic (ID: 203992) for season 2020-21...\n",
      "Fetching logs for player Bogdan Bogdanovic (ID: 203992) for season 2021-22...\n",
      "Fetching logs for player Bogdan Bogdanovic (ID: 203992) for season 2022-23...\n",
      "Fetching logs for player Bogdan Bogdanovic (ID: 203992) for season 2023-24...\n",
      "Fetching logs for player Bojan Bogdanovic (ID: 202711) for season 2020-21...\n",
      "Fetching logs for player Bojan Bogdanovic (ID: 202711) for season 2021-22...\n",
      "Fetching logs for player Bojan Bogdanovic (ID: 202711) for season 2022-23...\n",
      "Fetching logs for player Bojan Bogdanovic (ID: 202711) for season 2023-24...\n",
      "Fetching logs for player Bol Bol (ID: 1629626) for season 2020-21...\n",
      "Fetching logs for player Bol Bol (ID: 1629626) for season 2021-22...\n",
      "Fetching logs for player Bol Bol (ID: 1629626) for season 2022-23...\n",
      "Fetching logs for player Bol Bol (ID: 1629626) for season 2023-24...\n",
      "Fetching logs for player Marques Bolden (ID: 1629716) for season 2020-21...\n",
      "Fetching logs for player Marques Bolden (ID: 1629716) for season 2021-22...\n",
      "Fetching logs for player Marques Bolden (ID: 1629716) for season 2022-23...\n",
      "Fetching logs for player Marques Bolden (ID: 1629716) for season 2023-24...\n"
     ]
    },
    {
     "name": "stderr",
     "output_type": "stream",
     "text": [
      "C:\\Users\\jwag1\\AppData\\Local\\Temp\\ipykernel_32800\\3592326873.py:51: FutureWarning: The behavior of DataFrame concatenation with empty or all-NA entries is deprecated. In a future version, this will no longer exclude empty or all-NA columns when determining the result dtypes. To retain the old behavior, exclude the relevant entries before the concat operation.\n",
      "  player_logs_concat = pd.concat(player_logs, ignore_index=True)\n"
     ]
    },
    {
     "name": "stdout",
     "output_type": "stream",
     "text": [
      "Fetching logs for player Leandro Bolmaro (ID: 1630195) for season 2020-21...\n",
      "Fetching logs for player Leandro Bolmaro (ID: 1630195) for season 2021-22...\n",
      "Fetching logs for player Leandro Bolmaro (ID: 1630195) for season 2022-23...\n",
      "Fetching logs for player Leandro Bolmaro (ID: 1630195) for season 2023-24...\n"
     ]
    },
    {
     "name": "stderr",
     "output_type": "stream",
     "text": [
      "C:\\Users\\jwag1\\AppData\\Local\\Temp\\ipykernel_32800\\3592326873.py:51: FutureWarning: The behavior of DataFrame concatenation with empty or all-NA entries is deprecated. In a future version, this will no longer exclude empty or all-NA columns when determining the result dtypes. To retain the old behavior, exclude the relevant entries before the concat operation.\n",
      "  player_logs_concat = pd.concat(player_logs, ignore_index=True)\n"
     ]
    },
    {
     "name": "stdout",
     "output_type": "stream",
     "text": [
      "Fetching logs for player Jordan Bone (ID: 1629648) for season 2020-21...\n",
      "Fetching logs for player Jordan Bone (ID: 1629648) for season 2021-22...\n",
      "Fetching logs for player Jordan Bone (ID: 1629648) for season 2022-23...\n",
      "Fetching logs for player Jordan Bone (ID: 1629648) for season 2023-24...\n"
     ]
    },
    {
     "name": "stderr",
     "output_type": "stream",
     "text": [
      "C:\\Users\\jwag1\\AppData\\Local\\Temp\\ipykernel_32800\\3592326873.py:51: FutureWarning: The behavior of DataFrame concatenation with empty or all-NA entries is deprecated. In a future version, this will no longer exclude empty or all-NA columns when determining the result dtypes. To retain the old behavior, exclude the relevant entries before the concat operation.\n",
      "  player_logs_concat = pd.concat(player_logs, ignore_index=True)\n"
     ]
    },
    {
     "name": "stdout",
     "output_type": "stream",
     "text": [
      "Fetching logs for player Isaac Bonga (ID: 1629067) for season 2020-21...\n",
      "Fetching logs for player Isaac Bonga (ID: 1629067) for season 2021-22...\n",
      "Fetching logs for player Isaac Bonga (ID: 1629067) for season 2022-23...\n",
      "Fetching logs for player Isaac Bonga (ID: 1629067) for season 2023-24...\n"
     ]
    },
    {
     "name": "stderr",
     "output_type": "stream",
     "text": [
      "C:\\Users\\jwag1\\AppData\\Local\\Temp\\ipykernel_32800\\3592326873.py:51: FutureWarning: The behavior of DataFrame concatenation with empty or all-NA entries is deprecated. In a future version, this will no longer exclude empty or all-NA columns when determining the result dtypes. To retain the old behavior, exclude the relevant entries before the concat operation.\n",
      "  player_logs_concat = pd.concat(player_logs, ignore_index=True)\n"
     ]
    },
    {
     "name": "stdout",
     "output_type": "stream",
     "text": [
      "Fetching logs for player Devin Booker (ID: 1626164) for season 2020-21...\n",
      "Fetching logs for player Devin Booker (ID: 1626164) for season 2021-22...\n",
      "Fetching logs for player Devin Booker (ID: 1626164) for season 2022-23...\n",
      "Fetching logs for player Devin Booker (ID: 1626164) for season 2023-24...\n",
      "Fetching logs for player Brandon Boston Jr. (ID: 1630527) for season 2020-21...\n",
      "Fetching logs for player Brandon Boston Jr. (ID: 1630527) for season 2021-22...\n",
      "Fetching logs for player Brandon Boston Jr. (ID: 1630527) for season 2022-23...\n",
      "Fetching logs for player Brandon Boston Jr. (ID: 1630527) for season 2023-24...\n"
     ]
    },
    {
     "name": "stderr",
     "output_type": "stream",
     "text": [
      "C:\\Users\\jwag1\\AppData\\Local\\Temp\\ipykernel_32800\\3592326873.py:51: FutureWarning: The behavior of DataFrame concatenation with empty or all-NA entries is deprecated. In a future version, this will no longer exclude empty or all-NA columns when determining the result dtypes. To retain the old behavior, exclude the relevant entries before the concat operation.\n",
      "  player_logs_concat = pd.concat(player_logs, ignore_index=True)\n"
     ]
    },
    {
     "name": "stdout",
     "output_type": "stream",
     "text": [
      "Fetching logs for player Chris Boucher (ID: 1628449) for season 2020-21...\n",
      "Fetching logs for player Chris Boucher (ID: 1628449) for season 2021-22...\n",
      "Fetching logs for player Chris Boucher (ID: 1628449) for season 2022-23...\n",
      "Fetching logs for player Chris Boucher (ID: 1628449) for season 2023-24...\n",
      "Fetching logs for player James Bouknight (ID: 1630547) for season 2020-21...\n",
      "Fetching logs for player James Bouknight (ID: 1630547) for season 2021-22...\n",
      "Fetching logs for player James Bouknight (ID: 1630547) for season 2022-23...\n",
      "Fetching logs for player James Bouknight (ID: 1630547) for season 2023-24...\n"
     ]
    },
    {
     "name": "stderr",
     "output_type": "stream",
     "text": [
      "C:\\Users\\jwag1\\AppData\\Local\\Temp\\ipykernel_32800\\3592326873.py:51: FutureWarning: The behavior of DataFrame concatenation with empty or all-NA entries is deprecated. In a future version, this will no longer exclude empty or all-NA columns when determining the result dtypes. To retain the old behavior, exclude the relevant entries before the concat operation.\n",
      "  player_logs_concat = pd.concat(player_logs, ignore_index=True)\n"
     ]
    },
    {
     "name": "stdout",
     "output_type": "stream",
     "text": [
      "Fetching logs for player Jamaree Bouyea (ID: 1631123) for season 2020-21...\n",
      "Fetching logs for player Jamaree Bouyea (ID: 1631123) for season 2021-22...\n",
      "Fetching logs for player Jamaree Bouyea (ID: 1631123) for season 2022-23...\n",
      "Fetching logs for player Jamaree Bouyea (ID: 1631123) for season 2023-24...\n"
     ]
    },
    {
     "name": "stderr",
     "output_type": "stream",
     "text": [
      "C:\\Users\\jwag1\\AppData\\Local\\Temp\\ipykernel_32800\\3592326873.py:51: FutureWarning: The behavior of DataFrame concatenation with empty or all-NA entries is deprecated. In a future version, this will no longer exclude empty or all-NA columns when determining the result dtypes. To retain the old behavior, exclude the relevant entries before the concat operation.\n",
      "  player_logs_concat = pd.concat(player_logs, ignore_index=True)\n"
     ]
    },
    {
     "name": "stdout",
     "output_type": "stream",
     "text": [
      "Fetching logs for player Brian Bowen II (ID: 1628968) for season 2020-21...\n",
      "Fetching logs for player Brian Bowen II (ID: 1628968) for season 2021-22...\n",
      "Fetching logs for player Brian Bowen II (ID: 1628968) for season 2022-23...\n",
      "Fetching logs for player Brian Bowen II (ID: 1628968) for season 2023-24...\n"
     ]
    },
    {
     "name": "stderr",
     "output_type": "stream",
     "text": [
      "C:\\Users\\jwag1\\AppData\\Local\\Temp\\ipykernel_32800\\3592326873.py:51: FutureWarning: The behavior of DataFrame concatenation with empty or all-NA entries is deprecated. In a future version, this will no longer exclude empty or all-NA columns when determining the result dtypes. To retain the old behavior, exclude the relevant entries before the concat operation.\n",
      "  player_logs_concat = pd.concat(player_logs, ignore_index=True)\n"
     ]
    },
    {
     "name": "stdout",
     "output_type": "stream",
     "text": [
      "Fetching logs for player Avery Bradley (ID: 202340) for season 2020-21...\n",
      "Fetching logs for player Avery Bradley (ID: 202340) for season 2021-22...\n",
      "Fetching logs for player Avery Bradley (ID: 202340) for season 2022-23...\n",
      "Fetching logs for player Avery Bradley (ID: 202340) for season 2023-24...\n"
     ]
    },
    {
     "name": "stderr",
     "output_type": "stream",
     "text": [
      "C:\\Users\\jwag1\\AppData\\Local\\Temp\\ipykernel_32800\\3592326873.py:51: FutureWarning: The behavior of DataFrame concatenation with empty or all-NA entries is deprecated. In a future version, this will no longer exclude empty or all-NA columns when determining the result dtypes. To retain the old behavior, exclude the relevant entries before the concat operation.\n",
      "  player_logs_concat = pd.concat(player_logs, ignore_index=True)\n"
     ]
    },
    {
     "name": "stdout",
     "output_type": "stream",
     "text": [
      "Fetching logs for player Tony Bradley (ID: 1628396) for season 2020-21...\n",
      "Fetching logs for player Tony Bradley (ID: 1628396) for season 2021-22...\n",
      "Fetching logs for player Tony Bradley (ID: 1628396) for season 2022-23...\n",
      "Fetching logs for player Tony Bradley (ID: 1628396) for season 2023-24...\n"
     ]
    },
    {
     "name": "stderr",
     "output_type": "stream",
     "text": [
      "C:\\Users\\jwag1\\AppData\\Local\\Temp\\ipykernel_32800\\3592326873.py:51: FutureWarning: The behavior of DataFrame concatenation with empty or all-NA entries is deprecated. In a future version, this will no longer exclude empty or all-NA columns when determining the result dtypes. To retain the old behavior, exclude the relevant entries before the concat operation.\n",
      "  player_logs_concat = pd.concat(player_logs, ignore_index=True)\n"
     ]
    },
    {
     "name": "stdout",
     "output_type": "stream",
     "text": [
      "Fetching logs for player Malaki Branham (ID: 1631103) for season 2020-21...\n",
      "Fetching logs for player Malaki Branham (ID: 1631103) for season 2021-22...\n",
      "Fetching logs for player Malaki Branham (ID: 1631103) for season 2022-23...\n",
      "Fetching logs for player Malaki Branham (ID: 1631103) for season 2023-24...\n"
     ]
    },
    {
     "name": "stderr",
     "output_type": "stream",
     "text": [
      "C:\\Users\\jwag1\\AppData\\Local\\Temp\\ipykernel_32800\\3592326873.py:51: FutureWarning: The behavior of DataFrame concatenation with empty or all-NA entries is deprecated. In a future version, this will no longer exclude empty or all-NA columns when determining the result dtypes. To retain the old behavior, exclude the relevant entries before the concat operation.\n",
      "  player_logs_concat = pd.concat(player_logs, ignore_index=True)\n"
     ]
    },
    {
     "name": "stdout",
     "output_type": "stream",
     "text": [
      "Fetching logs for player Jarrell Brantley (ID: 1629714) for season 2020-21...\n",
      "Fetching logs for player Jarrell Brantley (ID: 1629714) for season 2021-22...\n",
      "Fetching logs for player Jarrell Brantley (ID: 1629714) for season 2022-23...\n",
      "Fetching logs for player Jarrell Brantley (ID: 1629714) for season 2023-24...\n"
     ]
    },
    {
     "name": "stderr",
     "output_type": "stream",
     "text": [
      "C:\\Users\\jwag1\\AppData\\Local\\Temp\\ipykernel_32800\\3592326873.py:51: FutureWarning: The behavior of DataFrame concatenation with empty or all-NA entries is deprecated. In a future version, this will no longer exclude empty or all-NA columns when determining the result dtypes. To retain the old behavior, exclude the relevant entries before the concat operation.\n",
      "  player_logs_concat = pd.concat(player_logs, ignore_index=True)\n"
     ]
    },
    {
     "name": "stdout",
     "output_type": "stream",
     "text": [
      "Fetching logs for player Christian Braun (ID: 1631128) for season 2020-21...\n",
      "Fetching logs for player Christian Braun (ID: 1631128) for season 2021-22...\n",
      "Fetching logs for player Christian Braun (ID: 1631128) for season 2022-23...\n",
      "Fetching logs for player Christian Braun (ID: 1631128) for season 2023-24...\n"
     ]
    },
    {
     "name": "stderr",
     "output_type": "stream",
     "text": [
      "C:\\Users\\jwag1\\AppData\\Local\\Temp\\ipykernel_32800\\3592326873.py:51: FutureWarning: The behavior of DataFrame concatenation with empty or all-NA entries is deprecated. In a future version, this will no longer exclude empty or all-NA columns when determining the result dtypes. To retain the old behavior, exclude the relevant entries before the concat operation.\n",
      "  player_logs_concat = pd.concat(player_logs, ignore_index=True)\n"
     ]
    },
    {
     "name": "stdout",
     "output_type": "stream",
     "text": [
      "Fetching logs for player Ignas Brazdeikis (ID: 1629649) for season 2020-21...\n",
      "Fetching logs for player Ignas Brazdeikis (ID: 1629649) for season 2021-22...\n",
      "Fetching logs for player Ignas Brazdeikis (ID: 1629649) for season 2022-23...\n",
      "Fetching logs for player Ignas Brazdeikis (ID: 1629649) for season 2023-24...\n"
     ]
    },
    {
     "name": "stderr",
     "output_type": "stream",
     "text": [
      "C:\\Users\\jwag1\\AppData\\Local\\Temp\\ipykernel_32800\\3592326873.py:51: FutureWarning: The behavior of DataFrame concatenation with empty or all-NA entries is deprecated. In a future version, this will no longer exclude empty or all-NA columns when determining the result dtypes. To retain the old behavior, exclude the relevant entries before the concat operation.\n",
      "  player_logs_concat = pd.concat(player_logs, ignore_index=True)\n"
     ]
    },
    {
     "name": "stdout",
     "output_type": "stream",
     "text": [
      "Fetching logs for player Mikal Bridges (ID: 1628969) for season 2020-21...\n",
      "Fetching logs for player Mikal Bridges (ID: 1628969) for season 2021-22...\n",
      "Fetching logs for player Mikal Bridges (ID: 1628969) for season 2022-23...\n",
      "Fetching logs for player Mikal Bridges (ID: 1628969) for season 2023-24...\n",
      "Fetching logs for player Miles Bridges (ID: 1628970) for season 2020-21...\n",
      "Fetching logs for player Miles Bridges (ID: 1628970) for season 2021-22...\n",
      "Fetching logs for player Miles Bridges (ID: 1628970) for season 2022-23...\n",
      "Fetching logs for player Miles Bridges (ID: 1628970) for season 2023-24...\n"
     ]
    },
    {
     "name": "stderr",
     "output_type": "stream",
     "text": [
      "C:\\Users\\jwag1\\AppData\\Local\\Temp\\ipykernel_32800\\3592326873.py:51: FutureWarning: The behavior of DataFrame concatenation with empty or all-NA entries is deprecated. In a future version, this will no longer exclude empty or all-NA columns when determining the result dtypes. To retain the old behavior, exclude the relevant entries before the concat operation.\n",
      "  player_logs_concat = pd.concat(player_logs, ignore_index=True)\n"
     ]
    },
    {
     "name": "stdout",
     "output_type": "stream",
     "text": [
      "Fetching logs for player Amida Brimah (ID: 1628578) for season 2020-21...\n",
      "Fetching logs for player Amida Brimah (ID: 1628578) for season 2021-22...\n",
      "Fetching logs for player Amida Brimah (ID: 1628578) for season 2022-23...\n",
      "Fetching logs for player Amida Brimah (ID: 1628578) for season 2023-24...\n"
     ]
    },
    {
     "name": "stderr",
     "output_type": "stream",
     "text": [
      "C:\\Users\\jwag1\\AppData\\Local\\Temp\\ipykernel_32800\\3592326873.py:51: FutureWarning: The behavior of DataFrame concatenation with empty or all-NA entries is deprecated. In a future version, this will no longer exclude empty or all-NA columns when determining the result dtypes. To retain the old behavior, exclude the relevant entries before the concat operation.\n",
      "  player_logs_concat = pd.concat(player_logs, ignore_index=True)\n"
     ]
    },
    {
     "name": "stdout",
     "output_type": "stream",
     "text": [
      "Fetching logs for player Oshae Brissett (ID: 1629052) for season 2020-21...\n",
      "Fetching logs for player Oshae Brissett (ID: 1629052) for season 2021-22...\n",
      "Fetching logs for player Oshae Brissett (ID: 1629052) for season 2022-23...\n",
      "Fetching logs for player Oshae Brissett (ID: 1629052) for season 2023-24...\n",
      "Fetching logs for player Izaiah Brockington (ID: 1631167) for season 2020-21...\n",
      "Fetching logs for player Izaiah Brockington (ID: 1631167) for season 2021-22...\n",
      "Fetching logs for player Izaiah Brockington (ID: 1631167) for season 2022-23...\n",
      "Fetching logs for player Izaiah Brockington (ID: 1631167) for season 2023-24...\n"
     ]
    },
    {
     "name": "stderr",
     "output_type": "stream",
     "text": [
      "C:\\Users\\jwag1\\AppData\\Local\\Temp\\ipykernel_32800\\3592326873.py:51: FutureWarning: The behavior of DataFrame concatenation with empty or all-NA entries is deprecated. In a future version, this will no longer exclude empty or all-NA columns when determining the result dtypes. To retain the old behavior, exclude the relevant entries before the concat operation.\n",
      "  player_logs_concat = pd.concat(player_logs, ignore_index=True)\n"
     ]
    },
    {
     "name": "stdout",
     "output_type": "stream",
     "text": [
      "Fetching logs for player Malcolm Brogdon (ID: 1627763) for season 2020-21...\n",
      "Fetching logs for player Malcolm Brogdon (ID: 1627763) for season 2021-22...\n",
      "Fetching logs for player Malcolm Brogdon (ID: 1627763) for season 2022-23...\n",
      "Fetching logs for player Malcolm Brogdon (ID: 1627763) for season 2023-24...\n",
      "Fetching logs for player Armoni Brooks (ID: 1629717) for season 2020-21...\n",
      "Fetching logs for player Armoni Brooks (ID: 1629717) for season 2021-22...\n",
      "Fetching logs for player Armoni Brooks (ID: 1629717) for season 2022-23...\n",
      "Fetching logs for player Armoni Brooks (ID: 1629717) for season 2023-24...\n"
     ]
    },
    {
     "name": "stderr",
     "output_type": "stream",
     "text": [
      "C:\\Users\\jwag1\\AppData\\Local\\Temp\\ipykernel_32800\\3592326873.py:51: FutureWarning: The behavior of DataFrame concatenation with empty or all-NA entries is deprecated. In a future version, this will no longer exclude empty or all-NA columns when determining the result dtypes. To retain the old behavior, exclude the relevant entries before the concat operation.\n",
      "  player_logs_concat = pd.concat(player_logs, ignore_index=True)\n",
      "\r",
      " 11%|█         | 2/18 [03:36<28:50, 108.17s/it]"
     ]
    },
    {
     "name": "stdout",
     "output_type": "stream",
     "text": [
      "Processing batch 100 to 150...\n",
      "Fetching logs for player Dillon Brooks (ID: 1628415) for season 2020-21...\n",
      "Fetching logs for player Dillon Brooks (ID: 1628415) for season 2021-22...\n",
      "Fetching logs for player Dillon Brooks (ID: 1628415) for season 2022-23...\n",
      "Fetching logs for player Dillon Brooks (ID: 1628415) for season 2023-24...\n",
      "Fetching logs for player Bruce Brown (ID: 1628971) for season 2020-21...\n",
      "Fetching logs for player Bruce Brown (ID: 1628971) for season 2021-22...\n",
      "Fetching logs for player Bruce Brown (ID: 1628971) for season 2022-23...\n",
      "Fetching logs for player Bruce Brown (ID: 1628971) for season 2023-24...\n",
      "Fetching logs for player Jaylen Brown (ID: 1627759) for season 2020-21...\n",
      "Fetching logs for player Jaylen Brown (ID: 1627759) for season 2021-22...\n",
      "Fetching logs for player Jaylen Brown (ID: 1627759) for season 2022-23...\n",
      "Fetching logs for player Jaylen Brown (ID: 1627759) for season 2023-24...\n",
      "Fetching logs for player Kendall Brown (ID: 1631112) for season 2020-21...\n",
      "Fetching logs for player Kendall Brown (ID: 1631112) for season 2021-22...\n",
      "Fetching logs for player Kendall Brown (ID: 1631112) for season 2022-23...\n",
      "Fetching logs for player Kendall Brown (ID: 1631112) for season 2023-24...\n"
     ]
    },
    {
     "name": "stderr",
     "output_type": "stream",
     "text": [
      "C:\\Users\\jwag1\\AppData\\Local\\Temp\\ipykernel_32800\\3592326873.py:51: FutureWarning: The behavior of DataFrame concatenation with empty or all-NA entries is deprecated. In a future version, this will no longer exclude empty or all-NA columns when determining the result dtypes. To retain the old behavior, exclude the relevant entries before the concat operation.\n",
      "  player_logs_concat = pd.concat(player_logs, ignore_index=True)\n"
     ]
    },
    {
     "name": "stdout",
     "output_type": "stream",
     "text": [
      "Fetching logs for player Kobe Brown (ID: 1641738) for season 2020-21...\n",
      "Fetching logs for player Kobe Brown (ID: 1641738) for season 2021-22...\n",
      "Fetching logs for player Kobe Brown (ID: 1641738) for season 2022-23...\n",
      "Fetching logs for player Kobe Brown (ID: 1641738) for season 2023-24...\n"
     ]
    },
    {
     "name": "stderr",
     "output_type": "stream",
     "text": [
      "C:\\Users\\jwag1\\AppData\\Local\\Temp\\ipykernel_32800\\3592326873.py:51: FutureWarning: The behavior of DataFrame concatenation with empty or all-NA entries is deprecated. In a future version, this will no longer exclude empty or all-NA columns when determining the result dtypes. To retain the old behavior, exclude the relevant entries before the concat operation.\n",
      "  player_logs_concat = pd.concat(player_logs, ignore_index=True)\n"
     ]
    },
    {
     "name": "stdout",
     "output_type": "stream",
     "text": [
      "Fetching logs for player Moses Brown (ID: 1629650) for season 2020-21...\n",
      "Fetching logs for player Moses Brown (ID: 1629650) for season 2021-22...\n",
      "Fetching logs for player Moses Brown (ID: 1629650) for season 2022-23...\n",
      "Fetching logs for player Moses Brown (ID: 1629650) for season 2023-24...\n",
      "Fetching logs for player Sterling Brown (ID: 1628425) for season 2020-21...\n",
      "Fetching logs for player Sterling Brown (ID: 1628425) for season 2021-22...\n",
      "Fetching logs for player Sterling Brown (ID: 1628425) for season 2022-23...\n",
      "Fetching logs for player Sterling Brown (ID: 1628425) for season 2023-24...\n"
     ]
    },
    {
     "name": "stderr",
     "output_type": "stream",
     "text": [
      "C:\\Users\\jwag1\\AppData\\Local\\Temp\\ipykernel_32800\\3592326873.py:51: FutureWarning: The behavior of DataFrame concatenation with empty or all-NA entries is deprecated. In a future version, this will no longer exclude empty or all-NA columns when determining the result dtypes. To retain the old behavior, exclude the relevant entries before the concat operation.\n",
      "  player_logs_concat = pd.concat(player_logs, ignore_index=True)\n"
     ]
    },
    {
     "name": "stdout",
     "output_type": "stream",
     "text": [
      "Fetching logs for player Greg Brown III (ID: 1630535) for season 2020-21...\n",
      "Fetching logs for player Greg Brown III (ID: 1630535) for season 2021-22...\n",
      "Fetching logs for player Greg Brown III (ID: 1630535) for season 2022-23...\n",
      "Fetching logs for player Greg Brown III (ID: 1630535) for season 2023-24...\n"
     ]
    },
    {
     "name": "stderr",
     "output_type": "stream",
     "text": [
      "C:\\Users\\jwag1\\AppData\\Local\\Temp\\ipykernel_32800\\3592326873.py:51: FutureWarning: The behavior of DataFrame concatenation with empty or all-NA entries is deprecated. In a future version, this will no longer exclude empty or all-NA columns when determining the result dtypes. To retain the old behavior, exclude the relevant entries before the concat operation.\n",
      "  player_logs_concat = pd.concat(player_logs, ignore_index=True)\n"
     ]
    },
    {
     "name": "stdout",
     "output_type": "stream",
     "text": [
      "Fetching logs for player Charlie Brown Jr. (ID: 1629718) for season 2020-21...\n",
      "Fetching logs for player Charlie Brown Jr. (ID: 1629718) for season 2021-22...\n",
      "Fetching logs for player Charlie Brown Jr. (ID: 1629718) for season 2022-23...\n",
      "Fetching logs for player Charlie Brown Jr. (ID: 1629718) for season 2023-24...\n"
     ]
    },
    {
     "name": "stderr",
     "output_type": "stream",
     "text": [
      "C:\\Users\\jwag1\\AppData\\Local\\Temp\\ipykernel_32800\\3592326873.py:51: FutureWarning: The behavior of DataFrame concatenation with empty or all-NA entries is deprecated. In a future version, this will no longer exclude empty or all-NA columns when determining the result dtypes. To retain the old behavior, exclude the relevant entries before the concat operation.\n",
      "  player_logs_concat = pd.concat(player_logs, ignore_index=True)\n"
     ]
    },
    {
     "name": "stdout",
     "output_type": "stream",
     "text": [
      "Fetching logs for player Chaundee Brown Jr. (ID: 1630602) for season 2020-21...\n",
      "Fetching logs for player Chaundee Brown Jr. (ID: 1630602) for season 2021-22...\n",
      "Fetching logs for player Chaundee Brown Jr. (ID: 1630602) for season 2022-23...\n",
      "Fetching logs for player Chaundee Brown Jr. (ID: 1630602) for season 2023-24...\n"
     ]
    },
    {
     "name": "stderr",
     "output_type": "stream",
     "text": [
      "C:\\Users\\jwag1\\AppData\\Local\\Temp\\ipykernel_32800\\3592326873.py:51: FutureWarning: The behavior of DataFrame concatenation with empty or all-NA entries is deprecated. In a future version, this will no longer exclude empty or all-NA columns when determining the result dtypes. To retain the old behavior, exclude the relevant entries before the concat operation.\n",
      "  player_logs_concat = pd.concat(player_logs, ignore_index=True)\n"
     ]
    },
    {
     "name": "stdout",
     "output_type": "stream",
     "text": [
      "Fetching logs for player Troy Brown Jr. (ID: 1628972) for season 2020-21...\n",
      "Fetching logs for player Troy Brown Jr. (ID: 1628972) for season 2021-22...\n",
      "Fetching logs for player Troy Brown Jr. (ID: 1628972) for season 2022-23...\n",
      "Fetching logs for player Troy Brown Jr. (ID: 1628972) for season 2023-24...\n",
      "Fetching logs for player Jalen Brunson (ID: 1628973) for season 2020-21...\n",
      "Fetching logs for player Jalen Brunson (ID: 1628973) for season 2021-22...\n",
      "Fetching logs for player Jalen Brunson (ID: 1628973) for season 2022-23...\n",
      "Fetching logs for player Jalen Brunson (ID: 1628973) for season 2023-24...\n",
      "Fetching logs for player Elijah Bryant (ID: 1629091) for season 2020-21...\n",
      "Fetching logs for player Elijah Bryant (ID: 1629091) for season 2021-22...\n",
      "Fetching logs for player Elijah Bryant (ID: 1629091) for season 2022-23...\n",
      "Fetching logs for player Elijah Bryant (ID: 1629091) for season 2023-24...\n"
     ]
    },
    {
     "name": "stderr",
     "output_type": "stream",
     "text": [
      "C:\\Users\\jwag1\\AppData\\Local\\Temp\\ipykernel_32800\\3592326873.py:51: FutureWarning: The behavior of DataFrame concatenation with empty or all-NA entries is deprecated. In a future version, this will no longer exclude empty or all-NA columns when determining the result dtypes. To retain the old behavior, exclude the relevant entries before the concat operation.\n",
      "  player_logs_concat = pd.concat(player_logs, ignore_index=True)\n"
     ]
    },
    {
     "name": "stdout",
     "output_type": "stream",
     "text": [
      "Fetching logs for player Thomas Bryant (ID: 1628418) for season 2020-21...\n",
      "Fetching logs for player Thomas Bryant (ID: 1628418) for season 2021-22...\n",
      "Fetching logs for player Thomas Bryant (ID: 1628418) for season 2022-23...\n",
      "Fetching logs for player Thomas Bryant (ID: 1628418) for season 2023-24...\n",
      "Fetching logs for player Shaq Buchanan (ID: 1629783) for season 2020-21...\n",
      "Fetching logs for player Shaq Buchanan (ID: 1629783) for season 2021-22...\n",
      "Fetching logs for player Shaq Buchanan (ID: 1629783) for season 2022-23...\n",
      "Fetching logs for player Shaq Buchanan (ID: 1629783) for season 2023-24...\n"
     ]
    },
    {
     "name": "stderr",
     "output_type": "stream",
     "text": [
      "C:\\Users\\jwag1\\AppData\\Local\\Temp\\ipykernel_32800\\3592326873.py:51: FutureWarning: The behavior of DataFrame concatenation with empty or all-NA entries is deprecated. In a future version, this will no longer exclude empty or all-NA columns when determining the result dtypes. To retain the old behavior, exclude the relevant entries before the concat operation.\n",
      "  player_logs_concat = pd.concat(player_logs, ignore_index=True)\n"
     ]
    },
    {
     "name": "stdout",
     "output_type": "stream",
     "text": [
      "Fetching logs for player Kobe Bufkin (ID: 1641723) for season 2020-21...\n",
      "Fetching logs for player Kobe Bufkin (ID: 1641723) for season 2021-22...\n",
      "Fetching logs for player Kobe Bufkin (ID: 1641723) for season 2022-23...\n",
      "Fetching logs for player Kobe Bufkin (ID: 1641723) for season 2023-24...\n"
     ]
    },
    {
     "name": "stderr",
     "output_type": "stream",
     "text": [
      "C:\\Users\\jwag1\\AppData\\Local\\Temp\\ipykernel_32800\\3592326873.py:51: FutureWarning: The behavior of DataFrame concatenation with empty or all-NA entries is deprecated. In a future version, this will no longer exclude empty or all-NA columns when determining the result dtypes. To retain the old behavior, exclude the relevant entries before the concat operation.\n",
      "  player_logs_concat = pd.concat(player_logs, ignore_index=True)\n"
     ]
    },
    {
     "name": "stdout",
     "output_type": "stream",
     "text": [
      "Fetching logs for player Reggie Bullock Jr. (ID: 203493) for season 2020-21...\n",
      "Fetching logs for player Reggie Bullock Jr. (ID: 203493) for season 2021-22...\n",
      "Fetching logs for player Reggie Bullock Jr. (ID: 203493) for season 2022-23...\n",
      "Fetching logs for player Reggie Bullock Jr. (ID: 203493) for season 2023-24...\n",
      "Fetching logs for player Trey Burke (ID: 203504) for season 2020-21...\n",
      "Fetching logs for player Trey Burke (ID: 203504) for season 2021-22...\n",
      "Fetching logs for player Trey Burke (ID: 203504) for season 2022-23...\n",
      "Fetching logs for player Trey Burke (ID: 203504) for season 2023-24...\n"
     ]
    },
    {
     "name": "stderr",
     "output_type": "stream",
     "text": [
      "C:\\Users\\jwag1\\AppData\\Local\\Temp\\ipykernel_32800\\3592326873.py:51: FutureWarning: The behavior of DataFrame concatenation with empty or all-NA entries is deprecated. In a future version, this will no longer exclude empty or all-NA columns when determining the result dtypes. To retain the old behavior, exclude the relevant entries before the concat operation.\n",
      "  player_logs_concat = pd.concat(player_logs, ignore_index=True)\n"
     ]
    },
    {
     "name": "stdout",
     "output_type": "stream",
     "text": [
      "Fetching logs for player Alec Burks (ID: 202692) for season 2020-21...\n",
      "Fetching logs for player Alec Burks (ID: 202692) for season 2021-22...\n",
      "Fetching logs for player Alec Burks (ID: 202692) for season 2022-23...\n",
      "Fetching logs for player Alec Burks (ID: 202692) for season 2023-24...\n",
      "Fetching logs for player Deonte Burton (ID: 1629126) for season 2020-21...\n",
      "Fetching logs for player Deonte Burton (ID: 1629126) for season 2021-22...\n",
      "Fetching logs for player Deonte Burton (ID: 1629126) for season 2022-23...\n",
      "Fetching logs for player Deonte Burton (ID: 1629126) for season 2023-24...\n"
     ]
    },
    {
     "name": "stderr",
     "output_type": "stream",
     "text": [
      "C:\\Users\\jwag1\\AppData\\Local\\Temp\\ipykernel_32800\\3592326873.py:51: FutureWarning: The behavior of DataFrame concatenation with empty or all-NA entries is deprecated. In a future version, this will no longer exclude empty or all-NA columns when determining the result dtypes. To retain the old behavior, exclude the relevant entries before the concat operation.\n",
      "  player_logs_concat = pd.concat(player_logs, ignore_index=True)\n"
     ]
    },
    {
     "name": "stdout",
     "output_type": "stream",
     "text": [
      "Fetching logs for player Jared Butler (ID: 1630215) for season 2020-21...\n",
      "Fetching logs for player Jared Butler (ID: 1630215) for season 2021-22...\n",
      "Fetching logs for player Jared Butler (ID: 1630215) for season 2022-23...\n",
      "Fetching logs for player Jared Butler (ID: 1630215) for season 2023-24...\n"
     ]
    },
    {
     "name": "stderr",
     "output_type": "stream",
     "text": [
      "C:\\Users\\jwag1\\AppData\\Local\\Temp\\ipykernel_32800\\3592326873.py:51: FutureWarning: The behavior of DataFrame concatenation with empty or all-NA entries is deprecated. In a future version, this will no longer exclude empty or all-NA columns when determining the result dtypes. To retain the old behavior, exclude the relevant entries before the concat operation.\n",
      "  player_logs_concat = pd.concat(player_logs, ignore_index=True)\n"
     ]
    },
    {
     "name": "stdout",
     "output_type": "stream",
     "text": [
      "Fetching logs for player Jimmy Butler (ID: 202710) for season 2020-21...\n",
      "Fetching logs for player Jimmy Butler (ID: 202710) for season 2021-22...\n",
      "Fetching logs for player Jimmy Butler (ID: 202710) for season 2022-23...\n",
      "Fetching logs for player Jimmy Butler (ID: 202710) for season 2023-24...\n",
      "Fetching logs for player John Butler Jr. (ID: 1631219) for season 2020-21...\n",
      "Fetching logs for player John Butler Jr. (ID: 1631219) for season 2021-22...\n",
      "Fetching logs for player John Butler Jr. (ID: 1631219) for season 2022-23...\n",
      "Fetching logs for player John Butler Jr. (ID: 1631219) for season 2023-24...\n"
     ]
    },
    {
     "name": "stderr",
     "output_type": "stream",
     "text": [
      "C:\\Users\\jwag1\\AppData\\Local\\Temp\\ipykernel_32800\\3592326873.py:51: FutureWarning: The behavior of DataFrame concatenation with empty or all-NA entries is deprecated. In a future version, this will no longer exclude empty or all-NA columns when determining the result dtypes. To retain the old behavior, exclude the relevant entries before the concat operation.\n",
      "  player_logs_concat = pd.concat(player_logs, ignore_index=True)\n"
     ]
    },
    {
     "name": "stdout",
     "output_type": "stream",
     "text": [
      "Fetching logs for player Bruno Caboclo (ID: 203998) for season 2020-21...\n",
      "Fetching logs for player Bruno Caboclo (ID: 203998) for season 2021-22...\n",
      "Fetching logs for player Bruno Caboclo (ID: 203998) for season 2022-23...\n",
      "Fetching logs for player Bruno Caboclo (ID: 203998) for season 2023-24...\n"
     ]
    },
    {
     "name": "stderr",
     "output_type": "stream",
     "text": [
      "C:\\Users\\jwag1\\AppData\\Local\\Temp\\ipykernel_32800\\3592326873.py:51: FutureWarning: The behavior of DataFrame concatenation with empty or all-NA entries is deprecated. In a future version, this will no longer exclude empty or all-NA columns when determining the result dtypes. To retain the old behavior, exclude the relevant entries before the concat operation.\n",
      "  player_logs_concat = pd.concat(player_logs, ignore_index=True)\n"
     ]
    },
    {
     "name": "stdout",
     "output_type": "stream",
     "text": [
      "Fetching logs for player Devontae Cacok (ID: 1629719) for season 2020-21...\n",
      "Fetching logs for player Devontae Cacok (ID: 1629719) for season 2021-22...\n",
      "Fetching logs for player Devontae Cacok (ID: 1629719) for season 2022-23...\n",
      "Fetching logs for player Devontae Cacok (ID: 1629719) for season 2023-24...\n"
     ]
    },
    {
     "name": "stderr",
     "output_type": "stream",
     "text": [
      "C:\\Users\\jwag1\\AppData\\Local\\Temp\\ipykernel_32800\\3592326873.py:51: FutureWarning: The behavior of DataFrame concatenation with empty or all-NA entries is deprecated. In a future version, this will no longer exclude empty or all-NA columns when determining the result dtypes. To retain the old behavior, exclude the relevant entries before the concat operation.\n",
      "  player_logs_concat = pd.concat(player_logs, ignore_index=True)\n"
     ]
    },
    {
     "name": "stdout",
     "output_type": "stream",
     "text": [
      "Fetching logs for player Jamal Cain (ID: 1631288) for season 2020-21...\n",
      "Fetching logs for player Jamal Cain (ID: 1631288) for season 2021-22...\n",
      "Fetching logs for player Jamal Cain (ID: 1631288) for season 2022-23...\n",
      "Fetching logs for player Jamal Cain (ID: 1631288) for season 2023-24...\n"
     ]
    },
    {
     "name": "stderr",
     "output_type": "stream",
     "text": [
      "C:\\Users\\jwag1\\AppData\\Local\\Temp\\ipykernel_32800\\3592326873.py:51: FutureWarning: The behavior of DataFrame concatenation with empty or all-NA entries is deprecated. In a future version, this will no longer exclude empty or all-NA columns when determining the result dtypes. To retain the old behavior, exclude the relevant entries before the concat operation.\n",
      "  player_logs_concat = pd.concat(player_logs, ignore_index=True)\n"
     ]
    },
    {
     "name": "stdout",
     "output_type": "stream",
     "text": [
      "Fetching logs for player Kentavious Caldwell-Pope (ID: 203484) for season 2020-21...\n",
      "Fetching logs for player Kentavious Caldwell-Pope (ID: 203484) for season 2021-22...\n",
      "Fetching logs for player Kentavious Caldwell-Pope (ID: 203484) for season 2022-23...\n",
      "Fetching logs for player Kentavious Caldwell-Pope (ID: 203484) for season 2023-24...\n",
      "Fetching logs for player Toumani Camara (ID: 1641739) for season 2020-21...\n",
      "Fetching logs for player Toumani Camara (ID: 1641739) for season 2021-22...\n",
      "Fetching logs for player Toumani Camara (ID: 1641739) for season 2022-23...\n",
      "Fetching logs for player Toumani Camara (ID: 1641739) for season 2023-24...\n"
     ]
    },
    {
     "name": "stderr",
     "output_type": "stream",
     "text": [
      "C:\\Users\\jwag1\\AppData\\Local\\Temp\\ipykernel_32800\\3592326873.py:51: FutureWarning: The behavior of DataFrame concatenation with empty or all-NA entries is deprecated. In a future version, this will no longer exclude empty or all-NA columns when determining the result dtypes. To retain the old behavior, exclude the relevant entries before the concat operation.\n",
      "  player_logs_concat = pd.concat(player_logs, ignore_index=True)\n"
     ]
    },
    {
     "name": "stdout",
     "output_type": "stream",
     "text": [
      "Fetching logs for player Facundo Campazzo (ID: 1630267) for season 2020-21...\n",
      "Fetching logs for player Facundo Campazzo (ID: 1630267) for season 2021-22...\n",
      "Fetching logs for player Facundo Campazzo (ID: 1630267) for season 2022-23...\n",
      "Fetching logs for player Facundo Campazzo (ID: 1630267) for season 2023-24...\n"
     ]
    },
    {
     "name": "stderr",
     "output_type": "stream",
     "text": [
      "C:\\Users\\jwag1\\AppData\\Local\\Temp\\ipykernel_32800\\3592326873.py:51: FutureWarning: The behavior of DataFrame concatenation with empty or all-NA entries is deprecated. In a future version, this will no longer exclude empty or all-NA columns when determining the result dtypes. To retain the old behavior, exclude the relevant entries before the concat operation.\n",
      "  player_logs_concat = pd.concat(player_logs, ignore_index=True)\n"
     ]
    },
    {
     "name": "stdout",
     "output_type": "stream",
     "text": [
      "Fetching logs for player Vlatko Cancar (ID: 1628427) for season 2020-21...\n",
      "Fetching logs for player Vlatko Cancar (ID: 1628427) for season 2021-22...\n",
      "Fetching logs for player Vlatko Cancar (ID: 1628427) for season 2022-23...\n",
      "Fetching logs for player Vlatko Cancar (ID: 1628427) for season 2023-24...\n"
     ]
    },
    {
     "name": "stderr",
     "output_type": "stream",
     "text": [
      "C:\\Users\\jwag1\\AppData\\Local\\Temp\\ipykernel_32800\\3592326873.py:51: FutureWarning: The behavior of DataFrame concatenation with empty or all-NA entries is deprecated. In a future version, this will no longer exclude empty or all-NA columns when determining the result dtypes. To retain the old behavior, exclude the relevant entries before the concat operation.\n",
      "  player_logs_concat = pd.concat(player_logs, ignore_index=True)\n"
     ]
    },
    {
     "name": "stdout",
     "output_type": "stream",
     "text": [
      "Fetching logs for player Devin Cannady (ID: 1629962) for season 2020-21...\n",
      "Fetching logs for player Devin Cannady (ID: 1629962) for season 2021-22...\n",
      "Fetching logs for player Devin Cannady (ID: 1629962) for season 2022-23...\n",
      "Fetching logs for player Devin Cannady (ID: 1629962) for season 2023-24...\n"
     ]
    },
    {
     "name": "stderr",
     "output_type": "stream",
     "text": [
      "C:\\Users\\jwag1\\AppData\\Local\\Temp\\ipykernel_32800\\3592326873.py:51: FutureWarning: The behavior of DataFrame concatenation with empty or all-NA entries is deprecated. In a future version, this will no longer exclude empty or all-NA columns when determining the result dtypes. To retain the old behavior, exclude the relevant entries before the concat operation.\n",
      "  player_logs_concat = pd.concat(player_logs, ignore_index=True)\n"
     ]
    },
    {
     "name": "stdout",
     "output_type": "stream",
     "text": [
      "Fetching logs for player Clint Capela (ID: 203991) for season 2020-21...\n",
      "Fetching logs for player Clint Capela (ID: 203991) for season 2021-22...\n",
      "Fetching logs for player Clint Capela (ID: 203991) for season 2022-23...\n",
      "Fetching logs for player Clint Capela (ID: 203991) for season 2023-24...\n",
      "Fetching logs for player Vernon Carey Jr. (ID: 1630176) for season 2020-21...\n",
      "Fetching logs for player Vernon Carey Jr. (ID: 1630176) for season 2021-22...\n",
      "Fetching logs for player Vernon Carey Jr. (ID: 1630176) for season 2022-23...\n",
      "Fetching logs for player Vernon Carey Jr. (ID: 1630176) for season 2023-24...\n"
     ]
    },
    {
     "name": "stderr",
     "output_type": "stream",
     "text": [
      "C:\\Users\\jwag1\\AppData\\Local\\Temp\\ipykernel_32800\\3592326873.py:51: FutureWarning: The behavior of DataFrame concatenation with empty or all-NA entries is deprecated. In a future version, this will no longer exclude empty or all-NA columns when determining the result dtypes. To retain the old behavior, exclude the relevant entries before the concat operation.\n",
      "  player_logs_concat = pd.concat(player_logs, ignore_index=True)\n"
     ]
    },
    {
     "name": "stdout",
     "output_type": "stream",
     "text": [
      "Fetching logs for player Jevon Carter (ID: 1628975) for season 2020-21...\n",
      "Fetching logs for player Jevon Carter (ID: 1628975) for season 2021-22...\n",
      "Fetching logs for player Jevon Carter (ID: 1628975) for season 2022-23...\n",
      "Fetching logs for player Jevon Carter (ID: 1628975) for season 2023-24...\n",
      "Fetching logs for player Wendell Carter Jr. (ID: 1628976) for season 2020-21...\n",
      "Fetching logs for player Wendell Carter Jr. (ID: 1628976) for season 2021-22...\n",
      "Fetching logs for player Wendell Carter Jr. (ID: 1628976) for season 2022-23...\n",
      "Fetching logs for player Wendell Carter Jr. (ID: 1628976) for season 2023-24...\n",
      "Fetching logs for player Michael Carter-Williams (ID: 203487) for season 2020-21...\n",
      "Fetching logs for player Michael Carter-Williams (ID: 203487) for season 2021-22...\n",
      "Fetching logs for player Michael Carter-Williams (ID: 203487) for season 2022-23...\n",
      "Fetching logs for player Michael Carter-Williams (ID: 203487) for season 2023-24...\n"
     ]
    },
    {
     "name": "stderr",
     "output_type": "stream",
     "text": [
      "C:\\Users\\jwag1\\AppData\\Local\\Temp\\ipykernel_32800\\3592326873.py:51: FutureWarning: The behavior of DataFrame concatenation with empty or all-NA entries is deprecated. In a future version, this will no longer exclude empty or all-NA columns when determining the result dtypes. To retain the old behavior, exclude the relevant entries before the concat operation.\n",
      "  player_logs_concat = pd.concat(player_logs, ignore_index=True)\n"
     ]
    },
    {
     "name": "stdout",
     "output_type": "stream",
     "text": [
      "Fetching logs for player D.J. Carton (ID: 1630618) for season 2020-21...\n",
      "Fetching logs for player D.J. Carton (ID: 1630618) for season 2021-22...\n",
      "Fetching logs for player D.J. Carton (ID: 1630618) for season 2022-23...\n",
      "Fetching logs for player D.J. Carton (ID: 1630618) for season 2023-24...\n"
     ]
    },
    {
     "name": "stderr",
     "output_type": "stream",
     "text": [
      "C:\\Users\\jwag1\\AppData\\Local\\Temp\\ipykernel_32800\\3592326873.py:51: FutureWarning: The behavior of DataFrame concatenation with empty or all-NA entries is deprecated. In a future version, this will no longer exclude empty or all-NA columns when determining the result dtypes. To retain the old behavior, exclude the relevant entries before the concat operation.\n",
      "  player_logs_concat = pd.concat(player_logs, ignore_index=True)\n"
     ]
    },
    {
     "name": "stdout",
     "output_type": "stream",
     "text": [
      "Fetching logs for player Alex Caruso (ID: 1627936) for season 2020-21...\n",
      "Fetching logs for player Alex Caruso (ID: 1627936) for season 2021-22...\n",
      "Fetching logs for player Alex Caruso (ID: 1627936) for season 2022-23...\n",
      "Fetching logs for player Alex Caruso (ID: 1627936) for season 2023-24...\n",
      "Fetching logs for player Colin Castleton (ID: 1630658) for season 2020-21...\n",
      "Fetching logs for player Colin Castleton (ID: 1630658) for season 2021-22...\n",
      "Fetching logs for player Colin Castleton (ID: 1630658) for season 2022-23...\n",
      "Fetching logs for player Colin Castleton (ID: 1630658) for season 2023-24...\n"
     ]
    },
    {
     "name": "stderr",
     "output_type": "stream",
     "text": [
      "C:\\Users\\jwag1\\AppData\\Local\\Temp\\ipykernel_32800\\3592326873.py:51: FutureWarning: The behavior of DataFrame concatenation with empty or all-NA entries is deprecated. In a future version, this will no longer exclude empty or all-NA columns when determining the result dtypes. To retain the old behavior, exclude the relevant entries before the concat operation.\n",
      "  player_logs_concat = pd.concat(player_logs, ignore_index=True)\n"
     ]
    },
    {
     "name": "stdout",
     "output_type": "stream",
     "text": [
      "Fetching logs for player Willie Cauley-Stein (ID: 1626161) for season 2020-21...\n",
      "Fetching logs for player Willie Cauley-Stein (ID: 1626161) for season 2021-22...\n",
      "Fetching logs for player Willie Cauley-Stein (ID: 1626161) for season 2022-23...\n",
      "Fetching logs for player Willie Cauley-Stein (ID: 1626161) for season 2023-24...\n"
     ]
    },
    {
     "name": "stderr",
     "output_type": "stream",
     "text": [
      "C:\\Users\\jwag1\\AppData\\Local\\Temp\\ipykernel_32800\\3592326873.py:51: FutureWarning: The behavior of DataFrame concatenation with empty or all-NA entries is deprecated. In a future version, this will no longer exclude empty or all-NA columns when determining the result dtypes. To retain the old behavior, exclude the relevant entries before the concat operation.\n",
      "  player_logs_concat = pd.concat(player_logs, ignore_index=True)\n"
     ]
    },
    {
     "name": "stdout",
     "output_type": "stream",
     "text": [
      "Fetching logs for player Ahmad Caver (ID: 1629958) for season 2020-21...\n",
      "Fetching logs for player Ahmad Caver (ID: 1629958) for season 2021-22...\n",
      "Fetching logs for player Ahmad Caver (ID: 1629958) for season 2022-23...\n",
      "Fetching logs for player Ahmad Caver (ID: 1629958) for season 2023-24...\n"
     ]
    },
    {
     "name": "stderr",
     "output_type": "stream",
     "text": [
      "C:\\Users\\jwag1\\AppData\\Local\\Temp\\ipykernel_32800\\3592326873.py:51: FutureWarning: The behavior of DataFrame concatenation with empty or all-NA entries is deprecated. In a future version, this will no longer exclude empty or all-NA columns when determining the result dtypes. To retain the old behavior, exclude the relevant entries before the concat operation.\n",
      "  player_logs_concat = pd.concat(player_logs, ignore_index=True)\n"
     ]
    },
    {
     "name": "stdout",
     "output_type": "stream",
     "text": [
      "Fetching logs for player Malcolm Cazalon (ID: 1630608) for season 2020-21...\n",
      "Fetching logs for player Malcolm Cazalon (ID: 1630608) for season 2021-22...\n",
      "Fetching logs for player Malcolm Cazalon (ID: 1630608) for season 2022-23...\n",
      "Fetching logs for player Malcolm Cazalon (ID: 1630608) for season 2023-24...\n"
     ]
    },
    {
     "name": "stderr",
     "output_type": "stream",
     "text": [
      "C:\\Users\\jwag1\\AppData\\Local\\Temp\\ipykernel_32800\\3592326873.py:51: FutureWarning: The behavior of DataFrame concatenation with empty or all-NA entries is deprecated. In a future version, this will no longer exclude empty or all-NA columns when determining the result dtypes. To retain the old behavior, exclude the relevant entries before the concat operation.\n",
      "  player_logs_concat = pd.concat(player_logs, ignore_index=True)\n"
     ]
    },
    {
     "name": "stdout",
     "output_type": "stream",
     "text": [
      "Fetching logs for player Julian Champagnie (ID: 1630577) for season 2020-21...\n",
      "Fetching logs for player Julian Champagnie (ID: 1630577) for season 2021-22...\n",
      "Fetching logs for player Julian Champagnie (ID: 1630577) for season 2022-23...\n",
      "Fetching logs for player Julian Champagnie (ID: 1630577) for season 2023-24...\n"
     ]
    },
    {
     "name": "stderr",
     "output_type": "stream",
     "text": [
      "C:\\Users\\jwag1\\AppData\\Local\\Temp\\ipykernel_32800\\3592326873.py:51: FutureWarning: The behavior of DataFrame concatenation with empty or all-NA entries is deprecated. In a future version, this will no longer exclude empty or all-NA columns when determining the result dtypes. To retain the old behavior, exclude the relevant entries before the concat operation.\n",
      "  player_logs_concat = pd.concat(player_logs, ignore_index=True)\n"
     ]
    },
    {
     "name": "stdout",
     "output_type": "stream",
     "text": [
      "Fetching logs for player Justin Champagnie (ID: 1630551) for season 2020-21...\n",
      "Fetching logs for player Justin Champagnie (ID: 1630551) for season 2021-22...\n",
      "Fetching logs for player Justin Champagnie (ID: 1630551) for season 2022-23...\n",
      "Fetching logs for player Justin Champagnie (ID: 1630551) for season 2023-24...\n"
     ]
    },
    {
     "name": "stderr",
     "output_type": "stream",
     "text": [
      "C:\\Users\\jwag1\\AppData\\Local\\Temp\\ipykernel_32800\\3592326873.py:51: FutureWarning: The behavior of DataFrame concatenation with empty or all-NA entries is deprecated. In a future version, this will no longer exclude empty or all-NA columns when determining the result dtypes. To retain the old behavior, exclude the relevant entries before the concat operation.\n",
      "  player_logs_concat = pd.concat(player_logs, ignore_index=True)\n"
     ]
    },
    {
     "name": "stdout",
     "output_type": "stream",
     "text": [
      "Fetching logs for player Kennedy Chandler (ID: 1631113) for season 2020-21...\n",
      "Fetching logs for player Kennedy Chandler (ID: 1631113) for season 2021-22...\n",
      "Fetching logs for player Kennedy Chandler (ID: 1631113) for season 2022-23...\n",
      "Fetching logs for player Kennedy Chandler (ID: 1631113) for season 2023-24...\n"
     ]
    },
    {
     "name": "stderr",
     "output_type": "stream",
     "text": [
      "C:\\Users\\jwag1\\AppData\\Local\\Temp\\ipykernel_32800\\3592326873.py:51: FutureWarning: The behavior of DataFrame concatenation with empty or all-NA entries is deprecated. In a future version, this will no longer exclude empty or all-NA columns when determining the result dtypes. To retain the old behavior, exclude the relevant entries before the concat operation.\n",
      "  player_logs_concat = pd.concat(player_logs, ignore_index=True)\n"
     ]
    },
    {
     "name": "stdout",
     "output_type": "stream",
     "text": [
      "Fetching logs for player Zylan Cheatham (ID: 1629597) for season 2020-21...\n",
      "Fetching logs for player Zylan Cheatham (ID: 1629597) for season 2021-22...\n",
      "Fetching logs for player Zylan Cheatham (ID: 1629597) for season 2022-23...\n",
      "Fetching logs for player Zylan Cheatham (ID: 1629597) for season 2023-24...\n"
     ]
    },
    {
     "name": "stderr",
     "output_type": "stream",
     "text": [
      "C:\\Users\\jwag1\\AppData\\Local\\Temp\\ipykernel_32800\\3592326873.py:51: FutureWarning: The behavior of DataFrame concatenation with empty or all-NA entries is deprecated. In a future version, this will no longer exclude empty or all-NA columns when determining the result dtypes. To retain the old behavior, exclude the relevant entries before the concat operation.\n",
      "  player_logs_concat = pd.concat(player_logs, ignore_index=True)\n"
     ]
    },
    {
     "name": "stdout",
     "output_type": "stream",
     "text": [
      "Fetching logs for player Chris Chiozza (ID: 1629185) for season 2020-21...\n",
      "Fetching logs for player Chris Chiozza (ID: 1629185) for season 2021-22...\n",
      "Fetching logs for player Chris Chiozza (ID: 1629185) for season 2022-23...\n",
      "Fetching logs for player Chris Chiozza (ID: 1629185) for season 2023-24...\n"
     ]
    },
    {
     "name": "stderr",
     "output_type": "stream",
     "text": [
      "C:\\Users\\jwag1\\AppData\\Local\\Temp\\ipykernel_32800\\3592326873.py:51: FutureWarning: The behavior of DataFrame concatenation with empty or all-NA entries is deprecated. In a future version, this will no longer exclude empty or all-NA columns when determining the result dtypes. To retain the old behavior, exclude the relevant entries before the concat operation.\n",
      "  player_logs_concat = pd.concat(player_logs, ignore_index=True)\n"
     ]
    },
    {
     "name": "stdout",
     "output_type": "stream",
     "text": [
      "Fetching logs for player Marquese Chriss (ID: 1627737) for season 2020-21...\n",
      "Fetching logs for player Marquese Chriss (ID: 1627737) for season 2021-22...\n",
      "Fetching logs for player Marquese Chriss (ID: 1627737) for season 2022-23...\n",
      "Fetching logs for player Marquese Chriss (ID: 1627737) for season 2023-24...\n"
     ]
    },
    {
     "name": "stderr",
     "output_type": "stream",
     "text": [
      "C:\\Users\\jwag1\\AppData\\Local\\Temp\\ipykernel_32800\\3592326873.py:51: FutureWarning: The behavior of DataFrame concatenation with empty or all-NA entries is deprecated. In a future version, this will no longer exclude empty or all-NA columns when determining the result dtypes. To retain the old behavior, exclude the relevant entries before the concat operation.\n",
      "  player_logs_concat = pd.concat(player_logs, ignore_index=True)\n"
     ]
    },
    {
     "name": "stdout",
     "output_type": "stream",
     "text": [
      "Fetching logs for player Max Christie (ID: 1631108) for season 2020-21...\n",
      "Fetching logs for player Max Christie (ID: 1631108) for season 2021-22...\n",
      "Fetching logs for player Max Christie (ID: 1631108) for season 2022-23...\n",
      "Fetching logs for player Max Christie (ID: 1631108) for season 2023-24...\n"
     ]
    },
    {
     "name": "stderr",
     "output_type": "stream",
     "text": [
      "C:\\Users\\jwag1\\AppData\\Local\\Temp\\ipykernel_32800\\3592326873.py:51: FutureWarning: The behavior of DataFrame concatenation with empty or all-NA entries is deprecated. In a future version, this will no longer exclude empty or all-NA columns when determining the result dtypes. To retain the old behavior, exclude the relevant entries before the concat operation.\n",
      "  player_logs_concat = pd.concat(player_logs, ignore_index=True)\n"
     ]
    },
    {
     "name": "stdout",
     "output_type": "stream",
     "text": [
      "Fetching logs for player Josh Christopher (ID: 1630528) for season 2020-21...\n",
      "Fetching logs for player Josh Christopher (ID: 1630528) for season 2021-22...\n",
      "Fetching logs for player Josh Christopher (ID: 1630528) for season 2022-23...\n",
      "Fetching logs for player Josh Christopher (ID: 1630528) for season 2023-24...\n"
     ]
    },
    {
     "name": "stderr",
     "output_type": "stream",
     "text": [
      "C:\\Users\\jwag1\\AppData\\Local\\Temp\\ipykernel_32800\\3592326873.py:51: FutureWarning: The behavior of DataFrame concatenation with empty or all-NA entries is deprecated. In a future version, this will no longer exclude empty or all-NA columns when determining the result dtypes. To retain the old behavior, exclude the relevant entries before the concat operation.\n",
      "  player_logs_concat = pd.concat(player_logs, ignore_index=True)\n",
      "\r",
      " 17%|█▋        | 3/18 [05:24<27:01, 108.13s/it]"
     ]
    },
    {
     "name": "stdout",
     "output_type": "stream",
     "text": [
      "Processing batch 150 to 200...\n",
      "Fetching logs for player Sidy Cissoko (ID: 1631321) for season 2020-21...\n",
      "Fetching logs for player Sidy Cissoko (ID: 1631321) for season 2021-22...\n",
      "Fetching logs for player Sidy Cissoko (ID: 1631321) for season 2022-23...\n",
      "Fetching logs for player Sidy Cissoko (ID: 1631321) for season 2023-24...\n"
     ]
    },
    {
     "name": "stderr",
     "output_type": "stream",
     "text": [
      "C:\\Users\\jwag1\\AppData\\Local\\Temp\\ipykernel_32800\\3592326873.py:51: FutureWarning: The behavior of DataFrame concatenation with empty or all-NA entries is deprecated. In a future version, this will no longer exclude empty or all-NA columns when determining the result dtypes. To retain the old behavior, exclude the relevant entries before the concat operation.\n",
      "  player_logs_concat = pd.concat(player_logs, ignore_index=True)\n"
     ]
    },
    {
     "name": "stdout",
     "output_type": "stream",
     "text": [
      "Fetching logs for player Gary Clark (ID: 1629109) for season 2020-21...\n",
      "Fetching logs for player Gary Clark (ID: 1629109) for season 2021-22...\n",
      "Fetching logs for player Gary Clark (ID: 1629109) for season 2022-23...\n",
      "Fetching logs for player Gary Clark (ID: 1629109) for season 2023-24...\n"
     ]
    },
    {
     "name": "stderr",
     "output_type": "stream",
     "text": [
      "C:\\Users\\jwag1\\AppData\\Local\\Temp\\ipykernel_32800\\3592326873.py:51: FutureWarning: The behavior of DataFrame concatenation with empty or all-NA entries is deprecated. In a future version, this will no longer exclude empty or all-NA columns when determining the result dtypes. To retain the old behavior, exclude the relevant entries before the concat operation.\n",
      "  player_logs_concat = pd.concat(player_logs, ignore_index=True)\n"
     ]
    },
    {
     "name": "stdout",
     "output_type": "stream",
     "text": [
      "Fetching logs for player Jaylen Clark (ID: 1641740) for season 2020-21...\n",
      "Fetching logs for player Jaylen Clark (ID: 1641740) for season 2021-22...\n",
      "Fetching logs for player Jaylen Clark (ID: 1641740) for season 2022-23...\n",
      "Fetching logs for player Jaylen Clark (ID: 1641740) for season 2023-24...\n",
      "Fetching logs for player Brandon Clarke (ID: 1629634) for season 2020-21...\n",
      "Fetching logs for player Brandon Clarke (ID: 1629634) for season 2021-22...\n",
      "Fetching logs for player Brandon Clarke (ID: 1629634) for season 2022-23...\n",
      "Fetching logs for player Brandon Clarke (ID: 1629634) for season 2023-24...\n",
      "Fetching logs for player Jordan Clarkson (ID: 203903) for season 2020-21...\n",
      "Fetching logs for player Jordan Clarkson (ID: 203903) for season 2021-22...\n",
      "Fetching logs for player Jordan Clarkson (ID: 203903) for season 2022-23...\n",
      "Fetching logs for player Jordan Clarkson (ID: 203903) for season 2023-24...\n",
      "Fetching logs for player Nic Claxton (ID: 1629651) for season 2020-21...\n",
      "Fetching logs for player Nic Claxton (ID: 1629651) for season 2021-22...\n",
      "Fetching logs for player Nic Claxton (ID: 1629651) for season 2022-23...\n",
      "Fetching logs for player Nic Claxton (ID: 1629651) for season 2023-24...\n",
      "Fetching logs for player Noah Clowney (ID: 1641730) for season 2020-21...\n",
      "Fetching logs for player Noah Clowney (ID: 1641730) for season 2021-22...\n",
      "Fetching logs for player Noah Clowney (ID: 1641730) for season 2022-23...\n",
      "Fetching logs for player Noah Clowney (ID: 1641730) for season 2023-24...\n"
     ]
    },
    {
     "name": "stderr",
     "output_type": "stream",
     "text": [
      "C:\\Users\\jwag1\\AppData\\Local\\Temp\\ipykernel_32800\\3592326873.py:51: FutureWarning: The behavior of DataFrame concatenation with empty or all-NA entries is deprecated. In a future version, this will no longer exclude empty or all-NA columns when determining the result dtypes. To retain the old behavior, exclude the relevant entries before the concat operation.\n",
      "  player_logs_concat = pd.concat(player_logs, ignore_index=True)\n"
     ]
    },
    {
     "name": "stdout",
     "output_type": "stream",
     "text": [
      "Fetching logs for player Amir Coffey (ID: 1629599) for season 2020-21...\n",
      "Fetching logs for player Amir Coffey (ID: 1629599) for season 2021-22...\n",
      "Fetching logs for player Amir Coffey (ID: 1629599) for season 2022-23...\n",
      "Fetching logs for player Amir Coffey (ID: 1629599) for season 2023-24...\n",
      "Fetching logs for player John Collins (ID: 1628381) for season 2020-21...\n",
      "Fetching logs for player John Collins (ID: 1628381) for season 2021-22...\n",
      "Fetching logs for player John Collins (ID: 1628381) for season 2022-23...\n",
      "Fetching logs for player John Collins (ID: 1628381) for season 2023-24...\n",
      "Fetching logs for player Zach Collins (ID: 1628380) for season 2020-21...\n",
      "Fetching logs for player Zach Collins (ID: 1628380) for season 2021-22...\n",
      "Fetching logs for player Zach Collins (ID: 1628380) for season 2022-23...\n",
      "Fetching logs for player Zach Collins (ID: 1628380) for season 2023-24...\n"
     ]
    },
    {
     "name": "stderr",
     "output_type": "stream",
     "text": [
      "C:\\Users\\jwag1\\AppData\\Local\\Temp\\ipykernel_32800\\3592326873.py:51: FutureWarning: The behavior of DataFrame concatenation with empty or all-NA entries is deprecated. In a future version, this will no longer exclude empty or all-NA columns when determining the result dtypes. To retain the old behavior, exclude the relevant entries before the concat operation.\n",
      "  player_logs_concat = pd.concat(player_logs, ignore_index=True)\n"
     ]
    },
    {
     "name": "stdout",
     "output_type": "stream",
     "text": [
      "Fetching logs for player Darren Collison (ID: 201954) for season 2020-21...\n",
      "Fetching logs for player Darren Collison (ID: 201954) for season 2021-22...\n",
      "Fetching logs for player Darren Collison (ID: 201954) for season 2022-23...\n",
      "Fetching logs for player Darren Collison (ID: 201954) for season 2023-24...\n"
     ]
    },
    {
     "name": "stderr",
     "output_type": "stream",
     "text": [
      "C:\\Users\\jwag1\\AppData\\Local\\Temp\\ipykernel_32800\\3592326873.py:51: FutureWarning: The behavior of DataFrame concatenation with empty or all-NA entries is deprecated. In a future version, this will no longer exclude empty or all-NA columns when determining the result dtypes. To retain the old behavior, exclude the relevant entries before the concat operation.\n",
      "  player_logs_concat = pd.concat(player_logs, ignore_index=True)\n"
     ]
    },
    {
     "name": "stdout",
     "output_type": "stream",
     "text": [
      "Fetching logs for player Chance Comanche (ID: 1628435) for season 2020-21...\n",
      "Fetching logs for player Chance Comanche (ID: 1628435) for season 2021-22...\n",
      "Fetching logs for player Chance Comanche (ID: 1628435) for season 2022-23...\n",
      "Fetching logs for player Chance Comanche (ID: 1628435) for season 2023-24...\n"
     ]
    },
    {
     "name": "stderr",
     "output_type": "stream",
     "text": [
      "C:\\Users\\jwag1\\AppData\\Local\\Temp\\ipykernel_32800\\3592326873.py:51: FutureWarning: The behavior of DataFrame concatenation with empty or all-NA entries is deprecated. In a future version, this will no longer exclude empty or all-NA columns when determining the result dtypes. To retain the old behavior, exclude the relevant entries before the concat operation.\n",
      "  player_logs_concat = pd.concat(player_logs, ignore_index=True)\n"
     ]
    },
    {
     "name": "stdout",
     "output_type": "stream",
     "text": [
      "Fetching logs for player Mike Conley (ID: 201144) for season 2020-21...\n",
      "Fetching logs for player Mike Conley (ID: 201144) for season 2021-22...\n",
      "Fetching logs for player Mike Conley (ID: 201144) for season 2022-23...\n",
      "Fetching logs for player Mike Conley (ID: 201144) for season 2023-24...\n",
      "Fetching logs for player Pat Connaughton (ID: 1626192) for season 2020-21...\n",
      "Fetching logs for player Pat Connaughton (ID: 1626192) for season 2021-22...\n",
      "Fetching logs for player Pat Connaughton (ID: 1626192) for season 2022-23...\n",
      "Fetching logs for player Pat Connaughton (ID: 1626192) for season 2023-24...\n",
      "Fetching logs for player Quinn Cook (ID: 1626188) for season 2020-21...\n",
      "Fetching logs for player Quinn Cook (ID: 1626188) for season 2021-22...\n",
      "Fetching logs for player Quinn Cook (ID: 1626188) for season 2022-23...\n",
      "Fetching logs for player Quinn Cook (ID: 1626188) for season 2023-24...\n"
     ]
    },
    {
     "name": "stderr",
     "output_type": "stream",
     "text": [
      "C:\\Users\\jwag1\\AppData\\Local\\Temp\\ipykernel_32800\\3592326873.py:51: FutureWarning: The behavior of DataFrame concatenation with empty or all-NA entries is deprecated. In a future version, this will no longer exclude empty or all-NA columns when determining the result dtypes. To retain the old behavior, exclude the relevant entries before the concat operation.\n",
      "  player_logs_concat = pd.concat(player_logs, ignore_index=True)\n"
     ]
    },
    {
     "name": "stdout",
     "output_type": "stream",
     "text": [
      "Fetching logs for player Tyler Cook (ID: 1629076) for season 2020-21...\n",
      "Fetching logs for player Tyler Cook (ID: 1629076) for season 2021-22...\n",
      "Fetching logs for player Tyler Cook (ID: 1629076) for season 2022-23...\n",
      "Fetching logs for player Tyler Cook (ID: 1629076) for season 2023-24...\n"
     ]
    },
    {
     "name": "stderr",
     "output_type": "stream",
     "text": [
      "C:\\Users\\jwag1\\AppData\\Local\\Temp\\ipykernel_32800\\3592326873.py:51: FutureWarning: The behavior of DataFrame concatenation with empty or all-NA entries is deprecated. In a future version, this will no longer exclude empty or all-NA columns when determining the result dtypes. To retain the old behavior, exclude the relevant entries before the concat operation.\n",
      "  player_logs_concat = pd.concat(player_logs, ignore_index=True)\n"
     ]
    },
    {
     "name": "stdout",
     "output_type": "stream",
     "text": [
      "Fetching logs for player Xavier Cooks (ID: 1641645) for season 2020-21...\n",
      "Fetching logs for player Xavier Cooks (ID: 1641645) for season 2021-22...\n",
      "Fetching logs for player Xavier Cooks (ID: 1641645) for season 2022-23...\n",
      "Fetching logs for player Xavier Cooks (ID: 1641645) for season 2023-24...\n"
     ]
    },
    {
     "name": "stderr",
     "output_type": "stream",
     "text": [
      "C:\\Users\\jwag1\\AppData\\Local\\Temp\\ipykernel_32800\\3592326873.py:51: FutureWarning: The behavior of DataFrame concatenation with empty or all-NA entries is deprecated. In a future version, this will no longer exclude empty or all-NA columns when determining the result dtypes. To retain the old behavior, exclude the relevant entries before the concat operation.\n",
      "  player_logs_concat = pd.concat(player_logs, ignore_index=True)\n"
     ]
    },
    {
     "name": "stdout",
     "output_type": "stream",
     "text": [
      "Fetching logs for player Sharife Cooper (ID: 1630536) for season 2020-21...\n",
      "Fetching logs for player Sharife Cooper (ID: 1630536) for season 2021-22...\n",
      "Fetching logs for player Sharife Cooper (ID: 1630536) for season 2022-23...\n",
      "Fetching logs for player Sharife Cooper (ID: 1630536) for season 2023-24...\n"
     ]
    },
    {
     "name": "stderr",
     "output_type": "stream",
     "text": [
      "C:\\Users\\jwag1\\AppData\\Local\\Temp\\ipykernel_32800\\3592326873.py:51: FutureWarning: The behavior of DataFrame concatenation with empty or all-NA entries is deprecated. In a future version, this will no longer exclude empty or all-NA columns when determining the result dtypes. To retain the old behavior, exclude the relevant entries before the concat operation.\n",
      "  player_logs_concat = pd.concat(player_logs, ignore_index=True)\n"
     ]
    },
    {
     "name": "stdout",
     "output_type": "stream",
     "text": [
      "Fetching logs for player Petr Cornelie (ID: 1627822) for season 2020-21...\n",
      "Fetching logs for player Petr Cornelie (ID: 1627822) for season 2021-22...\n",
      "Fetching logs for player Petr Cornelie (ID: 1627822) for season 2022-23...\n",
      "Fetching logs for player Petr Cornelie (ID: 1627822) for season 2023-24...\n"
     ]
    },
    {
     "name": "stderr",
     "output_type": "stream",
     "text": [
      "C:\\Users\\jwag1\\AppData\\Local\\Temp\\ipykernel_32800\\3592326873.py:51: FutureWarning: The behavior of DataFrame concatenation with empty or all-NA entries is deprecated. In a future version, this will no longer exclude empty or all-NA columns when determining the result dtypes. To retain the old behavior, exclude the relevant entries before the concat operation.\n",
      "  player_logs_concat = pd.concat(player_logs, ignore_index=True)\n"
     ]
    },
    {
     "name": "stdout",
     "output_type": "stream",
     "text": [
      "Fetching logs for player Bilal Coulibaly (ID: 1641731) for season 2020-21...\n",
      "Fetching logs for player Bilal Coulibaly (ID: 1641731) for season 2021-22...\n",
      "Fetching logs for player Bilal Coulibaly (ID: 1641731) for season 2022-23...\n",
      "Fetching logs for player Bilal Coulibaly (ID: 1641731) for season 2023-24...\n"
     ]
    },
    {
     "name": "stderr",
     "output_type": "stream",
     "text": [
      "C:\\Users\\jwag1\\AppData\\Local\\Temp\\ipykernel_32800\\3592326873.py:51: FutureWarning: The behavior of DataFrame concatenation with empty or all-NA entries is deprecated. In a future version, this will no longer exclude empty or all-NA columns when determining the result dtypes. To retain the old behavior, exclude the relevant entries before the concat operation.\n",
      "  player_logs_concat = pd.concat(player_logs, ignore_index=True)\n"
     ]
    },
    {
     "name": "stdout",
     "output_type": "stream",
     "text": [
      "Fetching logs for player Ricky Council IV (ID: 1641741) for season 2020-21...\n",
      "Fetching logs for player Ricky Council IV (ID: 1641741) for season 2021-22...\n",
      "Fetching logs for player Ricky Council IV (ID: 1641741) for season 2022-23...\n",
      "Fetching logs for player Ricky Council IV (ID: 1641741) for season 2023-24...\n"
     ]
    },
    {
     "name": "stderr",
     "output_type": "stream",
     "text": [
      "C:\\Users\\jwag1\\AppData\\Local\\Temp\\ipykernel_32800\\3592326873.py:51: FutureWarning: The behavior of DataFrame concatenation with empty or all-NA entries is deprecated. In a future version, this will no longer exclude empty or all-NA columns when determining the result dtypes. To retain the old behavior, exclude the relevant entries before the concat operation.\n",
      "  player_logs_concat = pd.concat(player_logs, ignore_index=True)\n"
     ]
    },
    {
     "name": "stdout",
     "output_type": "stream",
     "text": [
      "Fetching logs for player DeMarcus Cousins (ID: 202326) for season 2020-21...\n",
      "Fetching logs for player DeMarcus Cousins (ID: 202326) for season 2021-22...\n",
      "Fetching logs for player DeMarcus Cousins (ID: 202326) for season 2022-23...\n",
      "Fetching logs for player DeMarcus Cousins (ID: 202326) for season 2023-24...\n"
     ]
    },
    {
     "name": "stderr",
     "output_type": "stream",
     "text": [
      "C:\\Users\\jwag1\\AppData\\Local\\Temp\\ipykernel_32800\\3592326873.py:51: FutureWarning: The behavior of DataFrame concatenation with empty or all-NA entries is deprecated. In a future version, this will no longer exclude empty or all-NA columns when determining the result dtypes. To retain the old behavior, exclude the relevant entries before the concat operation.\n",
      "  player_logs_concat = pd.concat(player_logs, ignore_index=True)\n"
     ]
    },
    {
     "name": "stdout",
     "output_type": "stream",
     "text": [
      "Fetching logs for player Robert Covington (ID: 203496) for season 2020-21...\n",
      "Fetching logs for player Robert Covington (ID: 203496) for season 2021-22...\n",
      "Fetching logs for player Robert Covington (ID: 203496) for season 2022-23...\n",
      "Fetching logs for player Robert Covington (ID: 203496) for season 2023-24...\n",
      "Fetching logs for player Torrey Craig (ID: 1628470) for season 2020-21...\n",
      "Fetching logs for player Torrey Craig (ID: 1628470) for season 2021-22...\n",
      "Fetching logs for player Torrey Craig (ID: 1628470) for season 2022-23...\n",
      "Fetching logs for player Torrey Craig (ID: 1628470) for season 2023-24...\n",
      "Fetching logs for player Jae Crowder (ID: 203109) for season 2020-21...\n",
      "Fetching logs for player Jae Crowder (ID: 203109) for season 2021-22...\n",
      "Fetching logs for player Jae Crowder (ID: 203109) for season 2022-23...\n",
      "Fetching logs for player Jae Crowder (ID: 203109) for season 2023-24...\n",
      "Fetching logs for player Jalen Crutcher (ID: 1630622) for season 2020-21...\n",
      "Fetching logs for player Jalen Crutcher (ID: 1630622) for season 2021-22...\n",
      "Fetching logs for player Jalen Crutcher (ID: 1630622) for season 2022-23...\n",
      "Fetching logs for player Jalen Crutcher (ID: 1630622) for season 2023-24...\n"
     ]
    },
    {
     "name": "stderr",
     "output_type": "stream",
     "text": [
      "C:\\Users\\jwag1\\AppData\\Local\\Temp\\ipykernel_32800\\3592326873.py:51: FutureWarning: The behavior of DataFrame concatenation with empty or all-NA entries is deprecated. In a future version, this will no longer exclude empty or all-NA columns when determining the result dtypes. To retain the old behavior, exclude the relevant entries before the concat operation.\n",
      "  player_logs_concat = pd.concat(player_logs, ignore_index=True)\n"
     ]
    },
    {
     "name": "stdout",
     "output_type": "stream",
     "text": [
      "Fetching logs for player Jarrett Culver (ID: 1629633) for season 2020-21...\n",
      "Fetching logs for player Jarrett Culver (ID: 1629633) for season 2021-22...\n",
      "Fetching logs for player Jarrett Culver (ID: 1629633) for season 2022-23...\n",
      "Fetching logs for player Jarrett Culver (ID: 1629633) for season 2023-24...\n"
     ]
    },
    {
     "name": "stderr",
     "output_type": "stream",
     "text": [
      "C:\\Users\\jwag1\\AppData\\Local\\Temp\\ipykernel_32800\\3592326873.py:51: FutureWarning: The behavior of DataFrame concatenation with empty or all-NA entries is deprecated. In a future version, this will no longer exclude empty or all-NA columns when determining the result dtypes. To retain the old behavior, exclude the relevant entries before the concat operation.\n",
      "  player_logs_concat = pd.concat(player_logs, ignore_index=True)\n"
     ]
    },
    {
     "name": "stdout",
     "output_type": "stream",
     "text": [
      "Fetching logs for player Jarron Cumberland (ID: 1629600) for season 2020-21...\n",
      "Fetching logs for player Jarron Cumberland (ID: 1629600) for season 2021-22...\n",
      "Fetching logs for player Jarron Cumberland (ID: 1629600) for season 2022-23...\n",
      "Fetching logs for player Jarron Cumberland (ID: 1629600) for season 2023-24...\n"
     ]
    },
    {
     "name": "stderr",
     "output_type": "stream",
     "text": [
      "C:\\Users\\jwag1\\AppData\\Local\\Temp\\ipykernel_32800\\3592326873.py:51: FutureWarning: The behavior of DataFrame concatenation with empty or all-NA entries is deprecated. In a future version, this will no longer exclude empty or all-NA columns when determining the result dtypes. To retain the old behavior, exclude the relevant entries before the concat operation.\n",
      "  player_logs_concat = pd.concat(player_logs, ignore_index=True)\n"
     ]
    },
    {
     "name": "stdout",
     "output_type": "stream",
     "text": [
      "Fetching logs for player Cade Cunningham (ID: 1630595) for season 2020-21...\n",
      "Fetching logs for player Cade Cunningham (ID: 1630595) for season 2021-22...\n",
      "Fetching logs for player Cade Cunningham (ID: 1630595) for season 2022-23...\n",
      "Fetching logs for player Cade Cunningham (ID: 1630595) for season 2023-24...\n"
     ]
    },
    {
     "name": "stderr",
     "output_type": "stream",
     "text": [
      "C:\\Users\\jwag1\\AppData\\Local\\Temp\\ipykernel_32800\\3592326873.py:51: FutureWarning: The behavior of DataFrame concatenation with empty or all-NA entries is deprecated. In a future version, this will no longer exclude empty or all-NA columns when determining the result dtypes. To retain the old behavior, exclude the relevant entries before the concat operation.\n",
      "  player_logs_concat = pd.concat(player_logs, ignore_index=True)\n"
     ]
    },
    {
     "name": "stdout",
     "output_type": "stream",
     "text": [
      "Fetching logs for player Seth Curry (ID: 203552) for season 2020-21...\n",
      "Fetching logs for player Seth Curry (ID: 203552) for season 2021-22...\n",
      "Fetching logs for player Seth Curry (ID: 203552) for season 2022-23...\n",
      "Fetching logs for player Seth Curry (ID: 203552) for season 2023-24...\n",
      "Fetching logs for player Stephen Curry (ID: 201939) for season 2020-21...\n",
      "Fetching logs for player Stephen Curry (ID: 201939) for season 2021-22...\n",
      "Fetching logs for player Stephen Curry (ID: 201939) for season 2022-23...\n",
      "Fetching logs for player Stephen Curry (ID: 201939) for season 2023-24...\n",
      "Fetching logs for player Dyson Daniels (ID: 1630700) for season 2020-21...\n",
      "Fetching logs for player Dyson Daniels (ID: 1630700) for season 2021-22...\n",
      "Fetching logs for player Dyson Daniels (ID: 1630700) for season 2022-23...\n",
      "Fetching logs for player Dyson Daniels (ID: 1630700) for season 2023-24...\n"
     ]
    },
    {
     "name": "stderr",
     "output_type": "stream",
     "text": [
      "C:\\Users\\jwag1\\AppData\\Local\\Temp\\ipykernel_32800\\3592326873.py:51: FutureWarning: The behavior of DataFrame concatenation with empty or all-NA entries is deprecated. In a future version, this will no longer exclude empty or all-NA columns when determining the result dtypes. To retain the old behavior, exclude the relevant entries before the concat operation.\n",
      "  player_logs_concat = pd.concat(player_logs, ignore_index=True)\n"
     ]
    },
    {
     "name": "stdout",
     "output_type": "stream",
     "text": [
      "Fetching logs for player Nate Darling (ID: 1630268) for season 2020-21...\n",
      "Fetching logs for player Nate Darling (ID: 1630268) for season 2021-22...\n",
      "Fetching logs for player Nate Darling (ID: 1630268) for season 2022-23...\n",
      "Fetching logs for player Nate Darling (ID: 1630268) for season 2023-24...\n"
     ]
    },
    {
     "name": "stderr",
     "output_type": "stream",
     "text": [
      "C:\\Users\\jwag1\\AppData\\Local\\Temp\\ipykernel_32800\\3592326873.py:51: FutureWarning: The behavior of DataFrame concatenation with empty or all-NA entries is deprecated. In a future version, this will no longer exclude empty or all-NA columns when determining the result dtypes. To retain the old behavior, exclude the relevant entries before the concat operation.\n",
      "  player_logs_concat = pd.concat(player_logs, ignore_index=True)\n"
     ]
    },
    {
     "name": "stdout",
     "output_type": "stream",
     "text": [
      "Fetching logs for player Anthony Davis (ID: 203076) for season 2020-21...\n",
      "Fetching logs for player Anthony Davis (ID: 203076) for season 2021-22...\n",
      "Fetching logs for player Anthony Davis (ID: 203076) for season 2022-23...\n",
      "Fetching logs for player Anthony Davis (ID: 203076) for season 2023-24...\n",
      "Fetching logs for player Ed Davis (ID: 202334) for season 2020-21...\n",
      "Fetching logs for player Ed Davis (ID: 202334) for season 2021-22...\n",
      "Fetching logs for player Ed Davis (ID: 202334) for season 2022-23...\n",
      "Fetching logs for player Ed Davis (ID: 202334) for season 2023-24...\n"
     ]
    },
    {
     "name": "stderr",
     "output_type": "stream",
     "text": [
      "C:\\Users\\jwag1\\AppData\\Local\\Temp\\ipykernel_32800\\3592326873.py:51: FutureWarning: The behavior of DataFrame concatenation with empty or all-NA entries is deprecated. In a future version, this will no longer exclude empty or all-NA columns when determining the result dtypes. To retain the old behavior, exclude the relevant entries before the concat operation.\n",
      "  player_logs_concat = pd.concat(player_logs, ignore_index=True)\n"
     ]
    },
    {
     "name": "stdout",
     "output_type": "stream",
     "text": [
      "Fetching logs for player Johnny Davis (ID: 1631098) for season 2020-21...\n",
      "Fetching logs for player Johnny Davis (ID: 1631098) for season 2021-22...\n",
      "Fetching logs for player Johnny Davis (ID: 1631098) for season 2022-23...\n",
      "Fetching logs for player Johnny Davis (ID: 1631098) for season 2023-24...\n"
     ]
    },
    {
     "name": "stderr",
     "output_type": "stream",
     "text": [
      "C:\\Users\\jwag1\\AppData\\Local\\Temp\\ipykernel_32800\\3592326873.py:51: FutureWarning: The behavior of DataFrame concatenation with empty or all-NA entries is deprecated. In a future version, this will no longer exclude empty or all-NA columns when determining the result dtypes. To retain the old behavior, exclude the relevant entries before the concat operation.\n",
      "  player_logs_concat = pd.concat(player_logs, ignore_index=True)\n"
     ]
    },
    {
     "name": "stdout",
     "output_type": "stream",
     "text": [
      "Fetching logs for player Terence Davis (ID: 1629056) for season 2020-21...\n",
      "Fetching logs for player Terence Davis (ID: 1629056) for season 2021-22...\n",
      "Fetching logs for player Terence Davis (ID: 1629056) for season 2022-23...\n",
      "Fetching logs for player Terence Davis (ID: 1629056) for season 2023-24...\n"
     ]
    },
    {
     "name": "stderr",
     "output_type": "stream",
     "text": [
      "C:\\Users\\jwag1\\AppData\\Local\\Temp\\ipykernel_32800\\3592326873.py:51: FutureWarning: The behavior of DataFrame concatenation with empty or all-NA entries is deprecated. In a future version, this will no longer exclude empty or all-NA columns when determining the result dtypes. To retain the old behavior, exclude the relevant entries before the concat operation.\n",
      "  player_logs_concat = pd.concat(player_logs, ignore_index=True)\n"
     ]
    },
    {
     "name": "stdout",
     "output_type": "stream",
     "text": [
      "Fetching logs for player JD Davison (ID: 1631120) for season 2020-21...\n",
      "Fetching logs for player JD Davison (ID: 1631120) for season 2021-22...\n",
      "Fetching logs for player JD Davison (ID: 1631120) for season 2022-23...\n",
      "Fetching logs for player JD Davison (ID: 1631120) for season 2023-24...\n"
     ]
    },
    {
     "name": "stderr",
     "output_type": "stream",
     "text": [
      "C:\\Users\\jwag1\\AppData\\Local\\Temp\\ipykernel_32800\\3592326873.py:51: FutureWarning: The behavior of DataFrame concatenation with empty or all-NA entries is deprecated. In a future version, this will no longer exclude empty or all-NA columns when determining the result dtypes. To retain the old behavior, exclude the relevant entries before the concat operation.\n",
      "  player_logs_concat = pd.concat(player_logs, ignore_index=True)\n"
     ]
    },
    {
     "name": "stdout",
     "output_type": "stream",
     "text": [
      "Fetching logs for player Darius Days (ID: 1630620) for season 2020-21...\n",
      "Fetching logs for player Darius Days (ID: 1630620) for season 2021-22...\n",
      "Fetching logs for player Darius Days (ID: 1630620) for season 2022-23...\n",
      "Fetching logs for player Darius Days (ID: 1630620) for season 2023-24...\n"
     ]
    },
    {
     "name": "stderr",
     "output_type": "stream",
     "text": [
      "C:\\Users\\jwag1\\AppData\\Local\\Temp\\ipykernel_32800\\3592326873.py:51: FutureWarning: The behavior of DataFrame concatenation with empty or all-NA entries is deprecated. In a future version, this will no longer exclude empty or all-NA columns when determining the result dtypes. To retain the old behavior, exclude the relevant entries before the concat operation.\n",
      "  player_logs_concat = pd.concat(player_logs, ignore_index=True)\n"
     ]
    },
    {
     "name": "stdout",
     "output_type": "stream",
     "text": [
      "Fetching logs for player Javin DeLaurier (ID: 1629602) for season 2020-21...\n",
      "Fetching logs for player Javin DeLaurier (ID: 1629602) for season 2021-22...\n",
      "Fetching logs for player Javin DeLaurier (ID: 1629602) for season 2022-23...\n",
      "Fetching logs for player Javin DeLaurier (ID: 1629602) for season 2023-24...\n"
     ]
    },
    {
     "name": "stderr",
     "output_type": "stream",
     "text": [
      "C:\\Users\\jwag1\\AppData\\Local\\Temp\\ipykernel_32800\\3592326873.py:51: FutureWarning: The behavior of DataFrame concatenation with empty or all-NA entries is deprecated. In a future version, this will no longer exclude empty or all-NA columns when determining the result dtypes. To retain the old behavior, exclude the relevant entries before the concat operation.\n",
      "  player_logs_concat = pd.concat(player_logs, ignore_index=True)\n"
     ]
    },
    {
     "name": "stdout",
     "output_type": "stream",
     "text": [
      "Fetching logs for player DeMar DeRozan (ID: 201942) for season 2020-21...\n",
      "Fetching logs for player DeMar DeRozan (ID: 201942) for season 2021-22...\n",
      "Fetching logs for player DeMar DeRozan (ID: 201942) for season 2022-23...\n",
      "Fetching logs for player DeMar DeRozan (ID: 201942) for season 2023-24...\n",
      "Fetching logs for player Gabriel Deck (ID: 1630466) for season 2020-21...\n",
      "Fetching logs for player Gabriel Deck (ID: 1630466) for season 2021-22...\n",
      "Fetching logs for player Gabriel Deck (ID: 1630466) for season 2022-23...\n",
      "Fetching logs for player Gabriel Deck (ID: 1630466) for season 2023-24...\n"
     ]
    },
    {
     "name": "stderr",
     "output_type": "stream",
     "text": [
      "C:\\Users\\jwag1\\AppData\\Local\\Temp\\ipykernel_32800\\3592326873.py:51: FutureWarning: The behavior of DataFrame concatenation with empty or all-NA entries is deprecated. In a future version, this will no longer exclude empty or all-NA columns when determining the result dtypes. To retain the old behavior, exclude the relevant entries before the concat operation.\n",
      "  player_logs_concat = pd.concat(player_logs, ignore_index=True)\n"
     ]
    },
    {
     "name": "stdout",
     "output_type": "stream",
     "text": [
      "Fetching logs for player Dewayne Dedmon (ID: 203473) for season 2020-21...\n",
      "Fetching logs for player Dewayne Dedmon (ID: 203473) for season 2021-22...\n",
      "Fetching logs for player Dewayne Dedmon (ID: 203473) for season 2022-23...\n",
      "Fetching logs for player Dewayne Dedmon (ID: 203473) for season 2023-24...\n"
     ]
    },
    {
     "name": "stderr",
     "output_type": "stream",
     "text": [
      "C:\\Users\\jwag1\\AppData\\Local\\Temp\\ipykernel_32800\\3592326873.py:51: FutureWarning: The behavior of DataFrame concatenation with empty or all-NA entries is deprecated. In a future version, this will no longer exclude empty or all-NA columns when determining the result dtypes. To retain the old behavior, exclude the relevant entries before the concat operation.\n",
      "  player_logs_concat = pd.concat(player_logs, ignore_index=True)\n"
     ]
    },
    {
     "name": "stdout",
     "output_type": "stream",
     "text": [
      "Fetching logs for player Sam Dekker (ID: 1626155) for season 2020-21...\n",
      "Fetching logs for player Sam Dekker (ID: 1626155) for season 2021-22...\n",
      "Fetching logs for player Sam Dekker (ID: 1626155) for season 2022-23...\n",
      "Fetching logs for player Sam Dekker (ID: 1626155) for season 2023-24...\n"
     ]
    },
    {
     "name": "stderr",
     "output_type": "stream",
     "text": [
      "C:\\Users\\jwag1\\AppData\\Local\\Temp\\ipykernel_32800\\3592326873.py:51: FutureWarning: The behavior of DataFrame concatenation with empty or all-NA entries is deprecated. In a future version, this will no longer exclude empty or all-NA columns when determining the result dtypes. To retain the old behavior, exclude the relevant entries before the concat operation.\n",
      "  player_logs_concat = pd.concat(player_logs, ignore_index=True)\n"
     ]
    },
    {
     "name": "stdout",
     "output_type": "stream",
     "text": [
      "Fetching logs for player Matthew Dellavedova (ID: 203521) for season 2020-21...\n",
      "Fetching logs for player Matthew Dellavedova (ID: 203521) for season 2021-22...\n",
      "Fetching logs for player Matthew Dellavedova (ID: 203521) for season 2022-23...\n",
      "Fetching logs for player Matthew Dellavedova (ID: 203521) for season 2023-24...\n"
     ]
    },
    {
     "name": "stderr",
     "output_type": "stream",
     "text": [
      "C:\\Users\\jwag1\\AppData\\Local\\Temp\\ipykernel_32800\\3592326873.py:51: FutureWarning: The behavior of DataFrame concatenation with empty or all-NA entries is deprecated. In a future version, this will no longer exclude empty or all-NA columns when determining the result dtypes. To retain the old behavior, exclude the relevant entries before the concat operation.\n",
      "  player_logs_concat = pd.concat(player_logs, ignore_index=True)\n"
     ]
    },
    {
     "name": "stdout",
     "output_type": "stream",
     "text": [
      "Fetching logs for player Dexter Dennis (ID: 1641926) for season 2020-21...\n",
      "Fetching logs for player Dexter Dennis (ID: 1641926) for season 2021-22...\n",
      "Fetching logs for player Dexter Dennis (ID: 1641926) for season 2022-23...\n",
      "Fetching logs for player Dexter Dennis (ID: 1641926) for season 2023-24...\n"
     ]
    },
    {
     "name": "stderr",
     "output_type": "stream",
     "text": [
      "C:\\Users\\jwag1\\AppData\\Local\\Temp\\ipykernel_32800\\3592326873.py:51: FutureWarning: The behavior of DataFrame concatenation with empty or all-NA entries is deprecated. In a future version, this will no longer exclude empty or all-NA columns when determining the result dtypes. To retain the old behavior, exclude the relevant entries before the concat operation.\n",
      "  player_logs_concat = pd.concat(player_logs, ignore_index=True)\n"
     ]
    },
    {
     "name": "stdout",
     "output_type": "stream",
     "text": [
      "Fetching logs for player Donte DiVincenzo (ID: 1628978) for season 2020-21...\n",
      "Fetching logs for player Donte DiVincenzo (ID: 1628978) for season 2021-22...\n",
      "Fetching logs for player Donte DiVincenzo (ID: 1628978) for season 2022-23...\n",
      "Fetching logs for player Donte DiVincenzo (ID: 1628978) for season 2023-24...\n",
      "Fetching logs for player Moussa Diabate (ID: 1631217) for season 2020-21...\n",
      "Fetching logs for player Moussa Diabate (ID: 1631217) for season 2021-22...\n",
      "Fetching logs for player Moussa Diabate (ID: 1631217) for season 2022-23...\n",
      "Fetching logs for player Moussa Diabate (ID: 1631217) for season 2023-24...\n"
     ]
    },
    {
     "name": "stderr",
     "output_type": "stream",
     "text": [
      "C:\\Users\\jwag1\\AppData\\Local\\Temp\\ipykernel_32800\\3592326873.py:51: FutureWarning: The behavior of DataFrame concatenation with empty or all-NA entries is deprecated. In a future version, this will no longer exclude empty or all-NA columns when determining the result dtypes. To retain the old behavior, exclude the relevant entries before the concat operation.\n",
      "  player_logs_concat = pd.concat(player_logs, ignore_index=True)\n"
     ]
    },
    {
     "name": "stdout",
     "output_type": "stream",
     "text": [
      "Fetching logs for player Mamadi Diakite (ID: 1629603) for season 2020-21...\n",
      "Fetching logs for player Mamadi Diakite (ID: 1629603) for season 2021-22...\n",
      "Fetching logs for player Mamadi Diakite (ID: 1629603) for season 2022-23...\n",
      "Fetching logs for player Mamadi Diakite (ID: 1629603) for season 2023-24...\n",
      "Fetching logs for player Cheick Diallo (ID: 1627767) for season 2020-21...\n",
      "Fetching logs for player Cheick Diallo (ID: 1627767) for season 2021-22...\n",
      "Fetching logs for player Cheick Diallo (ID: 1627767) for season 2022-23...\n",
      "Fetching logs for player Cheick Diallo (ID: 1627767) for season 2023-24...\n"
     ]
    },
    {
     "name": "stderr",
     "output_type": "stream",
     "text": [
      "C:\\Users\\jwag1\\AppData\\Local\\Temp\\ipykernel_32800\\3592326873.py:51: FutureWarning: The behavior of DataFrame concatenation with empty or all-NA entries is deprecated. In a future version, this will no longer exclude empty or all-NA columns when determining the result dtypes. To retain the old behavior, exclude the relevant entries before the concat operation.\n",
      "  player_logs_concat = pd.concat(player_logs, ignore_index=True)\n",
      "\r",
      " 22%|██▏       | 4/18 [07:11<25:09, 107.81s/it]"
     ]
    },
    {
     "name": "stdout",
     "output_type": "stream",
     "text": [
      "Processing batch 200 to 250...\n",
      "Fetching logs for player Hamidou Diallo (ID: 1628977) for season 2020-21...\n",
      "Fetching logs for player Hamidou Diallo (ID: 1628977) for season 2021-22...\n",
      "Fetching logs for player Hamidou Diallo (ID: 1628977) for season 2022-23...\n",
      "Fetching logs for player Hamidou Diallo (ID: 1628977) for season 2023-24...\n",
      "Fetching logs for player Gradey Dick (ID: 1641711) for season 2020-21...\n",
      "Fetching logs for player Gradey Dick (ID: 1641711) for season 2021-22...\n",
      "Fetching logs for player Gradey Dick (ID: 1641711) for season 2022-23...\n",
      "Fetching logs for player Gradey Dick (ID: 1641711) for season 2023-24...\n"
     ]
    },
    {
     "name": "stderr",
     "output_type": "stream",
     "text": [
      "C:\\Users\\jwag1\\AppData\\Local\\Temp\\ipykernel_32800\\3592326873.py:51: FutureWarning: The behavior of DataFrame concatenation with empty or all-NA entries is deprecated. In a future version, this will no longer exclude empty or all-NA columns when determining the result dtypes. To retain the old behavior, exclude the relevant entries before the concat operation.\n",
      "  player_logs_concat = pd.concat(player_logs, ignore_index=True)\n"
     ]
    },
    {
     "name": "stdout",
     "output_type": "stream",
     "text": [
      "Fetching logs for player Gorgui Dieng (ID: 203476) for season 2020-21...\n",
      "Fetching logs for player Gorgui Dieng (ID: 203476) for season 2021-22...\n",
      "Fetching logs for player Gorgui Dieng (ID: 203476) for season 2022-23...\n",
      "Fetching logs for player Gorgui Dieng (ID: 203476) for season 2023-24...\n"
     ]
    },
    {
     "name": "stderr",
     "output_type": "stream",
     "text": [
      "C:\\Users\\jwag1\\AppData\\Local\\Temp\\ipykernel_32800\\3592326873.py:51: FutureWarning: The behavior of DataFrame concatenation with empty or all-NA entries is deprecated. In a future version, this will no longer exclude empty or all-NA columns when determining the result dtypes. To retain the old behavior, exclude the relevant entries before the concat operation.\n",
      "  player_logs_concat = pd.concat(player_logs, ignore_index=True)\n"
     ]
    },
    {
     "name": "stdout",
     "output_type": "stream",
     "text": [
      "Fetching logs for player Ousmane Dieng (ID: 1631172) for season 2020-21...\n",
      "Fetching logs for player Ousmane Dieng (ID: 1631172) for season 2021-22...\n",
      "Fetching logs for player Ousmane Dieng (ID: 1631172) for season 2022-23...\n",
      "Fetching logs for player Ousmane Dieng (ID: 1631172) for season 2023-24...\n"
     ]
    },
    {
     "name": "stderr",
     "output_type": "stream",
     "text": [
      "C:\\Users\\jwag1\\AppData\\Local\\Temp\\ipykernel_32800\\3592326873.py:51: FutureWarning: The behavior of DataFrame concatenation with empty or all-NA entries is deprecated. In a future version, this will no longer exclude empty or all-NA columns when determining the result dtypes. To retain the old behavior, exclude the relevant entries before the concat operation.\n",
      "  player_logs_concat = pd.concat(player_logs, ignore_index=True)\n"
     ]
    },
    {
     "name": "stdout",
     "output_type": "stream",
     "text": [
      "Fetching logs for player Spencer Dinwiddie (ID: 203915) for season 2020-21...\n",
      "Fetching logs for player Spencer Dinwiddie (ID: 203915) for season 2021-22...\n",
      "Fetching logs for player Spencer Dinwiddie (ID: 203915) for season 2022-23...\n",
      "Fetching logs for player Spencer Dinwiddie (ID: 203915) for season 2023-24...\n",
      "Fetching logs for player Luka Doncic (ID: 1629029) for season 2020-21...\n",
      "Fetching logs for player Luka Doncic (ID: 1629029) for season 2021-22...\n",
      "Fetching logs for player Luka Doncic (ID: 1629029) for season 2022-23...\n",
      "Fetching logs for player Luka Doncic (ID: 1629029) for season 2023-24...\n",
      "Fetching logs for player Tyler Dorsey (ID: 1628416) for season 2020-21...\n",
      "Fetching logs for player Tyler Dorsey (ID: 1628416) for season 2021-22...\n",
      "Fetching logs for player Tyler Dorsey (ID: 1628416) for season 2022-23...\n",
      "Fetching logs for player Tyler Dorsey (ID: 1628416) for season 2023-24...\n"
     ]
    },
    {
     "name": "stderr",
     "output_type": "stream",
     "text": [
      "C:\\Users\\jwag1\\AppData\\Local\\Temp\\ipykernel_32800\\3592326873.py:51: FutureWarning: The behavior of DataFrame concatenation with empty or all-NA entries is deprecated. In a future version, this will no longer exclude empty or all-NA columns when determining the result dtypes. To retain the old behavior, exclude the relevant entries before the concat operation.\n",
      "  player_logs_concat = pd.concat(player_logs, ignore_index=True)\n"
     ]
    },
    {
     "name": "stdout",
     "output_type": "stream",
     "text": [
      "Fetching logs for player Luguentz Dort (ID: 1629652) for season 2020-21...\n",
      "Fetching logs for player Luguentz Dort (ID: 1629652) for season 2021-22...\n",
      "Fetching logs for player Luguentz Dort (ID: 1629652) for season 2022-23...\n",
      "Fetching logs for player Luguentz Dort (ID: 1629652) for season 2023-24...\n",
      "Fetching logs for player Ayo Dosunmu (ID: 1630245) for season 2020-21...\n",
      "Fetching logs for player Ayo Dosunmu (ID: 1630245) for season 2021-22...\n",
      "Fetching logs for player Ayo Dosunmu (ID: 1630245) for season 2022-23...\n",
      "Fetching logs for player Ayo Dosunmu (ID: 1630245) for season 2023-24...\n"
     ]
    },
    {
     "name": "stderr",
     "output_type": "stream",
     "text": [
      "C:\\Users\\jwag1\\AppData\\Local\\Temp\\ipykernel_32800\\3592326873.py:51: FutureWarning: The behavior of DataFrame concatenation with empty or all-NA entries is deprecated. In a future version, this will no longer exclude empty or all-NA columns when determining the result dtypes. To retain the old behavior, exclude the relevant entries before the concat operation.\n",
      "  player_logs_concat = pd.concat(player_logs, ignore_index=True)\n"
     ]
    },
    {
     "name": "stdout",
     "output_type": "stream",
     "text": [
      "Fetching logs for player Damyean Dotson (ID: 1628422) for season 2020-21...\n",
      "Fetching logs for player Damyean Dotson (ID: 1628422) for season 2021-22...\n",
      "Fetching logs for player Damyean Dotson (ID: 1628422) for season 2022-23...\n",
      "Fetching logs for player Damyean Dotson (ID: 1628422) for season 2023-24...\n"
     ]
    },
    {
     "name": "stderr",
     "output_type": "stream",
     "text": [
      "C:\\Users\\jwag1\\AppData\\Local\\Temp\\ipykernel_32800\\3592326873.py:51: FutureWarning: The behavior of DataFrame concatenation with empty or all-NA entries is deprecated. In a future version, this will no longer exclude empty or all-NA columns when determining the result dtypes. To retain the old behavior, exclude the relevant entries before the concat operation.\n",
      "  player_logs_concat = pd.concat(player_logs, ignore_index=True)\n"
     ]
    },
    {
     "name": "stdout",
     "output_type": "stream",
     "text": [
      "Fetching logs for player Devon Dotson (ID: 1629653) for season 2020-21...\n",
      "Fetching logs for player Devon Dotson (ID: 1629653) for season 2021-22...\n",
      "Fetching logs for player Devon Dotson (ID: 1629653) for season 2022-23...\n",
      "Fetching logs for player Devon Dotson (ID: 1629653) for season 2023-24...\n"
     ]
    },
    {
     "name": "stderr",
     "output_type": "stream",
     "text": [
      "C:\\Users\\jwag1\\AppData\\Local\\Temp\\ipykernel_32800\\3592326873.py:51: FutureWarning: The behavior of DataFrame concatenation with empty or all-NA entries is deprecated. In a future version, this will no longer exclude empty or all-NA columns when determining the result dtypes. To retain the old behavior, exclude the relevant entries before the concat operation.\n",
      "  player_logs_concat = pd.concat(player_logs, ignore_index=True)\n"
     ]
    },
    {
     "name": "stdout",
     "output_type": "stream",
     "text": [
      "Fetching logs for player Sekou Doumbouya (ID: 1629635) for season 2020-21...\n",
      "Fetching logs for player Sekou Doumbouya (ID: 1629635) for season 2021-22...\n",
      "Fetching logs for player Sekou Doumbouya (ID: 1629635) for season 2022-23...\n",
      "Fetching logs for player Sekou Doumbouya (ID: 1629635) for season 2023-24...\n"
     ]
    },
    {
     "name": "stderr",
     "output_type": "stream",
     "text": [
      "C:\\Users\\jwag1\\AppData\\Local\\Temp\\ipykernel_32800\\3592326873.py:51: FutureWarning: The behavior of DataFrame concatenation with empty or all-NA entries is deprecated. In a future version, this will no longer exclude empty or all-NA columns when determining the result dtypes. To retain the old behavior, exclude the relevant entries before the concat operation.\n",
      "  player_logs_concat = pd.concat(player_logs, ignore_index=True)\n"
     ]
    },
    {
     "name": "stdout",
     "output_type": "stream",
     "text": [
      "Fetching logs for player Jeff Dowtin Jr. (ID: 1630288) for season 2020-21...\n",
      "Fetching logs for player Jeff Dowtin Jr. (ID: 1630288) for season 2021-22...\n",
      "Fetching logs for player Jeff Dowtin Jr. (ID: 1630288) for season 2022-23...\n",
      "Fetching logs for player Jeff Dowtin Jr. (ID: 1630288) for season 2023-24...\n"
     ]
    },
    {
     "name": "stderr",
     "output_type": "stream",
     "text": [
      "C:\\Users\\jwag1\\AppData\\Local\\Temp\\ipykernel_32800\\3592326873.py:51: FutureWarning: The behavior of DataFrame concatenation with empty or all-NA entries is deprecated. In a future version, this will no longer exclude empty or all-NA columns when determining the result dtypes. To retain the old behavior, exclude the relevant entries before the concat operation.\n",
      "  player_logs_concat = pd.concat(player_logs, ignore_index=True)\n"
     ]
    },
    {
     "name": "stdout",
     "output_type": "stream",
     "text": [
      "Fetching logs for player PJ Dozier (ID: 1628408) for season 2020-21...\n",
      "Fetching logs for player PJ Dozier (ID: 1628408) for season 2021-22...\n",
      "Fetching logs for player PJ Dozier (ID: 1628408) for season 2022-23...\n",
      "Fetching logs for player PJ Dozier (ID: 1628408) for season 2023-24...\n"
     ]
    },
    {
     "name": "stderr",
     "output_type": "stream",
     "text": [
      "C:\\Users\\jwag1\\AppData\\Local\\Temp\\ipykernel_32800\\3592326873.py:51: FutureWarning: The behavior of DataFrame concatenation with empty or all-NA entries is deprecated. In a future version, this will no longer exclude empty or all-NA columns when determining the result dtypes. To retain the old behavior, exclude the relevant entries before the concat operation.\n",
      "  player_logs_concat = pd.concat(player_logs, ignore_index=True)\n"
     ]
    },
    {
     "name": "stdout",
     "output_type": "stream",
     "text": [
      "Fetching logs for player Goran Dragic (ID: 201609) for season 2020-21...\n",
      "Fetching logs for player Goran Dragic (ID: 201609) for season 2021-22...\n",
      "Fetching logs for player Goran Dragic (ID: 201609) for season 2022-23...\n",
      "Fetching logs for player Goran Dragic (ID: 201609) for season 2023-24...\n"
     ]
    },
    {
     "name": "stderr",
     "output_type": "stream",
     "text": [
      "C:\\Users\\jwag1\\AppData\\Local\\Temp\\ipykernel_32800\\3592326873.py:51: FutureWarning: The behavior of DataFrame concatenation with empty or all-NA entries is deprecated. In a future version, this will no longer exclude empty or all-NA columns when determining the result dtypes. To retain the old behavior, exclude the relevant entries before the concat operation.\n",
      "  player_logs_concat = pd.concat(player_logs, ignore_index=True)\n"
     ]
    },
    {
     "name": "stdout",
     "output_type": "stream",
     "text": [
      "Fetching logs for player Henri Drell (ID: 1630929) for season 2020-21...\n",
      "Fetching logs for player Henri Drell (ID: 1630929) for season 2021-22...\n",
      "Fetching logs for player Henri Drell (ID: 1630929) for season 2022-23...\n",
      "Fetching logs for player Henri Drell (ID: 1630929) for season 2023-24...\n"
     ]
    },
    {
     "name": "stderr",
     "output_type": "stream",
     "text": [
      "C:\\Users\\jwag1\\AppData\\Local\\Temp\\ipykernel_32800\\3592326873.py:51: FutureWarning: The behavior of DataFrame concatenation with empty or all-NA entries is deprecated. In a future version, this will no longer exclude empty or all-NA columns when determining the result dtypes. To retain the old behavior, exclude the relevant entries before the concat operation.\n",
      "  player_logs_concat = pd.concat(player_logs, ignore_index=True)\n"
     ]
    },
    {
     "name": "stdout",
     "output_type": "stream",
     "text": [
      "Fetching logs for player Andre Drummond (ID: 203083) for season 2020-21...\n",
      "Fetching logs for player Andre Drummond (ID: 203083) for season 2021-22...\n",
      "Fetching logs for player Andre Drummond (ID: 203083) for season 2022-23...\n",
      "Fetching logs for player Andre Drummond (ID: 203083) for season 2023-24...\n",
      "Fetching logs for player Chris Duarte (ID: 1630537) for season 2020-21...\n",
      "Fetching logs for player Chris Duarte (ID: 1630537) for season 2021-22...\n",
      "Fetching logs for player Chris Duarte (ID: 1630537) for season 2022-23...\n",
      "Fetching logs for player Chris Duarte (ID: 1630537) for season 2023-24...\n"
     ]
    },
    {
     "name": "stderr",
     "output_type": "stream",
     "text": [
      "C:\\Users\\jwag1\\AppData\\Local\\Temp\\ipykernel_32800\\3592326873.py:51: FutureWarning: The behavior of DataFrame concatenation with empty or all-NA entries is deprecated. In a future version, this will no longer exclude empty or all-NA columns when determining the result dtypes. To retain the old behavior, exclude the relevant entries before the concat operation.\n",
      "  player_logs_concat = pd.concat(player_logs, ignore_index=True)\n"
     ]
    },
    {
     "name": "stdout",
     "output_type": "stream",
     "text": [
      "Fetching logs for player Jared Dudley (ID: 201162) for season 2020-21...\n",
      "Fetching logs for player Jared Dudley (ID: 201162) for season 2021-22...\n",
      "Fetching logs for player Jared Dudley (ID: 201162) for season 2022-23...\n",
      "Fetching logs for player Jared Dudley (ID: 201162) for season 2023-24...\n"
     ]
    },
    {
     "name": "stderr",
     "output_type": "stream",
     "text": [
      "C:\\Users\\jwag1\\AppData\\Local\\Temp\\ipykernel_32800\\3592326873.py:51: FutureWarning: The behavior of DataFrame concatenation with empty or all-NA entries is deprecated. In a future version, this will no longer exclude empty or all-NA columns when determining the result dtypes. To retain the old behavior, exclude the relevant entries before the concat operation.\n",
      "  player_logs_concat = pd.concat(player_logs, ignore_index=True)\n"
     ]
    },
    {
     "name": "stdout",
     "output_type": "stream",
     "text": [
      "Fetching logs for player David Duke Jr. (ID: 1630561) for season 2020-21...\n",
      "Fetching logs for player David Duke Jr. (ID: 1630561) for season 2021-22...\n",
      "Fetching logs for player David Duke Jr. (ID: 1630561) for season 2022-23...\n",
      "Fetching logs for player David Duke Jr. (ID: 1630561) for season 2023-24...\n"
     ]
    },
    {
     "name": "stderr",
     "output_type": "stream",
     "text": [
      "C:\\Users\\jwag1\\AppData\\Local\\Temp\\ipykernel_32800\\3592326873.py:51: FutureWarning: The behavior of DataFrame concatenation with empty or all-NA entries is deprecated. In a future version, this will no longer exclude empty or all-NA columns when determining the result dtypes. To retain the old behavior, exclude the relevant entries before the concat operation.\n",
      "  player_logs_concat = pd.concat(player_logs, ignore_index=True)\n"
     ]
    },
    {
     "name": "stdout",
     "output_type": "stream",
     "text": [
      "Fetching logs for player Kris Dunn (ID: 1627739) for season 2020-21...\n",
      "Fetching logs for player Kris Dunn (ID: 1627739) for season 2021-22...\n",
      "Fetching logs for player Kris Dunn (ID: 1627739) for season 2022-23...\n",
      "Fetching logs for player Kris Dunn (ID: 1627739) for season 2023-24...\n",
      "Fetching logs for player Kevin Durant (ID: 201142) for season 2020-21...\n",
      "Fetching logs for player Kevin Durant (ID: 201142) for season 2021-22...\n",
      "Fetching logs for player Kevin Durant (ID: 201142) for season 2022-23...\n",
      "Fetching logs for player Kevin Durant (ID: 201142) for season 2023-24...\n",
      "Fetching logs for player Jalen Duren (ID: 1631105) for season 2020-21...\n",
      "Fetching logs for player Jalen Duren (ID: 1631105) for season 2021-22...\n",
      "Fetching logs for player Jalen Duren (ID: 1631105) for season 2022-23...\n",
      "Fetching logs for player Jalen Duren (ID: 1631105) for season 2023-24...\n"
     ]
    },
    {
     "name": "stderr",
     "output_type": "stream",
     "text": [
      "C:\\Users\\jwag1\\AppData\\Local\\Temp\\ipykernel_32800\\3592326873.py:51: FutureWarning: The behavior of DataFrame concatenation with empty or all-NA entries is deprecated. In a future version, this will no longer exclude empty or all-NA columns when determining the result dtypes. To retain the old behavior, exclude the relevant entries before the concat operation.\n",
      "  player_logs_concat = pd.concat(player_logs, ignore_index=True)\n"
     ]
    },
    {
     "name": "stdout",
     "output_type": "stream",
     "text": [
      "Fetching logs for player Tari Eason (ID: 1631106) for season 2020-21...\n",
      "Fetching logs for player Tari Eason (ID: 1631106) for season 2021-22...\n",
      "Fetching logs for player Tari Eason (ID: 1631106) for season 2022-23...\n",
      "Fetching logs for player Tari Eason (ID: 1631106) for season 2023-24...\n"
     ]
    },
    {
     "name": "stderr",
     "output_type": "stream",
     "text": [
      "C:\\Users\\jwag1\\AppData\\Local\\Temp\\ipykernel_32800\\3592326873.py:51: FutureWarning: The behavior of DataFrame concatenation with empty or all-NA entries is deprecated. In a future version, this will no longer exclude empty or all-NA columns when determining the result dtypes. To retain the old behavior, exclude the relevant entries before the concat operation.\n",
      "  player_logs_concat = pd.concat(player_logs, ignore_index=True)\n"
     ]
    },
    {
     "name": "stdout",
     "output_type": "stream",
     "text": [
      "Fetching logs for player Jaime Echenique (ID: 1630693) for season 2020-21...\n",
      "Fetching logs for player Jaime Echenique (ID: 1630693) for season 2021-22...\n",
      "Fetching logs for player Jaime Echenique (ID: 1630693) for season 2022-23...\n",
      "Fetching logs for player Jaime Echenique (ID: 1630693) for season 2023-24...\n"
     ]
    },
    {
     "name": "stderr",
     "output_type": "stream",
     "text": [
      "C:\\Users\\jwag1\\AppData\\Local\\Temp\\ipykernel_32800\\3592326873.py:51: FutureWarning: The behavior of DataFrame concatenation with empty or all-NA entries is deprecated. In a future version, this will no longer exclude empty or all-NA columns when determining the result dtypes. To retain the old behavior, exclude the relevant entries before the concat operation.\n",
      "  player_logs_concat = pd.concat(player_logs, ignore_index=True)\n"
     ]
    },
    {
     "name": "stdout",
     "output_type": "stream",
     "text": [
      "Fetching logs for player Anthony Edwards (ID: 1630162) for season 2020-21...\n",
      "Fetching logs for player Anthony Edwards (ID: 1630162) for season 2021-22...\n",
      "Fetching logs for player Anthony Edwards (ID: 1630162) for season 2022-23...\n",
      "Fetching logs for player Anthony Edwards (ID: 1630162) for season 2023-24...\n",
      "Fetching logs for player Carsen Edwards (ID: 1629035) for season 2020-21...\n",
      "Fetching logs for player Carsen Edwards (ID: 1629035) for season 2021-22...\n",
      "Fetching logs for player Carsen Edwards (ID: 1629035) for season 2022-23...\n",
      "Fetching logs for player Carsen Edwards (ID: 1629035) for season 2023-24...\n"
     ]
    },
    {
     "name": "stderr",
     "output_type": "stream",
     "text": [
      "C:\\Users\\jwag1\\AppData\\Local\\Temp\\ipykernel_32800\\3592326873.py:51: FutureWarning: The behavior of DataFrame concatenation with empty or all-NA entries is deprecated. In a future version, this will no longer exclude empty or all-NA columns when determining the result dtypes. To retain the old behavior, exclude the relevant entries before the concat operation.\n",
      "  player_logs_concat = pd.concat(player_logs, ignore_index=True)\n"
     ]
    },
    {
     "name": "stdout",
     "output_type": "stream",
     "text": [
      "Fetching logs for player Kessler Edwards (ID: 1630556) for season 2020-21...\n",
      "Fetching logs for player Kessler Edwards (ID: 1630556) for season 2021-22...\n",
      "Fetching logs for player Kessler Edwards (ID: 1630556) for season 2022-23...\n",
      "Fetching logs for player Kessler Edwards (ID: 1630556) for season 2023-24...\n"
     ]
    },
    {
     "name": "stderr",
     "output_type": "stream",
     "text": [
      "C:\\Users\\jwag1\\AppData\\Local\\Temp\\ipykernel_32800\\3592326873.py:51: FutureWarning: The behavior of DataFrame concatenation with empty or all-NA entries is deprecated. In a future version, this will no longer exclude empty or all-NA columns when determining the result dtypes. To retain the old behavior, exclude the relevant entries before the concat operation.\n",
      "  player_logs_concat = pd.concat(player_logs, ignore_index=True)\n"
     ]
    },
    {
     "name": "stdout",
     "output_type": "stream",
     "text": [
      "Fetching logs for player Rob Edwards (ID: 1630306) for season 2020-21...\n",
      "Fetching logs for player Rob Edwards (ID: 1630306) for season 2021-22...\n",
      "Fetching logs for player Rob Edwards (ID: 1630306) for season 2022-23...\n",
      "Fetching logs for player Rob Edwards (ID: 1630306) for season 2023-24...\n"
     ]
    },
    {
     "name": "stderr",
     "output_type": "stream",
     "text": [
      "C:\\Users\\jwag1\\AppData\\Local\\Temp\\ipykernel_32800\\3592326873.py:51: FutureWarning: The behavior of DataFrame concatenation with empty or all-NA entries is deprecated. In a future version, this will no longer exclude empty or all-NA columns when determining the result dtypes. To retain the old behavior, exclude the relevant entries before the concat operation.\n",
      "  player_logs_concat = pd.concat(player_logs, ignore_index=True)\n"
     ]
    },
    {
     "name": "stdout",
     "output_type": "stream",
     "text": [
      "Fetching logs for player CJ Elleby (ID: 1629604) for season 2020-21...\n",
      "Fetching logs for player CJ Elleby (ID: 1629604) for season 2021-22...\n",
      "Fetching logs for player CJ Elleby (ID: 1629604) for season 2022-23...\n",
      "Fetching logs for player CJ Elleby (ID: 1629604) for season 2023-24...\n"
     ]
    },
    {
     "name": "stderr",
     "output_type": "stream",
     "text": [
      "C:\\Users\\jwag1\\AppData\\Local\\Temp\\ipykernel_32800\\3592326873.py:51: FutureWarning: The behavior of DataFrame concatenation with empty or all-NA entries is deprecated. In a future version, this will no longer exclude empty or all-NA columns when determining the result dtypes. To retain the old behavior, exclude the relevant entries before the concat operation.\n",
      "  player_logs_concat = pd.concat(player_logs, ignore_index=True)\n"
     ]
    },
    {
     "name": "stdout",
     "output_type": "stream",
     "text": [
      "Fetching logs for player Henry Ellenson (ID: 1627740) for season 2020-21...\n",
      "Fetching logs for player Henry Ellenson (ID: 1627740) for season 2021-22...\n",
      "Fetching logs for player Henry Ellenson (ID: 1627740) for season 2022-23...\n",
      "Fetching logs for player Henry Ellenson (ID: 1627740) for season 2023-24...\n"
     ]
    },
    {
     "name": "stderr",
     "output_type": "stream",
     "text": [
      "C:\\Users\\jwag1\\AppData\\Local\\Temp\\ipykernel_32800\\3592326873.py:51: FutureWarning: The behavior of DataFrame concatenation with empty or all-NA entries is deprecated. In a future version, this will no longer exclude empty or all-NA columns when determining the result dtypes. To retain the old behavior, exclude the relevant entries before the concat operation.\n",
      "  player_logs_concat = pd.concat(player_logs, ignore_index=True)\n"
     ]
    },
    {
     "name": "stdout",
     "output_type": "stream",
     "text": [
      "Fetching logs for player Wayne Ellington (ID: 201961) for season 2020-21...\n",
      "Fetching logs for player Wayne Ellington (ID: 201961) for season 2021-22...\n",
      "Fetching logs for player Wayne Ellington (ID: 201961) for season 2022-23...\n",
      "Fetching logs for player Wayne Ellington (ID: 201961) for season 2023-24...\n"
     ]
    },
    {
     "name": "stderr",
     "output_type": "stream",
     "text": [
      "C:\\Users\\jwag1\\AppData\\Local\\Temp\\ipykernel_32800\\3592326873.py:51: FutureWarning: The behavior of DataFrame concatenation with empty or all-NA entries is deprecated. In a future version, this will no longer exclude empty or all-NA columns when determining the result dtypes. To retain the old behavior, exclude the relevant entries before the concat operation.\n",
      "  player_logs_concat = pd.concat(player_logs, ignore_index=True)\n"
     ]
    },
    {
     "name": "stdout",
     "output_type": "stream",
     "text": [
      "Fetching logs for player Keon Ellis (ID: 1631165) for season 2020-21...\n",
      "Fetching logs for player Keon Ellis (ID: 1631165) for season 2021-22...\n",
      "Fetching logs for player Keon Ellis (ID: 1631165) for season 2022-23...\n",
      "Fetching logs for player Keon Ellis (ID: 1631165) for season 2023-24...\n"
     ]
    },
    {
     "name": "stderr",
     "output_type": "stream",
     "text": [
      "C:\\Users\\jwag1\\AppData\\Local\\Temp\\ipykernel_32800\\3592326873.py:51: FutureWarning: The behavior of DataFrame concatenation with empty or all-NA entries is deprecated. In a future version, this will no longer exclude empty or all-NA columns when determining the result dtypes. To retain the old behavior, exclude the relevant entries before the concat operation.\n",
      "  player_logs_concat = pd.concat(player_logs, ignore_index=True)\n"
     ]
    },
    {
     "name": "stdout",
     "output_type": "stream",
     "text": [
      "Fetching logs for player Joel Embiid (ID: 203954) for season 2020-21...\n",
      "Fetching logs for player Joel Embiid (ID: 203954) for season 2021-22...\n",
      "Fetching logs for player Joel Embiid (ID: 203954) for season 2022-23...\n",
      "Fetching logs for player Joel Embiid (ID: 203954) for season 2023-24...\n",
      "Fetching logs for player James Ennis III (ID: 203516) for season 2020-21...\n",
      "Fetching logs for player James Ennis III (ID: 203516) for season 2021-22...\n",
      "Fetching logs for player James Ennis III (ID: 203516) for season 2022-23...\n",
      "Fetching logs for player James Ennis III (ID: 203516) for season 2023-24...\n"
     ]
    },
    {
     "name": "stderr",
     "output_type": "stream",
     "text": [
      "C:\\Users\\jwag1\\AppData\\Local\\Temp\\ipykernel_32800\\3592326873.py:51: FutureWarning: The behavior of DataFrame concatenation with empty or all-NA entries is deprecated. In a future version, this will no longer exclude empty or all-NA columns when determining the result dtypes. To retain the old behavior, exclude the relevant entries before the concat operation.\n",
      "  player_logs_concat = pd.concat(player_logs, ignore_index=True)\n"
     ]
    },
    {
     "name": "stdout",
     "output_type": "stream",
     "text": [
      "Fetching logs for player Drew Eubanks (ID: 1629234) for season 2020-21...\n",
      "Fetching logs for player Drew Eubanks (ID: 1629234) for season 2021-22...\n",
      "Fetching logs for player Drew Eubanks (ID: 1629234) for season 2022-23...\n",
      "Fetching logs for player Drew Eubanks (ID: 1629234) for season 2023-24...\n",
      "Fetching logs for player Tosan Evbuomwan (ID: 1641787) for season 2020-21...\n",
      "Fetching logs for player Tosan Evbuomwan (ID: 1641787) for season 2021-22...\n",
      "Fetching logs for player Tosan Evbuomwan (ID: 1641787) for season 2022-23...\n",
      "Fetching logs for player Tosan Evbuomwan (ID: 1641787) for season 2023-24...\n"
     ]
    },
    {
     "name": "stderr",
     "output_type": "stream",
     "text": [
      "C:\\Users\\jwag1\\AppData\\Local\\Temp\\ipykernel_32800\\3592326873.py:51: FutureWarning: The behavior of DataFrame concatenation with empty or all-NA entries is deprecated. In a future version, this will no longer exclude empty or all-NA columns when determining the result dtypes. To retain the old behavior, exclude the relevant entries before the concat operation.\n",
      "  player_logs_concat = pd.concat(player_logs, ignore_index=True)\n"
     ]
    },
    {
     "name": "stdout",
     "output_type": "stream",
     "text": [
      "Fetching logs for player Dante Exum (ID: 203957) for season 2020-21...\n",
      "Fetching logs for player Dante Exum (ID: 203957) for season 2021-22...\n",
      "Fetching logs for player Dante Exum (ID: 203957) for season 2022-23...\n",
      "Fetching logs for player Dante Exum (ID: 203957) for season 2023-24...\n"
     ]
    },
    {
     "name": "stderr",
     "output_type": "stream",
     "text": [
      "C:\\Users\\jwag1\\AppData\\Local\\Temp\\ipykernel_32800\\3592326873.py:51: FutureWarning: The behavior of DataFrame concatenation with empty or all-NA entries is deprecated. In a future version, this will no longer exclude empty or all-NA columns when determining the result dtypes. To retain the old behavior, exclude the relevant entries before the concat operation.\n",
      "  player_logs_concat = pd.concat(player_logs, ignore_index=True)\n"
     ]
    },
    {
     "name": "stdout",
     "output_type": "stream",
     "text": [
      "Fetching logs for player Tacko Fall (ID: 1629605) for season 2020-21...\n",
      "Fetching logs for player Tacko Fall (ID: 1629605) for season 2021-22...\n",
      "Fetching logs for player Tacko Fall (ID: 1629605) for season 2022-23...\n",
      "Fetching logs for player Tacko Fall (ID: 1629605) for season 2023-24...\n"
     ]
    },
    {
     "name": "stderr",
     "output_type": "stream",
     "text": [
      "C:\\Users\\jwag1\\AppData\\Local\\Temp\\ipykernel_32800\\3592326873.py:51: FutureWarning: The behavior of DataFrame concatenation with empty or all-NA entries is deprecated. In a future version, this will no longer exclude empty or all-NA columns when determining the result dtypes. To retain the old behavior, exclude the relevant entries before the concat operation.\n",
      "  player_logs_concat = pd.concat(player_logs, ignore_index=True)\n"
     ]
    },
    {
     "name": "stdout",
     "output_type": "stream",
     "text": [
      "Fetching logs for player Derrick Favors (ID: 202324) for season 2020-21...\n",
      "Fetching logs for player Derrick Favors (ID: 202324) for season 2021-22...\n",
      "Fetching logs for player Derrick Favors (ID: 202324) for season 2022-23...\n",
      "Fetching logs for player Derrick Favors (ID: 202324) for season 2023-24...\n"
     ]
    },
    {
     "name": "stderr",
     "output_type": "stream",
     "text": [
      "C:\\Users\\jwag1\\AppData\\Local\\Temp\\ipykernel_32800\\3592326873.py:51: FutureWarning: The behavior of DataFrame concatenation with empty or all-NA entries is deprecated. In a future version, this will no longer exclude empty or all-NA columns when determining the result dtypes. To retain the old behavior, exclude the relevant entries before the concat operation.\n",
      "  player_logs_concat = pd.concat(player_logs, ignore_index=True)\n"
     ]
    },
    {
     "name": "stdout",
     "output_type": "stream",
     "text": [
      "Fetching logs for player Cristiano Felicio (ID: 1626245) for season 2020-21...\n",
      "Fetching logs for player Cristiano Felicio (ID: 1626245) for season 2021-22...\n",
      "Fetching logs for player Cristiano Felicio (ID: 1626245) for season 2022-23...\n",
      "Fetching logs for player Cristiano Felicio (ID: 1626245) for season 2023-24...\n"
     ]
    },
    {
     "name": "stderr",
     "output_type": "stream",
     "text": [
      "C:\\Users\\jwag1\\AppData\\Local\\Temp\\ipykernel_32800\\3592326873.py:51: FutureWarning: The behavior of DataFrame concatenation with empty or all-NA entries is deprecated. In a future version, this will no longer exclude empty or all-NA columns when determining the result dtypes. To retain the old behavior, exclude the relevant entries before the concat operation.\n",
      "  player_logs_concat = pd.concat(player_logs, ignore_index=True)\n"
     ]
    },
    {
     "name": "stdout",
     "output_type": "stream",
     "text": [
      "Fetching logs for player Terrance Ferguson (ID: 1628390) for season 2020-21...\n",
      "Fetching logs for player Terrance Ferguson (ID: 1628390) for season 2021-22...\n",
      "Fetching logs for player Terrance Ferguson (ID: 1628390) for season 2022-23...\n",
      "Fetching logs for player Terrance Ferguson (ID: 1628390) for season 2023-24...\n"
     ]
    },
    {
     "name": "stderr",
     "output_type": "stream",
     "text": [
      "C:\\Users\\jwag1\\AppData\\Local\\Temp\\ipykernel_32800\\3592326873.py:51: FutureWarning: The behavior of DataFrame concatenation with empty or all-NA entries is deprecated. In a future version, this will no longer exclude empty or all-NA columns when determining the result dtypes. To retain the old behavior, exclude the relevant entries before the concat operation.\n",
      "  player_logs_concat = pd.concat(player_logs, ignore_index=True)\n"
     ]
    },
    {
     "name": "stdout",
     "output_type": "stream",
     "text": [
      "Fetching logs for player Bruno Fernando (ID: 1628981) for season 2020-21...\n",
      "Fetching logs for player Bruno Fernando (ID: 1628981) for season 2021-22...\n",
      "Fetching logs for player Bruno Fernando (ID: 1628981) for season 2022-23...\n",
      "Fetching logs for player Bruno Fernando (ID: 1628981) for season 2023-24...\n",
      "Fetching logs for player Yogi Ferrell (ID: 1627812) for season 2020-21...\n",
      "Fetching logs for player Yogi Ferrell (ID: 1627812) for season 2021-22...\n",
      "Fetching logs for player Yogi Ferrell (ID: 1627812) for season 2022-23...\n",
      "Fetching logs for player Yogi Ferrell (ID: 1627812) for season 2023-24...\n"
     ]
    },
    {
     "name": "stderr",
     "output_type": "stream",
     "text": [
      "C:\\Users\\jwag1\\AppData\\Local\\Temp\\ipykernel_32800\\3592326873.py:51: FutureWarning: The behavior of DataFrame concatenation with empty or all-NA entries is deprecated. In a future version, this will no longer exclude empty or all-NA columns when determining the result dtypes. To retain the old behavior, exclude the relevant entries before the concat operation.\n",
      "  player_logs_concat = pd.concat(player_logs, ignore_index=True)\n"
     ]
    },
    {
     "name": "stdout",
     "output_type": "stream",
     "text": [
      "Fetching logs for player Dorian Finney-Smith (ID: 1627827) for season 2020-21...\n",
      "Fetching logs for player Dorian Finney-Smith (ID: 1627827) for season 2021-22...\n",
      "Fetching logs for player Dorian Finney-Smith (ID: 1627827) for season 2022-23...\n",
      "Fetching logs for player Dorian Finney-Smith (ID: 1627827) for season 2023-24...\n",
      "Fetching logs for player Malik Fitts (ID: 1630238) for season 2020-21...\n",
      "Fetching logs for player Malik Fitts (ID: 1630238) for season 2021-22...\n",
      "Fetching logs for player Malik Fitts (ID: 1630238) for season 2022-23...\n",
      "Fetching logs for player Malik Fitts (ID: 1630238) for season 2023-24...\n"
     ]
    },
    {
     "name": "stderr",
     "output_type": "stream",
     "text": [
      "C:\\Users\\jwag1\\AppData\\Local\\Temp\\ipykernel_32800\\3592326873.py:51: FutureWarning: The behavior of DataFrame concatenation with empty or all-NA entries is deprecated. In a future version, this will no longer exclude empty or all-NA columns when determining the result dtypes. To retain the old behavior, exclude the relevant entries before the concat operation.\n",
      "  player_logs_concat = pd.concat(player_logs, ignore_index=True)\n"
     ]
    },
    {
     "name": "stdout",
     "output_type": "stream",
     "text": [
      "Fetching logs for player Adam Flagler (ID: 1641745) for season 2020-21...\n",
      "Fetching logs for player Adam Flagler (ID: 1641745) for season 2021-22...\n",
      "Fetching logs for player Adam Flagler (ID: 1641745) for season 2022-23...\n",
      "Fetching logs for player Adam Flagler (ID: 1641745) for season 2023-24...\n"
     ]
    },
    {
     "name": "stderr",
     "output_type": "stream",
     "text": [
      "C:\\Users\\jwag1\\AppData\\Local\\Temp\\ipykernel_32800\\3592326873.py:51: FutureWarning: The behavior of DataFrame concatenation with empty or all-NA entries is deprecated. In a future version, this will no longer exclude empty or all-NA columns when determining the result dtypes. To retain the old behavior, exclude the relevant entries before the concat operation.\n",
      "  player_logs_concat = pd.concat(player_logs, ignore_index=True)\n"
     ]
    },
    {
     "name": "stdout",
     "output_type": "stream",
     "text": [
      "Fetching logs for player Malachi Flynn (ID: 1630201) for season 2020-21...\n",
      "Fetching logs for player Malachi Flynn (ID: 1630201) for season 2021-22...\n",
      "Fetching logs for player Malachi Flynn (ID: 1630201) for season 2022-23...\n",
      "Fetching logs for player Malachi Flynn (ID: 1630201) for season 2023-24...\n",
      "Fetching logs for player Simone Fontecchio (ID: 1631323) for season 2020-21...\n",
      "Fetching logs for player Simone Fontecchio (ID: 1631323) for season 2021-22...\n",
      "Fetching logs for player Simone Fontecchio (ID: 1631323) for season 2022-23...\n",
      "Fetching logs for player Simone Fontecchio (ID: 1631323) for season 2023-24...\n"
     ]
    },
    {
     "name": "stderr",
     "output_type": "stream",
     "text": [
      "C:\\Users\\jwag1\\AppData\\Local\\Temp\\ipykernel_32800\\3592326873.py:51: FutureWarning: The behavior of DataFrame concatenation with empty or all-NA entries is deprecated. In a future version, this will no longer exclude empty or all-NA columns when determining the result dtypes. To retain the old behavior, exclude the relevant entries before the concat operation.\n",
      "  player_logs_concat = pd.concat(player_logs, ignore_index=True)\n"
     ]
    },
    {
     "name": "stdout",
     "output_type": "stream",
     "text": [
      "Fetching logs for player Bryn Forbes (ID: 1627854) for season 2020-21...\n",
      "Fetching logs for player Bryn Forbes (ID: 1627854) for season 2021-22...\n",
      "Fetching logs for player Bryn Forbes (ID: 1627854) for season 2022-23...\n",
      "Fetching logs for player Bryn Forbes (ID: 1627854) for season 2023-24...\n"
     ]
    },
    {
     "name": "stderr",
     "output_type": "stream",
     "text": [
      "C:\\Users\\jwag1\\AppData\\Local\\Temp\\ipykernel_32800\\3592326873.py:51: FutureWarning: The behavior of DataFrame concatenation with empty or all-NA entries is deprecated. In a future version, this will no longer exclude empty or all-NA columns when determining the result dtypes. To retain the old behavior, exclude the relevant entries before the concat operation.\n",
      "  player_logs_concat = pd.concat(player_logs, ignore_index=True)\n",
      "\r",
      " 28%|██▊       | 5/18 [08:55<23:03, 106.45s/it]"
     ]
    },
    {
     "name": "stdout",
     "output_type": "stream",
     "text": [
      "Processing batch 250 to 300...\n",
      "Fetching logs for player Aleem Ford (ID: 1630758) for season 2020-21...\n",
      "Fetching logs for player Aleem Ford (ID: 1630758) for season 2021-22...\n",
      "Fetching logs for player Aleem Ford (ID: 1630758) for season 2022-23...\n",
      "Fetching logs for player Aleem Ford (ID: 1630758) for season 2023-24...\n"
     ]
    },
    {
     "name": "stderr",
     "output_type": "stream",
     "text": [
      "C:\\Users\\jwag1\\AppData\\Local\\Temp\\ipykernel_32800\\3592326873.py:51: FutureWarning: The behavior of DataFrame concatenation with empty or all-NA entries is deprecated. In a future version, this will no longer exclude empty or all-NA columns when determining the result dtypes. To retain the old behavior, exclude the relevant entries before the concat operation.\n",
      "  player_logs_concat = pd.concat(player_logs, ignore_index=True)\n"
     ]
    },
    {
     "name": "stdout",
     "output_type": "stream",
     "text": [
      "Fetching logs for player Jordan Ford (ID: 1630259) for season 2020-21...\n",
      "Fetching logs for player Jordan Ford (ID: 1630259) for season 2021-22...\n",
      "Fetching logs for player Jordan Ford (ID: 1630259) for season 2022-23...\n",
      "Fetching logs for player Jordan Ford (ID: 1630259) for season 2023-24...\n"
     ]
    },
    {
     "name": "stderr",
     "output_type": "stream",
     "text": [
      "C:\\Users\\jwag1\\AppData\\Local\\Temp\\ipykernel_32800\\3592326873.py:51: FutureWarning: The behavior of DataFrame concatenation with empty or all-NA entries is deprecated. In a future version, this will no longer exclude empty or all-NA columns when determining the result dtypes. To retain the old behavior, exclude the relevant entries before the concat operation.\n",
      "  player_logs_concat = pd.concat(player_logs, ignore_index=True)\n"
     ]
    },
    {
     "name": "stdout",
     "output_type": "stream",
     "text": [
      "Fetching logs for player Trent Forrest (ID: 1630235) for season 2020-21...\n",
      "Fetching logs for player Trent Forrest (ID: 1630235) for season 2021-22...\n",
      "Fetching logs for player Trent Forrest (ID: 1630235) for season 2022-23...\n",
      "Fetching logs for player Trent Forrest (ID: 1630235) for season 2023-24...\n",
      "Fetching logs for player Michael Foster Jr. (ID: 1630701) for season 2020-21...\n",
      "Fetching logs for player Michael Foster Jr. (ID: 1630701) for season 2021-22...\n",
      "Fetching logs for player Michael Foster Jr. (ID: 1630701) for season 2022-23...\n",
      "Fetching logs for player Michael Foster Jr. (ID: 1630701) for season 2023-24...\n"
     ]
    },
    {
     "name": "stderr",
     "output_type": "stream",
     "text": [
      "C:\\Users\\jwag1\\AppData\\Local\\Temp\\ipykernel_32800\\3592326873.py:51: FutureWarning: The behavior of DataFrame concatenation with empty or all-NA entries is deprecated. In a future version, this will no longer exclude empty or all-NA columns when determining the result dtypes. To retain the old behavior, exclude the relevant entries before the concat operation.\n",
      "  player_logs_concat = pd.concat(player_logs, ignore_index=True)\n"
     ]
    },
    {
     "name": "stdout",
     "output_type": "stream",
     "text": [
      "Fetching logs for player Evan Fournier (ID: 203095) for season 2020-21...\n",
      "Fetching logs for player Evan Fournier (ID: 203095) for season 2021-22...\n",
      "Fetching logs for player Evan Fournier (ID: 203095) for season 2022-23...\n",
      "Fetching logs for player Evan Fournier (ID: 203095) for season 2023-24...\n",
      "Fetching logs for player De'Aaron Fox (ID: 1628368) for season 2020-21...\n",
      "Fetching logs for player De'Aaron Fox (ID: 1628368) for season 2021-22...\n",
      "Fetching logs for player De'Aaron Fox (ID: 1628368) for season 2022-23...\n",
      "Fetching logs for player De'Aaron Fox (ID: 1628368) for season 2023-24...\n",
      "Fetching logs for player Robert Franks (ID: 1629606) for season 2020-21...\n",
      "Fetching logs for player Robert Franks (ID: 1629606) for season 2021-22...\n",
      "Fetching logs for player Robert Franks (ID: 1629606) for season 2022-23...\n",
      "Fetching logs for player Robert Franks (ID: 1629606) for season 2023-24...\n"
     ]
    },
    {
     "name": "stderr",
     "output_type": "stream",
     "text": [
      "C:\\Users\\jwag1\\AppData\\Local\\Temp\\ipykernel_32800\\3592326873.py:51: FutureWarning: The behavior of DataFrame concatenation with empty or all-NA entries is deprecated. In a future version, this will no longer exclude empty or all-NA columns when determining the result dtypes. To retain the old behavior, exclude the relevant entries before the concat operation.\n",
      "  player_logs_concat = pd.concat(player_logs, ignore_index=True)\n"
     ]
    },
    {
     "name": "stdout",
     "output_type": "stream",
     "text": [
      "Fetching logs for player Tim Frazier (ID: 204025) for season 2020-21...\n",
      "Fetching logs for player Tim Frazier (ID: 204025) for season 2021-22...\n",
      "Fetching logs for player Tim Frazier (ID: 204025) for season 2022-23...\n",
      "Fetching logs for player Tim Frazier (ID: 204025) for season 2023-24...\n"
     ]
    },
    {
     "name": "stderr",
     "output_type": "stream",
     "text": [
      "C:\\Users\\jwag1\\AppData\\Local\\Temp\\ipykernel_32800\\3592326873.py:51: FutureWarning: The behavior of DataFrame concatenation with empty or all-NA entries is deprecated. In a future version, this will no longer exclude empty or all-NA columns when determining the result dtypes. To retain the old behavior, exclude the relevant entries before the concat operation.\n",
      "  player_logs_concat = pd.concat(player_logs, ignore_index=True)\n"
     ]
    },
    {
     "name": "stdout",
     "output_type": "stream",
     "text": [
      "Fetching logs for player Melvin Frazier Jr. (ID: 1628982) for season 2020-21...\n",
      "Fetching logs for player Melvin Frazier Jr. (ID: 1628982) for season 2021-22...\n",
      "Fetching logs for player Melvin Frazier Jr. (ID: 1628982) for season 2022-23...\n",
      "Fetching logs for player Melvin Frazier Jr. (ID: 1628982) for season 2023-24...\n"
     ]
    },
    {
     "name": "stderr",
     "output_type": "stream",
     "text": [
      "C:\\Users\\jwag1\\AppData\\Local\\Temp\\ipykernel_32800\\3592326873.py:51: FutureWarning: The behavior of DataFrame concatenation with empty or all-NA entries is deprecated. In a future version, this will no longer exclude empty or all-NA columns when determining the result dtypes. To retain the old behavior, exclude the relevant entries before the concat operation.\n",
      "  player_logs_concat = pd.concat(player_logs, ignore_index=True)\n"
     ]
    },
    {
     "name": "stdout",
     "output_type": "stream",
     "text": [
      "Fetching logs for player Enes Freedom (ID: 202683) for season 2020-21...\n",
      "Fetching logs for player Enes Freedom (ID: 202683) for season 2021-22...\n",
      "Fetching logs for player Enes Freedom (ID: 202683) for season 2022-23...\n",
      "Fetching logs for player Enes Freedom (ID: 202683) for season 2023-24...\n"
     ]
    },
    {
     "name": "stderr",
     "output_type": "stream",
     "text": [
      "C:\\Users\\jwag1\\AppData\\Local\\Temp\\ipykernel_32800\\3592326873.py:51: FutureWarning: The behavior of DataFrame concatenation with empty or all-NA entries is deprecated. In a future version, this will no longer exclude empty or all-NA columns when determining the result dtypes. To retain the old behavior, exclude the relevant entries before the concat operation.\n",
      "  player_logs_concat = pd.concat(player_logs, ignore_index=True)\n"
     ]
    },
    {
     "name": "stdout",
     "output_type": "stream",
     "text": [
      "Fetching logs for player Javon Freeman-Liberty (ID: 1631241) for season 2020-21...\n",
      "Fetching logs for player Javon Freeman-Liberty (ID: 1631241) for season 2021-22...\n",
      "Fetching logs for player Javon Freeman-Liberty (ID: 1631241) for season 2022-23...\n",
      "Fetching logs for player Javon Freeman-Liberty (ID: 1631241) for season 2023-24...\n"
     ]
    },
    {
     "name": "stderr",
     "output_type": "stream",
     "text": [
      "C:\\Users\\jwag1\\AppData\\Local\\Temp\\ipykernel_32800\\3592326873.py:51: FutureWarning: The behavior of DataFrame concatenation with empty or all-NA entries is deprecated. In a future version, this will no longer exclude empty or all-NA columns when determining the result dtypes. To retain the old behavior, exclude the relevant entries before the concat operation.\n",
      "  player_logs_concat = pd.concat(player_logs, ignore_index=True)\n"
     ]
    },
    {
     "name": "stdout",
     "output_type": "stream",
     "text": [
      "Fetching logs for player Alex Fudge (ID: 1641788) for season 2020-21...\n",
      "Fetching logs for player Alex Fudge (ID: 1641788) for season 2021-22...\n",
      "Fetching logs for player Alex Fudge (ID: 1641788) for season 2022-23...\n",
      "Fetching logs for player Alex Fudge (ID: 1641788) for season 2023-24...\n"
     ]
    },
    {
     "name": "stderr",
     "output_type": "stream",
     "text": [
      "C:\\Users\\jwag1\\AppData\\Local\\Temp\\ipykernel_32800\\3592326873.py:51: FutureWarning: The behavior of DataFrame concatenation with empty or all-NA entries is deprecated. In a future version, this will no longer exclude empty or all-NA columns when determining the result dtypes. To retain the old behavior, exclude the relevant entries before the concat operation.\n",
      "  player_logs_concat = pd.concat(player_logs, ignore_index=True)\n"
     ]
    },
    {
     "name": "stdout",
     "output_type": "stream",
     "text": [
      "Fetching logs for player Markelle Fultz (ID: 1628365) for season 2020-21...\n",
      "Fetching logs for player Markelle Fultz (ID: 1628365) for season 2021-22...\n",
      "Fetching logs for player Markelle Fultz (ID: 1628365) for season 2022-23...\n",
      "Fetching logs for player Markelle Fultz (ID: 1628365) for season 2023-24...\n",
      "Fetching logs for player Andrew Funk (ID: 1641847) for season 2020-21...\n",
      "Fetching logs for player Andrew Funk (ID: 1641847) for season 2021-22...\n",
      "Fetching logs for player Andrew Funk (ID: 1641847) for season 2022-23...\n",
      "Fetching logs for player Andrew Funk (ID: 1641847) for season 2023-24...\n"
     ]
    },
    {
     "name": "stderr",
     "output_type": "stream",
     "text": [
      "C:\\Users\\jwag1\\AppData\\Local\\Temp\\ipykernel_32800\\3592326873.py:51: FutureWarning: The behavior of DataFrame concatenation with empty or all-NA entries is deprecated. In a future version, this will no longer exclude empty or all-NA columns when determining the result dtypes. To retain the old behavior, exclude the relevant entries before the concat operation.\n",
      "  player_logs_concat = pd.concat(player_logs, ignore_index=True)\n"
     ]
    },
    {
     "name": "stdout",
     "output_type": "stream",
     "text": [
      "Fetching logs for player Wenyen Gabriel (ID: 1629117) for season 2020-21...\n",
      "Fetching logs for player Wenyen Gabriel (ID: 1629117) for season 2021-22...\n",
      "Fetching logs for player Wenyen Gabriel (ID: 1629117) for season 2022-23...\n",
      "Fetching logs for player Wenyen Gabriel (ID: 1629117) for season 2023-24...\n",
      "Fetching logs for player Daniel Gafford (ID: 1629655) for season 2020-21...\n",
      "Fetching logs for player Daniel Gafford (ID: 1629655) for season 2021-22...\n",
      "Fetching logs for player Daniel Gafford (ID: 1629655) for season 2022-23...\n",
      "Fetching logs for player Daniel Gafford (ID: 1629655) for season 2023-24...\n",
      "Fetching logs for player Danilo Gallinari (ID: 201568) for season 2020-21...\n",
      "Fetching logs for player Danilo Gallinari (ID: 201568) for season 2021-22...\n",
      "Fetching logs for player Danilo Gallinari (ID: 201568) for season 2022-23...\n",
      "Fetching logs for player Danilo Gallinari (ID: 201568) for season 2023-24...\n"
     ]
    },
    {
     "name": "stderr",
     "output_type": "stream",
     "text": [
      "C:\\Users\\jwag1\\AppData\\Local\\Temp\\ipykernel_32800\\3592326873.py:51: FutureWarning: The behavior of DataFrame concatenation with empty or all-NA entries is deprecated. In a future version, this will no longer exclude empty or all-NA columns when determining the result dtypes. To retain the old behavior, exclude the relevant entries before the concat operation.\n",
      "  player_logs_concat = pd.concat(player_logs, ignore_index=True)\n"
     ]
    },
    {
     "name": "stdout",
     "output_type": "stream",
     "text": [
      "Fetching logs for player Jaylin Galloway (ID: 1641945) for season 2020-21...\n",
      "Fetching logs for player Jaylin Galloway (ID: 1641945) for season 2021-22...\n",
      "Fetching logs for player Jaylin Galloway (ID: 1641945) for season 2022-23...\n",
      "Fetching logs for player Jaylin Galloway (ID: 1641945) for season 2023-24...\n",
      "Fetching logs for player Langston Galloway (ID: 204038) for season 2020-21...\n",
      "Fetching logs for player Langston Galloway (ID: 204038) for season 2021-22...\n",
      "Fetching logs for player Langston Galloway (ID: 204038) for season 2022-23...\n",
      "Fetching logs for player Langston Galloway (ID: 204038) for season 2023-24...\n"
     ]
    },
    {
     "name": "stderr",
     "output_type": "stream",
     "text": [
      "C:\\Users\\jwag1\\AppData\\Local\\Temp\\ipykernel_32800\\3592326873.py:51: FutureWarning: The behavior of DataFrame concatenation with empty or all-NA entries is deprecated. In a future version, this will no longer exclude empty or all-NA columns when determining the result dtypes. To retain the old behavior, exclude the relevant entries before the concat operation.\n",
      "  player_logs_concat = pd.concat(player_logs, ignore_index=True)\n"
     ]
    },
    {
     "name": "stdout",
     "output_type": "stream",
     "text": [
      "Fetching logs for player Darius Garland (ID: 1629636) for season 2020-21...\n",
      "Fetching logs for player Darius Garland (ID: 1629636) for season 2021-22...\n",
      "Fetching logs for player Darius Garland (ID: 1629636) for season 2022-23...\n",
      "Fetching logs for player Darius Garland (ID: 1629636) for season 2023-24...\n",
      "Fetching logs for player Marcus Garrett (ID: 1630585) for season 2020-21...\n",
      "Fetching logs for player Marcus Garrett (ID: 1630585) for season 2021-22...\n",
      "Fetching logs for player Marcus Garrett (ID: 1630585) for season 2022-23...\n",
      "Fetching logs for player Marcus Garrett (ID: 1630585) for season 2023-24...\n"
     ]
    },
    {
     "name": "stderr",
     "output_type": "stream",
     "text": [
      "C:\\Users\\jwag1\\AppData\\Local\\Temp\\ipykernel_32800\\3592326873.py:51: FutureWarning: The behavior of DataFrame concatenation with empty or all-NA entries is deprecated. In a future version, this will no longer exclude empty or all-NA columns when determining the result dtypes. To retain the old behavior, exclude the relevant entries before the concat operation.\n",
      "  player_logs_concat = pd.concat(player_logs, ignore_index=True)\n"
     ]
    },
    {
     "name": "stdout",
     "output_type": "stream",
     "text": [
      "Fetching logs for player Usman Garuba (ID: 1630586) for season 2020-21...\n",
      "Fetching logs for player Usman Garuba (ID: 1630586) for season 2021-22...\n",
      "Fetching logs for player Usman Garuba (ID: 1630586) for season 2022-23...\n",
      "Fetching logs for player Usman Garuba (ID: 1630586) for season 2023-24...\n"
     ]
    },
    {
     "name": "stderr",
     "output_type": "stream",
     "text": [
      "C:\\Users\\jwag1\\AppData\\Local\\Temp\\ipykernel_32800\\3592326873.py:51: FutureWarning: The behavior of DataFrame concatenation with empty or all-NA entries is deprecated. In a future version, this will no longer exclude empty or all-NA columns when determining the result dtypes. To retain the old behavior, exclude the relevant entries before the concat operation.\n",
      "  player_logs_concat = pd.concat(player_logs, ignore_index=True)\n"
     ]
    },
    {
     "name": "stdout",
     "output_type": "stream",
     "text": [
      "Fetching logs for player Luka Garza (ID: 1630568) for season 2020-21...\n",
      "Fetching logs for player Luka Garza (ID: 1630568) for season 2021-22...\n",
      "Fetching logs for player Luka Garza (ID: 1630568) for season 2022-23...\n",
      "Fetching logs for player Luka Garza (ID: 1630568) for season 2023-24...\n"
     ]
    },
    {
     "name": "stderr",
     "output_type": "stream",
     "text": [
      "C:\\Users\\jwag1\\AppData\\Local\\Temp\\ipykernel_32800\\3592326873.py:51: FutureWarning: The behavior of DataFrame concatenation with empty or all-NA entries is deprecated. In a future version, this will no longer exclude empty or all-NA columns when determining the result dtypes. To retain the old behavior, exclude the relevant entries before the concat operation.\n",
      "  player_logs_concat = pd.concat(player_logs, ignore_index=True)\n"
     ]
    },
    {
     "name": "stdout",
     "output_type": "stream",
     "text": [
      "Fetching logs for player Marc Gasol (ID: 201188) for season 2020-21...\n",
      "Fetching logs for player Marc Gasol (ID: 201188) for season 2021-22...\n",
      "Fetching logs for player Marc Gasol (ID: 201188) for season 2022-23...\n",
      "Fetching logs for player Marc Gasol (ID: 201188) for season 2023-24...\n"
     ]
    },
    {
     "name": "stderr",
     "output_type": "stream",
     "text": [
      "C:\\Users\\jwag1\\AppData\\Local\\Temp\\ipykernel_32800\\3592326873.py:51: FutureWarning: The behavior of DataFrame concatenation with empty or all-NA entries is deprecated. In a future version, this will no longer exclude empty or all-NA columns when determining the result dtypes. To retain the old behavior, exclude the relevant entries before the concat operation.\n",
      "  player_logs_concat = pd.concat(player_logs, ignore_index=True)\n"
     ]
    },
    {
     "name": "stdout",
     "output_type": "stream",
     "text": [
      "Fetching logs for player Kaiser Gates (ID: 1629232) for season 2020-21...\n",
      "Fetching logs for player Kaiser Gates (ID: 1629232) for season 2021-22...\n",
      "Fetching logs for player Kaiser Gates (ID: 1629232) for season 2022-23...\n",
      "Fetching logs for player Kaiser Gates (ID: 1629232) for season 2023-24...\n"
     ]
    },
    {
     "name": "stderr",
     "output_type": "stream",
     "text": [
      "C:\\Users\\jwag1\\AppData\\Local\\Temp\\ipykernel_32800\\3592326873.py:51: FutureWarning: The behavior of DataFrame concatenation with empty or all-NA entries is deprecated. In a future version, this will no longer exclude empty or all-NA columns when determining the result dtypes. To retain the old behavior, exclude the relevant entries before the concat operation.\n",
      "  player_logs_concat = pd.concat(player_logs, ignore_index=True)\n"
     ]
    },
    {
     "name": "stdout",
     "output_type": "stream",
     "text": [
      "Fetching logs for player Rudy Gay (ID: 200752) for season 2020-21...\n",
      "Fetching logs for player Rudy Gay (ID: 200752) for season 2021-22...\n",
      "Fetching logs for player Rudy Gay (ID: 200752) for season 2022-23...\n",
      "Fetching logs for player Rudy Gay (ID: 200752) for season 2023-24...\n"
     ]
    },
    {
     "name": "stderr",
     "output_type": "stream",
     "text": [
      "C:\\Users\\jwag1\\AppData\\Local\\Temp\\ipykernel_32800\\3592326873.py:51: FutureWarning: The behavior of DataFrame concatenation with empty or all-NA entries is deprecated. In a future version, this will no longer exclude empty or all-NA columns when determining the result dtypes. To retain the old behavior, exclude the relevant entries before the concat operation.\n",
      "  player_logs_concat = pd.concat(player_logs, ignore_index=True)\n"
     ]
    },
    {
     "name": "stdout",
     "output_type": "stream",
     "text": [
      "Fetching logs for player Keyonte George (ID: 1641718) for season 2020-21...\n",
      "Fetching logs for player Keyonte George (ID: 1641718) for season 2021-22...\n",
      "Fetching logs for player Keyonte George (ID: 1641718) for season 2022-23...\n",
      "Fetching logs for player Keyonte George (ID: 1641718) for season 2023-24...\n"
     ]
    },
    {
     "name": "stderr",
     "output_type": "stream",
     "text": [
      "C:\\Users\\jwag1\\AppData\\Local\\Temp\\ipykernel_32800\\3592326873.py:51: FutureWarning: The behavior of DataFrame concatenation with empty or all-NA entries is deprecated. In a future version, this will no longer exclude empty or all-NA columns when determining the result dtypes. To retain the old behavior, exclude the relevant entries before the concat operation.\n",
      "  player_logs_concat = pd.concat(player_logs, ignore_index=True)\n"
     ]
    },
    {
     "name": "stdout",
     "output_type": "stream",
     "text": [
      "Fetching logs for player Paul George (ID: 202331) for season 2020-21...\n",
      "Fetching logs for player Paul George (ID: 202331) for season 2021-22...\n",
      "Fetching logs for player Paul George (ID: 202331) for season 2022-23...\n",
      "Fetching logs for player Paul George (ID: 202331) for season 2023-24...\n",
      "Fetching logs for player Taj Gibson (ID: 201959) for season 2020-21...\n",
      "Fetching logs for player Taj Gibson (ID: 201959) for season 2021-22...\n",
      "Fetching logs for player Taj Gibson (ID: 201959) for season 2022-23...\n",
      "Fetching logs for player Taj Gibson (ID: 201959) for season 2023-24...\n",
      "Fetching logs for player Josh Giddey (ID: 1630581) for season 2020-21...\n",
      "Fetching logs for player Josh Giddey (ID: 1630581) for season 2021-22...\n",
      "Fetching logs for player Josh Giddey (ID: 1630581) for season 2022-23...\n",
      "Fetching logs for player Josh Giddey (ID: 1630581) for season 2023-24...\n"
     ]
    },
    {
     "name": "stderr",
     "output_type": "stream",
     "text": [
      "C:\\Users\\jwag1\\AppData\\Local\\Temp\\ipykernel_32800\\3592326873.py:51: FutureWarning: The behavior of DataFrame concatenation with empty or all-NA entries is deprecated. In a future version, this will no longer exclude empty or all-NA columns when determining the result dtypes. To retain the old behavior, exclude the relevant entries before the concat operation.\n",
      "  player_logs_concat = pd.concat(player_logs, ignore_index=True)\n"
     ]
    },
    {
     "name": "stdout",
     "output_type": "stream",
     "text": [
      "Fetching logs for player Harry Giles III (ID: 1628385) for season 2020-21...\n",
      "Fetching logs for player Harry Giles III (ID: 1628385) for season 2021-22...\n",
      "Fetching logs for player Harry Giles III (ID: 1628385) for season 2022-23...\n",
      "Fetching logs for player Harry Giles III (ID: 1628385) for season 2023-24...\n"
     ]
    },
    {
     "name": "stderr",
     "output_type": "stream",
     "text": [
      "C:\\Users\\jwag1\\AppData\\Local\\Temp\\ipykernel_32800\\3592326873.py:51: FutureWarning: The behavior of DataFrame concatenation with empty or all-NA entries is deprecated. In a future version, this will no longer exclude empty or all-NA columns when determining the result dtypes. To retain the old behavior, exclude the relevant entries before the concat operation.\n",
      "  player_logs_concat = pd.concat(player_logs, ignore_index=True)\n"
     ]
    },
    {
     "name": "stdout",
     "output_type": "stream",
     "text": [
      "Fetching logs for player Shai Gilgeous-Alexander (ID: 1628983) for season 2020-21...\n",
      "Fetching logs for player Shai Gilgeous-Alexander (ID: 1628983) for season 2021-22...\n",
      "Fetching logs for player Shai Gilgeous-Alexander (ID: 1628983) for season 2022-23...\n",
      "Fetching logs for player Shai Gilgeous-Alexander (ID: 1628983) for season 2023-24...\n",
      "Fetching logs for player Anthony Gill (ID: 1630264) for season 2020-21...\n",
      "Fetching logs for player Anthony Gill (ID: 1630264) for season 2021-22...\n",
      "Fetching logs for player Anthony Gill (ID: 1630264) for season 2022-23...\n",
      "Fetching logs for player Anthony Gill (ID: 1630264) for season 2023-24...\n",
      "Fetching logs for player Collin Gillespie (ID: 1631221) for season 2020-21...\n",
      "Fetching logs for player Collin Gillespie (ID: 1631221) for season 2021-22...\n",
      "Fetching logs for player Collin Gillespie (ID: 1631221) for season 2022-23...\n",
      "Fetching logs for player Collin Gillespie (ID: 1631221) for season 2023-24...\n"
     ]
    },
    {
     "name": "stderr",
     "output_type": "stream",
     "text": [
      "C:\\Users\\jwag1\\AppData\\Local\\Temp\\ipykernel_32800\\3592326873.py:51: FutureWarning: The behavior of DataFrame concatenation with empty or all-NA entries is deprecated. In a future version, this will no longer exclude empty or all-NA columns when determining the result dtypes. To retain the old behavior, exclude the relevant entries before the concat operation.\n",
      "  player_logs_concat = pd.concat(player_logs, ignore_index=True)\n"
     ]
    },
    {
     "name": "stdout",
     "output_type": "stream",
     "text": [
      "Fetching logs for player Freddie Gillespie (ID: 1630273) for season 2020-21...\n",
      "Fetching logs for player Freddie Gillespie (ID: 1630273) for season 2021-22...\n",
      "Fetching logs for player Freddie Gillespie (ID: 1630273) for season 2022-23...\n",
      "Fetching logs for player Freddie Gillespie (ID: 1630273) for season 2023-24...\n"
     ]
    },
    {
     "name": "stderr",
     "output_type": "stream",
     "text": [
      "C:\\Users\\jwag1\\AppData\\Local\\Temp\\ipykernel_32800\\3592326873.py:51: FutureWarning: The behavior of DataFrame concatenation with empty or all-NA entries is deprecated. In a future version, this will no longer exclude empty or all-NA columns when determining the result dtypes. To retain the old behavior, exclude the relevant entries before the concat operation.\n",
      "  player_logs_concat = pd.concat(player_logs, ignore_index=True)\n"
     ]
    },
    {
     "name": "stdout",
     "output_type": "stream",
     "text": [
      "Fetching logs for player Jacob Gilyard (ID: 1631367) for season 2020-21...\n",
      "Fetching logs for player Jacob Gilyard (ID: 1631367) for season 2021-22...\n",
      "Fetching logs for player Jacob Gilyard (ID: 1631367) for season 2022-23...\n",
      "Fetching logs for player Jacob Gilyard (ID: 1631367) for season 2023-24...\n"
     ]
    },
    {
     "name": "stderr",
     "output_type": "stream",
     "text": [
      "C:\\Users\\jwag1\\AppData\\Local\\Temp\\ipykernel_32800\\3592326873.py:51: FutureWarning: The behavior of DataFrame concatenation with empty or all-NA entries is deprecated. In a future version, this will no longer exclude empty or all-NA columns when determining the result dtypes. To retain the old behavior, exclude the relevant entries before the concat operation.\n",
      "  player_logs_concat = pd.concat(player_logs, ignore_index=True)\n"
     ]
    },
    {
     "name": "stdout",
     "output_type": "stream",
     "text": [
      "Fetching logs for player Rudy Gobert (ID: 203497) for season 2020-21...\n",
      "Fetching logs for player Rudy Gobert (ID: 203497) for season 2021-22...\n",
      "Fetching logs for player Rudy Gobert (ID: 203497) for season 2022-23...\n",
      "Fetching logs for player Rudy Gobert (ID: 203497) for season 2023-24...\n",
      "Fetching logs for player Brandon Goodwin (ID: 1629164) for season 2020-21...\n",
      "Fetching logs for player Brandon Goodwin (ID: 1629164) for season 2021-22...\n",
      "Fetching logs for player Brandon Goodwin (ID: 1629164) for season 2022-23...\n",
      "Fetching logs for player Brandon Goodwin (ID: 1629164) for season 2023-24...\n"
     ]
    },
    {
     "name": "stderr",
     "output_type": "stream",
     "text": [
      "C:\\Users\\jwag1\\AppData\\Local\\Temp\\ipykernel_32800\\3592326873.py:51: FutureWarning: The behavior of DataFrame concatenation with empty or all-NA entries is deprecated. In a future version, this will no longer exclude empty or all-NA columns when determining the result dtypes. To retain the old behavior, exclude the relevant entries before the concat operation.\n",
      "  player_logs_concat = pd.concat(player_logs, ignore_index=True)\n"
     ]
    },
    {
     "name": "stdout",
     "output_type": "stream",
     "text": [
      "Fetching logs for player Jordan Goodwin (ID: 1630692) for season 2020-21...\n",
      "Fetching logs for player Jordan Goodwin (ID: 1630692) for season 2021-22...\n",
      "Fetching logs for player Jordan Goodwin (ID: 1630692) for season 2022-23...\n",
      "Fetching logs for player Jordan Goodwin (ID: 1630692) for season 2023-24...\n"
     ]
    },
    {
     "name": "stderr",
     "output_type": "stream",
     "text": [
      "C:\\Users\\jwag1\\AppData\\Local\\Temp\\ipykernel_32800\\3592326873.py:51: FutureWarning: The behavior of DataFrame concatenation with empty or all-NA entries is deprecated. In a future version, this will no longer exclude empty or all-NA columns when determining the result dtypes. To retain the old behavior, exclude the relevant entries before the concat operation.\n",
      "  player_logs_concat = pd.concat(player_logs, ignore_index=True)\n"
     ]
    },
    {
     "name": "stdout",
     "output_type": "stream",
     "text": [
      "Fetching logs for player Aaron Gordon (ID: 203932) for season 2020-21...\n",
      "Fetching logs for player Aaron Gordon (ID: 203932) for season 2021-22...\n",
      "Fetching logs for player Aaron Gordon (ID: 203932) for season 2022-23...\n",
      "Fetching logs for player Aaron Gordon (ID: 203932) for season 2023-24...\n",
      "Fetching logs for player Eric Gordon (ID: 201569) for season 2020-21...\n",
      "Fetching logs for player Eric Gordon (ID: 201569) for season 2021-22...\n",
      "Fetching logs for player Eric Gordon (ID: 201569) for season 2022-23...\n",
      "Fetching logs for player Eric Gordon (ID: 201569) for season 2023-24...\n",
      "Fetching logs for player Devonte' Graham (ID: 1628984) for season 2020-21...\n",
      "Fetching logs for player Devonte' Graham (ID: 1628984) for season 2021-22...\n",
      "Fetching logs for player Devonte' Graham (ID: 1628984) for season 2022-23...\n",
      "Fetching logs for player Devonte' Graham (ID: 1628984) for season 2023-24...\n",
      "Fetching logs for player Jerami Grant (ID: 203924) for season 2020-21...\n",
      "Fetching logs for player Jerami Grant (ID: 203924) for season 2021-22...\n",
      "Fetching logs for player Jerami Grant (ID: 203924) for season 2022-23...\n",
      "Fetching logs for player Jerami Grant (ID: 203924) for season 2023-24...\n",
      "Fetching logs for player Hassani Gravett (ID: 1629755) for season 2020-21...\n",
      "Fetching logs for player Hassani Gravett (ID: 1629755) for season 2021-22...\n",
      "Fetching logs for player Hassani Gravett (ID: 1629755) for season 2022-23...\n",
      "Fetching logs for player Hassani Gravett (ID: 1629755) for season 2023-24...\n"
     ]
    },
    {
     "name": "stderr",
     "output_type": "stream",
     "text": [
      "C:\\Users\\jwag1\\AppData\\Local\\Temp\\ipykernel_32800\\3592326873.py:51: FutureWarning: The behavior of DataFrame concatenation with empty or all-NA entries is deprecated. In a future version, this will no longer exclude empty or all-NA columns when determining the result dtypes. To retain the old behavior, exclude the relevant entries before the concat operation.\n",
      "  player_logs_concat = pd.concat(player_logs, ignore_index=True)\n"
     ]
    },
    {
     "name": "stdout",
     "output_type": "stream",
     "text": [
      "Fetching logs for player RaiQuan Gray (ID: 1630564) for season 2020-21...\n",
      "Fetching logs for player RaiQuan Gray (ID: 1630564) for season 2021-22...\n",
      "Fetching logs for player RaiQuan Gray (ID: 1630564) for season 2022-23...\n",
      "Fetching logs for player RaiQuan Gray (ID: 1630564) for season 2023-24...\n"
     ]
    },
    {
     "name": "stderr",
     "output_type": "stream",
     "text": [
      "C:\\Users\\jwag1\\AppData\\Local\\Temp\\ipykernel_32800\\3592326873.py:51: FutureWarning: The behavior of DataFrame concatenation with empty or all-NA entries is deprecated. In a future version, this will no longer exclude empty or all-NA columns when determining the result dtypes. To retain the old behavior, exclude the relevant entries before the concat operation.\n",
      "  player_logs_concat = pd.concat(player_logs, ignore_index=True)\n"
     ]
    },
    {
     "name": "stdout",
     "output_type": "stream",
     "text": [
      "Fetching logs for player AJ Green (ID: 1631260) for season 2020-21...\n",
      "Fetching logs for player AJ Green (ID: 1631260) for season 2021-22...\n",
      "Fetching logs for player AJ Green (ID: 1631260) for season 2022-23...\n",
      "Fetching logs for player AJ Green (ID: 1631260) for season 2023-24...\n"
     ]
    },
    {
     "name": "stderr",
     "output_type": "stream",
     "text": [
      "C:\\Users\\jwag1\\AppData\\Local\\Temp\\ipykernel_32800\\3592326873.py:51: FutureWarning: The behavior of DataFrame concatenation with empty or all-NA entries is deprecated. In a future version, this will no longer exclude empty or all-NA columns when determining the result dtypes. To retain the old behavior, exclude the relevant entries before the concat operation.\n",
      "  player_logs_concat = pd.concat(player_logs, ignore_index=True)\n"
     ]
    },
    {
     "name": "stdout",
     "output_type": "stream",
     "text": [
      "Fetching logs for player Danny Green (ID: 201980) for season 2020-21...\n",
      "Fetching logs for player Danny Green (ID: 201980) for season 2021-22...\n",
      "Fetching logs for player Danny Green (ID: 201980) for season 2022-23...\n",
      "Fetching logs for player Danny Green (ID: 201980) for season 2023-24...\n",
      "Fetching logs for player Draymond Green (ID: 203110) for season 2020-21...\n",
      "Fetching logs for player Draymond Green (ID: 203110) for season 2021-22...\n",
      "Fetching logs for player Draymond Green (ID: 203110) for season 2022-23...\n",
      "Fetching logs for player Draymond Green (ID: 203110) for season 2023-24...\n",
      "Fetching logs for player JaMychal Green (ID: 203210) for season 2020-21...\n",
      "Fetching logs for player JaMychal Green (ID: 203210) for season 2021-22...\n",
      "Fetching logs for player JaMychal Green (ID: 203210) for season 2022-23...\n",
      "Fetching logs for player JaMychal Green (ID: 203210) for season 2023-24...\n"
     ]
    },
    {
     "name": "stderr",
     "output_type": "stream",
     "text": [
      "C:\\Users\\jwag1\\AppData\\Local\\Temp\\ipykernel_32800\\3592326873.py:51: FutureWarning: The behavior of DataFrame concatenation with empty or all-NA entries is deprecated. In a future version, this will no longer exclude empty or all-NA columns when determining the result dtypes. To retain the old behavior, exclude the relevant entries before the concat operation.\n",
      "  player_logs_concat = pd.concat(player_logs, ignore_index=True)\n"
     ]
    },
    {
     "name": "stdout",
     "output_type": "stream",
     "text": [
      "Fetching logs for player Jalen Green (ID: 1630224) for season 2020-21...\n",
      "Fetching logs for player Jalen Green (ID: 1630224) for season 2021-22...\n",
      "Fetching logs for player Jalen Green (ID: 1630224) for season 2022-23...\n",
      "Fetching logs for player Jalen Green (ID: 1630224) for season 2023-24...\n"
     ]
    },
    {
     "name": "stderr",
     "output_type": "stream",
     "text": [
      "C:\\Users\\jwag1\\AppData\\Local\\Temp\\ipykernel_32800\\3592326873.py:51: FutureWarning: The behavior of DataFrame concatenation with empty or all-NA entries is deprecated. In a future version, this will no longer exclude empty or all-NA columns when determining the result dtypes. To retain the old behavior, exclude the relevant entries before the concat operation.\n",
      "  player_logs_concat = pd.concat(player_logs, ignore_index=True)\n",
      "\r",
      " 33%|███▎      | 6/18 [10:41<21:13, 106.13s/it]"
     ]
    },
    {
     "name": "stdout",
     "output_type": "stream",
     "text": [
      "Processing batch 300 to 350...\n",
      "Fetching logs for player Javonte Green (ID: 1629750) for season 2020-21...\n",
      "Fetching logs for player Javonte Green (ID: 1629750) for season 2021-22...\n",
      "Fetching logs for player Javonte Green (ID: 1629750) for season 2022-23...\n",
      "Fetching logs for player Javonte Green (ID: 1629750) for season 2023-24...\n",
      "Fetching logs for player Jeff Green (ID: 201145) for season 2020-21...\n",
      "Fetching logs for player Jeff Green (ID: 201145) for season 2021-22...\n",
      "Fetching logs for player Jeff Green (ID: 201145) for season 2022-23...\n",
      "Fetching logs for player Jeff Green (ID: 201145) for season 2023-24...\n",
      "Fetching logs for player Josh Green (ID: 1630182) for season 2020-21...\n",
      "Fetching logs for player Josh Green (ID: 1630182) for season 2021-22...\n",
      "Fetching logs for player Josh Green (ID: 1630182) for season 2022-23...\n",
      "Fetching logs for player Josh Green (ID: 1630182) for season 2023-24...\n",
      "Fetching logs for player AJ Griffin (ID: 1631100) for season 2020-21...\n",
      "Fetching logs for player AJ Griffin (ID: 1631100) for season 2021-22...\n",
      "Fetching logs for player AJ Griffin (ID: 1631100) for season 2022-23...\n",
      "Fetching logs for player AJ Griffin (ID: 1631100) for season 2023-24...\n"
     ]
    },
    {
     "name": "stderr",
     "output_type": "stream",
     "text": [
      "C:\\Users\\jwag1\\AppData\\Local\\Temp\\ipykernel_32800\\3592326873.py:51: FutureWarning: The behavior of DataFrame concatenation with empty or all-NA entries is deprecated. In a future version, this will no longer exclude empty or all-NA columns when determining the result dtypes. To retain the old behavior, exclude the relevant entries before the concat operation.\n",
      "  player_logs_concat = pd.concat(player_logs, ignore_index=True)\n"
     ]
    },
    {
     "name": "stdout",
     "output_type": "stream",
     "text": [
      "Fetching logs for player Blake Griffin (ID: 201933) for season 2020-21...\n",
      "Fetching logs for player Blake Griffin (ID: 201933) for season 2021-22...\n",
      "Fetching logs for player Blake Griffin (ID: 201933) for season 2022-23...\n",
      "Fetching logs for player Blake Griffin (ID: 201933) for season 2023-24...\n"
     ]
    },
    {
     "name": "stderr",
     "output_type": "stream",
     "text": [
      "C:\\Users\\jwag1\\AppData\\Local\\Temp\\ipykernel_32800\\3592326873.py:51: FutureWarning: The behavior of DataFrame concatenation with empty or all-NA entries is deprecated. In a future version, this will no longer exclude empty or all-NA columns when determining the result dtypes. To retain the old behavior, exclude the relevant entries before the concat operation.\n",
      "  player_logs_concat = pd.concat(player_logs, ignore_index=True)\n"
     ]
    },
    {
     "name": "stdout",
     "output_type": "stream",
     "text": [
      "Fetching logs for player Quentin Grimes (ID: 1629656) for season 2020-21...\n",
      "Fetching logs for player Quentin Grimes (ID: 1629656) for season 2021-22...\n",
      "Fetching logs for player Quentin Grimes (ID: 1629656) for season 2022-23...\n",
      "Fetching logs for player Quentin Grimes (ID: 1629656) for season 2023-24...\n"
     ]
    },
    {
     "name": "stderr",
     "output_type": "stream",
     "text": [
      "C:\\Users\\jwag1\\AppData\\Local\\Temp\\ipykernel_32800\\3592326873.py:51: FutureWarning: The behavior of DataFrame concatenation with empty or all-NA entries is deprecated. In a future version, this will no longer exclude empty or all-NA columns when determining the result dtypes. To retain the old behavior, exclude the relevant entries before the concat operation.\n",
      "  player_logs_concat = pd.concat(player_logs, ignore_index=True)\n"
     ]
    },
    {
     "name": "stdout",
     "output_type": "stream",
     "text": [
      "Fetching logs for player Mouhamadou Gueye (ID: 1631338) for season 2020-21...\n",
      "Fetching logs for player Mouhamadou Gueye (ID: 1631338) for season 2021-22...\n",
      "Fetching logs for player Mouhamadou Gueye (ID: 1631338) for season 2022-23...\n",
      "Fetching logs for player Mouhamadou Gueye (ID: 1631338) for season 2023-24...\n"
     ]
    },
    {
     "name": "stderr",
     "output_type": "stream",
     "text": [
      "C:\\Users\\jwag1\\AppData\\Local\\Temp\\ipykernel_32800\\3592326873.py:51: FutureWarning: The behavior of DataFrame concatenation with empty or all-NA entries is deprecated. In a future version, this will no longer exclude empty or all-NA columns when determining the result dtypes. To retain the old behavior, exclude the relevant entries before the concat operation.\n",
      "  player_logs_concat = pd.concat(player_logs, ignore_index=True)\n"
     ]
    },
    {
     "name": "stdout",
     "output_type": "stream",
     "text": [
      "Fetching logs for player Mouhamed Gueye (ID: 1631243) for season 2020-21...\n",
      "Fetching logs for player Mouhamed Gueye (ID: 1631243) for season 2021-22...\n",
      "Fetching logs for player Mouhamed Gueye (ID: 1631243) for season 2022-23...\n",
      "Fetching logs for player Mouhamed Gueye (ID: 1631243) for season 2023-24...\n"
     ]
    },
    {
     "name": "stderr",
     "output_type": "stream",
     "text": [
      "C:\\Users\\jwag1\\AppData\\Local\\Temp\\ipykernel_32800\\3592326873.py:51: FutureWarning: The behavior of DataFrame concatenation with empty or all-NA entries is deprecated. In a future version, this will no longer exclude empty or all-NA columns when determining the result dtypes. To retain the old behavior, exclude the relevant entries before the concat operation.\n",
      "  player_logs_concat = pd.concat(player_logs, ignore_index=True)\n"
     ]
    },
    {
     "name": "stdout",
     "output_type": "stream",
     "text": [
      "Fetching logs for player Kyle Guy (ID: 1629657) for season 2020-21...\n",
      "Fetching logs for player Kyle Guy (ID: 1629657) for season 2021-22...\n",
      "Fetching logs for player Kyle Guy (ID: 1629657) for season 2022-23...\n",
      "Fetching logs for player Kyle Guy (ID: 1629657) for season 2023-24...\n"
     ]
    },
    {
     "name": "stderr",
     "output_type": "stream",
     "text": [
      "C:\\Users\\jwag1\\AppData\\Local\\Temp\\ipykernel_32800\\3592326873.py:51: FutureWarning: The behavior of DataFrame concatenation with empty or all-NA entries is deprecated. In a future version, this will no longer exclude empty or all-NA columns when determining the result dtypes. To retain the old behavior, exclude the relevant entries before the concat operation.\n",
      "  player_logs_concat = pd.concat(player_logs, ignore_index=True)\n"
     ]
    },
    {
     "name": "stdout",
     "output_type": "stream",
     "text": [
      "Fetching logs for player Rui Hachimura (ID: 1629060) for season 2020-21...\n",
      "Fetching logs for player Rui Hachimura (ID: 1629060) for season 2021-22...\n",
      "Fetching logs for player Rui Hachimura (ID: 1629060) for season 2022-23...\n",
      "Fetching logs for player Rui Hachimura (ID: 1629060) for season 2023-24...\n",
      "Fetching logs for player Ashton Hagans (ID: 1630204) for season 2020-21...\n",
      "Fetching logs for player Ashton Hagans (ID: 1630204) for season 2021-22...\n",
      "Fetching logs for player Ashton Hagans (ID: 1630204) for season 2022-23...\n",
      "Fetching logs for player Ashton Hagans (ID: 1630204) for season 2023-24...\n"
     ]
    },
    {
     "name": "stderr",
     "output_type": "stream",
     "text": [
      "C:\\Users\\jwag1\\AppData\\Local\\Temp\\ipykernel_32800\\3592326873.py:51: FutureWarning: The behavior of DataFrame concatenation with empty or all-NA entries is deprecated. In a future version, this will no longer exclude empty or all-NA columns when determining the result dtypes. To retain the old behavior, exclude the relevant entries before the concat operation.\n",
      "  player_logs_concat = pd.concat(player_logs, ignore_index=True)\n"
     ]
    },
    {
     "name": "stdout",
     "output_type": "stream",
     "text": [
      "Fetching logs for player Tyrese Haliburton (ID: 1630169) for season 2020-21...\n",
      "Fetching logs for player Tyrese Haliburton (ID: 1630169) for season 2021-22...\n",
      "Fetching logs for player Tyrese Haliburton (ID: 1630169) for season 2022-23...\n",
      "Fetching logs for player Tyrese Haliburton (ID: 1630169) for season 2023-24...\n",
      "Fetching logs for player Donta Hall (ID: 1629743) for season 2020-21...\n",
      "Fetching logs for player Donta Hall (ID: 1629743) for season 2021-22...\n",
      "Fetching logs for player Donta Hall (ID: 1629743) for season 2022-23...\n",
      "Fetching logs for player Donta Hall (ID: 1629743) for season 2023-24...\n"
     ]
    },
    {
     "name": "stderr",
     "output_type": "stream",
     "text": [
      "C:\\Users\\jwag1\\AppData\\Local\\Temp\\ipykernel_32800\\3592326873.py:51: FutureWarning: The behavior of DataFrame concatenation with empty or all-NA entries is deprecated. In a future version, this will no longer exclude empty or all-NA columns when determining the result dtypes. To retain the old behavior, exclude the relevant entries before the concat operation.\n",
      "  player_logs_concat = pd.concat(player_logs, ignore_index=True)\n"
     ]
    },
    {
     "name": "stdout",
     "output_type": "stream",
     "text": [
      "Fetching logs for player Jordan Hall (ID: 1631160) for season 2020-21...\n",
      "Fetching logs for player Jordan Hall (ID: 1631160) for season 2021-22...\n",
      "Fetching logs for player Jordan Hall (ID: 1631160) for season 2022-23...\n",
      "Fetching logs for player Jordan Hall (ID: 1631160) for season 2023-24...\n"
     ]
    },
    {
     "name": "stderr",
     "output_type": "stream",
     "text": [
      "C:\\Users\\jwag1\\AppData\\Local\\Temp\\ipykernel_32800\\3592326873.py:51: FutureWarning: The behavior of DataFrame concatenation with empty or all-NA entries is deprecated. In a future version, this will no longer exclude empty or all-NA columns when determining the result dtypes. To retain the old behavior, exclude the relevant entries before the concat operation.\n",
      "  player_logs_concat = pd.concat(player_logs, ignore_index=True)\n"
     ]
    },
    {
     "name": "stdout",
     "output_type": "stream",
     "text": [
      "Fetching logs for player Josh Hall (ID: 1630221) for season 2020-21...\n",
      "Fetching logs for player Josh Hall (ID: 1630221) for season 2021-22...\n",
      "Fetching logs for player Josh Hall (ID: 1630221) for season 2022-23...\n",
      "Fetching logs for player Josh Hall (ID: 1630221) for season 2023-24...\n"
     ]
    },
    {
     "name": "stderr",
     "output_type": "stream",
     "text": [
      "C:\\Users\\jwag1\\AppData\\Local\\Temp\\ipykernel_32800\\3592326873.py:51: FutureWarning: The behavior of DataFrame concatenation with empty or all-NA entries is deprecated. In a future version, this will no longer exclude empty or all-NA columns when determining the result dtypes. To retain the old behavior, exclude the relevant entries before the concat operation.\n",
      "  player_logs_concat = pd.concat(player_logs, ignore_index=True)\n"
     ]
    },
    {
     "name": "stdout",
     "output_type": "stream",
     "text": [
      "Fetching logs for player Tyler Hall (ID: 1629788) for season 2020-21...\n",
      "Fetching logs for player Tyler Hall (ID: 1629788) for season 2021-22...\n",
      "Fetching logs for player Tyler Hall (ID: 1629788) for season 2022-23...\n",
      "Fetching logs for player Tyler Hall (ID: 1629788) for season 2023-24...\n"
     ]
    },
    {
     "name": "stderr",
     "output_type": "stream",
     "text": [
      "C:\\Users\\jwag1\\AppData\\Local\\Temp\\ipykernel_32800\\3592326873.py:51: FutureWarning: The behavior of DataFrame concatenation with empty or all-NA entries is deprecated. In a future version, this will no longer exclude empty or all-NA columns when determining the result dtypes. To retain the old behavior, exclude the relevant entries before the concat operation.\n",
      "  player_logs_concat = pd.concat(player_logs, ignore_index=True)\n"
     ]
    },
    {
     "name": "stdout",
     "output_type": "stream",
     "text": [
      "Fetching logs for player R.J. Hampton (ID: 1630181) for season 2020-21...\n",
      "Fetching logs for player R.J. Hampton (ID: 1630181) for season 2021-22...\n",
      "Fetching logs for player R.J. Hampton (ID: 1630181) for season 2022-23...\n",
      "Fetching logs for player R.J. Hampton (ID: 1630181) for season 2023-24...\n",
      "Fetching logs for player Tim Hardaway Jr. (ID: 203501) for season 2020-21...\n",
      "Fetching logs for player Tim Hardaway Jr. (ID: 203501) for season 2021-22...\n",
      "Fetching logs for player Tim Hardaway Jr. (ID: 203501) for season 2022-23...\n",
      "Fetching logs for player Tim Hardaway Jr. (ID: 203501) for season 2023-24...\n",
      "Fetching logs for player James Harden (ID: 201935) for season 2020-21...\n",
      "Fetching logs for player James Harden (ID: 201935) for season 2021-22...\n",
      "Fetching logs for player James Harden (ID: 201935) for season 2022-23...\n",
      "Fetching logs for player James Harden (ID: 201935) for season 2023-24...\n",
      "Fetching logs for player Jaden Hardy (ID: 1630702) for season 2020-21...\n",
      "Fetching logs for player Jaden Hardy (ID: 1630702) for season 2021-22...\n",
      "Fetching logs for player Jaden Hardy (ID: 1630702) for season 2022-23...\n",
      "Fetching logs for player Jaden Hardy (ID: 1630702) for season 2023-24...\n"
     ]
    },
    {
     "name": "stderr",
     "output_type": "stream",
     "text": [
      "C:\\Users\\jwag1\\AppData\\Local\\Temp\\ipykernel_32800\\3592326873.py:51: FutureWarning: The behavior of DataFrame concatenation with empty or all-NA entries is deprecated. In a future version, this will no longer exclude empty or all-NA columns when determining the result dtypes. To retain the old behavior, exclude the relevant entries before the concat operation.\n",
      "  player_logs_concat = pd.concat(player_logs, ignore_index=True)\n"
     ]
    },
    {
     "name": "stdout",
     "output_type": "stream",
     "text": [
      "Fetching logs for player Maurice Harkless (ID: 203090) for season 2020-21...\n",
      "Fetching logs for player Maurice Harkless (ID: 203090) for season 2021-22...\n",
      "Fetching logs for player Maurice Harkless (ID: 203090) for season 2022-23...\n",
      "Fetching logs for player Maurice Harkless (ID: 203090) for season 2023-24...\n"
     ]
    },
    {
     "name": "stderr",
     "output_type": "stream",
     "text": [
      "C:\\Users\\jwag1\\AppData\\Local\\Temp\\ipykernel_32800\\3592326873.py:51: FutureWarning: The behavior of DataFrame concatenation with empty or all-NA entries is deprecated. In a future version, this will no longer exclude empty or all-NA columns when determining the result dtypes. To retain the old behavior, exclude the relevant entries before the concat operation.\n",
      "  player_logs_concat = pd.concat(player_logs, ignore_index=True)\n"
     ]
    },
    {
     "name": "stdout",
     "output_type": "stream",
     "text": [
      "Fetching logs for player Jared Harper (ID: 1629607) for season 2020-21...\n",
      "Fetching logs for player Jared Harper (ID: 1629607) for season 2021-22...\n",
      "Fetching logs for player Jared Harper (ID: 1629607) for season 2022-23...\n",
      "Fetching logs for player Jared Harper (ID: 1629607) for season 2023-24...\n"
     ]
    },
    {
     "name": "stderr",
     "output_type": "stream",
     "text": [
      "C:\\Users\\jwag1\\AppData\\Local\\Temp\\ipykernel_32800\\3592326873.py:51: FutureWarning: The behavior of DataFrame concatenation with empty or all-NA entries is deprecated. In a future version, this will no longer exclude empty or all-NA columns when determining the result dtypes. To retain the old behavior, exclude the relevant entries before the concat operation.\n",
      "  player_logs_concat = pd.concat(player_logs, ignore_index=True)\n"
     ]
    },
    {
     "name": "stdout",
     "output_type": "stream",
     "text": [
      "Fetching logs for player Ron Harper Jr. (ID: 1631199) for season 2020-21...\n",
      "Fetching logs for player Ron Harper Jr. (ID: 1631199) for season 2021-22...\n",
      "Fetching logs for player Ron Harper Jr. (ID: 1631199) for season 2022-23...\n",
      "Fetching logs for player Ron Harper Jr. (ID: 1631199) for season 2023-24...\n"
     ]
    },
    {
     "name": "stderr",
     "output_type": "stream",
     "text": [
      "C:\\Users\\jwag1\\AppData\\Local\\Temp\\ipykernel_32800\\3592326873.py:51: FutureWarning: The behavior of DataFrame concatenation with empty or all-NA entries is deprecated. In a future version, this will no longer exclude empty or all-NA columns when determining the result dtypes. To retain the old behavior, exclude the relevant entries before the concat operation.\n",
      "  player_logs_concat = pd.concat(player_logs, ignore_index=True)\n"
     ]
    },
    {
     "name": "stdout",
     "output_type": "stream",
     "text": [
      "Fetching logs for player Montrezl Harrell (ID: 1626149) for season 2020-21...\n",
      "Fetching logs for player Montrezl Harrell (ID: 1626149) for season 2021-22...\n",
      "Fetching logs for player Montrezl Harrell (ID: 1626149) for season 2022-23...\n",
      "Fetching logs for player Montrezl Harrell (ID: 1626149) for season 2023-24...\n"
     ]
    },
    {
     "name": "stderr",
     "output_type": "stream",
     "text": [
      "C:\\Users\\jwag1\\AppData\\Local\\Temp\\ipykernel_32800\\3592326873.py:51: FutureWarning: The behavior of DataFrame concatenation with empty or all-NA entries is deprecated. In a future version, this will no longer exclude empty or all-NA columns when determining the result dtypes. To retain the old behavior, exclude the relevant entries before the concat operation.\n",
      "  player_logs_concat = pd.concat(player_logs, ignore_index=True)\n"
     ]
    },
    {
     "name": "stdout",
     "output_type": "stream",
     "text": [
      "Fetching logs for player Gary Harris (ID: 203914) for season 2020-21...\n",
      "Fetching logs for player Gary Harris (ID: 203914) for season 2021-22...\n",
      "Fetching logs for player Gary Harris (ID: 203914) for season 2022-23...\n",
      "Fetching logs for player Gary Harris (ID: 203914) for season 2023-24...\n",
      "Fetching logs for player Jalen Harris (ID: 1630223) for season 2020-21...\n",
      "Fetching logs for player Jalen Harris (ID: 1630223) for season 2021-22...\n",
      "Fetching logs for player Jalen Harris (ID: 1630223) for season 2022-23...\n",
      "Fetching logs for player Jalen Harris (ID: 1630223) for season 2023-24...\n"
     ]
    },
    {
     "name": "stderr",
     "output_type": "stream",
     "text": [
      "C:\\Users\\jwag1\\AppData\\Local\\Temp\\ipykernel_32800\\3592326873.py:51: FutureWarning: The behavior of DataFrame concatenation with empty or all-NA entries is deprecated. In a future version, this will no longer exclude empty or all-NA columns when determining the result dtypes. To retain the old behavior, exclude the relevant entries before the concat operation.\n",
      "  player_logs_concat = pd.concat(player_logs, ignore_index=True)\n"
     ]
    },
    {
     "name": "stdout",
     "output_type": "stream",
     "text": [
      "Fetching logs for player Joe Harris (ID: 203925) for season 2020-21...\n",
      "Fetching logs for player Joe Harris (ID: 203925) for season 2021-22...\n",
      "Fetching logs for player Joe Harris (ID: 203925) for season 2022-23...\n",
      "Fetching logs for player Joe Harris (ID: 203925) for season 2023-24...\n",
      "Fetching logs for player Kevon Harris (ID: 1630284) for season 2020-21...\n",
      "Fetching logs for player Kevon Harris (ID: 1630284) for season 2021-22...\n",
      "Fetching logs for player Kevon Harris (ID: 1630284) for season 2022-23...\n",
      "Fetching logs for player Kevon Harris (ID: 1630284) for season 2023-24...\n"
     ]
    },
    {
     "name": "stderr",
     "output_type": "stream",
     "text": [
      "C:\\Users\\jwag1\\AppData\\Local\\Temp\\ipykernel_32800\\3592326873.py:51: FutureWarning: The behavior of DataFrame concatenation with empty or all-NA entries is deprecated. In a future version, this will no longer exclude empty or all-NA columns when determining the result dtypes. To retain the old behavior, exclude the relevant entries before the concat operation.\n",
      "  player_logs_concat = pd.concat(player_logs, ignore_index=True)\n"
     ]
    },
    {
     "name": "stdout",
     "output_type": "stream",
     "text": [
      "Fetching logs for player Tobias Harris (ID: 202699) for season 2020-21...\n",
      "Fetching logs for player Tobias Harris (ID: 202699) for season 2021-22...\n",
      "Fetching logs for player Tobias Harris (ID: 202699) for season 2022-23...\n",
      "Fetching logs for player Tobias Harris (ID: 202699) for season 2023-24...\n",
      "Fetching logs for player Shaquille Harrison (ID: 1627885) for season 2020-21...\n",
      "Fetching logs for player Shaquille Harrison (ID: 1627885) for season 2021-22...\n",
      "Fetching logs for player Shaquille Harrison (ID: 1627885) for season 2022-23...\n",
      "Fetching logs for player Shaquille Harrison (ID: 1627885) for season 2023-24...\n",
      "Fetching logs for player Josh Hart (ID: 1628404) for season 2020-21...\n",
      "Fetching logs for player Josh Hart (ID: 1628404) for season 2021-22...\n",
      "Fetching logs for player Josh Hart (ID: 1628404) for season 2022-23...\n",
      "Fetching logs for player Josh Hart (ID: 1628404) for season 2023-24...\n",
      "Fetching logs for player Isaiah Hartenstein (ID: 1628392) for season 2020-21...\n",
      "Fetching logs for player Isaiah Hartenstein (ID: 1628392) for season 2021-22...\n",
      "Fetching logs for player Isaiah Hartenstein (ID: 1628392) for season 2022-23...\n",
      "Fetching logs for player Isaiah Hartenstein (ID: 1628392) for season 2023-24...\n",
      "Fetching logs for player Udonis Haslem (ID: 2617) for season 2020-21...\n",
      "Fetching logs for player Udonis Haslem (ID: 2617) for season 2021-22...\n",
      "Fetching logs for player Udonis Haslem (ID: 2617) for season 2022-23...\n",
      "Fetching logs for player Udonis Haslem (ID: 2617) for season 2023-24...\n"
     ]
    },
    {
     "name": "stderr",
     "output_type": "stream",
     "text": [
      "C:\\Users\\jwag1\\AppData\\Local\\Temp\\ipykernel_32800\\3592326873.py:51: FutureWarning: The behavior of DataFrame concatenation with empty or all-NA entries is deprecated. In a future version, this will no longer exclude empty or all-NA columns when determining the result dtypes. To retain the old behavior, exclude the relevant entries before the concat operation.\n",
      "  player_logs_concat = pd.concat(player_logs, ignore_index=True)\n"
     ]
    },
    {
     "name": "stdout",
     "output_type": "stream",
     "text": [
      "Fetching logs for player Sam Hauser (ID: 1630573) for season 2020-21...\n",
      "Fetching logs for player Sam Hauser (ID: 1630573) for season 2021-22...\n",
      "Fetching logs for player Sam Hauser (ID: 1630573) for season 2022-23...\n",
      "Fetching logs for player Sam Hauser (ID: 1630573) for season 2023-24...\n"
     ]
    },
    {
     "name": "stderr",
     "output_type": "stream",
     "text": [
      "C:\\Users\\jwag1\\AppData\\Local\\Temp\\ipykernel_32800\\3592326873.py:51: FutureWarning: The behavior of DataFrame concatenation with empty or all-NA entries is deprecated. In a future version, this will no longer exclude empty or all-NA columns when determining the result dtypes. To retain the old behavior, exclude the relevant entries before the concat operation.\n",
      "  player_logs_concat = pd.concat(player_logs, ignore_index=True)\n"
     ]
    },
    {
     "name": "stdout",
     "output_type": "stream",
     "text": [
      "Fetching logs for player Jordan Hawkins (ID: 1641722) for season 2020-21...\n",
      "Fetching logs for player Jordan Hawkins (ID: 1641722) for season 2021-22...\n",
      "Fetching logs for player Jordan Hawkins (ID: 1641722) for season 2022-23...\n",
      "Fetching logs for player Jordan Hawkins (ID: 1641722) for season 2023-24...\n"
     ]
    },
    {
     "name": "stderr",
     "output_type": "stream",
     "text": [
      "C:\\Users\\jwag1\\AppData\\Local\\Temp\\ipykernel_32800\\3592326873.py:51: FutureWarning: The behavior of DataFrame concatenation with empty or all-NA entries is deprecated. In a future version, this will no longer exclude empty or all-NA columns when determining the result dtypes. To retain the old behavior, exclude the relevant entries before the concat operation.\n",
      "  player_logs_concat = pd.concat(player_logs, ignore_index=True)\n"
     ]
    },
    {
     "name": "stdout",
     "output_type": "stream",
     "text": [
      "Fetching logs for player Jaxson Hayes (ID: 1629637) for season 2020-21...\n",
      "Fetching logs for player Jaxson Hayes (ID: 1629637) for season 2021-22...\n",
      "Fetching logs for player Jaxson Hayes (ID: 1629637) for season 2022-23...\n",
      "Fetching logs for player Jaxson Hayes (ID: 1629637) for season 2023-24...\n",
      "Fetching logs for player Killian Hayes (ID: 1630165) for season 2020-21...\n",
      "Fetching logs for player Killian Hayes (ID: 1630165) for season 2021-22...\n",
      "Fetching logs for player Killian Hayes (ID: 1630165) for season 2022-23...\n",
      "Fetching logs for player Killian Hayes (ID: 1630165) for season 2023-24...\n",
      "Fetching logs for player Gordon Hayward (ID: 202330) for season 2020-21...\n",
      "Fetching logs for player Gordon Hayward (ID: 202330) for season 2021-22...\n",
      "Fetching logs for player Gordon Hayward (ID: 202330) for season 2022-23...\n",
      "Fetching logs for player Gordon Hayward (ID: 202330) for season 2023-24...\n",
      "Fetching logs for player Scoot Henderson (ID: 1630703) for season 2020-21...\n",
      "Fetching logs for player Scoot Henderson (ID: 1630703) for season 2021-22...\n",
      "Fetching logs for player Scoot Henderson (ID: 1630703) for season 2022-23...\n",
      "Fetching logs for player Scoot Henderson (ID: 1630703) for season 2023-24...\n"
     ]
    },
    {
     "name": "stderr",
     "output_type": "stream",
     "text": [
      "C:\\Users\\jwag1\\AppData\\Local\\Temp\\ipykernel_32800\\3592326873.py:51: FutureWarning: The behavior of DataFrame concatenation with empty or all-NA entries is deprecated. In a future version, this will no longer exclude empty or all-NA columns when determining the result dtypes. To retain the old behavior, exclude the relevant entries before the concat operation.\n",
      "  player_logs_concat = pd.concat(player_logs, ignore_index=True)\n"
     ]
    },
    {
     "name": "stdout",
     "output_type": "stream",
     "text": [
      "Fetching logs for player Taylor Hendricks (ID: 1641707) for season 2020-21...\n",
      "Fetching logs for player Taylor Hendricks (ID: 1641707) for season 2021-22...\n",
      "Fetching logs for player Taylor Hendricks (ID: 1641707) for season 2022-23...\n",
      "Fetching logs for player Taylor Hendricks (ID: 1641707) for season 2023-24...\n"
     ]
    },
    {
     "name": "stderr",
     "output_type": "stream",
     "text": [
      "C:\\Users\\jwag1\\AppData\\Local\\Temp\\ipykernel_32800\\3592326873.py:51: FutureWarning: The behavior of DataFrame concatenation with empty or all-NA entries is deprecated. In a future version, this will no longer exclude empty or all-NA columns when determining the result dtypes. To retain the old behavior, exclude the relevant entries before the concat operation.\n",
      "  player_logs_concat = pd.concat(player_logs, ignore_index=True)\n"
     ]
    },
    {
     "name": "stdout",
     "output_type": "stream",
     "text": [
      "Fetching logs for player Aaron Henry (ID: 1630565) for season 2020-21...\n",
      "Fetching logs for player Aaron Henry (ID: 1630565) for season 2021-22...\n",
      "Fetching logs for player Aaron Henry (ID: 1630565) for season 2022-23...\n",
      "Fetching logs for player Aaron Henry (ID: 1630565) for season 2023-24...\n"
     ]
    },
    {
     "name": "stderr",
     "output_type": "stream",
     "text": [
      "C:\\Users\\jwag1\\AppData\\Local\\Temp\\ipykernel_32800\\3592326873.py:51: FutureWarning: The behavior of DataFrame concatenation with empty or all-NA entries is deprecated. In a future version, this will no longer exclude empty or all-NA columns when determining the result dtypes. To retain the old behavior, exclude the relevant entries before the concat operation.\n",
      "  player_logs_concat = pd.concat(player_logs, ignore_index=True)\n"
     ]
    },
    {
     "name": "stdout",
     "output_type": "stream",
     "text": [
      "Fetching logs for player Juancho Hernangomez (ID: 1627823) for season 2020-21...\n",
      "Fetching logs for player Juancho Hernangomez (ID: 1627823) for season 2021-22...\n",
      "Fetching logs for player Juancho Hernangomez (ID: 1627823) for season 2022-23...\n",
      "Fetching logs for player Juancho Hernangomez (ID: 1627823) for season 2023-24...\n"
     ]
    },
    {
     "name": "stderr",
     "output_type": "stream",
     "text": [
      "C:\\Users\\jwag1\\AppData\\Local\\Temp\\ipykernel_32800\\3592326873.py:51: FutureWarning: The behavior of DataFrame concatenation with empty or all-NA entries is deprecated. In a future version, this will no longer exclude empty or all-NA columns when determining the result dtypes. To retain the old behavior, exclude the relevant entries before the concat operation.\n",
      "  player_logs_concat = pd.concat(player_logs, ignore_index=True)\n"
     ]
    },
    {
     "name": "stdout",
     "output_type": "stream",
     "text": [
      "Fetching logs for player Willy Hernangomez (ID: 1626195) for season 2020-21...\n",
      "Fetching logs for player Willy Hernangomez (ID: 1626195) for season 2021-22...\n",
      "Fetching logs for player Willy Hernangomez (ID: 1626195) for season 2022-23...\n",
      "Fetching logs for player Willy Hernangomez (ID: 1626195) for season 2023-24...\n"
     ]
    },
    {
     "name": "stderr",
     "output_type": "stream",
     "text": [
      "C:\\Users\\jwag1\\AppData\\Local\\Temp\\ipykernel_32800\\3592326873.py:51: FutureWarning: The behavior of DataFrame concatenation with empty or all-NA entries is deprecated. In a future version, this will no longer exclude empty or all-NA columns when determining the result dtypes. To retain the old behavior, exclude the relevant entries before the concat operation.\n",
      "  player_logs_concat = pd.concat(player_logs, ignore_index=True)\n"
     ]
    },
    {
     "name": "stdout",
     "output_type": "stream",
     "text": [
      "Fetching logs for player Tyler Herro (ID: 1629639) for season 2020-21...\n",
      "Fetching logs for player Tyler Herro (ID: 1629639) for season 2021-22...\n",
      "Fetching logs for player Tyler Herro (ID: 1629639) for season 2022-23...\n",
      "Fetching logs for player Tyler Herro (ID: 1629639) for season 2023-24...\n",
      "Fetching logs for player Buddy Hield (ID: 1627741) for season 2020-21...\n",
      "Fetching logs for player Buddy Hield (ID: 1627741) for season 2021-22...\n",
      "Fetching logs for player Buddy Hield (ID: 1627741) for season 2022-23...\n",
      "Fetching logs for player Buddy Hield (ID: 1627741) for season 2023-24...\n",
      "Fetching logs for player Haywood Highsmith (ID: 1629312) for season 2020-21...\n",
      "Fetching logs for player Haywood Highsmith (ID: 1629312) for season 2021-22...\n",
      "Fetching logs for player Haywood Highsmith (ID: 1629312) for season 2022-23...\n",
      "Fetching logs for player Haywood Highsmith (ID: 1629312) for season 2023-24...\n"
     ]
    },
    {
     "name": "stderr",
     "output_type": "stream",
     "text": [
      "C:\\Users\\jwag1\\AppData\\Local\\Temp\\ipykernel_32800\\3592326873.py:51: FutureWarning: The behavior of DataFrame concatenation with empty or all-NA entries is deprecated. In a future version, this will no longer exclude empty or all-NA columns when determining the result dtypes. To retain the old behavior, exclude the relevant entries before the concat operation.\n",
      "  player_logs_concat = pd.concat(player_logs, ignore_index=True)\n"
     ]
    },
    {
     "name": "stdout",
     "output_type": "stream",
     "text": [
      "Fetching logs for player George Hill (ID: 201588) for season 2020-21...\n",
      "Fetching logs for player George Hill (ID: 201588) for season 2021-22...\n",
      "Fetching logs for player George Hill (ID: 201588) for season 2022-23...\n",
      "Fetching logs for player George Hill (ID: 201588) for season 2023-24...\n"
     ]
    },
    {
     "name": "stderr",
     "output_type": "stream",
     "text": [
      "C:\\Users\\jwag1\\AppData\\Local\\Temp\\ipykernel_32800\\3592326873.py:51: FutureWarning: The behavior of DataFrame concatenation with empty or all-NA entries is deprecated. In a future version, this will no longer exclude empty or all-NA columns when determining the result dtypes. To retain the old behavior, exclude the relevant entries before the concat operation.\n",
      "  player_logs_concat = pd.concat(player_logs, ignore_index=True)\n"
     ]
    },
    {
     "name": "stdout",
     "output_type": "stream",
     "text": [
      "Fetching logs for player Malcolm Hill (ID: 1630792) for season 2020-21...\n",
      "Fetching logs for player Malcolm Hill (ID: 1630792) for season 2021-22...\n",
      "Fetching logs for player Malcolm Hill (ID: 1630792) for season 2022-23...\n",
      "Fetching logs for player Malcolm Hill (ID: 1630792) for season 2023-24...\n"
     ]
    },
    {
     "name": "stderr",
     "output_type": "stream",
     "text": [
      "C:\\Users\\jwag1\\AppData\\Local\\Temp\\ipykernel_32800\\3592326873.py:51: FutureWarning: The behavior of DataFrame concatenation with empty or all-NA entries is deprecated. In a future version, this will no longer exclude empty or all-NA columns when determining the result dtypes. To retain the old behavior, exclude the relevant entries before the concat operation.\n",
      "  player_logs_concat = pd.concat(player_logs, ignore_index=True)\n"
     ]
    },
    {
     "name": "stdout",
     "output_type": "stream",
     "text": [
      "Fetching logs for player Solomon Hill (ID: 203524) for season 2020-21...\n",
      "Fetching logs for player Solomon Hill (ID: 203524) for season 2021-22...\n",
      "Fetching logs for player Solomon Hill (ID: 203524) for season 2022-23...\n",
      "Fetching logs for player Solomon Hill (ID: 203524) for season 2023-24...\n"
     ]
    },
    {
     "name": "stderr",
     "output_type": "stream",
     "text": [
      "C:\\Users\\jwag1\\AppData\\Local\\Temp\\ipykernel_32800\\3592326873.py:51: FutureWarning: The behavior of DataFrame concatenation with empty or all-NA entries is deprecated. In a future version, this will no longer exclude empty or all-NA columns when determining the result dtypes. To retain the old behavior, exclude the relevant entries before the concat operation.\n",
      "  player_logs_concat = pd.concat(player_logs, ignore_index=True)\n"
     ]
    },
    {
     "name": "stdout",
     "output_type": "stream",
     "text": [
      "Fetching logs for player Nate Hinton (ID: 1630207) for season 2020-21...\n",
      "Fetching logs for player Nate Hinton (ID: 1630207) for season 2021-22...\n",
      "Fetching logs for player Nate Hinton (ID: 1630207) for season 2022-23...\n",
      "Fetching logs for player Nate Hinton (ID: 1630207) for season 2023-24...\n"
     ]
    },
    {
     "name": "stderr",
     "output_type": "stream",
     "text": [
      "C:\\Users\\jwag1\\AppData\\Local\\Temp\\ipykernel_32800\\3592326873.py:51: FutureWarning: The behavior of DataFrame concatenation with empty or all-NA entries is deprecated. In a future version, this will no longer exclude empty or all-NA columns when determining the result dtypes. To retain the old behavior, exclude the relevant entries before the concat operation.\n",
      "  player_logs_concat = pd.concat(player_logs, ignore_index=True)\n",
      "\r",
      " 39%|███▉      | 7/18 [12:26<19:24, 105.89s/it]"
     ]
    },
    {
     "name": "stdout",
     "output_type": "stream",
     "text": [
      "Processing batch 350 to 400...\n",
      "Fetching logs for player Jaylen Hoard (ID: 1629658) for season 2020-21...\n",
      "Fetching logs for player Jaylen Hoard (ID: 1629658) for season 2021-22...\n",
      "Fetching logs for player Jaylen Hoard (ID: 1629658) for season 2022-23...\n",
      "Fetching logs for player Jaylen Hoard (ID: 1629658) for season 2023-24...\n"
     ]
    },
    {
     "name": "stderr",
     "output_type": "stream",
     "text": [
      "C:\\Users\\jwag1\\AppData\\Local\\Temp\\ipykernel_32800\\3592326873.py:51: FutureWarning: The behavior of DataFrame concatenation with empty or all-NA entries is deprecated. In a future version, this will no longer exclude empty or all-NA columns when determining the result dtypes. To retain the old behavior, exclude the relevant entries before the concat operation.\n",
      "  player_logs_concat = pd.concat(player_logs, ignore_index=True)\n"
     ]
    },
    {
     "name": "stdout",
     "output_type": "stream",
     "text": [
      "Fetching logs for player D'Moi Hodge (ID: 1641793) for season 2020-21...\n",
      "Fetching logs for player D'Moi Hodge (ID: 1641793) for season 2021-22...\n",
      "Fetching logs for player D'Moi Hodge (ID: 1641793) for season 2022-23...\n",
      "Fetching logs for player D'Moi Hodge (ID: 1641793) for season 2023-24...\n"
     ]
    },
    {
     "name": "stderr",
     "output_type": "stream",
     "text": [
      "C:\\Users\\jwag1\\AppData\\Local\\Temp\\ipykernel_32800\\3592326873.py:51: FutureWarning: The behavior of DataFrame concatenation with empty or all-NA entries is deprecated. In a future version, this will no longer exclude empty or all-NA columns when determining the result dtypes. To retain the old behavior, exclude the relevant entries before the concat operation.\n",
      "  player_logs_concat = pd.concat(player_logs, ignore_index=True)\n"
     ]
    },
    {
     "name": "stdout",
     "output_type": "stream",
     "text": [
      "Fetching logs for player Aaron Holiday (ID: 1628988) for season 2020-21...\n",
      "Fetching logs for player Aaron Holiday (ID: 1628988) for season 2021-22...\n",
      "Fetching logs for player Aaron Holiday (ID: 1628988) for season 2022-23...\n",
      "Fetching logs for player Aaron Holiday (ID: 1628988) for season 2023-24...\n",
      "Fetching logs for player Jrue Holiday (ID: 201950) for season 2020-21...\n",
      "Fetching logs for player Jrue Holiday (ID: 201950) for season 2021-22...\n",
      "Fetching logs for player Jrue Holiday (ID: 201950) for season 2022-23...\n",
      "Fetching logs for player Jrue Holiday (ID: 201950) for season 2023-24...\n",
      "Fetching logs for player Justin Holiday (ID: 203200) for season 2020-21...\n",
      "Fetching logs for player Justin Holiday (ID: 203200) for season 2021-22...\n",
      "Fetching logs for player Justin Holiday (ID: 203200) for season 2022-23...\n",
      "Fetching logs for player Justin Holiday (ID: 203200) for season 2023-24...\n",
      "Fetching logs for player Rondae Hollis-Jefferson (ID: 1626178) for season 2020-21...\n",
      "Fetching logs for player Rondae Hollis-Jefferson (ID: 1626178) for season 2021-22...\n",
      "Fetching logs for player Rondae Hollis-Jefferson (ID: 1626178) for season 2022-23...\n",
      "Fetching logs for player Rondae Hollis-Jefferson (ID: 1626178) for season 2023-24...\n"
     ]
    },
    {
     "name": "stderr",
     "output_type": "stream",
     "text": [
      "C:\\Users\\jwag1\\AppData\\Local\\Temp\\ipykernel_32800\\3592326873.py:51: FutureWarning: The behavior of DataFrame concatenation with empty or all-NA entries is deprecated. In a future version, this will no longer exclude empty or all-NA columns when determining the result dtypes. To retain the old behavior, exclude the relevant entries before the concat operation.\n",
      "  player_logs_concat = pd.concat(player_logs, ignore_index=True)\n"
     ]
    },
    {
     "name": "stdout",
     "output_type": "stream",
     "text": [
      "Fetching logs for player Richaun Holmes (ID: 1626158) for season 2020-21...\n",
      "Fetching logs for player Richaun Holmes (ID: 1626158) for season 2021-22...\n",
      "Fetching logs for player Richaun Holmes (ID: 1626158) for season 2022-23...\n",
      "Fetching logs for player Richaun Holmes (ID: 1626158) for season 2023-24...\n",
      "Fetching logs for player Chet Holmgren (ID: 1631096) for season 2020-21...\n",
      "Fetching logs for player Chet Holmgren (ID: 1631096) for season 2021-22...\n",
      "Fetching logs for player Chet Holmgren (ID: 1631096) for season 2022-23...\n",
      "Fetching logs for player Chet Holmgren (ID: 1631096) for season 2023-24...\n"
     ]
    },
    {
     "name": "stderr",
     "output_type": "stream",
     "text": [
      "C:\\Users\\jwag1\\AppData\\Local\\Temp\\ipykernel_32800\\3592326873.py:51: FutureWarning: The behavior of DataFrame concatenation with empty or all-NA entries is deprecated. In a future version, this will no longer exclude empty or all-NA columns when determining the result dtypes. To retain the old behavior, exclude the relevant entries before the concat operation.\n",
      "  player_logs_concat = pd.concat(player_logs, ignore_index=True)\n"
     ]
    },
    {
     "name": "stdout",
     "output_type": "stream",
     "text": [
      "Fetching logs for player Caleb Homesley (ID: 1630258) for season 2020-21...\n",
      "Fetching logs for player Caleb Homesley (ID: 1630258) for season 2021-22...\n",
      "Fetching logs for player Caleb Homesley (ID: 1630258) for season 2022-23...\n",
      "Fetching logs for player Caleb Homesley (ID: 1630258) for season 2023-24...\n",
      "Fetching logs for player Rodney Hood (ID: 203918) for season 2020-21...\n",
      "Fetching logs for player Rodney Hood (ID: 203918) for season 2021-22...\n",
      "Fetching logs for player Rodney Hood (ID: 203918) for season 2022-23...\n",
      "Fetching logs for player Rodney Hood (ID: 203918) for season 2023-24...\n"
     ]
    },
    {
     "name": "stderr",
     "output_type": "stream",
     "text": [
      "C:\\Users\\jwag1\\AppData\\Local\\Temp\\ipykernel_32800\\3592326873.py:51: FutureWarning: The behavior of DataFrame concatenation with empty or all-NA entries is deprecated. In a future version, this will no longer exclude empty or all-NA columns when determining the result dtypes. To retain the old behavior, exclude the relevant entries before the concat operation.\n",
      "  player_logs_concat = pd.concat(player_logs, ignore_index=True)\n"
     ]
    },
    {
     "name": "stdout",
     "output_type": "stream",
     "text": [
      "Fetching logs for player Jalen Hood-Schifino (ID: 1641720) for season 2020-21...\n",
      "Fetching logs for player Jalen Hood-Schifino (ID: 1641720) for season 2021-22...\n",
      "Fetching logs for player Jalen Hood-Schifino (ID: 1641720) for season 2022-23...\n",
      "Fetching logs for player Jalen Hood-Schifino (ID: 1641720) for season 2023-24...\n"
     ]
    },
    {
     "name": "stderr",
     "output_type": "stream",
     "text": [
      "C:\\Users\\jwag1\\AppData\\Local\\Temp\\ipykernel_32800\\3592326873.py:51: FutureWarning: The behavior of DataFrame concatenation with empty or all-NA entries is deprecated. In a future version, this will no longer exclude empty or all-NA columns when determining the result dtypes. To retain the old behavior, exclude the relevant entries before the concat operation.\n",
      "  player_logs_concat = pd.concat(player_logs, ignore_index=True)\n"
     ]
    },
    {
     "name": "stdout",
     "output_type": "stream",
     "text": [
      "Fetching logs for player Scotty Hopson (ID: 203816) for season 2020-21...\n",
      "Fetching logs for player Scotty Hopson (ID: 203816) for season 2021-22...\n",
      "Fetching logs for player Scotty Hopson (ID: 203816) for season 2022-23...\n",
      "Fetching logs for player Scotty Hopson (ID: 203816) for season 2023-24...\n"
     ]
    },
    {
     "name": "stderr",
     "output_type": "stream",
     "text": [
      "C:\\Users\\jwag1\\AppData\\Local\\Temp\\ipykernel_32800\\3592326873.py:51: FutureWarning: The behavior of DataFrame concatenation with empty or all-NA entries is deprecated. In a future version, this will no longer exclude empty or all-NA columns when determining the result dtypes. To retain the old behavior, exclude the relevant entries before the concat operation.\n",
      "  player_logs_concat = pd.concat(player_logs, ignore_index=True)\n"
     ]
    },
    {
     "name": "stdout",
     "output_type": "stream",
     "text": [
      "Fetching logs for player Al Horford (ID: 201143) for season 2020-21...\n",
      "Fetching logs for player Al Horford (ID: 201143) for season 2021-22...\n",
      "Fetching logs for player Al Horford (ID: 201143) for season 2022-23...\n",
      "Fetching logs for player Al Horford (ID: 201143) for season 2023-24...\n",
      "Fetching logs for player Talen Horton-Tucker (ID: 1629659) for season 2020-21...\n",
      "Fetching logs for player Talen Horton-Tucker (ID: 1629659) for season 2021-22...\n",
      "Fetching logs for player Talen Horton-Tucker (ID: 1629659) for season 2022-23...\n",
      "Fetching logs for player Talen Horton-Tucker (ID: 1629659) for season 2023-24...\n",
      "Fetching logs for player Danuel House Jr. (ID: 1627863) for season 2020-21...\n",
      "Fetching logs for player Danuel House Jr. (ID: 1627863) for season 2021-22...\n",
      "Fetching logs for player Danuel House Jr. (ID: 1627863) for season 2022-23...\n",
      "Fetching logs for player Danuel House Jr. (ID: 1627863) for season 2023-24...\n",
      "Fetching logs for player Caleb Houstan (ID: 1631216) for season 2020-21...\n",
      "Fetching logs for player Caleb Houstan (ID: 1631216) for season 2021-22...\n",
      "Fetching logs for player Caleb Houstan (ID: 1631216) for season 2022-23...\n",
      "Fetching logs for player Caleb Houstan (ID: 1631216) for season 2023-24...\n"
     ]
    },
    {
     "name": "stderr",
     "output_type": "stream",
     "text": [
      "C:\\Users\\jwag1\\AppData\\Local\\Temp\\ipykernel_32800\\3592326873.py:51: FutureWarning: The behavior of DataFrame concatenation with empty or all-NA entries is deprecated. In a future version, this will no longer exclude empty or all-NA columns when determining the result dtypes. To retain the old behavior, exclude the relevant entries before the concat operation.\n",
      "  player_logs_concat = pd.concat(player_logs, ignore_index=True)\n"
     ]
    },
    {
     "name": "stdout",
     "output_type": "stream",
     "text": [
      "Fetching logs for player Dwight Howard (ID: 2730) for season 2020-21...\n",
      "Fetching logs for player Dwight Howard (ID: 2730) for season 2021-22...\n",
      "Fetching logs for player Dwight Howard (ID: 2730) for season 2022-23...\n",
      "Fetching logs for player Dwight Howard (ID: 2730) for season 2023-24...\n"
     ]
    },
    {
     "name": "stderr",
     "output_type": "stream",
     "text": [
      "C:\\Users\\jwag1\\AppData\\Local\\Temp\\ipykernel_32800\\3592326873.py:51: FutureWarning: The behavior of DataFrame concatenation with empty or all-NA entries is deprecated. In a future version, this will no longer exclude empty or all-NA columns when determining the result dtypes. To retain the old behavior, exclude the relevant entries before the concat operation.\n",
      "  player_logs_concat = pd.concat(player_logs, ignore_index=True)\n"
     ]
    },
    {
     "name": "stdout",
     "output_type": "stream",
     "text": [
      "Fetching logs for player Jett Howard (ID: 1641724) for season 2020-21...\n",
      "Fetching logs for player Jett Howard (ID: 1641724) for season 2021-22...\n",
      "Fetching logs for player Jett Howard (ID: 1641724) for season 2022-23...\n",
      "Fetching logs for player Jett Howard (ID: 1641724) for season 2023-24...\n"
     ]
    },
    {
     "name": "stderr",
     "output_type": "stream",
     "text": [
      "C:\\Users\\jwag1\\AppData\\Local\\Temp\\ipykernel_32800\\3592326873.py:51: FutureWarning: The behavior of DataFrame concatenation with empty or all-NA entries is deprecated. In a future version, this will no longer exclude empty or all-NA columns when determining the result dtypes. To retain the old behavior, exclude the relevant entries before the concat operation.\n",
      "  player_logs_concat = pd.concat(player_logs, ignore_index=True)\n"
     ]
    },
    {
     "name": "stdout",
     "output_type": "stream",
     "text": [
      "Fetching logs for player Markus Howard (ID: 1630210) for season 2020-21...\n",
      "Fetching logs for player Markus Howard (ID: 1630210) for season 2021-22...\n",
      "Fetching logs for player Markus Howard (ID: 1630210) for season 2022-23...\n",
      "Fetching logs for player Markus Howard (ID: 1630210) for season 2023-24...\n"
     ]
    },
    {
     "name": "stderr",
     "output_type": "stream",
     "text": [
      "C:\\Users\\jwag1\\AppData\\Local\\Temp\\ipykernel_32800\\3592326873.py:51: FutureWarning: The behavior of DataFrame concatenation with empty or all-NA entries is deprecated. In a future version, this will no longer exclude empty or all-NA columns when determining the result dtypes. To retain the old behavior, exclude the relevant entries before the concat operation.\n",
      "  player_logs_concat = pd.concat(player_logs, ignore_index=True)\n"
     ]
    },
    {
     "name": "stdout",
     "output_type": "stream",
     "text": [
      "Fetching logs for player Trevor Hudgins (ID: 1631309) for season 2020-21...\n",
      "Fetching logs for player Trevor Hudgins (ID: 1631309) for season 2021-22...\n",
      "Fetching logs for player Trevor Hudgins (ID: 1631309) for season 2022-23...\n",
      "Fetching logs for player Trevor Hudgins (ID: 1631309) for season 2023-24...\n"
     ]
    },
    {
     "name": "stderr",
     "output_type": "stream",
     "text": [
      "C:\\Users\\jwag1\\AppData\\Local\\Temp\\ipykernel_32800\\3592326873.py:51: FutureWarning: The behavior of DataFrame concatenation with empty or all-NA entries is deprecated. In a future version, this will no longer exclude empty or all-NA columns when determining the result dtypes. To retain the old behavior, exclude the relevant entries before the concat operation.\n",
      "  player_logs_concat = pd.concat(player_logs, ignore_index=True)\n"
     ]
    },
    {
     "name": "stdout",
     "output_type": "stream",
     "text": [
      "Fetching logs for player Kevin Huerter (ID: 1628989) for season 2020-21...\n",
      "Fetching logs for player Kevin Huerter (ID: 1628989) for season 2021-22...\n",
      "Fetching logs for player Kevin Huerter (ID: 1628989) for season 2022-23...\n",
      "Fetching logs for player Kevin Huerter (ID: 1628989) for season 2023-24...\n",
      "Fetching logs for player Jay Huff (ID: 1630643) for season 2020-21...\n",
      "Fetching logs for player Jay Huff (ID: 1630643) for season 2021-22...\n",
      "Fetching logs for player Jay Huff (ID: 1630643) for season 2022-23...\n",
      "Fetching logs for player Jay Huff (ID: 1630643) for season 2023-24...\n"
     ]
    },
    {
     "name": "stderr",
     "output_type": "stream",
     "text": [
      "C:\\Users\\jwag1\\AppData\\Local\\Temp\\ipykernel_32800\\3592326873.py:51: FutureWarning: The behavior of DataFrame concatenation with empty or all-NA entries is deprecated. In a future version, this will no longer exclude empty or all-NA columns when determining the result dtypes. To retain the old behavior, exclude the relevant entries before the concat operation.\n",
      "  player_logs_concat = pd.concat(player_logs, ignore_index=True)\n"
     ]
    },
    {
     "name": "stdout",
     "output_type": "stream",
     "text": [
      "Fetching logs for player Elijah Hughes (ID: 1630190) for season 2020-21...\n",
      "Fetching logs for player Elijah Hughes (ID: 1630190) for season 2021-22...\n",
      "Fetching logs for player Elijah Hughes (ID: 1630190) for season 2022-23...\n",
      "Fetching logs for player Elijah Hughes (ID: 1630190) for season 2023-24...\n"
     ]
    },
    {
     "name": "stderr",
     "output_type": "stream",
     "text": [
      "C:\\Users\\jwag1\\AppData\\Local\\Temp\\ipykernel_32800\\3592326873.py:51: FutureWarning: The behavior of DataFrame concatenation with empty or all-NA entries is deprecated. In a future version, this will no longer exclude empty or all-NA columns when determining the result dtypes. To retain the old behavior, exclude the relevant entries before the concat operation.\n",
      "  player_logs_concat = pd.concat(player_logs, ignore_index=True)\n"
     ]
    },
    {
     "name": "stdout",
     "output_type": "stream",
     "text": [
      "Fetching logs for player Feron Hunt (ID: 1630624) for season 2020-21...\n",
      "Fetching logs for player Feron Hunt (ID: 1630624) for season 2021-22...\n",
      "Fetching logs for player Feron Hunt (ID: 1630624) for season 2022-23...\n",
      "Fetching logs for player Feron Hunt (ID: 1630624) for season 2023-24...\n"
     ]
    },
    {
     "name": "stderr",
     "output_type": "stream",
     "text": [
      "C:\\Users\\jwag1\\AppData\\Local\\Temp\\ipykernel_32800\\3592326873.py:51: FutureWarning: The behavior of DataFrame concatenation with empty or all-NA entries is deprecated. In a future version, this will no longer exclude empty or all-NA columns when determining the result dtypes. To retain the old behavior, exclude the relevant entries before the concat operation.\n",
      "  player_logs_concat = pd.concat(player_logs, ignore_index=True)\n"
     ]
    },
    {
     "name": "stdout",
     "output_type": "stream",
     "text": [
      "Fetching logs for player De'Andre Hunter (ID: 1629631) for season 2020-21...\n",
      "Fetching logs for player De'Andre Hunter (ID: 1629631) for season 2021-22...\n",
      "Fetching logs for player De'Andre Hunter (ID: 1629631) for season 2022-23...\n",
      "Fetching logs for player De'Andre Hunter (ID: 1629631) for season 2023-24...\n",
      "Fetching logs for player Matt Hurt (ID: 1630562) for season 2020-21...\n",
      "Fetching logs for player Matt Hurt (ID: 1630562) for season 2021-22...\n",
      "Fetching logs for player Matt Hurt (ID: 1630562) for season 2022-23...\n",
      "Fetching logs for player Matt Hurt (ID: 1630562) for season 2023-24...\n"
     ]
    },
    {
     "name": "stderr",
     "output_type": "stream",
     "text": [
      "C:\\Users\\jwag1\\AppData\\Local\\Temp\\ipykernel_32800\\3592326873.py:51: FutureWarning: The behavior of DataFrame concatenation with empty or all-NA entries is deprecated. In a future version, this will no longer exclude empty or all-NA columns when determining the result dtypes. To retain the old behavior, exclude the relevant entries before the concat operation.\n",
      "  player_logs_concat = pd.concat(player_logs, ignore_index=True)\n"
     ]
    },
    {
     "name": "stdout",
     "output_type": "stream",
     "text": [
      "Fetching logs for player Chandler Hutchison (ID: 1628990) for season 2020-21...\n",
      "Fetching logs for player Chandler Hutchison (ID: 1628990) for season 2021-22...\n",
      "Fetching logs for player Chandler Hutchison (ID: 1628990) for season 2022-23...\n",
      "Fetching logs for player Chandler Hutchison (ID: 1628990) for season 2023-24...\n"
     ]
    },
    {
     "name": "stderr",
     "output_type": "stream",
     "text": [
      "C:\\Users\\jwag1\\AppData\\Local\\Temp\\ipykernel_32800\\3592326873.py:51: FutureWarning: The behavior of DataFrame concatenation with empty or all-NA entries is deprecated. In a future version, this will no longer exclude empty or all-NA columns when determining the result dtypes. To retain the old behavior, exclude the relevant entries before the concat operation.\n",
      "  player_logs_concat = pd.concat(player_logs, ignore_index=True)\n"
     ]
    },
    {
     "name": "stdout",
     "output_type": "stream",
     "text": [
      "Fetching logs for player Bones Hyland (ID: 1630538) for season 2020-21...\n",
      "Fetching logs for player Bones Hyland (ID: 1630538) for season 2021-22...\n",
      "Fetching logs for player Bones Hyland (ID: 1630538) for season 2022-23...\n",
      "Fetching logs for player Bones Hyland (ID: 1630538) for season 2023-24...\n"
     ]
    },
    {
     "name": "stderr",
     "output_type": "stream",
     "text": [
      "C:\\Users\\jwag1\\AppData\\Local\\Temp\\ipykernel_32800\\3592326873.py:51: FutureWarning: The behavior of DataFrame concatenation with empty or all-NA entries is deprecated. In a future version, this will no longer exclude empty or all-NA columns when determining the result dtypes. To retain the old behavior, exclude the relevant entries before the concat operation.\n",
      "  player_logs_concat = pd.concat(player_logs, ignore_index=True)\n"
     ]
    },
    {
     "name": "stdout",
     "output_type": "stream",
     "text": [
      "Fetching logs for player Serge Ibaka (ID: 201586) for season 2020-21...\n",
      "Fetching logs for player Serge Ibaka (ID: 201586) for season 2021-22...\n",
      "Fetching logs for player Serge Ibaka (ID: 201586) for season 2022-23...\n",
      "Fetching logs for player Serge Ibaka (ID: 201586) for season 2023-24...\n"
     ]
    },
    {
     "name": "stderr",
     "output_type": "stream",
     "text": [
      "C:\\Users\\jwag1\\AppData\\Local\\Temp\\ipykernel_32800\\3592326873.py:51: FutureWarning: The behavior of DataFrame concatenation with empty or all-NA entries is deprecated. In a future version, this will no longer exclude empty or all-NA columns when determining the result dtypes. To retain the old behavior, exclude the relevant entries before the concat operation.\n",
      "  player_logs_concat = pd.concat(player_logs, ignore_index=True)\n"
     ]
    },
    {
     "name": "stdout",
     "output_type": "stream",
     "text": [
      "Fetching logs for player Andre Iguodala (ID: 2738) for season 2020-21...\n",
      "Fetching logs for player Andre Iguodala (ID: 2738) for season 2021-22...\n",
      "Fetching logs for player Andre Iguodala (ID: 2738) for season 2022-23...\n",
      "Fetching logs for player Andre Iguodala (ID: 2738) for season 2023-24...\n"
     ]
    },
    {
     "name": "stderr",
     "output_type": "stream",
     "text": [
      "C:\\Users\\jwag1\\AppData\\Local\\Temp\\ipykernel_32800\\3592326873.py:51: FutureWarning: The behavior of DataFrame concatenation with empty or all-NA entries is deprecated. In a future version, this will no longer exclude empty or all-NA columns when determining the result dtypes. To retain the old behavior, exclude the relevant entries before the concat operation.\n",
      "  player_logs_concat = pd.concat(player_logs, ignore_index=True)\n"
     ]
    },
    {
     "name": "stdout",
     "output_type": "stream",
     "text": [
      "Fetching logs for player Ersan Ilyasova (ID: 101141) for season 2020-21...\n",
      "Fetching logs for player Ersan Ilyasova (ID: 101141) for season 2021-22...\n",
      "Fetching logs for player Ersan Ilyasova (ID: 101141) for season 2022-23...\n",
      "Fetching logs for player Ersan Ilyasova (ID: 101141) for season 2023-24...\n"
     ]
    },
    {
     "name": "stderr",
     "output_type": "stream",
     "text": [
      "C:\\Users\\jwag1\\AppData\\Local\\Temp\\ipykernel_32800\\3592326873.py:51: FutureWarning: The behavior of DataFrame concatenation with empty or all-NA entries is deprecated. In a future version, this will no longer exclude empty or all-NA columns when determining the result dtypes. To retain the old behavior, exclude the relevant entries before the concat operation.\n",
      "  player_logs_concat = pd.concat(player_logs, ignore_index=True)\n"
     ]
    },
    {
     "name": "stdout",
     "output_type": "stream",
     "text": [
      "Fetching logs for player Joe Ingles (ID: 204060) for season 2020-21...\n",
      "Fetching logs for player Joe Ingles (ID: 204060) for season 2021-22...\n",
      "Fetching logs for player Joe Ingles (ID: 204060) for season 2022-23...\n",
      "Fetching logs for player Joe Ingles (ID: 204060) for season 2023-24...\n",
      "Fetching logs for player Brandon Ingram (ID: 1627742) for season 2020-21...\n",
      "Fetching logs for player Brandon Ingram (ID: 1627742) for season 2021-22...\n",
      "Fetching logs for player Brandon Ingram (ID: 1627742) for season 2022-23...\n",
      "Fetching logs for player Brandon Ingram (ID: 1627742) for season 2023-24...\n",
      "Fetching logs for player Kyrie Irving (ID: 202681) for season 2020-21...\n",
      "Fetching logs for player Kyrie Irving (ID: 202681) for season 2021-22...\n",
      "Fetching logs for player Kyrie Irving (ID: 202681) for season 2022-23...\n",
      "Fetching logs for player Kyrie Irving (ID: 202681) for season 2023-24...\n",
      "Fetching logs for player Jonathan Isaac (ID: 1628371) for season 2020-21...\n",
      "Fetching logs for player Jonathan Isaac (ID: 1628371) for season 2021-22...\n",
      "Fetching logs for player Jonathan Isaac (ID: 1628371) for season 2022-23...\n",
      "Fetching logs for player Jonathan Isaac (ID: 1628371) for season 2023-24...\n"
     ]
    },
    {
     "name": "stderr",
     "output_type": "stream",
     "text": [
      "C:\\Users\\jwag1\\AppData\\Local\\Temp\\ipykernel_32800\\3592326873.py:51: FutureWarning: The behavior of DataFrame concatenation with empty or all-NA entries is deprecated. In a future version, this will no longer exclude empty or all-NA columns when determining the result dtypes. To retain the old behavior, exclude the relevant entries before the concat operation.\n",
      "  player_logs_concat = pd.concat(player_logs, ignore_index=True)\n"
     ]
    },
    {
     "name": "stdout",
     "output_type": "stream",
     "text": [
      "Fetching logs for player Jaden Ivey (ID: 1631093) for season 2020-21...\n",
      "Fetching logs for player Jaden Ivey (ID: 1631093) for season 2021-22...\n",
      "Fetching logs for player Jaden Ivey (ID: 1631093) for season 2022-23...\n",
      "Fetching logs for player Jaden Ivey (ID: 1631093) for season 2023-24...\n"
     ]
    },
    {
     "name": "stderr",
     "output_type": "stream",
     "text": [
      "C:\\Users\\jwag1\\AppData\\Local\\Temp\\ipykernel_32800\\3592326873.py:51: FutureWarning: The behavior of DataFrame concatenation with empty or all-NA entries is deprecated. In a future version, this will no longer exclude empty or all-NA columns when determining the result dtypes. To retain the old behavior, exclude the relevant entries before the concat operation.\n",
      "  player_logs_concat = pd.concat(player_logs, ignore_index=True)\n"
     ]
    },
    {
     "name": "stdout",
     "output_type": "stream",
     "text": [
      "Fetching logs for player Wes Iwundu (ID: 1628411) for season 2020-21...\n",
      "Fetching logs for player Wes Iwundu (ID: 1628411) for season 2021-22...\n",
      "Fetching logs for player Wes Iwundu (ID: 1628411) for season 2022-23...\n",
      "Fetching logs for player Wes Iwundu (ID: 1628411) for season 2023-24...\n"
     ]
    },
    {
     "name": "stderr",
     "output_type": "stream",
     "text": [
      "C:\\Users\\jwag1\\AppData\\Local\\Temp\\ipykernel_32800\\3592326873.py:51: FutureWarning: The behavior of DataFrame concatenation with empty or all-NA entries is deprecated. In a future version, this will no longer exclude empty or all-NA columns when determining the result dtypes. To retain the old behavior, exclude the relevant entries before the concat operation.\n",
      "  player_logs_concat = pd.concat(player_logs, ignore_index=True)\n"
     ]
    },
    {
     "name": "stdout",
     "output_type": "stream",
     "text": [
      "Fetching logs for player Frank Jackson (ID: 1628402) for season 2020-21...\n",
      "Fetching logs for player Frank Jackson (ID: 1628402) for season 2021-22...\n",
      "Fetching logs for player Frank Jackson (ID: 1628402) for season 2022-23...\n",
      "Fetching logs for player Frank Jackson (ID: 1628402) for season 2023-24...\n"
     ]
    },
    {
     "name": "stderr",
     "output_type": "stream",
     "text": [
      "C:\\Users\\jwag1\\AppData\\Local\\Temp\\ipykernel_32800\\3592326873.py:51: FutureWarning: The behavior of DataFrame concatenation with empty or all-NA entries is deprecated. In a future version, this will no longer exclude empty or all-NA columns when determining the result dtypes. To retain the old behavior, exclude the relevant entries before the concat operation.\n",
      "  player_logs_concat = pd.concat(player_logs, ignore_index=True)\n"
     ]
    },
    {
     "name": "stdout",
     "output_type": "stream",
     "text": [
      "Fetching logs for player GG Jackson (ID: 1641713) for season 2020-21...\n",
      "Fetching logs for player GG Jackson (ID: 1641713) for season 2021-22...\n",
      "Fetching logs for player GG Jackson (ID: 1641713) for season 2022-23...\n",
      "Fetching logs for player GG Jackson (ID: 1641713) for season 2023-24...\n"
     ]
    },
    {
     "name": "stderr",
     "output_type": "stream",
     "text": [
      "C:\\Users\\jwag1\\AppData\\Local\\Temp\\ipykernel_32800\\3592326873.py:51: FutureWarning: The behavior of DataFrame concatenation with empty or all-NA entries is deprecated. In a future version, this will no longer exclude empty or all-NA columns when determining the result dtypes. To retain the old behavior, exclude the relevant entries before the concat operation.\n",
      "  player_logs_concat = pd.concat(player_logs, ignore_index=True)\n"
     ]
    },
    {
     "name": "stdout",
     "output_type": "stream",
     "text": [
      "Fetching logs for player Isaiah Jackson (ID: 1630543) for season 2020-21...\n",
      "Fetching logs for player Isaiah Jackson (ID: 1630543) for season 2021-22...\n",
      "Fetching logs for player Isaiah Jackson (ID: 1630543) for season 2022-23...\n",
      "Fetching logs for player Isaiah Jackson (ID: 1630543) for season 2023-24...\n"
     ]
    },
    {
     "name": "stderr",
     "output_type": "stream",
     "text": [
      "C:\\Users\\jwag1\\AppData\\Local\\Temp\\ipykernel_32800\\3592326873.py:51: FutureWarning: The behavior of DataFrame concatenation with empty or all-NA entries is deprecated. In a future version, this will no longer exclude empty or all-NA columns when determining the result dtypes. To retain the old behavior, exclude the relevant entries before the concat operation.\n",
      "  player_logs_concat = pd.concat(player_logs, ignore_index=True)\n"
     ]
    },
    {
     "name": "stdout",
     "output_type": "stream",
     "text": [
      "Fetching logs for player Josh Jackson (ID: 1628367) for season 2020-21...\n",
      "Fetching logs for player Josh Jackson (ID: 1628367) for season 2021-22...\n",
      "Fetching logs for player Josh Jackson (ID: 1628367) for season 2022-23...\n",
      "Fetching logs for player Josh Jackson (ID: 1628367) for season 2023-24...\n"
     ]
    },
    {
     "name": "stderr",
     "output_type": "stream",
     "text": [
      "C:\\Users\\jwag1\\AppData\\Local\\Temp\\ipykernel_32800\\3592326873.py:51: FutureWarning: The behavior of DataFrame concatenation with empty or all-NA entries is deprecated. In a future version, this will no longer exclude empty or all-NA columns when determining the result dtypes. To retain the old behavior, exclude the relevant entries before the concat operation.\n",
      "  player_logs_concat = pd.concat(player_logs, ignore_index=True)\n"
     ]
    },
    {
     "name": "stdout",
     "output_type": "stream",
     "text": [
      "Fetching logs for player Justin Jackson (ID: 1628382) for season 2020-21...\n",
      "Fetching logs for player Justin Jackson (ID: 1628382) for season 2021-22...\n",
      "Fetching logs for player Justin Jackson (ID: 1628382) for season 2022-23...\n",
      "Fetching logs for player Justin Jackson (ID: 1628382) for season 2023-24...\n",
      "Fetching logs for player Quenton Jackson (ID: 1631245) for season 2020-21...\n",
      "Fetching logs for player Quenton Jackson (ID: 1631245) for season 2021-22...\n",
      "Fetching logs for player Quenton Jackson (ID: 1631245) for season 2022-23...\n",
      "Fetching logs for player Quenton Jackson (ID: 1631245) for season 2023-24...\n"
     ]
    },
    {
     "name": "stderr",
     "output_type": "stream",
     "text": [
      "C:\\Users\\jwag1\\AppData\\Local\\Temp\\ipykernel_32800\\3592326873.py:51: FutureWarning: The behavior of DataFrame concatenation with empty or all-NA entries is deprecated. In a future version, this will no longer exclude empty or all-NA columns when determining the result dtypes. To retain the old behavior, exclude the relevant entries before the concat operation.\n",
      "  player_logs_concat = pd.concat(player_logs, ignore_index=True)\n"
     ]
    },
    {
     "name": "stdout",
     "output_type": "stream",
     "text": [
      "Fetching logs for player Reggie Jackson (ID: 202704) for season 2020-21...\n",
      "Fetching logs for player Reggie Jackson (ID: 202704) for season 2021-22...\n",
      "Fetching logs for player Reggie Jackson (ID: 202704) for season 2022-23...\n",
      "Fetching logs for player Reggie Jackson (ID: 202704) for season 2023-24...\n",
      "Fetching logs for player Andre Jackson Jr. (ID: 1641748) for season 2020-21...\n",
      "Fetching logs for player Andre Jackson Jr. (ID: 1641748) for season 2021-22...\n",
      "Fetching logs for player Andre Jackson Jr. (ID: 1641748) for season 2022-23...\n",
      "Fetching logs for player Andre Jackson Jr. (ID: 1641748) for season 2023-24...\n"
     ]
    },
    {
     "name": "stderr",
     "output_type": "stream",
     "text": [
      "C:\\Users\\jwag1\\AppData\\Local\\Temp\\ipykernel_32800\\3592326873.py:51: FutureWarning: The behavior of DataFrame concatenation with empty or all-NA entries is deprecated. In a future version, this will no longer exclude empty or all-NA columns when determining the result dtypes. To retain the old behavior, exclude the relevant entries before the concat operation.\n",
      "  player_logs_concat = pd.concat(player_logs, ignore_index=True)\n"
     ]
    },
    {
     "name": "stdout",
     "output_type": "stream",
     "text": [
      "Fetching logs for player Jaren Jackson Jr. (ID: 1628991) for season 2020-21...\n",
      "Fetching logs for player Jaren Jackson Jr. (ID: 1628991) for season 2021-22...\n",
      "Fetching logs for player Jaren Jackson Jr. (ID: 1628991) for season 2022-23...\n",
      "Fetching logs for player Jaren Jackson Jr. (ID: 1628991) for season 2023-24...\n",
      "Fetching logs for player Trayce Jackson-Davis (ID: 1631218) for season 2020-21...\n",
      "Fetching logs for player Trayce Jackson-Davis (ID: 1631218) for season 2021-22...\n",
      "Fetching logs for player Trayce Jackson-Davis (ID: 1631218) for season 2022-23...\n",
      "Fetching logs for player Trayce Jackson-Davis (ID: 1631218) for season 2023-24...\n"
     ]
    },
    {
     "name": "stderr",
     "output_type": "stream",
     "text": [
      "C:\\Users\\jwag1\\AppData\\Local\\Temp\\ipykernel_32800\\3592326873.py:51: FutureWarning: The behavior of DataFrame concatenation with empty or all-NA entries is deprecated. In a future version, this will no longer exclude empty or all-NA columns when determining the result dtypes. To retain the old behavior, exclude the relevant entries before the concat operation.\n",
      "  player_logs_concat = pd.concat(player_logs, ignore_index=True)\n"
     ]
    },
    {
     "name": "stdout",
     "output_type": "stream",
     "text": [
      "Fetching logs for player Justin James (ID: 1629713) for season 2020-21...\n",
      "Fetching logs for player Justin James (ID: 1629713) for season 2021-22...\n",
      "Fetching logs for player Justin James (ID: 1629713) for season 2022-23...\n",
      "Fetching logs for player Justin James (ID: 1629713) for season 2023-24...\n"
     ]
    },
    {
     "name": "stderr",
     "output_type": "stream",
     "text": [
      "C:\\Users\\jwag1\\AppData\\Local\\Temp\\ipykernel_32800\\3592326873.py:51: FutureWarning: The behavior of DataFrame concatenation with empty or all-NA entries is deprecated. In a future version, this will no longer exclude empty or all-NA columns when determining the result dtypes. To retain the old behavior, exclude the relevant entries before the concat operation.\n",
      "  player_logs_concat = pd.concat(player_logs, ignore_index=True)\n"
     ]
    },
    {
     "name": "stdout",
     "output_type": "stream",
     "text": [
      "Fetching logs for player LeBron James (ID: 2544) for season 2020-21...\n",
      "Fetching logs for player LeBron James (ID: 2544) for season 2021-22...\n",
      "Fetching logs for player LeBron James (ID: 2544) for season 2022-23...\n",
      "Fetching logs for player LeBron James (ID: 2544) for season 2023-24...\n",
      "Fetching logs for player Mike James (ID: 1628455) for season 2020-21...\n",
      "Fetching logs for player Mike James (ID: 1628455) for season 2021-22...\n",
      "Fetching logs for player Mike James (ID: 1628455) for season 2022-23...\n",
      "Fetching logs for player Mike James (ID: 1628455) for season 2023-24...\n"
     ]
    },
    {
     "name": "stderr",
     "output_type": "stream",
     "text": [
      "C:\\Users\\jwag1\\AppData\\Local\\Temp\\ipykernel_32800\\3592326873.py:51: FutureWarning: The behavior of DataFrame concatenation with empty or all-NA entries is deprecated. In a future version, this will no longer exclude empty or all-NA columns when determining the result dtypes. To retain the old behavior, exclude the relevant entries before the concat operation.\n",
      "  player_logs_concat = pd.concat(player_logs, ignore_index=True)\n",
      "\r",
      " 44%|████▍     | 8/18 [14:10<17:32, 105.21s/it]"
     ]
    },
    {
     "name": "stdout",
     "output_type": "stream",
     "text": [
      "Processing batch 400 to 450...\n",
      "Fetching logs for player Jaime Jaquez Jr. (ID: 1631170) for season 2020-21...\n",
      "Fetching logs for player Jaime Jaquez Jr. (ID: 1631170) for season 2021-22...\n",
      "Fetching logs for player Jaime Jaquez Jr. (ID: 1631170) for season 2022-23...\n",
      "Fetching logs for player Jaime Jaquez Jr. (ID: 1631170) for season 2023-24...\n"
     ]
    },
    {
     "name": "stderr",
     "output_type": "stream",
     "text": [
      "C:\\Users\\jwag1\\AppData\\Local\\Temp\\ipykernel_32800\\3592326873.py:51: FutureWarning: The behavior of DataFrame concatenation with empty or all-NA entries is deprecated. In a future version, this will no longer exclude empty or all-NA columns when determining the result dtypes. To retain the old behavior, exclude the relevant entries before the concat operation.\n",
      "  player_logs_concat = pd.concat(player_logs, ignore_index=True)\n"
     ]
    },
    {
     "name": "stdout",
     "output_type": "stream",
     "text": [
      "Fetching logs for player DeJon Jarreau (ID: 1630610) for season 2020-21...\n",
      "Fetching logs for player DeJon Jarreau (ID: 1630610) for season 2021-22...\n",
      "Fetching logs for player DeJon Jarreau (ID: 1630610) for season 2022-23...\n",
      "Fetching logs for player DeJon Jarreau (ID: 1630610) for season 2023-24...\n"
     ]
    },
    {
     "name": "stderr",
     "output_type": "stream",
     "text": [
      "C:\\Users\\jwag1\\AppData\\Local\\Temp\\ipykernel_32800\\3592326873.py:51: FutureWarning: The behavior of DataFrame concatenation with empty or all-NA entries is deprecated. In a future version, this will no longer exclude empty or all-NA columns when determining the result dtypes. To retain the old behavior, exclude the relevant entries before the concat operation.\n",
      "  player_logs_concat = pd.concat(player_logs, ignore_index=True)\n"
     ]
    },
    {
     "name": "stdout",
     "output_type": "stream",
     "text": [
      "Fetching logs for player DaQuan Jeffries (ID: 1629610) for season 2020-21...\n",
      "Fetching logs for player DaQuan Jeffries (ID: 1629610) for season 2021-22...\n",
      "Fetching logs for player DaQuan Jeffries (ID: 1629610) for season 2022-23...\n",
      "Fetching logs for player DaQuan Jeffries (ID: 1629610) for season 2023-24...\n"
     ]
    },
    {
     "name": "stderr",
     "output_type": "stream",
     "text": [
      "C:\\Users\\jwag1\\AppData\\Local\\Temp\\ipykernel_32800\\3592326873.py:51: FutureWarning: The behavior of DataFrame concatenation with empty or all-NA entries is deprecated. In a future version, this will no longer exclude empty or all-NA columns when determining the result dtypes. To retain the old behavior, exclude the relevant entries before the concat operation.\n",
      "  player_logs_concat = pd.concat(player_logs, ignore_index=True)\n"
     ]
    },
    {
     "name": "stdout",
     "output_type": "stream",
     "text": [
      "Fetching logs for player Trey Jemison (ID: 1641998) for season 2020-21...\n",
      "Fetching logs for player Trey Jemison (ID: 1641998) for season 2021-22...\n",
      "Fetching logs for player Trey Jemison (ID: 1641998) for season 2022-23...\n",
      "Fetching logs for player Trey Jemison (ID: 1641998) for season 2023-24...\n"
     ]
    },
    {
     "name": "stderr",
     "output_type": "stream",
     "text": [
      "C:\\Users\\jwag1\\AppData\\Local\\Temp\\ipykernel_32800\\3592326873.py:51: FutureWarning: The behavior of DataFrame concatenation with empty or all-NA entries is deprecated. In a future version, this will no longer exclude empty or all-NA columns when determining the result dtypes. To retain the old behavior, exclude the relevant entries before the concat operation.\n",
      "  player_logs_concat = pd.concat(player_logs, ignore_index=True)\n"
     ]
    },
    {
     "name": "stdout",
     "output_type": "stream",
     "text": [
      "Fetching logs for player Ty Jerome (ID: 1629660) for season 2020-21...\n",
      "Fetching logs for player Ty Jerome (ID: 1629660) for season 2021-22...\n",
      "Fetching logs for player Ty Jerome (ID: 1629660) for season 2022-23...\n",
      "Fetching logs for player Ty Jerome (ID: 1629660) for season 2023-24...\n",
      "Fetching logs for player Isaiah Joe (ID: 1630198) for season 2020-21...\n",
      "Fetching logs for player Isaiah Joe (ID: 1630198) for season 2021-22...\n",
      "Fetching logs for player Isaiah Joe (ID: 1630198) for season 2022-23...\n",
      "Fetching logs for player Isaiah Joe (ID: 1630198) for season 2023-24...\n",
      "Fetching logs for player Alize Johnson (ID: 1628993) for season 2020-21...\n",
      "Fetching logs for player Alize Johnson (ID: 1628993) for season 2021-22...\n",
      "Fetching logs for player Alize Johnson (ID: 1628993) for season 2022-23...\n",
      "Fetching logs for player Alize Johnson (ID: 1628993) for season 2023-24...\n"
     ]
    },
    {
     "name": "stderr",
     "output_type": "stream",
     "text": [
      "C:\\Users\\jwag1\\AppData\\Local\\Temp\\ipykernel_32800\\3592326873.py:51: FutureWarning: The behavior of DataFrame concatenation with empty or all-NA entries is deprecated. In a future version, this will no longer exclude empty or all-NA columns when determining the result dtypes. To retain the old behavior, exclude the relevant entries before the concat operation.\n",
      "  player_logs_concat = pd.concat(player_logs, ignore_index=True)\n"
     ]
    },
    {
     "name": "stdout",
     "output_type": "stream",
     "text": [
      "Fetching logs for player BJ Johnson (ID: 1629168) for season 2020-21...\n",
      "Fetching logs for player BJ Johnson (ID: 1629168) for season 2021-22...\n",
      "Fetching logs for player BJ Johnson (ID: 1629168) for season 2022-23...\n",
      "Fetching logs for player BJ Johnson (ID: 1629168) for season 2023-24...\n"
     ]
    },
    {
     "name": "stderr",
     "output_type": "stream",
     "text": [
      "C:\\Users\\jwag1\\AppData\\Local\\Temp\\ipykernel_32800\\3592326873.py:51: FutureWarning: The behavior of DataFrame concatenation with empty or all-NA entries is deprecated. In a future version, this will no longer exclude empty or all-NA columns when determining the result dtypes. To retain the old behavior, exclude the relevant entries before the concat operation.\n",
      "  player_logs_concat = pd.concat(player_logs, ignore_index=True)\n"
     ]
    },
    {
     "name": "stdout",
     "output_type": "stream",
     "text": [
      "Fetching logs for player Cameron Johnson (ID: 1629661) for season 2020-21...\n",
      "Fetching logs for player Cameron Johnson (ID: 1629661) for season 2021-22...\n",
      "Fetching logs for player Cameron Johnson (ID: 1629661) for season 2022-23...\n",
      "Fetching logs for player Cameron Johnson (ID: 1629661) for season 2023-24...\n",
      "Fetching logs for player David Johnson (ID: 1630525) for season 2020-21...\n",
      "Fetching logs for player David Johnson (ID: 1630525) for season 2021-22...\n",
      "Fetching logs for player David Johnson (ID: 1630525) for season 2022-23...\n",
      "Fetching logs for player David Johnson (ID: 1630525) for season 2023-24...\n"
     ]
    },
    {
     "name": "stderr",
     "output_type": "stream",
     "text": [
      "C:\\Users\\jwag1\\AppData\\Local\\Temp\\ipykernel_32800\\3592326873.py:51: FutureWarning: The behavior of DataFrame concatenation with empty or all-NA entries is deprecated. In a future version, this will no longer exclude empty or all-NA columns when determining the result dtypes. To retain the old behavior, exclude the relevant entries before the concat operation.\n",
      "  player_logs_concat = pd.concat(player_logs, ignore_index=True)\n"
     ]
    },
    {
     "name": "stdout",
     "output_type": "stream",
     "text": [
      "Fetching logs for player Jalen Johnson (ID: 1630552) for season 2020-21...\n",
      "Fetching logs for player Jalen Johnson (ID: 1630552) for season 2021-22...\n",
      "Fetching logs for player Jalen Johnson (ID: 1630552) for season 2022-23...\n",
      "Fetching logs for player Jalen Johnson (ID: 1630552) for season 2023-24...\n"
     ]
    },
    {
     "name": "stderr",
     "output_type": "stream",
     "text": [
      "C:\\Users\\jwag1\\AppData\\Local\\Temp\\ipykernel_32800\\3592326873.py:51: FutureWarning: The behavior of DataFrame concatenation with empty or all-NA entries is deprecated. In a future version, this will no longer exclude empty or all-NA columns when determining the result dtypes. To retain the old behavior, exclude the relevant entries before the concat operation.\n",
      "  player_logs_concat = pd.concat(player_logs, ignore_index=True)\n"
     ]
    },
    {
     "name": "stdout",
     "output_type": "stream",
     "text": [
      "Fetching logs for player James Johnson (ID: 201949) for season 2020-21...\n",
      "Fetching logs for player James Johnson (ID: 201949) for season 2021-22...\n",
      "Fetching logs for player James Johnson (ID: 201949) for season 2022-23...\n",
      "Fetching logs for player James Johnson (ID: 201949) for season 2023-24...\n",
      "Fetching logs for player Joe Johnson (ID: 2207) for season 2020-21...\n",
      "Fetching logs for player Joe Johnson (ID: 2207) for season 2021-22...\n",
      "Fetching logs for player Joe Johnson (ID: 2207) for season 2022-23...\n",
      "Fetching logs for player Joe Johnson (ID: 2207) for season 2023-24...\n"
     ]
    },
    {
     "name": "stderr",
     "output_type": "stream",
     "text": [
      "C:\\Users\\jwag1\\AppData\\Local\\Temp\\ipykernel_32800\\3592326873.py:51: FutureWarning: The behavior of DataFrame concatenation with empty or all-NA entries is deprecated. In a future version, this will no longer exclude empty or all-NA columns when determining the result dtypes. To retain the old behavior, exclude the relevant entries before the concat operation.\n",
      "  player_logs_concat = pd.concat(player_logs, ignore_index=True)\n"
     ]
    },
    {
     "name": "stdout",
     "output_type": "stream",
     "text": [
      "Fetching logs for player Keldon Johnson (ID: 1629640) for season 2020-21...\n",
      "Fetching logs for player Keldon Johnson (ID: 1629640) for season 2021-22...\n",
      "Fetching logs for player Keldon Johnson (ID: 1629640) for season 2022-23...\n",
      "Fetching logs for player Keldon Johnson (ID: 1629640) for season 2023-24...\n",
      "Fetching logs for player Keon Johnson (ID: 1630553) for season 2020-21...\n",
      "Fetching logs for player Keon Johnson (ID: 1630553) for season 2021-22...\n",
      "Fetching logs for player Keon Johnson (ID: 1630553) for season 2022-23...\n",
      "Fetching logs for player Keon Johnson (ID: 1630553) for season 2023-24...\n"
     ]
    },
    {
     "name": "stderr",
     "output_type": "stream",
     "text": [
      "C:\\Users\\jwag1\\AppData\\Local\\Temp\\ipykernel_32800\\3592326873.py:51: FutureWarning: The behavior of DataFrame concatenation with empty or all-NA entries is deprecated. In a future version, this will no longer exclude empty or all-NA columns when determining the result dtypes. To retain the old behavior, exclude the relevant entries before the concat operation.\n",
      "  player_logs_concat = pd.concat(player_logs, ignore_index=True)\n"
     ]
    },
    {
     "name": "stdout",
     "output_type": "stream",
     "text": [
      "Fetching logs for player Keyontae Johnson (ID: 1641749) for season 2020-21...\n",
      "Fetching logs for player Keyontae Johnson (ID: 1641749) for season 2021-22...\n",
      "Fetching logs for player Keyontae Johnson (ID: 1641749) for season 2022-23...\n",
      "Fetching logs for player Keyontae Johnson (ID: 1641749) for season 2023-24...\n"
     ]
    },
    {
     "name": "stderr",
     "output_type": "stream",
     "text": [
      "C:\\Users\\jwag1\\AppData\\Local\\Temp\\ipykernel_32800\\3592326873.py:51: FutureWarning: The behavior of DataFrame concatenation with empty or all-NA entries is deprecated. In a future version, this will no longer exclude empty or all-NA columns when determining the result dtypes. To retain the old behavior, exclude the relevant entries before the concat operation.\n",
      "  player_logs_concat = pd.concat(player_logs, ignore_index=True)\n"
     ]
    },
    {
     "name": "stdout",
     "output_type": "stream",
     "text": [
      "Fetching logs for player Stanley Johnson (ID: 1626169) for season 2020-21...\n",
      "Fetching logs for player Stanley Johnson (ID: 1626169) for season 2021-22...\n",
      "Fetching logs for player Stanley Johnson (ID: 1626169) for season 2022-23...\n",
      "Fetching logs for player Stanley Johnson (ID: 1626169) for season 2023-24...\n"
     ]
    },
    {
     "name": "stderr",
     "output_type": "stream",
     "text": [
      "C:\\Users\\jwag1\\AppData\\Local\\Temp\\ipykernel_32800\\3592326873.py:51: FutureWarning: The behavior of DataFrame concatenation with empty or all-NA entries is deprecated. In a future version, this will no longer exclude empty or all-NA columns when determining the result dtypes. To retain the old behavior, exclude the relevant entries before the concat operation.\n",
      "  player_logs_concat = pd.concat(player_logs, ignore_index=True)\n"
     ]
    },
    {
     "name": "stdout",
     "output_type": "stream",
     "text": [
      "Fetching logs for player Tyler Johnson (ID: 204020) for season 2020-21...\n",
      "Fetching logs for player Tyler Johnson (ID: 204020) for season 2021-22...\n",
      "Fetching logs for player Tyler Johnson (ID: 204020) for season 2022-23...\n",
      "Fetching logs for player Tyler Johnson (ID: 204020) for season 2023-24...\n"
     ]
    },
    {
     "name": "stderr",
     "output_type": "stream",
     "text": [
      "C:\\Users\\jwag1\\AppData\\Local\\Temp\\ipykernel_32800\\3592326873.py:51: FutureWarning: The behavior of DataFrame concatenation with empty or all-NA entries is deprecated. In a future version, this will no longer exclude empty or all-NA columns when determining the result dtypes. To retain the old behavior, exclude the relevant entries before the concat operation.\n",
      "  player_logs_concat = pd.concat(player_logs, ignore_index=True)\n"
     ]
    },
    {
     "name": "stdout",
     "output_type": "stream",
     "text": [
      "Fetching logs for player Nikola Jokic (ID: 203999) for season 2020-21...\n",
      "Fetching logs for player Nikola Jokic (ID: 203999) for season 2021-22...\n",
      "Fetching logs for player Nikola Jokic (ID: 203999) for season 2022-23...\n",
      "Fetching logs for player Nikola Jokic (ID: 203999) for season 2023-24...\n",
      "Fetching logs for player Carlik Jones (ID: 1630637) for season 2020-21...\n",
      "Fetching logs for player Carlik Jones (ID: 1630637) for season 2021-22...\n",
      "Fetching logs for player Carlik Jones (ID: 1630637) for season 2022-23...\n",
      "Fetching logs for player Carlik Jones (ID: 1630637) for season 2023-24...\n"
     ]
    },
    {
     "name": "stderr",
     "output_type": "stream",
     "text": [
      "C:\\Users\\jwag1\\AppData\\Local\\Temp\\ipykernel_32800\\3592326873.py:51: FutureWarning: The behavior of DataFrame concatenation with empty or all-NA entries is deprecated. In a future version, this will no longer exclude empty or all-NA columns when determining the result dtypes. To retain the old behavior, exclude the relevant entries before the concat operation.\n",
      "  player_logs_concat = pd.concat(player_logs, ignore_index=True)\n"
     ]
    },
    {
     "name": "stdout",
     "output_type": "stream",
     "text": [
      "Fetching logs for player Colby Jones (ID: 1641732) for season 2020-21...\n",
      "Fetching logs for player Colby Jones (ID: 1641732) for season 2021-22...\n",
      "Fetching logs for player Colby Jones (ID: 1641732) for season 2022-23...\n",
      "Fetching logs for player Colby Jones (ID: 1641732) for season 2023-24...\n"
     ]
    },
    {
     "name": "stderr",
     "output_type": "stream",
     "text": [
      "C:\\Users\\jwag1\\AppData\\Local\\Temp\\ipykernel_32800\\3592326873.py:51: FutureWarning: The behavior of DataFrame concatenation with empty or all-NA entries is deprecated. In a future version, this will no longer exclude empty or all-NA columns when determining the result dtypes. To retain the old behavior, exclude the relevant entries before the concat operation.\n",
      "  player_logs_concat = pd.concat(player_logs, ignore_index=True)\n"
     ]
    },
    {
     "name": "stdout",
     "output_type": "stream",
     "text": [
      "Fetching logs for player Damian Jones (ID: 1627745) for season 2020-21...\n",
      "Fetching logs for player Damian Jones (ID: 1627745) for season 2021-22...\n",
      "Fetching logs for player Damian Jones (ID: 1627745) for season 2022-23...\n",
      "Fetching logs for player Damian Jones (ID: 1627745) for season 2023-24...\n",
      "Fetching logs for player Herbert Jones (ID: 1630529) for season 2020-21...\n",
      "Fetching logs for player Herbert Jones (ID: 1630529) for season 2021-22...\n",
      "Fetching logs for player Herbert Jones (ID: 1630529) for season 2022-23...\n",
      "Fetching logs for player Herbert Jones (ID: 1630529) for season 2023-24...\n"
     ]
    },
    {
     "name": "stderr",
     "output_type": "stream",
     "text": [
      "C:\\Users\\jwag1\\AppData\\Local\\Temp\\ipykernel_32800\\3592326873.py:51: FutureWarning: The behavior of DataFrame concatenation with empty or all-NA entries is deprecated. In a future version, this will no longer exclude empty or all-NA columns when determining the result dtypes. To retain the old behavior, exclude the relevant entries before the concat operation.\n",
      "  player_logs_concat = pd.concat(player_logs, ignore_index=True)\n"
     ]
    },
    {
     "name": "stdout",
     "output_type": "stream",
     "text": [
      "Fetching logs for player Jemerrio Jones (ID: 1629203) for season 2020-21...\n",
      "Fetching logs for player Jemerrio Jones (ID: 1629203) for season 2021-22...\n",
      "Fetching logs for player Jemerrio Jones (ID: 1629203) for season 2022-23...\n",
      "Fetching logs for player Jemerrio Jones (ID: 1629203) for season 2023-24...\n"
     ]
    },
    {
     "name": "stderr",
     "output_type": "stream",
     "text": [
      "C:\\Users\\jwag1\\AppData\\Local\\Temp\\ipykernel_32800\\3592326873.py:51: FutureWarning: The behavior of DataFrame concatenation with empty or all-NA entries is deprecated. In a future version, this will no longer exclude empty or all-NA columns when determining the result dtypes. To retain the old behavior, exclude the relevant entries before the concat operation.\n",
      "  player_logs_concat = pd.concat(player_logs, ignore_index=True)\n"
     ]
    },
    {
     "name": "stdout",
     "output_type": "stream",
     "text": [
      "Fetching logs for player Kai Jones (ID: 1630539) for season 2020-21...\n",
      "Fetching logs for player Kai Jones (ID: 1630539) for season 2021-22...\n",
      "Fetching logs for player Kai Jones (ID: 1630539) for season 2022-23...\n",
      "Fetching logs for player Kai Jones (ID: 1630539) for season 2023-24...\n"
     ]
    },
    {
     "name": "stderr",
     "output_type": "stream",
     "text": [
      "C:\\Users\\jwag1\\AppData\\Local\\Temp\\ipykernel_32800\\3592326873.py:51: FutureWarning: The behavior of DataFrame concatenation with empty or all-NA entries is deprecated. In a future version, this will no longer exclude empty or all-NA columns when determining the result dtypes. To retain the old behavior, exclude the relevant entries before the concat operation.\n",
      "  player_logs_concat = pd.concat(player_logs, ignore_index=True)\n"
     ]
    },
    {
     "name": "stdout",
     "output_type": "stream",
     "text": [
      "Fetching logs for player Mason Jones (ID: 1630222) for season 2020-21...\n",
      "Fetching logs for player Mason Jones (ID: 1630222) for season 2021-22...\n",
      "Fetching logs for player Mason Jones (ID: 1630222) for season 2022-23...\n",
      "Fetching logs for player Mason Jones (ID: 1630222) for season 2023-24...\n"
     ]
    },
    {
     "name": "stderr",
     "output_type": "stream",
     "text": [
      "C:\\Users\\jwag1\\AppData\\Local\\Temp\\ipykernel_32800\\3592326873.py:51: FutureWarning: The behavior of DataFrame concatenation with empty or all-NA entries is deprecated. In a future version, this will no longer exclude empty or all-NA columns when determining the result dtypes. To retain the old behavior, exclude the relevant entries before the concat operation.\n",
      "  player_logs_concat = pd.concat(player_logs, ignore_index=True)\n"
     ]
    },
    {
     "name": "stdout",
     "output_type": "stream",
     "text": [
      "Fetching logs for player Tre Jones (ID: 1630200) for season 2020-21...\n",
      "Fetching logs for player Tre Jones (ID: 1630200) for season 2021-22...\n",
      "Fetching logs for player Tre Jones (ID: 1630200) for season 2022-23...\n",
      "Fetching logs for player Tre Jones (ID: 1630200) for season 2023-24...\n",
      "Fetching logs for player Tyus Jones (ID: 1626145) for season 2020-21...\n",
      "Fetching logs for player Tyus Jones (ID: 1626145) for season 2021-22...\n",
      "Fetching logs for player Tyus Jones (ID: 1626145) for season 2022-23...\n",
      "Fetching logs for player Tyus Jones (ID: 1626145) for season 2023-24...\n",
      "Fetching logs for player Derrick Jones Jr. (ID: 1627884) for season 2020-21...\n",
      "Fetching logs for player Derrick Jones Jr. (ID: 1627884) for season 2021-22...\n",
      "Fetching logs for player Derrick Jones Jr. (ID: 1627884) for season 2022-23...\n",
      "Fetching logs for player Derrick Jones Jr. (ID: 1627884) for season 2023-24...\n",
      "Fetching logs for player DeAndre Jordan (ID: 201599) for season 2020-21...\n",
      "Fetching logs for player DeAndre Jordan (ID: 201599) for season 2021-22...\n",
      "Fetching logs for player DeAndre Jordan (ID: 201599) for season 2022-23...\n",
      "Fetching logs for player DeAndre Jordan (ID: 201599) for season 2023-24...\n",
      "Fetching logs for player Cory Joseph (ID: 202709) for season 2020-21...\n",
      "Fetching logs for player Cory Joseph (ID: 202709) for season 2021-22...\n",
      "Fetching logs for player Cory Joseph (ID: 202709) for season 2022-23...\n",
      "Fetching logs for player Cory Joseph (ID: 202709) for season 2023-24...\n",
      "Fetching logs for player Nikola Jovic (ID: 1631107) for season 2020-21...\n",
      "Fetching logs for player Nikola Jovic (ID: 1631107) for season 2021-22...\n",
      "Fetching logs for player Nikola Jovic (ID: 1631107) for season 2022-23...\n",
      "Fetching logs for player Nikola Jovic (ID: 1631107) for season 2023-24...\n"
     ]
    },
    {
     "name": "stderr",
     "output_type": "stream",
     "text": [
      "C:\\Users\\jwag1\\AppData\\Local\\Temp\\ipykernel_32800\\3592326873.py:51: FutureWarning: The behavior of DataFrame concatenation with empty or all-NA entries is deprecated. In a future version, this will no longer exclude empty or all-NA columns when determining the result dtypes. To retain the old behavior, exclude the relevant entries before the concat operation.\n",
      "  player_logs_concat = pd.concat(player_logs, ignore_index=True)\n"
     ]
    },
    {
     "name": "stdout",
     "output_type": "stream",
     "text": [
      "Fetching logs for player Johnny Juzang (ID: 1630548) for season 2020-21...\n",
      "Fetching logs for player Johnny Juzang (ID: 1630548) for season 2021-22...\n",
      "Fetching logs for player Johnny Juzang (ID: 1630548) for season 2022-23...\n",
      "Fetching logs for player Johnny Juzang (ID: 1630548) for season 2023-24...\n"
     ]
    },
    {
     "name": "stderr",
     "output_type": "stream",
     "text": [
      "C:\\Users\\jwag1\\AppData\\Local\\Temp\\ipykernel_32800\\3592326873.py:51: FutureWarning: The behavior of DataFrame concatenation with empty or all-NA entries is deprecated. In a future version, this will no longer exclude empty or all-NA columns when determining the result dtypes. To retain the old behavior, exclude the relevant entries before the concat operation.\n",
      "  player_logs_concat = pd.concat(player_logs, ignore_index=True)\n"
     ]
    },
    {
     "name": "stdout",
     "output_type": "stream",
     "text": [
      "Fetching logs for player Mfiondu Kabengele (ID: 1629662) for season 2020-21...\n",
      "Fetching logs for player Mfiondu Kabengele (ID: 1629662) for season 2021-22...\n",
      "Fetching logs for player Mfiondu Kabengele (ID: 1629662) for season 2022-23...\n",
      "Fetching logs for player Mfiondu Kabengele (ID: 1629662) for season 2023-24...\n"
     ]
    },
    {
     "name": "stderr",
     "output_type": "stream",
     "text": [
      "C:\\Users\\jwag1\\AppData\\Local\\Temp\\ipykernel_32800\\3592326873.py:51: FutureWarning: The behavior of DataFrame concatenation with empty or all-NA entries is deprecated. In a future version, this will no longer exclude empty or all-NA columns when determining the result dtypes. To retain the old behavior, exclude the relevant entries before the concat operation.\n",
      "  player_logs_concat = pd.concat(player_logs, ignore_index=True)\n"
     ]
    },
    {
     "name": "stdout",
     "output_type": "stream",
     "text": [
      "Fetching logs for player Georgios Kalaitzakis (ID: 1630686) for season 2020-21...\n",
      "Fetching logs for player Georgios Kalaitzakis (ID: 1630686) for season 2021-22...\n",
      "Fetching logs for player Georgios Kalaitzakis (ID: 1630686) for season 2022-23...\n",
      "Fetching logs for player Georgios Kalaitzakis (ID: 1630686) for season 2023-24...\n"
     ]
    },
    {
     "name": "stderr",
     "output_type": "stream",
     "text": [
      "C:\\Users\\jwag1\\AppData\\Local\\Temp\\ipykernel_32800\\3592326873.py:51: FutureWarning: The behavior of DataFrame concatenation with empty or all-NA entries is deprecated. In a future version, this will no longer exclude empty or all-NA columns when determining the result dtypes. To retain the old behavior, exclude the relevant entries before the concat operation.\n",
      "  player_logs_concat = pd.concat(player_logs, ignore_index=True)\n"
     ]
    },
    {
     "name": "stdout",
     "output_type": "stream",
     "text": [
      "Fetching logs for player Frank Kaminsky (ID: 1626163) for season 2020-21...\n",
      "Fetching logs for player Frank Kaminsky (ID: 1626163) for season 2021-22...\n",
      "Fetching logs for player Frank Kaminsky (ID: 1626163) for season 2022-23...\n",
      "Fetching logs for player Frank Kaminsky (ID: 1626163) for season 2023-24...\n"
     ]
    },
    {
     "name": "stderr",
     "output_type": "stream",
     "text": [
      "C:\\Users\\jwag1\\AppData\\Local\\Temp\\ipykernel_32800\\3592326873.py:51: FutureWarning: The behavior of DataFrame concatenation with empty or all-NA entries is deprecated. In a future version, this will no longer exclude empty or all-NA columns when determining the result dtypes. To retain the old behavior, exclude the relevant entries before the concat operation.\n",
      "  player_logs_concat = pd.concat(player_logs, ignore_index=True)\n"
     ]
    },
    {
     "name": "stdout",
     "output_type": "stream",
     "text": [
      "Fetching logs for player Trevor Keels (ID: 1631211) for season 2020-21...\n",
      "Fetching logs for player Trevor Keels (ID: 1631211) for season 2021-22...\n",
      "Fetching logs for player Trevor Keels (ID: 1631211) for season 2022-23...\n",
      "Fetching logs for player Trevor Keels (ID: 1631211) for season 2023-24...\n"
     ]
    },
    {
     "name": "stderr",
     "output_type": "stream",
     "text": [
      "C:\\Users\\jwag1\\AppData\\Local\\Temp\\ipykernel_32800\\3592326873.py:51: FutureWarning: The behavior of DataFrame concatenation with empty or all-NA entries is deprecated. In a future version, this will no longer exclude empty or all-NA columns when determining the result dtypes. To retain the old behavior, exclude the relevant entries before the concat operation.\n",
      "  player_logs_concat = pd.concat(player_logs, ignore_index=True)\n"
     ]
    },
    {
     "name": "stdout",
     "output_type": "stream",
     "text": [
      "Fetching logs for player Luke Kennard (ID: 1628379) for season 2020-21...\n",
      "Fetching logs for player Luke Kennard (ID: 1628379) for season 2021-22...\n",
      "Fetching logs for player Luke Kennard (ID: 1628379) for season 2022-23...\n",
      "Fetching logs for player Luke Kennard (ID: 1628379) for season 2023-24...\n",
      "Fetching logs for player Walker Kessler (ID: 1631117) for season 2020-21...\n",
      "Fetching logs for player Walker Kessler (ID: 1631117) for season 2021-22...\n",
      "Fetching logs for player Walker Kessler (ID: 1631117) for season 2022-23...\n",
      "Fetching logs for player Walker Kessler (ID: 1631117) for season 2023-24...\n"
     ]
    },
    {
     "name": "stderr",
     "output_type": "stream",
     "text": [
      "C:\\Users\\jwag1\\AppData\\Local\\Temp\\ipykernel_32800\\3592326873.py:51: FutureWarning: The behavior of DataFrame concatenation with empty or all-NA entries is deprecated. In a future version, this will no longer exclude empty or all-NA columns when determining the result dtypes. To retain the old behavior, exclude the relevant entries before the concat operation.\n",
      "  player_logs_concat = pd.concat(player_logs, ignore_index=True)\n"
     ]
    },
    {
     "name": "stdout",
     "output_type": "stream",
     "text": [
      "Fetching logs for player Braxton Key (ID: 1630296) for season 2020-21...\n",
      "Fetching logs for player Braxton Key (ID: 1630296) for season 2021-22...\n",
      "Fetching logs for player Braxton Key (ID: 1630296) for season 2022-23...\n",
      "Fetching logs for player Braxton Key (ID: 1630296) for season 2023-24...\n"
     ]
    },
    {
     "name": "stderr",
     "output_type": "stream",
     "text": [
      "C:\\Users\\jwag1\\AppData\\Local\\Temp\\ipykernel_32800\\3592326873.py:51: FutureWarning: The behavior of DataFrame concatenation with empty or all-NA entries is deprecated. In a future version, this will no longer exclude empty or all-NA columns when determining the result dtypes. To retain the old behavior, exclude the relevant entries before the concat operation.\n",
      "  player_logs_concat = pd.concat(player_logs, ignore_index=True)\n"
     ]
    },
    {
     "name": "stdout",
     "output_type": "stream",
     "text": [
      "Fetching logs for player George King (ID: 1628994) for season 2020-21...\n",
      "Fetching logs for player George King (ID: 1628994) for season 2021-22...\n",
      "Fetching logs for player George King (ID: 1628994) for season 2022-23...\n",
      "Fetching logs for player George King (ID: 1628994) for season 2023-24...\n"
     ]
    },
    {
     "name": "stderr",
     "output_type": "stream",
     "text": [
      "C:\\Users\\jwag1\\AppData\\Local\\Temp\\ipykernel_32800\\3592326873.py:51: FutureWarning: The behavior of DataFrame concatenation with empty or all-NA entries is deprecated. In a future version, this will no longer exclude empty or all-NA columns when determining the result dtypes. To retain the old behavior, exclude the relevant entries before the concat operation.\n",
      "  player_logs_concat = pd.concat(player_logs, ignore_index=True)\n"
     ]
    },
    {
     "name": "stdout",
     "output_type": "stream",
     "text": [
      "Fetching logs for player Louis King (ID: 1629663) for season 2020-21...\n",
      "Fetching logs for player Louis King (ID: 1629663) for season 2021-22...\n",
      "Fetching logs for player Louis King (ID: 1629663) for season 2022-23...\n",
      "Fetching logs for player Louis King (ID: 1629663) for season 2023-24...\n"
     ]
    },
    {
     "name": "stderr",
     "output_type": "stream",
     "text": [
      "C:\\Users\\jwag1\\AppData\\Local\\Temp\\ipykernel_32800\\3592326873.py:51: FutureWarning: The behavior of DataFrame concatenation with empty or all-NA entries is deprecated. In a future version, this will no longer exclude empty or all-NA columns when determining the result dtypes. To retain the old behavior, exclude the relevant entries before the concat operation.\n",
      "  player_logs_concat = pd.concat(player_logs, ignore_index=True)\n"
     ]
    },
    {
     "name": "stdout",
     "output_type": "stream",
     "text": [
      "Fetching logs for player Corey Kispert (ID: 1630557) for season 2020-21...\n",
      "Fetching logs for player Corey Kispert (ID: 1630557) for season 2021-22...\n",
      "Fetching logs for player Corey Kispert (ID: 1630557) for season 2022-23...\n",
      "Fetching logs for player Corey Kispert (ID: 1630557) for season 2023-24...\n"
     ]
    },
    {
     "name": "stderr",
     "output_type": "stream",
     "text": [
      "C:\\Users\\jwag1\\AppData\\Local\\Temp\\ipykernel_32800\\3592326873.py:51: FutureWarning: The behavior of DataFrame concatenation with empty or all-NA entries is deprecated. In a future version, this will no longer exclude empty or all-NA columns when determining the result dtypes. To retain the old behavior, exclude the relevant entries before the concat operation.\n",
      "  player_logs_concat = pd.concat(player_logs, ignore_index=True)\n"
     ]
    },
    {
     "name": "stdout",
     "output_type": "stream",
     "text": [
      "Fetching logs for player Maxi Kleber (ID: 1628467) for season 2020-21...\n",
      "Fetching logs for player Maxi Kleber (ID: 1628467) for season 2021-22...\n",
      "Fetching logs for player Maxi Kleber (ID: 1628467) for season 2022-23...\n",
      "Fetching logs for player Maxi Kleber (ID: 1628467) for season 2023-24...\n",
      "Fetching logs for player Brandon Knight (ID: 202688) for season 2020-21...\n",
      "Fetching logs for player Brandon Knight (ID: 202688) for season 2021-22...\n",
      "Fetching logs for player Brandon Knight (ID: 202688) for season 2022-23...\n",
      "Fetching logs for player Brandon Knight (ID: 202688) for season 2023-24...\n"
     ]
    },
    {
     "name": "stderr",
     "output_type": "stream",
     "text": [
      "C:\\Users\\jwag1\\AppData\\Local\\Temp\\ipykernel_32800\\3592326873.py:51: FutureWarning: The behavior of DataFrame concatenation with empty or all-NA entries is deprecated. In a future version, this will no longer exclude empty or all-NA columns when determining the result dtypes. To retain the old behavior, exclude the relevant entries before the concat operation.\n",
      "  player_logs_concat = pd.concat(player_logs, ignore_index=True)\n"
     ]
    },
    {
     "name": "stdout",
     "output_type": "stream",
     "text": [
      "Fetching logs for player Nathan Knight (ID: 1630233) for season 2020-21...\n",
      "Fetching logs for player Nathan Knight (ID: 1630233) for season 2021-22...\n",
      "Fetching logs for player Nathan Knight (ID: 1630233) for season 2022-23...\n",
      "Fetching logs for player Nathan Knight (ID: 1630233) for season 2023-24...\n"
     ]
    },
    {
     "name": "stderr",
     "output_type": "stream",
     "text": [
      "C:\\Users\\jwag1\\AppData\\Local\\Temp\\ipykernel_32800\\3592326873.py:51: FutureWarning: The behavior of DataFrame concatenation with empty or all-NA entries is deprecated. In a future version, this will no longer exclude empty or all-NA columns when determining the result dtypes. To retain the old behavior, exclude the relevant entries before the concat operation.\n",
      "  player_logs_concat = pd.concat(player_logs, ignore_index=True)\n"
     ]
    },
    {
     "name": "stdout",
     "output_type": "stream",
     "text": [
      "Fetching logs for player Kevin Knox II (ID: 1628995) for season 2020-21...\n",
      "Fetching logs for player Kevin Knox II (ID: 1628995) for season 2021-22...\n",
      "Fetching logs for player Kevin Knox II (ID: 1628995) for season 2022-23...\n",
      "Fetching logs for player Kevin Knox II (ID: 1628995) for season 2023-24...\n",
      "Fetching logs for player Christian Koloko (ID: 1631132) for season 2020-21...\n",
      "Fetching logs for player Christian Koloko (ID: 1631132) for season 2021-22...\n",
      "Fetching logs for player Christian Koloko (ID: 1631132) for season 2022-23...\n",
      "Fetching logs for player Christian Koloko (ID: 1631132) for season 2023-24...\n"
     ]
    },
    {
     "name": "stderr",
     "output_type": "stream",
     "text": [
      "C:\\Users\\jwag1\\AppData\\Local\\Temp\\ipykernel_32800\\3592326873.py:51: FutureWarning: The behavior of DataFrame concatenation with empty or all-NA entries is deprecated. In a future version, this will no longer exclude empty or all-NA columns when determining the result dtypes. To retain the old behavior, exclude the relevant entries before the concat operation.\n",
      "  player_logs_concat = pd.concat(player_logs, ignore_index=True)\n"
     ]
    },
    {
     "name": "stdout",
     "output_type": "stream",
     "text": [
      "Fetching logs for player John Konchar (ID: 1629723) for season 2020-21...\n",
      "Fetching logs for player John Konchar (ID: 1629723) for season 2021-22...\n",
      "Fetching logs for player John Konchar (ID: 1629723) for season 2022-23...\n",
      "Fetching logs for player John Konchar (ID: 1629723) for season 2023-24...\n",
      "Fetching logs for player Furkan Korkmaz (ID: 1627788) for season 2020-21...\n",
      "Fetching logs for player Furkan Korkmaz (ID: 1627788) for season 2021-22...\n",
      "Fetching logs for player Furkan Korkmaz (ID: 1627788) for season 2022-23...\n",
      "Fetching logs for player Furkan Korkmaz (ID: 1627788) for season 2023-24...\n"
     ]
    },
    {
     "name": "stderr",
     "output_type": "stream",
     "text": [
      "\r",
      " 50%|█████     | 9/18 [15:56<15:47, 105.32s/it]"
     ]
    },
    {
     "name": "stdout",
     "output_type": "stream",
     "text": [
      "Processing batch 450 to 500...\n",
      "Fetching logs for player Luke Kornet (ID: 1628436) for season 2020-21...\n",
      "Fetching logs for player Luke Kornet (ID: 1628436) for season 2021-22...\n",
      "Fetching logs for player Luke Kornet (ID: 1628436) for season 2022-23...\n",
      "Fetching logs for player Luke Kornet (ID: 1628436) for season 2023-24...\n",
      "Fetching logs for player Vit Krejci (ID: 1630249) for season 2020-21...\n",
      "Fetching logs for player Vit Krejci (ID: 1630249) for season 2021-22...\n",
      "Fetching logs for player Vit Krejci (ID: 1630249) for season 2022-23...\n",
      "Fetching logs for player Vit Krejci (ID: 1630249) for season 2023-24...\n"
     ]
    },
    {
     "name": "stderr",
     "output_type": "stream",
     "text": [
      "C:\\Users\\jwag1\\AppData\\Local\\Temp\\ipykernel_32800\\3592326873.py:51: FutureWarning: The behavior of DataFrame concatenation with empty or all-NA entries is deprecated. In a future version, this will no longer exclude empty or all-NA columns when determining the result dtypes. To retain the old behavior, exclude the relevant entries before the concat operation.\n",
      "  player_logs_concat = pd.concat(player_logs, ignore_index=True)\n"
     ]
    },
    {
     "name": "stdout",
     "output_type": "stream",
     "text": [
      "Fetching logs for player Arnoldas Kulboka (ID: 1629083) for season 2020-21...\n",
      "Fetching logs for player Arnoldas Kulboka (ID: 1629083) for season 2021-22...\n",
      "Fetching logs for player Arnoldas Kulboka (ID: 1629083) for season 2022-23...\n",
      "Fetching logs for player Arnoldas Kulboka (ID: 1629083) for season 2023-24...\n"
     ]
    },
    {
     "name": "stderr",
     "output_type": "stream",
     "text": [
      "C:\\Users\\jwag1\\AppData\\Local\\Temp\\ipykernel_32800\\3592326873.py:51: FutureWarning: The behavior of DataFrame concatenation with empty or all-NA entries is deprecated. In a future version, this will no longer exclude empty or all-NA columns when determining the result dtypes. To retain the old behavior, exclude the relevant entries before the concat operation.\n",
      "  player_logs_concat = pd.concat(player_logs, ignore_index=True)\n"
     ]
    },
    {
     "name": "stdout",
     "output_type": "stream",
     "text": [
      "Fetching logs for player Jonathan Kuminga (ID: 1630228) for season 2020-21...\n",
      "Fetching logs for player Jonathan Kuminga (ID: 1630228) for season 2021-22...\n",
      "Fetching logs for player Jonathan Kuminga (ID: 1630228) for season 2022-23...\n",
      "Fetching logs for player Jonathan Kuminga (ID: 1630228) for season 2023-24...\n"
     ]
    },
    {
     "name": "stderr",
     "output_type": "stream",
     "text": [
      "C:\\Users\\jwag1\\AppData\\Local\\Temp\\ipykernel_32800\\3592326873.py:51: FutureWarning: The behavior of DataFrame concatenation with empty or all-NA entries is deprecated. In a future version, this will no longer exclude empty or all-NA columns when determining the result dtypes. To retain the old behavior, exclude the relevant entries before the concat operation.\n",
      "  player_logs_concat = pd.concat(player_logs, ignore_index=True)\n"
     ]
    },
    {
     "name": "stdout",
     "output_type": "stream",
     "text": [
      "Fetching logs for player Rodions Kurucs (ID: 1629066) for season 2020-21...\n",
      "Fetching logs for player Rodions Kurucs (ID: 1629066) for season 2021-22...\n",
      "Fetching logs for player Rodions Kurucs (ID: 1629066) for season 2022-23...\n",
      "Fetching logs for player Rodions Kurucs (ID: 1629066) for season 2023-24...\n"
     ]
    },
    {
     "name": "stderr",
     "output_type": "stream",
     "text": [
      "C:\\Users\\jwag1\\AppData\\Local\\Temp\\ipykernel_32800\\3592326873.py:51: FutureWarning: The behavior of DataFrame concatenation with empty or all-NA entries is deprecated. In a future version, this will no longer exclude empty or all-NA columns when determining the result dtypes. To retain the old behavior, exclude the relevant entries before the concat operation.\n",
      "  player_logs_concat = pd.concat(player_logs, ignore_index=True)\n"
     ]
    },
    {
     "name": "stdout",
     "output_type": "stream",
     "text": [
      "Fetching logs for player Kyle Kuzma (ID: 1628398) for season 2020-21...\n",
      "Fetching logs for player Kyle Kuzma (ID: 1628398) for season 2021-22...\n",
      "Fetching logs for player Kyle Kuzma (ID: 1628398) for season 2022-23...\n",
      "Fetching logs for player Kyle Kuzma (ID: 1628398) for season 2023-24...\n",
      "Fetching logs for player Jake LaRavia (ID: 1631222) for season 2020-21...\n",
      "Fetching logs for player Jake LaRavia (ID: 1631222) for season 2021-22...\n",
      "Fetching logs for player Jake LaRavia (ID: 1631222) for season 2022-23...\n",
      "Fetching logs for player Jake LaRavia (ID: 1631222) for season 2023-24...\n"
     ]
    },
    {
     "name": "stderr",
     "output_type": "stream",
     "text": [
      "C:\\Users\\jwag1\\AppData\\Local\\Temp\\ipykernel_32800\\3592326873.py:51: FutureWarning: The behavior of DataFrame concatenation with empty or all-NA entries is deprecated. In a future version, this will no longer exclude empty or all-NA columns when determining the result dtypes. To retain the old behavior, exclude the relevant entries before the concat operation.\n",
      "  player_logs_concat = pd.concat(player_logs, ignore_index=True)\n"
     ]
    },
    {
     "name": "stdout",
     "output_type": "stream",
     "text": [
      "Fetching logs for player Zach LaVine (ID: 203897) for season 2020-21...\n",
      "Fetching logs for player Zach LaVine (ID: 203897) for season 2021-22...\n",
      "Fetching logs for player Zach LaVine (ID: 203897) for season 2022-23...\n",
      "Fetching logs for player Zach LaVine (ID: 203897) for season 2023-24...\n",
      "Fetching logs for player Anthony Lamb (ID: 1630237) for season 2020-21...\n",
      "Fetching logs for player Anthony Lamb (ID: 1630237) for season 2021-22...\n",
      "Fetching logs for player Anthony Lamb (ID: 1630237) for season 2022-23...\n",
      "Fetching logs for player Anthony Lamb (ID: 1630237) for season 2023-24...\n"
     ]
    },
    {
     "name": "stderr",
     "output_type": "stream",
     "text": [
      "C:\\Users\\jwag1\\AppData\\Local\\Temp\\ipykernel_32800\\3592326873.py:51: FutureWarning: The behavior of DataFrame concatenation with empty or all-NA entries is deprecated. In a future version, this will no longer exclude empty or all-NA columns when determining the result dtypes. To retain the old behavior, exclude the relevant entries before the concat operation.\n",
      "  player_logs_concat = pd.concat(player_logs, ignore_index=True)\n"
     ]
    },
    {
     "name": "stdout",
     "output_type": "stream",
     "text": [
      "Fetching logs for player Jeremy Lamb (ID: 203087) for season 2020-21...\n",
      "Fetching logs for player Jeremy Lamb (ID: 203087) for season 2021-22...\n",
      "Fetching logs for player Jeremy Lamb (ID: 203087) for season 2022-23...\n",
      "Fetching logs for player Jeremy Lamb (ID: 203087) for season 2023-24...\n"
     ]
    },
    {
     "name": "stderr",
     "output_type": "stream",
     "text": [
      "C:\\Users\\jwag1\\AppData\\Local\\Temp\\ipykernel_32800\\3592326873.py:51: FutureWarning: The behavior of DataFrame concatenation with empty or all-NA entries is deprecated. In a future version, this will no longer exclude empty or all-NA columns when determining the result dtypes. To retain the old behavior, exclude the relevant entries before the concat operation.\n",
      "  player_logs_concat = pd.concat(player_logs, ignore_index=True)\n"
     ]
    },
    {
     "name": "stdout",
     "output_type": "stream",
     "text": [
      "Fetching logs for player Jock Landale (ID: 1629111) for season 2020-21...\n",
      "Fetching logs for player Jock Landale (ID: 1629111) for season 2021-22...\n",
      "Fetching logs for player Jock Landale (ID: 1629111) for season 2022-23...\n",
      "Fetching logs for player Jock Landale (ID: 1629111) for season 2023-24...\n"
     ]
    },
    {
     "name": "stderr",
     "output_type": "stream",
     "text": [
      "C:\\Users\\jwag1\\AppData\\Local\\Temp\\ipykernel_32800\\3592326873.py:51: FutureWarning: The behavior of DataFrame concatenation with empty or all-NA entries is deprecated. In a future version, this will no longer exclude empty or all-NA columns when determining the result dtypes. To retain the old behavior, exclude the relevant entries before the concat operation.\n",
      "  player_logs_concat = pd.concat(player_logs, ignore_index=True)\n"
     ]
    },
    {
     "name": "stdout",
     "output_type": "stream",
     "text": [
      "Fetching logs for player Romeo Langford (ID: 1629641) for season 2020-21...\n",
      "Fetching logs for player Romeo Langford (ID: 1629641) for season 2021-22...\n",
      "Fetching logs for player Romeo Langford (ID: 1629641) for season 2022-23...\n",
      "Fetching logs for player Romeo Langford (ID: 1629641) for season 2023-24...\n"
     ]
    },
    {
     "name": "stderr",
     "output_type": "stream",
     "text": [
      "C:\\Users\\jwag1\\AppData\\Local\\Temp\\ipykernel_32800\\3592326873.py:51: FutureWarning: The behavior of DataFrame concatenation with empty or all-NA entries is deprecated. In a future version, this will no longer exclude empty or all-NA columns when determining the result dtypes. To retain the old behavior, exclude the relevant entries before the concat operation.\n",
      "  player_logs_concat = pd.concat(player_logs, ignore_index=True)\n"
     ]
    },
    {
     "name": "stdout",
     "output_type": "stream",
     "text": [
      "Fetching logs for player A.J. Lawson (ID: 1630639) for season 2020-21...\n",
      "Fetching logs for player A.J. Lawson (ID: 1630639) for season 2021-22...\n",
      "Fetching logs for player A.J. Lawson (ID: 1630639) for season 2022-23...\n",
      "Fetching logs for player A.J. Lawson (ID: 1630639) for season 2023-24...\n"
     ]
    },
    {
     "name": "stderr",
     "output_type": "stream",
     "text": [
      "C:\\Users\\jwag1\\AppData\\Local\\Temp\\ipykernel_32800\\3592326873.py:51: FutureWarning: The behavior of DataFrame concatenation with empty or all-NA entries is deprecated. In a future version, this will no longer exclude empty or all-NA columns when determining the result dtypes. To retain the old behavior, exclude the relevant entries before the concat operation.\n",
      "  player_logs_concat = pd.concat(player_logs, ignore_index=True)\n"
     ]
    },
    {
     "name": "stdout",
     "output_type": "stream",
     "text": [
      "Fetching logs for player Jake Layman (ID: 1627774) for season 2020-21...\n",
      "Fetching logs for player Jake Layman (ID: 1627774) for season 2021-22...\n",
      "Fetching logs for player Jake Layman (ID: 1627774) for season 2022-23...\n",
      "Fetching logs for player Jake Layman (ID: 1627774) for season 2023-24...\n"
     ]
    },
    {
     "name": "stderr",
     "output_type": "stream",
     "text": [
      "C:\\Users\\jwag1\\AppData\\Local\\Temp\\ipykernel_32800\\3592326873.py:51: FutureWarning: The behavior of DataFrame concatenation with empty or all-NA entries is deprecated. In a future version, this will no longer exclude empty or all-NA columns when determining the result dtypes. To retain the old behavior, exclude the relevant entries before the concat operation.\n",
      "  player_logs_concat = pd.concat(player_logs, ignore_index=True)\n"
     ]
    },
    {
     "name": "stdout",
     "output_type": "stream",
     "text": [
      "Fetching logs for player Caris LeVert (ID: 1627747) for season 2020-21...\n",
      "Fetching logs for player Caris LeVert (ID: 1627747) for season 2021-22...\n",
      "Fetching logs for player Caris LeVert (ID: 1627747) for season 2022-23...\n",
      "Fetching logs for player Caris LeVert (ID: 1627747) for season 2023-24...\n",
      "Fetching logs for player T.J. Leaf (ID: 1628388) for season 2020-21...\n",
      "Fetching logs for player T.J. Leaf (ID: 1628388) for season 2021-22...\n",
      "Fetching logs for player T.J. Leaf (ID: 1628388) for season 2022-23...\n",
      "Fetching logs for player T.J. Leaf (ID: 1628388) for season 2023-24...\n"
     ]
    },
    {
     "name": "stderr",
     "output_type": "stream",
     "text": [
      "C:\\Users\\jwag1\\AppData\\Local\\Temp\\ipykernel_32800\\3592326873.py:51: FutureWarning: The behavior of DataFrame concatenation with empty or all-NA entries is deprecated. In a future version, this will no longer exclude empty or all-NA columns when determining the result dtypes. To retain the old behavior, exclude the relevant entries before the concat operation.\n",
      "  player_logs_concat = pd.concat(player_logs, ignore_index=True)\n"
     ]
    },
    {
     "name": "stdout",
     "output_type": "stream",
     "text": [
      "Fetching logs for player Jalen Lecque (ID: 1629665) for season 2020-21...\n",
      "Fetching logs for player Jalen Lecque (ID: 1629665) for season 2021-22...\n",
      "Fetching logs for player Jalen Lecque (ID: 1629665) for season 2022-23...\n",
      "Fetching logs for player Jalen Lecque (ID: 1629665) for season 2023-24...\n"
     ]
    },
    {
     "name": "stderr",
     "output_type": "stream",
     "text": [
      "C:\\Users\\jwag1\\AppData\\Local\\Temp\\ipykernel_32800\\3592326873.py:51: FutureWarning: The behavior of DataFrame concatenation with empty or all-NA entries is deprecated. In a future version, this will no longer exclude empty or all-NA columns when determining the result dtypes. To retain the old behavior, exclude the relevant entries before the concat operation.\n",
      "  player_logs_concat = pd.concat(player_logs, ignore_index=True)\n"
     ]
    },
    {
     "name": "stdout",
     "output_type": "stream",
     "text": [
      "Fetching logs for player Damion Lee (ID: 1627814) for season 2020-21...\n",
      "Fetching logs for player Damion Lee (ID: 1627814) for season 2021-22...\n",
      "Fetching logs for player Damion Lee (ID: 1627814) for season 2022-23...\n",
      "Fetching logs for player Damion Lee (ID: 1627814) for season 2023-24...\n"
     ]
    },
    {
     "name": "stderr",
     "output_type": "stream",
     "text": [
      "C:\\Users\\jwag1\\AppData\\Local\\Temp\\ipykernel_32800\\3592326873.py:51: FutureWarning: The behavior of DataFrame concatenation with empty or all-NA entries is deprecated. In a future version, this will no longer exclude empty or all-NA columns when determining the result dtypes. To retain the old behavior, exclude the relevant entries before the concat operation.\n",
      "  player_logs_concat = pd.concat(player_logs, ignore_index=True)\n"
     ]
    },
    {
     "name": "stdout",
     "output_type": "stream",
     "text": [
      "Fetching logs for player Saben Lee (ID: 1630240) for season 2020-21...\n",
      "Fetching logs for player Saben Lee (ID: 1630240) for season 2021-22...\n",
      "Fetching logs for player Saben Lee (ID: 1630240) for season 2022-23...\n",
      "Fetching logs for player Saben Lee (ID: 1630240) for season 2023-24...\n",
      "Fetching logs for player Alex Len (ID: 203458) for season 2020-21...\n",
      "Fetching logs for player Alex Len (ID: 203458) for season 2021-22...\n",
      "Fetching logs for player Alex Len (ID: 203458) for season 2022-23...\n",
      "Fetching logs for player Alex Len (ID: 203458) for season 2023-24...\n",
      "Fetching logs for player Kawhi Leonard (ID: 202695) for season 2020-21...\n",
      "Fetching logs for player Kawhi Leonard (ID: 202695) for season 2021-22...\n",
      "Fetching logs for player Kawhi Leonard (ID: 202695) for season 2022-23...\n",
      "Fetching logs for player Kawhi Leonard (ID: 202695) for season 2023-24...\n"
     ]
    },
    {
     "name": "stderr",
     "output_type": "stream",
     "text": [
      "C:\\Users\\jwag1\\AppData\\Local\\Temp\\ipykernel_32800\\3592326873.py:51: FutureWarning: The behavior of DataFrame concatenation with empty or all-NA entries is deprecated. In a future version, this will no longer exclude empty or all-NA columns when determining the result dtypes. To retain the old behavior, exclude the relevant entries before the concat operation.\n",
      "  player_logs_concat = pd.concat(player_logs, ignore_index=True)\n"
     ]
    },
    {
     "name": "stdout",
     "output_type": "stream",
     "text": [
      "Fetching logs for player Meyers Leonard (ID: 203086) for season 2020-21...\n",
      "Fetching logs for player Meyers Leonard (ID: 203086) for season 2021-22...\n",
      "Fetching logs for player Meyers Leonard (ID: 203086) for season 2022-23...\n",
      "Fetching logs for player Meyers Leonard (ID: 203086) for season 2023-24...\n"
     ]
    },
    {
     "name": "stderr",
     "output_type": "stream",
     "text": [
      "C:\\Users\\jwag1\\AppData\\Local\\Temp\\ipykernel_32800\\3592326873.py:51: FutureWarning: The behavior of DataFrame concatenation with empty or all-NA entries is deprecated. In a future version, this will no longer exclude empty or all-NA columns when determining the result dtypes. To retain the old behavior, exclude the relevant entries before the concat operation.\n",
      "  player_logs_concat = pd.concat(player_logs, ignore_index=True)\n"
     ]
    },
    {
     "name": "stdout",
     "output_type": "stream",
     "text": [
      "Fetching logs for player Justin Lewis (ID: 1631171) for season 2020-21...\n",
      "Fetching logs for player Justin Lewis (ID: 1631171) for season 2021-22...\n",
      "Fetching logs for player Justin Lewis (ID: 1631171) for season 2022-23...\n",
      "Fetching logs for player Justin Lewis (ID: 1631171) for season 2023-24...\n",
      "Fetching logs for player Maxwell Lewis (ID: 1641721) for season 2020-21...\n",
      "Fetching logs for player Maxwell Lewis (ID: 1641721) for season 2021-22...\n",
      "Fetching logs for player Maxwell Lewis (ID: 1641721) for season 2022-23...\n",
      "Fetching logs for player Maxwell Lewis (ID: 1641721) for season 2023-24...\n"
     ]
    },
    {
     "name": "stderr",
     "output_type": "stream",
     "text": [
      "C:\\Users\\jwag1\\AppData\\Local\\Temp\\ipykernel_32800\\3592326873.py:51: FutureWarning: The behavior of DataFrame concatenation with empty or all-NA entries is deprecated. In a future version, this will no longer exclude empty or all-NA columns when determining the result dtypes. To retain the old behavior, exclude the relevant entries before the concat operation.\n",
      "  player_logs_concat = pd.concat(player_logs, ignore_index=True)\n"
     ]
    },
    {
     "name": "stdout",
     "output_type": "stream",
     "text": [
      "Fetching logs for player Scottie Lewis (ID: 1630575) for season 2020-21...\n",
      "Fetching logs for player Scottie Lewis (ID: 1630575) for season 2021-22...\n",
      "Fetching logs for player Scottie Lewis (ID: 1630575) for season 2022-23...\n",
      "Fetching logs for player Scottie Lewis (ID: 1630575) for season 2023-24...\n"
     ]
    },
    {
     "name": "stderr",
     "output_type": "stream",
     "text": [
      "C:\\Users\\jwag1\\AppData\\Local\\Temp\\ipykernel_32800\\3592326873.py:51: FutureWarning: The behavior of DataFrame concatenation with empty or all-NA entries is deprecated. In a future version, this will no longer exclude empty or all-NA columns when determining the result dtypes. To retain the old behavior, exclude the relevant entries before the concat operation.\n",
      "  player_logs_concat = pd.concat(player_logs, ignore_index=True)\n"
     ]
    },
    {
     "name": "stdout",
     "output_type": "stream",
     "text": [
      "Fetching logs for player Kira Lewis Jr. (ID: 1630184) for season 2020-21...\n",
      "Fetching logs for player Kira Lewis Jr. (ID: 1630184) for season 2021-22...\n",
      "Fetching logs for player Kira Lewis Jr. (ID: 1630184) for season 2022-23...\n",
      "Fetching logs for player Kira Lewis Jr. (ID: 1630184) for season 2023-24...\n",
      "Fetching logs for player E.J. Liddell (ID: 1630604) for season 2020-21...\n",
      "Fetching logs for player E.J. Liddell (ID: 1630604) for season 2021-22...\n",
      "Fetching logs for player E.J. Liddell (ID: 1630604) for season 2022-23...\n",
      "Fetching logs for player E.J. Liddell (ID: 1630604) for season 2023-24...\n"
     ]
    },
    {
     "name": "stderr",
     "output_type": "stream",
     "text": [
      "C:\\Users\\jwag1\\AppData\\Local\\Temp\\ipykernel_32800\\3592326873.py:51: FutureWarning: The behavior of DataFrame concatenation with empty or all-NA entries is deprecated. In a future version, this will no longer exclude empty or all-NA columns when determining the result dtypes. To retain the old behavior, exclude the relevant entries before the concat operation.\n",
      "  player_logs_concat = pd.concat(player_logs, ignore_index=True)\n"
     ]
    },
    {
     "name": "stdout",
     "output_type": "stream",
     "text": [
      "Fetching logs for player Damian Lillard (ID: 203081) for season 2020-21...\n",
      "Fetching logs for player Damian Lillard (ID: 203081) for season 2021-22...\n",
      "Fetching logs for player Damian Lillard (ID: 203081) for season 2022-23...\n",
      "Fetching logs for player Damian Lillard (ID: 203081) for season 2023-24...\n",
      "Fetching logs for player Nassir Little (ID: 1629642) for season 2020-21...\n",
      "Fetching logs for player Nassir Little (ID: 1629642) for season 2021-22...\n",
      "Fetching logs for player Nassir Little (ID: 1629642) for season 2022-23...\n",
      "Fetching logs for player Nassir Little (ID: 1629642) for season 2023-24...\n",
      "Fetching logs for player Dereck Lively II (ID: 1641726) for season 2020-21...\n",
      "Fetching logs for player Dereck Lively II (ID: 1641726) for season 2021-22...\n",
      "Fetching logs for player Dereck Lively II (ID: 1641726) for season 2022-23...\n",
      "Fetching logs for player Dereck Lively II (ID: 1641726) for season 2023-24...\n"
     ]
    },
    {
     "name": "stderr",
     "output_type": "stream",
     "text": [
      "C:\\Users\\jwag1\\AppData\\Local\\Temp\\ipykernel_32800\\3592326873.py:51: FutureWarning: The behavior of DataFrame concatenation with empty or all-NA entries is deprecated. In a future version, this will no longer exclude empty or all-NA columns when determining the result dtypes. To retain the old behavior, exclude the relevant entries before the concat operation.\n",
      "  player_logs_concat = pd.concat(player_logs, ignore_index=True)\n"
     ]
    },
    {
     "name": "stdout",
     "output_type": "stream",
     "text": [
      "Fetching logs for player Isaiah Livers (ID: 1630587) for season 2020-21...\n",
      "Fetching logs for player Isaiah Livers (ID: 1630587) for season 2021-22...\n",
      "Fetching logs for player Isaiah Livers (ID: 1630587) for season 2022-23...\n",
      "Fetching logs for player Isaiah Livers (ID: 1630587) for season 2023-24...\n"
     ]
    },
    {
     "name": "stderr",
     "output_type": "stream",
     "text": [
      "C:\\Users\\jwag1\\AppData\\Local\\Temp\\ipykernel_32800\\3592326873.py:51: FutureWarning: The behavior of DataFrame concatenation with empty or all-NA entries is deprecated. In a future version, this will no longer exclude empty or all-NA columns when determining the result dtypes. To retain the old behavior, exclude the relevant entries before the concat operation.\n",
      "  player_logs_concat = pd.concat(player_logs, ignore_index=True)\n"
     ]
    },
    {
     "name": "stdout",
     "output_type": "stream",
     "text": [
      "Fetching logs for player Chris Livingston (ID: 1641753) for season 2020-21...\n",
      "Fetching logs for player Chris Livingston (ID: 1641753) for season 2021-22...\n",
      "Fetching logs for player Chris Livingston (ID: 1641753) for season 2022-23...\n",
      "Fetching logs for player Chris Livingston (ID: 1641753) for season 2023-24...\n"
     ]
    },
    {
     "name": "stderr",
     "output_type": "stream",
     "text": [
      "C:\\Users\\jwag1\\AppData\\Local\\Temp\\ipykernel_32800\\3592326873.py:51: FutureWarning: The behavior of DataFrame concatenation with empty or all-NA entries is deprecated. In a future version, this will no longer exclude empty or all-NA columns when determining the result dtypes. To retain the old behavior, exclude the relevant entries before the concat operation.\n",
      "  player_logs_concat = pd.concat(player_logs, ignore_index=True)\n"
     ]
    },
    {
     "name": "stdout",
     "output_type": "stream",
     "text": [
      "Fetching logs for player Kenneth Lofton Jr. (ID: 1631254) for season 2020-21...\n",
      "Fetching logs for player Kenneth Lofton Jr. (ID: 1631254) for season 2021-22...\n",
      "Fetching logs for player Kenneth Lofton Jr. (ID: 1631254) for season 2022-23...\n",
      "Fetching logs for player Kenneth Lofton Jr. (ID: 1631254) for season 2023-24...\n"
     ]
    },
    {
     "name": "stderr",
     "output_type": "stream",
     "text": [
      "C:\\Users\\jwag1\\AppData\\Local\\Temp\\ipykernel_32800\\3592326873.py:51: FutureWarning: The behavior of DataFrame concatenation with empty or all-NA entries is deprecated. In a future version, this will no longer exclude empty or all-NA columns when determining the result dtypes. To retain the old behavior, exclude the relevant entries before the concat operation.\n",
      "  player_logs_concat = pd.concat(player_logs, ignore_index=True)\n"
     ]
    },
    {
     "name": "stdout",
     "output_type": "stream",
     "text": [
      "Fetching logs for player Kevon Looney (ID: 1626172) for season 2020-21...\n",
      "Fetching logs for player Kevon Looney (ID: 1626172) for season 2021-22...\n",
      "Fetching logs for player Kevon Looney (ID: 1626172) for season 2022-23...\n",
      "Fetching logs for player Kevon Looney (ID: 1626172) for season 2023-24...\n",
      "Fetching logs for player Brook Lopez (ID: 201572) for season 2020-21...\n",
      "Fetching logs for player Brook Lopez (ID: 201572) for season 2021-22...\n",
      "Fetching logs for player Brook Lopez (ID: 201572) for season 2022-23...\n",
      "Fetching logs for player Brook Lopez (ID: 201572) for season 2023-24...\n",
      "Fetching logs for player Robin Lopez (ID: 201577) for season 2020-21...\n",
      "Fetching logs for player Robin Lopez (ID: 201577) for season 2021-22...\n",
      "Fetching logs for player Robin Lopez (ID: 201577) for season 2022-23...\n",
      "Fetching logs for player Robin Lopez (ID: 201577) for season 2023-24...\n",
      "Fetching logs for player Didi Louzada (ID: 1629712) for season 2020-21...\n",
      "Fetching logs for player Didi Louzada (ID: 1629712) for season 2021-22...\n",
      "Fetching logs for player Didi Louzada (ID: 1629712) for season 2022-23...\n",
      "Fetching logs for player Didi Louzada (ID: 1629712) for season 2023-24...\n"
     ]
    },
    {
     "name": "stderr",
     "output_type": "stream",
     "text": [
      "C:\\Users\\jwag1\\AppData\\Local\\Temp\\ipykernel_32800\\3592326873.py:51: FutureWarning: The behavior of DataFrame concatenation with empty or all-NA entries is deprecated. In a future version, this will no longer exclude empty or all-NA columns when determining the result dtypes. To retain the old behavior, exclude the relevant entries before the concat operation.\n",
      "  player_logs_concat = pd.concat(player_logs, ignore_index=True)\n"
     ]
    },
    {
     "name": "stdout",
     "output_type": "stream",
     "text": [
      "Fetching logs for player Kevin Love (ID: 201567) for season 2020-21...\n",
      "Fetching logs for player Kevin Love (ID: 201567) for season 2021-22...\n",
      "Fetching logs for player Kevin Love (ID: 201567) for season 2022-23...\n",
      "Fetching logs for player Kevin Love (ID: 201567) for season 2023-24...\n",
      "Fetching logs for player Kyle Lowry (ID: 200768) for season 2020-21...\n",
      "Fetching logs for player Kyle Lowry (ID: 200768) for season 2021-22...\n",
      "Fetching logs for player Kyle Lowry (ID: 200768) for season 2022-23...\n",
      "Fetching logs for player Kyle Lowry (ID: 200768) for season 2023-24...\n",
      "Fetching logs for player Gabriel Lundberg (ID: 1630994) for season 2020-21...\n",
      "Fetching logs for player Gabriel Lundberg (ID: 1630994) for season 2021-22...\n",
      "Fetching logs for player Gabriel Lundberg (ID: 1630994) for season 2022-23...\n",
      "Fetching logs for player Gabriel Lundberg (ID: 1630994) for season 2023-24...\n"
     ]
    },
    {
     "name": "stderr",
     "output_type": "stream",
     "text": [
      "C:\\Users\\jwag1\\AppData\\Local\\Temp\\ipykernel_32800\\3592326873.py:51: FutureWarning: The behavior of DataFrame concatenation with empty or all-NA entries is deprecated. In a future version, this will no longer exclude empty or all-NA columns when determining the result dtypes. To retain the old behavior, exclude the relevant entries before the concat operation.\n",
      "  player_logs_concat = pd.concat(player_logs, ignore_index=True)\n"
     ]
    },
    {
     "name": "stdout",
     "output_type": "stream",
     "text": [
      "Fetching logs for player Seth Lundy (ID: 1641754) for season 2020-21...\n",
      "Fetching logs for player Seth Lundy (ID: 1641754) for season 2021-22...\n",
      "Fetching logs for player Seth Lundy (ID: 1641754) for season 2022-23...\n",
      "Fetching logs for player Seth Lundy (ID: 1641754) for season 2023-24...\n"
     ]
    },
    {
     "name": "stderr",
     "output_type": "stream",
     "text": [
      "C:\\Users\\jwag1\\AppData\\Local\\Temp\\ipykernel_32800\\3592326873.py:51: FutureWarning: The behavior of DataFrame concatenation with empty or all-NA entries is deprecated. In a future version, this will no longer exclude empty or all-NA columns when determining the result dtypes. To retain the old behavior, exclude the relevant entries before the concat operation.\n",
      "  player_logs_concat = pd.concat(player_logs, ignore_index=True)\n"
     ]
    },
    {
     "name": "stdout",
     "output_type": "stream",
     "text": [
      "Fetching logs for player Timothe Luwawu-Cabarrot (ID: 1627789) for season 2020-21...\n",
      "Fetching logs for player Timothe Luwawu-Cabarrot (ID: 1627789) for season 2021-22...\n",
      "Fetching logs for player Timothe Luwawu-Cabarrot (ID: 1627789) for season 2022-23...\n",
      "Fetching logs for player Timothe Luwawu-Cabarrot (ID: 1627789) for season 2023-24...\n"
     ]
    },
    {
     "name": "stderr",
     "output_type": "stream",
     "text": [
      "C:\\Users\\jwag1\\AppData\\Local\\Temp\\ipykernel_32800\\3592326873.py:51: FutureWarning: The behavior of DataFrame concatenation with empty or all-NA entries is deprecated. In a future version, this will no longer exclude empty or all-NA columns when determining the result dtypes. To retain the old behavior, exclude the relevant entries before the concat operation.\n",
      "  player_logs_concat = pd.concat(player_logs, ignore_index=True)\n"
     ]
    },
    {
     "name": "stdout",
     "output_type": "stream",
     "text": [
      "Fetching logs for player Trey Lyles (ID: 1626168) for season 2020-21...\n",
      "Fetching logs for player Trey Lyles (ID: 1626168) for season 2021-22...\n",
      "Fetching logs for player Trey Lyles (ID: 1626168) for season 2022-23...\n",
      "Fetching logs for player Trey Lyles (ID: 1626168) for season 2023-24...\n",
      "Fetching logs for player Will Magnay (ID: 1630266) for season 2020-21...\n",
      "Fetching logs for player Will Magnay (ID: 1630266) for season 2021-22...\n",
      "Fetching logs for player Will Magnay (ID: 1630266) for season 2022-23...\n",
      "Fetching logs for player Will Magnay (ID: 1630266) for season 2023-24...\n"
     ]
    },
    {
     "name": "stderr",
     "output_type": "stream",
     "text": [
      "C:\\Users\\jwag1\\AppData\\Local\\Temp\\ipykernel_32800\\3592326873.py:51: FutureWarning: The behavior of DataFrame concatenation with empty or all-NA entries is deprecated. In a future version, this will no longer exclude empty or all-NA columns when determining the result dtypes. To retain the old behavior, exclude the relevant entries before the concat operation.\n",
      "  player_logs_concat = pd.concat(player_logs, ignore_index=True)\n"
     ]
    },
    {
     "name": "stdout",
     "output_type": "stream",
     "text": [
      "Fetching logs for player Thon Maker (ID: 1627748) for season 2020-21...\n",
      "Fetching logs for player Thon Maker (ID: 1627748) for season 2021-22...\n",
      "Fetching logs for player Thon Maker (ID: 1627748) for season 2022-23...\n",
      "Fetching logs for player Thon Maker (ID: 1627748) for season 2023-24...\n"
     ]
    },
    {
     "name": "stderr",
     "output_type": "stream",
     "text": [
      "C:\\Users\\jwag1\\AppData\\Local\\Temp\\ipykernel_32800\\3592326873.py:51: FutureWarning: The behavior of DataFrame concatenation with empty or all-NA entries is deprecated. In a future version, this will no longer exclude empty or all-NA columns when determining the result dtypes. To retain the old behavior, exclude the relevant entries before the concat operation.\n",
      "  player_logs_concat = pd.concat(player_logs, ignore_index=True)\n"
     ]
    },
    {
     "name": "stdout",
     "output_type": "stream",
     "text": [
      "Fetching logs for player Theo Maledon (ID: 1630177) for season 2020-21...\n",
      "Fetching logs for player Theo Maledon (ID: 1630177) for season 2021-22...\n",
      "Fetching logs for player Theo Maledon (ID: 1630177) for season 2022-23...\n",
      "Fetching logs for player Theo Maledon (ID: 1630177) for season 2023-24...\n",
      "Fetching logs for player Sandro Mamukelashvili (ID: 1630572) for season 2020-21...\n",
      "Fetching logs for player Sandro Mamukelashvili (ID: 1630572) for season 2021-22...\n",
      "Fetching logs for player Sandro Mamukelashvili (ID: 1630572) for season 2022-23...\n",
      "Fetching logs for player Sandro Mamukelashvili (ID: 1630572) for season 2023-24...\n"
     ]
    },
    {
     "name": "stderr",
     "output_type": "stream",
     "text": [
      "C:\\Users\\jwag1\\AppData\\Local\\Temp\\ipykernel_32800\\3592326873.py:51: FutureWarning: The behavior of DataFrame concatenation with empty or all-NA entries is deprecated. In a future version, this will no longer exclude empty or all-NA columns when determining the result dtypes. To retain the old behavior, exclude the relevant entries before the concat operation.\n",
      "  player_logs_concat = pd.concat(player_logs, ignore_index=True)\n"
     ]
    },
    {
     "name": "stdout",
     "output_type": "stream",
     "text": [
      "Fetching logs for player Karim Mane (ID: 1630211) for season 2020-21...\n",
      "Fetching logs for player Karim Mane (ID: 1630211) for season 2021-22...\n",
      "Fetching logs for player Karim Mane (ID: 1630211) for season 2022-23...\n",
      "Fetching logs for player Karim Mane (ID: 1630211) for season 2023-24...\n"
     ]
    },
    {
     "name": "stderr",
     "output_type": "stream",
     "text": [
      "C:\\Users\\jwag1\\AppData\\Local\\Temp\\ipykernel_32800\\3592326873.py:51: FutureWarning: The behavior of DataFrame concatenation with empty or all-NA entries is deprecated. In a future version, this will no longer exclude empty or all-NA columns when determining the result dtypes. To retain the old behavior, exclude the relevant entries before the concat operation.\n",
      "  player_logs_concat = pd.concat(player_logs, ignore_index=True)\n"
     ]
    },
    {
     "name": "stdout",
     "output_type": "stream",
     "text": [
      "Fetching logs for player Terance Mann (ID: 1629611) for season 2020-21...\n",
      "Fetching logs for player Terance Mann (ID: 1629611) for season 2021-22...\n",
      "Fetching logs for player Terance Mann (ID: 1629611) for season 2022-23...\n",
      "Fetching logs for player Terance Mann (ID: 1629611) for season 2023-24...\n",
      "Fetching logs for player Tre Mann (ID: 1630544) for season 2020-21...\n",
      "Fetching logs for player Tre Mann (ID: 1630544) for season 2021-22...\n",
      "Fetching logs for player Tre Mann (ID: 1630544) for season 2022-23...\n",
      "Fetching logs for player Tre Mann (ID: 1630544) for season 2023-24...\n"
     ]
    },
    {
     "name": "stderr",
     "output_type": "stream",
     "text": [
      "C:\\Users\\jwag1\\AppData\\Local\\Temp\\ipykernel_32800\\3592326873.py:51: FutureWarning: The behavior of DataFrame concatenation with empty or all-NA entries is deprecated. In a future version, this will no longer exclude empty or all-NA columns when determining the result dtypes. To retain the old behavior, exclude the relevant entries before the concat operation.\n",
      "  player_logs_concat = pd.concat(player_logs, ignore_index=True)\n",
      "\r",
      " 56%|█████▌    | 10/18 [17:44<14:10, 106.25s/it]"
     ]
    },
    {
     "name": "stdout",
     "output_type": "stream",
     "text": [
      "Processing batch 500 to 550...\n",
      "Fetching logs for player Nico Mannion (ID: 1630185) for season 2020-21...\n",
      "Fetching logs for player Nico Mannion (ID: 1630185) for season 2021-22...\n",
      "Fetching logs for player Nico Mannion (ID: 1630185) for season 2022-23...\n",
      "Fetching logs for player Nico Mannion (ID: 1630185) for season 2023-24...\n"
     ]
    },
    {
     "name": "stderr",
     "output_type": "stream",
     "text": [
      "C:\\Users\\jwag1\\AppData\\Local\\Temp\\ipykernel_32800\\3592326873.py:51: FutureWarning: The behavior of DataFrame concatenation with empty or all-NA entries is deprecated. In a future version, this will no longer exclude empty or all-NA columns when determining the result dtypes. To retain the old behavior, exclude the relevant entries before the concat operation.\n",
      "  player_logs_concat = pd.concat(player_logs, ignore_index=True)\n"
     ]
    },
    {
     "name": "stdout",
     "output_type": "stream",
     "text": [
      "Fetching logs for player Boban Marjanovic (ID: 1626246) for season 2020-21...\n",
      "Fetching logs for player Boban Marjanovic (ID: 1626246) for season 2021-22...\n",
      "Fetching logs for player Boban Marjanovic (ID: 1626246) for season 2022-23...\n",
      "Fetching logs for player Boban Marjanovic (ID: 1626246) for season 2023-24...\n",
      "Fetching logs for player Lauri Markkanen (ID: 1628374) for season 2020-21...\n",
      "Fetching logs for player Lauri Markkanen (ID: 1628374) for season 2021-22...\n",
      "Fetching logs for player Lauri Markkanen (ID: 1628374) for season 2022-23...\n",
      "Fetching logs for player Lauri Markkanen (ID: 1628374) for season 2023-24...\n",
      "Fetching logs for player Naji Marshall (ID: 1630230) for season 2020-21...\n",
      "Fetching logs for player Naji Marshall (ID: 1630230) for season 2021-22...\n",
      "Fetching logs for player Naji Marshall (ID: 1630230) for season 2022-23...\n",
      "Fetching logs for player Naji Marshall (ID: 1630230) for season 2023-24...\n",
      "Fetching logs for player Caleb Martin (ID: 1628997) for season 2020-21...\n",
      "Fetching logs for player Caleb Martin (ID: 1628997) for season 2021-22...\n",
      "Fetching logs for player Caleb Martin (ID: 1628997) for season 2022-23...\n",
      "Fetching logs for player Caleb Martin (ID: 1628997) for season 2023-24...\n",
      "Fetching logs for player Cody Martin (ID: 1628998) for season 2020-21...\n",
      "Fetching logs for player Cody Martin (ID: 1628998) for season 2021-22...\n",
      "Fetching logs for player Cody Martin (ID: 1628998) for season 2022-23...\n",
      "Fetching logs for player Cody Martin (ID: 1628998) for season 2023-24...\n",
      "Fetching logs for player Jaylen Martin (ID: 1641798) for season 2020-21...\n",
      "Fetching logs for player Jaylen Martin (ID: 1641798) for season 2021-22...\n",
      "Fetching logs for player Jaylen Martin (ID: 1641798) for season 2022-23...\n",
      "Fetching logs for player Jaylen Martin (ID: 1641798) for season 2023-24...\n",
      "Fetching logs for player Jeremiah Martin (ID: 1629725) for season 2020-21...\n",
      "Fetching logs for player Jeremiah Martin (ID: 1629725) for season 2021-22...\n",
      "Fetching logs for player Jeremiah Martin (ID: 1629725) for season 2022-23...\n",
      "Fetching logs for player Jeremiah Martin (ID: 1629725) for season 2023-24...\n"
     ]
    },
    {
     "name": "stderr",
     "output_type": "stream",
     "text": [
      "C:\\Users\\jwag1\\AppData\\Local\\Temp\\ipykernel_32800\\3592326873.py:51: FutureWarning: The behavior of DataFrame concatenation with empty or all-NA entries is deprecated. In a future version, this will no longer exclude empty or all-NA columns when determining the result dtypes. To retain the old behavior, exclude the relevant entries before the concat operation.\n",
      "  player_logs_concat = pd.concat(player_logs, ignore_index=True)\n"
     ]
    },
    {
     "name": "stdout",
     "output_type": "stream",
     "text": [
      "Fetching logs for player KJ Martin (ID: 1630231) for season 2020-21...\n",
      "Fetching logs for player KJ Martin (ID: 1630231) for season 2021-22...\n",
      "Fetching logs for player KJ Martin (ID: 1630231) for season 2022-23...\n",
      "Fetching logs for player KJ Martin (ID: 1630231) for season 2023-24...\n",
      "Fetching logs for player Kelan Martin (ID: 1629103) for season 2020-21...\n",
      "Fetching logs for player Kelan Martin (ID: 1629103) for season 2021-22...\n",
      "Fetching logs for player Kelan Martin (ID: 1629103) for season 2022-23...\n",
      "Fetching logs for player Kelan Martin (ID: 1629103) for season 2023-24...\n"
     ]
    },
    {
     "name": "stderr",
     "output_type": "stream",
     "text": [
      "C:\\Users\\jwag1\\AppData\\Local\\Temp\\ipykernel_32800\\3592326873.py:51: FutureWarning: The behavior of DataFrame concatenation with empty or all-NA entries is deprecated. In a future version, this will no longer exclude empty or all-NA columns when determining the result dtypes. To retain the old behavior, exclude the relevant entries before the concat operation.\n",
      "  player_logs_concat = pd.concat(player_logs, ignore_index=True)\n"
     ]
    },
    {
     "name": "stdout",
     "output_type": "stream",
     "text": [
      "Fetching logs for player Tyrese Martin (ID: 1631213) for season 2020-21...\n",
      "Fetching logs for player Tyrese Martin (ID: 1631213) for season 2021-22...\n",
      "Fetching logs for player Tyrese Martin (ID: 1631213) for season 2022-23...\n",
      "Fetching logs for player Tyrese Martin (ID: 1631213) for season 2023-24...\n"
     ]
    },
    {
     "name": "stderr",
     "output_type": "stream",
     "text": [
      "C:\\Users\\jwag1\\AppData\\Local\\Temp\\ipykernel_32800\\3592326873.py:51: FutureWarning: The behavior of DataFrame concatenation with empty or all-NA entries is deprecated. In a future version, this will no longer exclude empty or all-NA columns when determining the result dtypes. To retain the old behavior, exclude the relevant entries before the concat operation.\n",
      "  player_logs_concat = pd.concat(player_logs, ignore_index=True)\n"
     ]
    },
    {
     "name": "stdout",
     "output_type": "stream",
     "text": [
      "Fetching logs for player Frank Mason III (ID: 1628412) for season 2020-21...\n",
      "Fetching logs for player Frank Mason III (ID: 1628412) for season 2021-22...\n",
      "Fetching logs for player Frank Mason III (ID: 1628412) for season 2022-23...\n",
      "Fetching logs for player Frank Mason III (ID: 1628412) for season 2023-24...\n"
     ]
    },
    {
     "name": "stderr",
     "output_type": "stream",
     "text": [
      "C:\\Users\\jwag1\\AppData\\Local\\Temp\\ipykernel_32800\\3592326873.py:51: FutureWarning: The behavior of DataFrame concatenation with empty or all-NA entries is deprecated. In a future version, this will no longer exclude empty or all-NA columns when determining the result dtypes. To retain the old behavior, exclude the relevant entries before the concat operation.\n",
      "  player_logs_concat = pd.concat(player_logs, ignore_index=True)\n"
     ]
    },
    {
     "name": "stdout",
     "output_type": "stream",
     "text": [
      "Fetching logs for player Garrison Mathews (ID: 1629726) for season 2020-21...\n",
      "Fetching logs for player Garrison Mathews (ID: 1629726) for season 2021-22...\n",
      "Fetching logs for player Garrison Mathews (ID: 1629726) for season 2022-23...\n",
      "Fetching logs for player Garrison Mathews (ID: 1629726) for season 2023-24...\n",
      "Fetching logs for player Dakota Mathias (ID: 1629751) for season 2020-21...\n",
      "Fetching logs for player Dakota Mathias (ID: 1629751) for season 2021-22...\n",
      "Fetching logs for player Dakota Mathias (ID: 1629751) for season 2022-23...\n",
      "Fetching logs for player Dakota Mathias (ID: 1629751) for season 2023-24...\n"
     ]
    },
    {
     "name": "stderr",
     "output_type": "stream",
     "text": [
      "C:\\Users\\jwag1\\AppData\\Local\\Temp\\ipykernel_32800\\3592326873.py:51: FutureWarning: The behavior of DataFrame concatenation with empty or all-NA entries is deprecated. In a future version, this will no longer exclude empty or all-NA columns when determining the result dtypes. To retain the old behavior, exclude the relevant entries before the concat operation.\n",
      "  player_logs_concat = pd.concat(player_logs, ignore_index=True)\n"
     ]
    },
    {
     "name": "stdout",
     "output_type": "stream",
     "text": [
      "Fetching logs for player Bennedict Mathurin (ID: 1631097) for season 2020-21...\n",
      "Fetching logs for player Bennedict Mathurin (ID: 1631097) for season 2021-22...\n",
      "Fetching logs for player Bennedict Mathurin (ID: 1631097) for season 2022-23...\n",
      "Fetching logs for player Bennedict Mathurin (ID: 1631097) for season 2023-24...\n"
     ]
    },
    {
     "name": "stderr",
     "output_type": "stream",
     "text": [
      "C:\\Users\\jwag1\\AppData\\Local\\Temp\\ipykernel_32800\\3592326873.py:51: FutureWarning: The behavior of DataFrame concatenation with empty or all-NA entries is deprecated. In a future version, this will no longer exclude empty or all-NA columns when determining the result dtypes. To retain the old behavior, exclude the relevant entries before the concat operation.\n",
      "  player_logs_concat = pd.concat(player_logs, ignore_index=True)\n"
     ]
    },
    {
     "name": "stdout",
     "output_type": "stream",
     "text": [
      "Fetching logs for player Wesley Matthews (ID: 202083) for season 2020-21...\n",
      "Fetching logs for player Wesley Matthews (ID: 202083) for season 2021-22...\n",
      "Fetching logs for player Wesley Matthews (ID: 202083) for season 2022-23...\n",
      "Fetching logs for player Wesley Matthews (ID: 202083) for season 2023-24...\n",
      "Fetching logs for player Tyrese Maxey (ID: 1630178) for season 2020-21...\n",
      "Fetching logs for player Tyrese Maxey (ID: 1630178) for season 2021-22...\n",
      "Fetching logs for player Tyrese Maxey (ID: 1630178) for season 2022-23...\n",
      "Fetching logs for player Tyrese Maxey (ID: 1630178) for season 2023-24...\n",
      "Fetching logs for player Skylar Mays (ID: 1630219) for season 2020-21...\n",
      "Fetching logs for player Skylar Mays (ID: 1630219) for season 2021-22...\n",
      "Fetching logs for player Skylar Mays (ID: 1630219) for season 2022-23...\n",
      "Fetching logs for player Skylar Mays (ID: 1630219) for season 2023-24...\n",
      "Fetching logs for player Miles McBride (ID: 1630540) for season 2020-21...\n",
      "Fetching logs for player Miles McBride (ID: 1630540) for season 2021-22...\n",
      "Fetching logs for player Miles McBride (ID: 1630540) for season 2022-23...\n",
      "Fetching logs for player Miles McBride (ID: 1630540) for season 2023-24...\n"
     ]
    },
    {
     "name": "stderr",
     "output_type": "stream",
     "text": [
      "C:\\Users\\jwag1\\AppData\\Local\\Temp\\ipykernel_32800\\3592326873.py:51: FutureWarning: The behavior of DataFrame concatenation with empty or all-NA entries is deprecated. In a future version, this will no longer exclude empty or all-NA columns when determining the result dtypes. To retain the old behavior, exclude the relevant entries before the concat operation.\n",
      "  player_logs_concat = pd.concat(player_logs, ignore_index=True)\n"
     ]
    },
    {
     "name": "stdout",
     "output_type": "stream",
     "text": [
      "Fetching logs for player Patrick McCaw (ID: 1627775) for season 2020-21...\n",
      "Fetching logs for player Patrick McCaw (ID: 1627775) for season 2021-22...\n",
      "Fetching logs for player Patrick McCaw (ID: 1627775) for season 2022-23...\n",
      "Fetching logs for player Patrick McCaw (ID: 1627775) for season 2023-24...\n"
     ]
    },
    {
     "name": "stderr",
     "output_type": "stream",
     "text": [
      "C:\\Users\\jwag1\\AppData\\Local\\Temp\\ipykernel_32800\\3592326873.py:51: FutureWarning: The behavior of DataFrame concatenation with empty or all-NA entries is deprecated. In a future version, this will no longer exclude empty or all-NA columns when determining the result dtypes. To retain the old behavior, exclude the relevant entries before the concat operation.\n",
      "  player_logs_concat = pd.concat(player_logs, ignore_index=True)\n"
     ]
    },
    {
     "name": "stdout",
     "output_type": "stream",
     "text": [
      "Fetching logs for player Mac McClung (ID: 1630644) for season 2020-21...\n",
      "Fetching logs for player Mac McClung (ID: 1630644) for season 2021-22...\n",
      "Fetching logs for player Mac McClung (ID: 1630644) for season 2022-23...\n",
      "Fetching logs for player Mac McClung (ID: 1630644) for season 2023-24...\n"
     ]
    },
    {
     "name": "stderr",
     "output_type": "stream",
     "text": [
      "C:\\Users\\jwag1\\AppData\\Local\\Temp\\ipykernel_32800\\3592326873.py:51: FutureWarning: The behavior of DataFrame concatenation with empty or all-NA entries is deprecated. In a future version, this will no longer exclude empty or all-NA columns when determining the result dtypes. To retain the old behavior, exclude the relevant entries before the concat operation.\n",
      "  player_logs_concat = pd.concat(player_logs, ignore_index=True)\n"
     ]
    },
    {
     "name": "stdout",
     "output_type": "stream",
     "text": [
      "Fetching logs for player CJ McCollum (ID: 203468) for season 2020-21...\n",
      "Fetching logs for player CJ McCollum (ID: 203468) for season 2021-22...\n",
      "Fetching logs for player CJ McCollum (ID: 203468) for season 2022-23...\n",
      "Fetching logs for player CJ McCollum (ID: 203468) for season 2023-24...\n",
      "Fetching logs for player T.J. McConnell (ID: 204456) for season 2020-21...\n",
      "Fetching logs for player T.J. McConnell (ID: 204456) for season 2021-22...\n",
      "Fetching logs for player T.J. McConnell (ID: 204456) for season 2022-23...\n",
      "Fetching logs for player T.J. McConnell (ID: 204456) for season 2023-24...\n",
      "Fetching logs for player Jaden McDaniels (ID: 1630183) for season 2020-21...\n",
      "Fetching logs for player Jaden McDaniels (ID: 1630183) for season 2021-22...\n",
      "Fetching logs for player Jaden McDaniels (ID: 1630183) for season 2022-23...\n",
      "Fetching logs for player Jaden McDaniels (ID: 1630183) for season 2023-24...\n",
      "Fetching logs for player Jalen McDaniels (ID: 1629667) for season 2020-21...\n",
      "Fetching logs for player Jalen McDaniels (ID: 1629667) for season 2021-22...\n",
      "Fetching logs for player Jalen McDaniels (ID: 1629667) for season 2022-23...\n",
      "Fetching logs for player Jalen McDaniels (ID: 1629667) for season 2023-24...\n",
      "Fetching logs for player Doug McDermott (ID: 203926) for season 2020-21...\n",
      "Fetching logs for player Doug McDermott (ID: 203926) for season 2021-22...\n",
      "Fetching logs for player Doug McDermott (ID: 203926) for season 2022-23...\n",
      "Fetching logs for player Doug McDermott (ID: 203926) for season 2023-24...\n",
      "Fetching logs for player Sean McDermott (ID: 1630253) for season 2020-21...\n",
      "Fetching logs for player Sean McDermott (ID: 1630253) for season 2021-22...\n",
      "Fetching logs for player Sean McDermott (ID: 1630253) for season 2022-23...\n",
      "Fetching logs for player Sean McDermott (ID: 1630253) for season 2023-24...\n"
     ]
    },
    {
     "name": "stderr",
     "output_type": "stream",
     "text": [
      "C:\\Users\\jwag1\\AppData\\Local\\Temp\\ipykernel_32800\\3592326873.py:51: FutureWarning: The behavior of DataFrame concatenation with empty or all-NA entries is deprecated. In a future version, this will no longer exclude empty or all-NA columns when determining the result dtypes. To retain the old behavior, exclude the relevant entries before the concat operation.\n",
      "  player_logs_concat = pd.concat(player_logs, ignore_index=True)\n"
     ]
    },
    {
     "name": "stdout",
     "output_type": "stream",
     "text": [
      "Fetching logs for player JaVale McGee (ID: 201580) for season 2020-21...\n",
      "Fetching logs for player JaVale McGee (ID: 201580) for season 2021-22...\n",
      "Fetching logs for player JaVale McGee (ID: 201580) for season 2022-23...\n",
      "Fetching logs for player JaVale McGee (ID: 201580) for season 2023-24...\n",
      "Fetching logs for player Bryce McGowens (ID: 1631121) for season 2020-21...\n",
      "Fetching logs for player Bryce McGowens (ID: 1631121) for season 2021-22...\n",
      "Fetching logs for player Bryce McGowens (ID: 1631121) for season 2022-23...\n",
      "Fetching logs for player Bryce McGowens (ID: 1631121) for season 2023-24...\n"
     ]
    },
    {
     "name": "stderr",
     "output_type": "stream",
     "text": [
      "C:\\Users\\jwag1\\AppData\\Local\\Temp\\ipykernel_32800\\3592326873.py:51: FutureWarning: The behavior of DataFrame concatenation with empty or all-NA entries is deprecated. In a future version, this will no longer exclude empty or all-NA columns when determining the result dtypes. To retain the old behavior, exclude the relevant entries before the concat operation.\n",
      "  player_logs_concat = pd.concat(player_logs, ignore_index=True)\n"
     ]
    },
    {
     "name": "stdout",
     "output_type": "stream",
     "text": [
      "Fetching logs for player Cameron McGriff (ID: 1630787) for season 2020-21...\n",
      "Fetching logs for player Cameron McGriff (ID: 1630787) for season 2021-22...\n",
      "Fetching logs for player Cameron McGriff (ID: 1630787) for season 2022-23...\n",
      "Fetching logs for player Cameron McGriff (ID: 1630787) for season 2023-24...\n"
     ]
    },
    {
     "name": "stderr",
     "output_type": "stream",
     "text": [
      "C:\\Users\\jwag1\\AppData\\Local\\Temp\\ipykernel_32800\\3592326873.py:51: FutureWarning: The behavior of DataFrame concatenation with empty or all-NA entries is deprecated. In a future version, this will no longer exclude empty or all-NA columns when determining the result dtypes. To retain the old behavior, exclude the relevant entries before the concat operation.\n",
      "  player_logs_concat = pd.concat(player_logs, ignore_index=True)\n"
     ]
    },
    {
     "name": "stdout",
     "output_type": "stream",
     "text": [
      "Fetching logs for player Rodney McGruder (ID: 203585) for season 2020-21...\n",
      "Fetching logs for player Rodney McGruder (ID: 203585) for season 2021-22...\n",
      "Fetching logs for player Rodney McGruder (ID: 203585) for season 2022-23...\n",
      "Fetching logs for player Rodney McGruder (ID: 203585) for season 2023-24...\n"
     ]
    },
    {
     "name": "stderr",
     "output_type": "stream",
     "text": [
      "C:\\Users\\jwag1\\AppData\\Local\\Temp\\ipykernel_32800\\3592326873.py:51: FutureWarning: The behavior of DataFrame concatenation with empty or all-NA entries is deprecated. In a future version, this will no longer exclude empty or all-NA columns when determining the result dtypes. To retain the old behavior, exclude the relevant entries before the concat operation.\n",
      "  player_logs_concat = pd.concat(player_logs, ignore_index=True)\n"
     ]
    },
    {
     "name": "stdout",
     "output_type": "stream",
     "text": [
      "Fetching logs for player Alfonzo McKinnie (ID: 1628035) for season 2020-21...\n",
      "Fetching logs for player Alfonzo McKinnie (ID: 1628035) for season 2021-22...\n",
      "Fetching logs for player Alfonzo McKinnie (ID: 1628035) for season 2022-23...\n",
      "Fetching logs for player Alfonzo McKinnie (ID: 1628035) for season 2023-24...\n"
     ]
    },
    {
     "name": "stderr",
     "output_type": "stream",
     "text": [
      "C:\\Users\\jwag1\\AppData\\Local\\Temp\\ipykernel_32800\\3592326873.py:51: FutureWarning: The behavior of DataFrame concatenation with empty or all-NA entries is deprecated. In a future version, this will no longer exclude empty or all-NA columns when determining the result dtypes. To retain the old behavior, exclude the relevant entries before the concat operation.\n",
      "  player_logs_concat = pd.concat(player_logs, ignore_index=True)\n"
     ]
    },
    {
     "name": "stdout",
     "output_type": "stream",
     "text": [
      "Fetching logs for player JaQuori McLaughlin (ID: 1630605) for season 2020-21...\n",
      "Fetching logs for player JaQuori McLaughlin (ID: 1630605) for season 2021-22...\n",
      "Fetching logs for player JaQuori McLaughlin (ID: 1630605) for season 2022-23...\n",
      "Fetching logs for player JaQuori McLaughlin (ID: 1630605) for season 2023-24...\n"
     ]
    },
    {
     "name": "stderr",
     "output_type": "stream",
     "text": [
      "C:\\Users\\jwag1\\AppData\\Local\\Temp\\ipykernel_32800\\3592326873.py:51: FutureWarning: The behavior of DataFrame concatenation with empty or all-NA entries is deprecated. In a future version, this will no longer exclude empty or all-NA columns when determining the result dtypes. To retain the old behavior, exclude the relevant entries before the concat operation.\n",
      "  player_logs_concat = pd.concat(player_logs, ignore_index=True)\n"
     ]
    },
    {
     "name": "stdout",
     "output_type": "stream",
     "text": [
      "Fetching logs for player Jordan McLaughlin (ID: 1629162) for season 2020-21...\n",
      "Fetching logs for player Jordan McLaughlin (ID: 1629162) for season 2021-22...\n",
      "Fetching logs for player Jordan McLaughlin (ID: 1629162) for season 2022-23...\n",
      "Fetching logs for player Jordan McLaughlin (ID: 1629162) for season 2023-24...\n",
      "Fetching logs for player Ben McLemore (ID: 203463) for season 2020-21...\n",
      "Fetching logs for player Ben McLemore (ID: 203463) for season 2021-22...\n",
      "Fetching logs for player Ben McLemore (ID: 203463) for season 2022-23...\n",
      "Fetching logs for player Ben McLemore (ID: 203463) for season 2023-24...\n"
     ]
    },
    {
     "name": "stderr",
     "output_type": "stream",
     "text": [
      "C:\\Users\\jwag1\\AppData\\Local\\Temp\\ipykernel_32800\\3592326873.py:51: FutureWarning: The behavior of DataFrame concatenation with empty or all-NA entries is deprecated. In a future version, this will no longer exclude empty or all-NA columns when determining the result dtypes. To retain the old behavior, exclude the relevant entries before the concat operation.\n",
      "  player_logs_concat = pd.concat(player_logs, ignore_index=True)\n"
     ]
    },
    {
     "name": "stdout",
     "output_type": "stream",
     "text": [
      "Fetching logs for player Nicolo Melli (ID: 1629740) for season 2020-21...\n",
      "Fetching logs for player Nicolo Melli (ID: 1629740) for season 2021-22...\n",
      "Fetching logs for player Nicolo Melli (ID: 1629740) for season 2022-23...\n",
      "Fetching logs for player Nicolo Melli (ID: 1629740) for season 2023-24...\n"
     ]
    },
    {
     "name": "stderr",
     "output_type": "stream",
     "text": [
      "C:\\Users\\jwag1\\AppData\\Local\\Temp\\ipykernel_32800\\3592326873.py:51: FutureWarning: The behavior of DataFrame concatenation with empty or all-NA entries is deprecated. In a future version, this will no longer exclude empty or all-NA columns when determining the result dtypes. To retain the old behavior, exclude the relevant entries before the concat operation.\n",
      "  player_logs_concat = pd.concat(player_logs, ignore_index=True)\n"
     ]
    },
    {
     "name": "stdout",
     "output_type": "stream",
     "text": [
      "Fetching logs for player De'Anthony Melton (ID: 1629001) for season 2020-21...\n",
      "Fetching logs for player De'Anthony Melton (ID: 1629001) for season 2021-22...\n",
      "Fetching logs for player De'Anthony Melton (ID: 1629001) for season 2022-23...\n",
      "Fetching logs for player De'Anthony Melton (ID: 1629001) for season 2023-24...\n",
      "Fetching logs for player Nathan Mensah (ID: 1641877) for season 2020-21...\n",
      "Fetching logs for player Nathan Mensah (ID: 1641877) for season 2021-22...\n",
      "Fetching logs for player Nathan Mensah (ID: 1641877) for season 2022-23...\n",
      "Fetching logs for player Nathan Mensah (ID: 1641877) for season 2023-24...\n"
     ]
    },
    {
     "name": "stderr",
     "output_type": "stream",
     "text": [
      "C:\\Users\\jwag1\\AppData\\Local\\Temp\\ipykernel_32800\\3592326873.py:51: FutureWarning: The behavior of DataFrame concatenation with empty or all-NA entries is deprecated. In a future version, this will no longer exclude empty or all-NA columns when determining the result dtypes. To retain the old behavior, exclude the relevant entries before the concat operation.\n",
      "  player_logs_concat = pd.concat(player_logs, ignore_index=True)\n"
     ]
    },
    {
     "name": "stdout",
     "output_type": "stream",
     "text": [
      "Fetching logs for player Sam Merrill (ID: 1630241) for season 2020-21...\n",
      "Fetching logs for player Sam Merrill (ID: 1630241) for season 2021-22...\n",
      "Fetching logs for player Sam Merrill (ID: 1630241) for season 2022-23...\n",
      "Fetching logs for player Sam Merrill (ID: 1630241) for season 2023-24...\n",
      "Fetching logs for player Chimezie Metu (ID: 1629002) for season 2020-21...\n",
      "Fetching logs for player Chimezie Metu (ID: 1629002) for season 2021-22...\n",
      "Fetching logs for player Chimezie Metu (ID: 1629002) for season 2022-23...\n",
      "Fetching logs for player Chimezie Metu (ID: 1629002) for season 2023-24...\n",
      "Fetching logs for player Vasilije Micic (ID: 203995) for season 2020-21...\n",
      "Fetching logs for player Vasilije Micic (ID: 203995) for season 2021-22...\n",
      "Fetching logs for player Vasilije Micic (ID: 203995) for season 2022-23...\n",
      "Fetching logs for player Vasilije Micic (ID: 203995) for season 2023-24...\n"
     ]
    },
    {
     "name": "stderr",
     "output_type": "stream",
     "text": [
      "C:\\Users\\jwag1\\AppData\\Local\\Temp\\ipykernel_32800\\3592326873.py:51: FutureWarning: The behavior of DataFrame concatenation with empty or all-NA entries is deprecated. In a future version, this will no longer exclude empty or all-NA columns when determining the result dtypes. To retain the old behavior, exclude the relevant entries before the concat operation.\n",
      "  player_logs_concat = pd.concat(player_logs, ignore_index=True)\n"
     ]
    },
    {
     "name": "stdout",
     "output_type": "stream",
     "text": [
      "Fetching logs for player Khris Middleton (ID: 203114) for season 2020-21...\n",
      "Fetching logs for player Khris Middleton (ID: 203114) for season 2021-22...\n",
      "Fetching logs for player Khris Middleton (ID: 203114) for season 2022-23...\n",
      "Fetching logs for player Khris Middleton (ID: 203114) for season 2023-24...\n",
      "Fetching logs for player CJ Miles (ID: 101139) for season 2020-21...\n",
      "Fetching logs for player CJ Miles (ID: 101139) for season 2021-22...\n",
      "Fetching logs for player CJ Miles (ID: 101139) for season 2022-23...\n",
      "Fetching logs for player CJ Miles (ID: 101139) for season 2023-24...\n"
     ]
    },
    {
     "name": "stderr",
     "output_type": "stream",
     "text": [
      "C:\\Users\\jwag1\\AppData\\Local\\Temp\\ipykernel_32800\\3592326873.py:51: FutureWarning: The behavior of DataFrame concatenation with empty or all-NA entries is deprecated. In a future version, this will no longer exclude empty or all-NA columns when determining the result dtypes. To retain the old behavior, exclude the relevant entries before the concat operation.\n",
      "  player_logs_concat = pd.concat(player_logs, ignore_index=True)\n"
     ]
    },
    {
     "name": "stdout",
     "output_type": "stream",
     "text": [
      "Fetching logs for player Brandon Miller (ID: 1641706) for season 2020-21...\n",
      "Fetching logs for player Brandon Miller (ID: 1641706) for season 2021-22...\n",
      "Fetching logs for player Brandon Miller (ID: 1641706) for season 2022-23...\n",
      "Fetching logs for player Brandon Miller (ID: 1641706) for season 2023-24...\n"
     ]
    },
    {
     "name": "stderr",
     "output_type": "stream",
     "text": [
      "C:\\Users\\jwag1\\AppData\\Local\\Temp\\ipykernel_32800\\3592326873.py:51: FutureWarning: The behavior of DataFrame concatenation with empty or all-NA entries is deprecated. In a future version, this will no longer exclude empty or all-NA columns when determining the result dtypes. To retain the old behavior, exclude the relevant entries before the concat operation.\n",
      "  player_logs_concat = pd.concat(player_logs, ignore_index=True)\n"
     ]
    },
    {
     "name": "stdout",
     "output_type": "stream",
     "text": [
      "Fetching logs for player Darius Miller (ID: 203121) for season 2020-21...\n",
      "Fetching logs for player Darius Miller (ID: 203121) for season 2021-22...\n",
      "Fetching logs for player Darius Miller (ID: 203121) for season 2022-23...\n",
      "Fetching logs for player Darius Miller (ID: 203121) for season 2023-24...\n"
     ]
    },
    {
     "name": "stderr",
     "output_type": "stream",
     "text": [
      "C:\\Users\\jwag1\\AppData\\Local\\Temp\\ipykernel_32800\\3592326873.py:51: FutureWarning: The behavior of DataFrame concatenation with empty or all-NA entries is deprecated. In a future version, this will no longer exclude empty or all-NA columns when determining the result dtypes. To retain the old behavior, exclude the relevant entries before the concat operation.\n",
      "  player_logs_concat = pd.concat(player_logs, ignore_index=True)\n"
     ]
    },
    {
     "name": "stdout",
     "output_type": "stream",
     "text": [
      "Fetching logs for player Jordan Miller (ID: 1641757) for season 2020-21...\n",
      "Fetching logs for player Jordan Miller (ID: 1641757) for season 2021-22...\n",
      "Fetching logs for player Jordan Miller (ID: 1641757) for season 2022-23...\n",
      "Fetching logs for player Jordan Miller (ID: 1641757) for season 2023-24...\n"
     ]
    },
    {
     "name": "stderr",
     "output_type": "stream",
     "text": [
      "C:\\Users\\jwag1\\AppData\\Local\\Temp\\ipykernel_32800\\3592326873.py:51: FutureWarning: The behavior of DataFrame concatenation with empty or all-NA entries is deprecated. In a future version, this will no longer exclude empty or all-NA columns when determining the result dtypes. To retain the old behavior, exclude the relevant entries before the concat operation.\n",
      "  player_logs_concat = pd.concat(player_logs, ignore_index=True)\n"
     ]
    },
    {
     "name": "stdout",
     "output_type": "stream",
     "text": [
      "Fetching logs for player Leonard Miller (ID: 1631159) for season 2020-21...\n",
      "Fetching logs for player Leonard Miller (ID: 1631159) for season 2021-22...\n",
      "Fetching logs for player Leonard Miller (ID: 1631159) for season 2022-23...\n",
      "Fetching logs for player Leonard Miller (ID: 1631159) for season 2023-24...\n"
     ]
    },
    {
     "name": "stderr",
     "output_type": "stream",
     "text": [
      "C:\\Users\\jwag1\\AppData\\Local\\Temp\\ipykernel_32800\\3592326873.py:51: FutureWarning: The behavior of DataFrame concatenation with empty or all-NA entries is deprecated. In a future version, this will no longer exclude empty or all-NA columns when determining the result dtypes. To retain the old behavior, exclude the relevant entries before the concat operation.\n",
      "  player_logs_concat = pd.concat(player_logs, ignore_index=True)\n"
     ]
    },
    {
     "name": "stdout",
     "output_type": "stream",
     "text": [
      "Fetching logs for player Patty Mills (ID: 201988) for season 2020-21...\n",
      "Fetching logs for player Patty Mills (ID: 201988) for season 2021-22...\n",
      "Fetching logs for player Patty Mills (ID: 201988) for season 2022-23...\n",
      "Fetching logs for player Patty Mills (ID: 201988) for season 2023-24...\n",
      "Fetching logs for player Paul Millsap (ID: 200794) for season 2020-21...\n",
      "Fetching logs for player Paul Millsap (ID: 200794) for season 2021-22...\n",
      "Fetching logs for player Paul Millsap (ID: 200794) for season 2022-23...\n",
      "Fetching logs for player Paul Millsap (ID: 200794) for season 2023-24...\n"
     ]
    },
    {
     "name": "stderr",
     "output_type": "stream",
     "text": [
      "C:\\Users\\jwag1\\AppData\\Local\\Temp\\ipykernel_32800\\3592326873.py:51: FutureWarning: The behavior of DataFrame concatenation with empty or all-NA entries is deprecated. In a future version, this will no longer exclude empty or all-NA columns when determining the result dtypes. To retain the old behavior, exclude the relevant entries before the concat operation.\n",
      "  player_logs_concat = pd.concat(player_logs, ignore_index=True)\n"
     ]
    },
    {
     "name": "stdout",
     "output_type": "stream",
     "text": [
      "Fetching logs for player Shake Milton (ID: 1629003) for season 2020-21...\n",
      "Fetching logs for player Shake Milton (ID: 1629003) for season 2021-22...\n",
      "Fetching logs for player Shake Milton (ID: 1629003) for season 2022-23...\n",
      "Fetching logs for player Shake Milton (ID: 1629003) for season 2023-24...\n"
     ]
    },
    {
     "name": "stderr",
     "output_type": "stream",
     "text": [
      "\r",
      " 61%|██████    | 11/18 [19:32<12:27, 106.85s/it]"
     ]
    },
    {
     "name": "stdout",
     "output_type": "stream",
     "text": [
      "Processing batch 550 to 600...\n",
      "Fetching logs for player Justin Minaya (ID: 1631303) for season 2020-21...\n",
      "Fetching logs for player Justin Minaya (ID: 1631303) for season 2021-22...\n",
      "Fetching logs for player Justin Minaya (ID: 1631303) for season 2022-23...\n",
      "Fetching logs for player Justin Minaya (ID: 1631303) for season 2023-24...\n"
     ]
    },
    {
     "name": "stderr",
     "output_type": "stream",
     "text": [
      "C:\\Users\\jwag1\\AppData\\Local\\Temp\\ipykernel_32800\\3592326873.py:51: FutureWarning: The behavior of DataFrame concatenation with empty or all-NA entries is deprecated. In a future version, this will no longer exclude empty or all-NA columns when determining the result dtypes. To retain the old behavior, exclude the relevant entries before the concat operation.\n",
      "  player_logs_concat = pd.concat(player_logs, ignore_index=True)\n"
     ]
    },
    {
     "name": "stdout",
     "output_type": "stream",
     "text": [
      "Fetching logs for player Josh Minott (ID: 1631169) for season 2020-21...\n",
      "Fetching logs for player Josh Minott (ID: 1631169) for season 2021-22...\n",
      "Fetching logs for player Josh Minott (ID: 1631169) for season 2022-23...\n",
      "Fetching logs for player Josh Minott (ID: 1631169) for season 2023-24...\n"
     ]
    },
    {
     "name": "stderr",
     "output_type": "stream",
     "text": [
      "C:\\Users\\jwag1\\AppData\\Local\\Temp\\ipykernel_32800\\3592326873.py:51: FutureWarning: The behavior of DataFrame concatenation with empty or all-NA entries is deprecated. In a future version, this will no longer exclude empty or all-NA columns when determining the result dtypes. To retain the old behavior, exclude the relevant entries before the concat operation.\n",
      "  player_logs_concat = pd.concat(player_logs, ignore_index=True)\n"
     ]
    },
    {
     "name": "stdout",
     "output_type": "stream",
     "text": [
      "Fetching logs for player Davion Mitchell (ID: 1630558) for season 2020-21...\n",
      "Fetching logs for player Davion Mitchell (ID: 1630558) for season 2021-22...\n",
      "Fetching logs for player Davion Mitchell (ID: 1630558) for season 2022-23...\n",
      "Fetching logs for player Davion Mitchell (ID: 1630558) for season 2023-24...\n"
     ]
    },
    {
     "name": "stderr",
     "output_type": "stream",
     "text": [
      "C:\\Users\\jwag1\\AppData\\Local\\Temp\\ipykernel_32800\\3592326873.py:51: FutureWarning: The behavior of DataFrame concatenation with empty or all-NA entries is deprecated. In a future version, this will no longer exclude empty or all-NA columns when determining the result dtypes. To retain the old behavior, exclude the relevant entries before the concat operation.\n",
      "  player_logs_concat = pd.concat(player_logs, ignore_index=True)\n"
     ]
    },
    {
     "name": "stdout",
     "output_type": "stream",
     "text": [
      "Fetching logs for player Donovan Mitchell (ID: 1628378) for season 2020-21...\n",
      "Fetching logs for player Donovan Mitchell (ID: 1628378) for season 2021-22...\n",
      "Fetching logs for player Donovan Mitchell (ID: 1628378) for season 2022-23...\n",
      "Fetching logs for player Donovan Mitchell (ID: 1628378) for season 2023-24...\n",
      "Fetching logs for player Evan Mobley (ID: 1630596) for season 2020-21...\n",
      "Fetching logs for player Evan Mobley (ID: 1630596) for season 2021-22...\n",
      "Fetching logs for player Evan Mobley (ID: 1630596) for season 2022-23...\n",
      "Fetching logs for player Evan Mobley (ID: 1630596) for season 2023-24...\n"
     ]
    },
    {
     "name": "stderr",
     "output_type": "stream",
     "text": [
      "C:\\Users\\jwag1\\AppData\\Local\\Temp\\ipykernel_32800\\3592326873.py:51: FutureWarning: The behavior of DataFrame concatenation with empty or all-NA entries is deprecated. In a future version, this will no longer exclude empty or all-NA columns when determining the result dtypes. To retain the old behavior, exclude the relevant entries before the concat operation.\n",
      "  player_logs_concat = pd.concat(player_logs, ignore_index=True)\n"
     ]
    },
    {
     "name": "stdout",
     "output_type": "stream",
     "text": [
      "Fetching logs for player Isaiah Mobley (ID: 1630600) for season 2020-21...\n",
      "Fetching logs for player Isaiah Mobley (ID: 1630600) for season 2021-22...\n",
      "Fetching logs for player Isaiah Mobley (ID: 1630600) for season 2022-23...\n",
      "Fetching logs for player Isaiah Mobley (ID: 1630600) for season 2023-24...\n"
     ]
    },
    {
     "name": "stderr",
     "output_type": "stream",
     "text": [
      "C:\\Users\\jwag1\\AppData\\Local\\Temp\\ipykernel_32800\\3592326873.py:51: FutureWarning: The behavior of DataFrame concatenation with empty or all-NA entries is deprecated. In a future version, this will no longer exclude empty or all-NA columns when determining the result dtypes. To retain the old behavior, exclude the relevant entries before the concat operation.\n",
      "  player_logs_concat = pd.concat(player_logs, ignore_index=True)\n"
     ]
    },
    {
     "name": "stdout",
     "output_type": "stream",
     "text": [
      "Fetching logs for player Adam Mokoka (ID: 1629690) for season 2020-21...\n",
      "Fetching logs for player Adam Mokoka (ID: 1629690) for season 2021-22...\n",
      "Fetching logs for player Adam Mokoka (ID: 1629690) for season 2022-23...\n",
      "Fetching logs for player Adam Mokoka (ID: 1629690) for season 2023-24...\n"
     ]
    },
    {
     "name": "stderr",
     "output_type": "stream",
     "text": [
      "C:\\Users\\jwag1\\AppData\\Local\\Temp\\ipykernel_32800\\3592326873.py:51: FutureWarning: The behavior of DataFrame concatenation with empty or all-NA entries is deprecated. In a future version, this will no longer exclude empty or all-NA columns when determining the result dtypes. To retain the old behavior, exclude the relevant entries before the concat operation.\n",
      "  player_logs_concat = pd.concat(player_logs, ignore_index=True)\n"
     ]
    },
    {
     "name": "stdout",
     "output_type": "stream",
     "text": [
      "Fetching logs for player Chima Moneke (ID: 1631320) for season 2020-21...\n",
      "Fetching logs for player Chima Moneke (ID: 1631320) for season 2021-22...\n",
      "Fetching logs for player Chima Moneke (ID: 1631320) for season 2022-23...\n",
      "Fetching logs for player Chima Moneke (ID: 1631320) for season 2023-24...\n"
     ]
    },
    {
     "name": "stderr",
     "output_type": "stream",
     "text": [
      "C:\\Users\\jwag1\\AppData\\Local\\Temp\\ipykernel_32800\\3592326873.py:51: FutureWarning: The behavior of DataFrame concatenation with empty or all-NA entries is deprecated. In a future version, this will no longer exclude empty or all-NA columns when determining the result dtypes. To retain the old behavior, exclude the relevant entries before the concat operation.\n",
      "  player_logs_concat = pd.concat(player_logs, ignore_index=True)\n"
     ]
    },
    {
     "name": "stdout",
     "output_type": "stream",
     "text": [
      "Fetching logs for player Malik Monk (ID: 1628370) for season 2020-21...\n",
      "Fetching logs for player Malik Monk (ID: 1628370) for season 2021-22...\n",
      "Fetching logs for player Malik Monk (ID: 1628370) for season 2022-23...\n",
      "Fetching logs for player Malik Monk (ID: 1628370) for season 2023-24...\n",
      "Fetching logs for player Greg Monroe (ID: 202328) for season 2020-21...\n",
      "Fetching logs for player Greg Monroe (ID: 202328) for season 2021-22...\n",
      "Fetching logs for player Greg Monroe (ID: 202328) for season 2022-23...\n",
      "Fetching logs for player Greg Monroe (ID: 202328) for season 2023-24...\n"
     ]
    },
    {
     "name": "stderr",
     "output_type": "stream",
     "text": [
      "C:\\Users\\jwag1\\AppData\\Local\\Temp\\ipykernel_32800\\3592326873.py:51: FutureWarning: The behavior of DataFrame concatenation with empty or all-NA entries is deprecated. In a future version, this will no longer exclude empty or all-NA columns when determining the result dtypes. To retain the old behavior, exclude the relevant entries before the concat operation.\n",
      "  player_logs_concat = pd.concat(player_logs, ignore_index=True)\n"
     ]
    },
    {
     "name": "stdout",
     "output_type": "stream",
     "text": [
      "Fetching logs for player Moses Moody (ID: 1630541) for season 2020-21...\n",
      "Fetching logs for player Moses Moody (ID: 1630541) for season 2021-22...\n",
      "Fetching logs for player Moses Moody (ID: 1630541) for season 2022-23...\n",
      "Fetching logs for player Moses Moody (ID: 1630541) for season 2023-24...\n"
     ]
    },
    {
     "name": "stderr",
     "output_type": "stream",
     "text": [
      "C:\\Users\\jwag1\\AppData\\Local\\Temp\\ipykernel_32800\\3592326873.py:51: FutureWarning: The behavior of DataFrame concatenation with empty or all-NA entries is deprecated. In a future version, this will no longer exclude empty or all-NA columns when determining the result dtypes. To retain the old behavior, exclude the relevant entries before the concat operation.\n",
      "  player_logs_concat = pd.concat(player_logs, ignore_index=True)\n"
     ]
    },
    {
     "name": "stdout",
     "output_type": "stream",
     "text": [
      "Fetching logs for player Xavier Moon (ID: 1629875) for season 2020-21...\n",
      "Fetching logs for player Xavier Moon (ID: 1629875) for season 2021-22...\n",
      "Fetching logs for player Xavier Moon (ID: 1629875) for season 2022-23...\n",
      "Fetching logs for player Xavier Moon (ID: 1629875) for season 2023-24...\n"
     ]
    },
    {
     "name": "stderr",
     "output_type": "stream",
     "text": [
      "C:\\Users\\jwag1\\AppData\\Local\\Temp\\ipykernel_32800\\3592326873.py:51: FutureWarning: The behavior of DataFrame concatenation with empty or all-NA entries is deprecated. In a future version, this will no longer exclude empty or all-NA columns when determining the result dtypes. To retain the old behavior, exclude the relevant entries before the concat operation.\n",
      "  player_logs_concat = pd.concat(player_logs, ignore_index=True)\n"
     ]
    },
    {
     "name": "stdout",
     "output_type": "stream",
     "text": [
      "Fetching logs for player Matt Mooney (ID: 1629760) for season 2020-21...\n",
      "Fetching logs for player Matt Mooney (ID: 1629760) for season 2021-22...\n",
      "Fetching logs for player Matt Mooney (ID: 1629760) for season 2022-23...\n",
      "Fetching logs for player Matt Mooney (ID: 1629760) for season 2023-24...\n"
     ]
    },
    {
     "name": "stderr",
     "output_type": "stream",
     "text": [
      "C:\\Users\\jwag1\\AppData\\Local\\Temp\\ipykernel_32800\\3592326873.py:51: FutureWarning: The behavior of DataFrame concatenation with empty or all-NA entries is deprecated. In a future version, this will no longer exclude empty or all-NA columns when determining the result dtypes. To retain the old behavior, exclude the relevant entries before the concat operation.\n",
      "  player_logs_concat = pd.concat(player_logs, ignore_index=True)\n"
     ]
    },
    {
     "name": "stdout",
     "output_type": "stream",
     "text": [
      "Fetching logs for player E'Twaun Moore (ID: 202734) for season 2020-21...\n",
      "Fetching logs for player E'Twaun Moore (ID: 202734) for season 2021-22...\n",
      "Fetching logs for player E'Twaun Moore (ID: 202734) for season 2022-23...\n",
      "Fetching logs for player E'Twaun Moore (ID: 202734) for season 2023-24...\n"
     ]
    },
    {
     "name": "stderr",
     "output_type": "stream",
     "text": [
      "C:\\Users\\jwag1\\AppData\\Local\\Temp\\ipykernel_32800\\3592326873.py:51: FutureWarning: The behavior of DataFrame concatenation with empty or all-NA entries is deprecated. In a future version, this will no longer exclude empty or all-NA columns when determining the result dtypes. To retain the old behavior, exclude the relevant entries before the concat operation.\n",
      "  player_logs_concat = pd.concat(player_logs, ignore_index=True)\n"
     ]
    },
    {
     "name": "stdout",
     "output_type": "stream",
     "text": [
      "Fetching logs for player Taze Moore (ID: 1631386) for season 2020-21...\n",
      "Fetching logs for player Taze Moore (ID: 1631386) for season 2021-22...\n",
      "Fetching logs for player Taze Moore (ID: 1631386) for season 2022-23...\n",
      "Fetching logs for player Taze Moore (ID: 1631386) for season 2023-24...\n"
     ]
    },
    {
     "name": "stderr",
     "output_type": "stream",
     "text": [
      "C:\\Users\\jwag1\\AppData\\Local\\Temp\\ipykernel_32800\\3592326873.py:51: FutureWarning: The behavior of DataFrame concatenation with empty or all-NA entries is deprecated. In a future version, this will no longer exclude empty or all-NA columns when determining the result dtypes. To retain the old behavior, exclude the relevant entries before the concat operation.\n",
      "  player_logs_concat = pd.concat(player_logs, ignore_index=True)\n"
     ]
    },
    {
     "name": "stdout",
     "output_type": "stream",
     "text": [
      "Fetching logs for player Wendell Moore Jr. (ID: 1631111) for season 2020-21...\n",
      "Fetching logs for player Wendell Moore Jr. (ID: 1631111) for season 2021-22...\n",
      "Fetching logs for player Wendell Moore Jr. (ID: 1631111) for season 2022-23...\n",
      "Fetching logs for player Wendell Moore Jr. (ID: 1631111) for season 2023-24...\n"
     ]
    },
    {
     "name": "stderr",
     "output_type": "stream",
     "text": [
      "C:\\Users\\jwag1\\AppData\\Local\\Temp\\ipykernel_32800\\3592326873.py:51: FutureWarning: The behavior of DataFrame concatenation with empty or all-NA entries is deprecated. In a future version, this will no longer exclude empty or all-NA columns when determining the result dtypes. To retain the old behavior, exclude the relevant entries before the concat operation.\n",
      "  player_logs_concat = pd.concat(player_logs, ignore_index=True)\n"
     ]
    },
    {
     "name": "stdout",
     "output_type": "stream",
     "text": [
      "Fetching logs for player Ja Morant (ID: 1629630) for season 2020-21...\n",
      "Fetching logs for player Ja Morant (ID: 1629630) for season 2021-22...\n",
      "Fetching logs for player Ja Morant (ID: 1629630) for season 2022-23...\n",
      "Fetching logs for player Ja Morant (ID: 1629630) for season 2023-24...\n",
      "Fetching logs for player Juwan Morgan (ID: 1629752) for season 2020-21...\n",
      "Fetching logs for player Juwan Morgan (ID: 1629752) for season 2021-22...\n",
      "Fetching logs for player Juwan Morgan (ID: 1629752) for season 2022-23...\n",
      "Fetching logs for player Juwan Morgan (ID: 1629752) for season 2023-24...\n"
     ]
    },
    {
     "name": "stderr",
     "output_type": "stream",
     "text": [
      "C:\\Users\\jwag1\\AppData\\Local\\Temp\\ipykernel_32800\\3592326873.py:51: FutureWarning: The behavior of DataFrame concatenation with empty or all-NA entries is deprecated. In a future version, this will no longer exclude empty or all-NA columns when determining the result dtypes. To retain the old behavior, exclude the relevant entries before the concat operation.\n",
      "  player_logs_concat = pd.concat(player_logs, ignore_index=True)\n"
     ]
    },
    {
     "name": "stdout",
     "output_type": "stream",
     "text": [
      "Fetching logs for player Jaylen Morris (ID: 1628537) for season 2020-21...\n",
      "Fetching logs for player Jaylen Morris (ID: 1628537) for season 2021-22...\n",
      "Fetching logs for player Jaylen Morris (ID: 1628537) for season 2022-23...\n",
      "Fetching logs for player Jaylen Morris (ID: 1628537) for season 2023-24...\n"
     ]
    },
    {
     "name": "stderr",
     "output_type": "stream",
     "text": [
      "C:\\Users\\jwag1\\AppData\\Local\\Temp\\ipykernel_32800\\3592326873.py:51: FutureWarning: The behavior of DataFrame concatenation with empty or all-NA entries is deprecated. In a future version, this will no longer exclude empty or all-NA columns when determining the result dtypes. To retain the old behavior, exclude the relevant entries before the concat operation.\n",
      "  player_logs_concat = pd.concat(player_logs, ignore_index=True)\n"
     ]
    },
    {
     "name": "stdout",
     "output_type": "stream",
     "text": [
      "Fetching logs for player Markieff Morris (ID: 202693) for season 2020-21...\n",
      "Fetching logs for player Markieff Morris (ID: 202693) for season 2021-22...\n",
      "Fetching logs for player Markieff Morris (ID: 202693) for season 2022-23...\n",
      "Fetching logs for player Markieff Morris (ID: 202693) for season 2023-24...\n",
      "Fetching logs for player Monte Morris (ID: 1628420) for season 2020-21...\n",
      "Fetching logs for player Monte Morris (ID: 1628420) for season 2021-22...\n",
      "Fetching logs for player Monte Morris (ID: 1628420) for season 2022-23...\n",
      "Fetching logs for player Monte Morris (ID: 1628420) for season 2023-24...\n",
      "Fetching logs for player Marcus Morris Sr. (ID: 202694) for season 2020-21...\n",
      "Fetching logs for player Marcus Morris Sr. (ID: 202694) for season 2021-22...\n",
      "Fetching logs for player Marcus Morris Sr. (ID: 202694) for season 2022-23...\n",
      "Fetching logs for player Marcus Morris Sr. (ID: 202694) for season 2023-24...\n",
      "Fetching logs for player Emmanuel Mudiay (ID: 1626144) for season 2020-21...\n",
      "Fetching logs for player Emmanuel Mudiay (ID: 1626144) for season 2021-22...\n",
      "Fetching logs for player Emmanuel Mudiay (ID: 1626144) for season 2022-23...\n",
      "Fetching logs for player Emmanuel Mudiay (ID: 1626144) for season 2023-24...\n"
     ]
    },
    {
     "name": "stderr",
     "output_type": "stream",
     "text": [
      "C:\\Users\\jwag1\\AppData\\Local\\Temp\\ipykernel_32800\\3592326873.py:51: FutureWarning: The behavior of DataFrame concatenation with empty or all-NA entries is deprecated. In a future version, this will no longer exclude empty or all-NA columns when determining the result dtypes. To retain the old behavior, exclude the relevant entries before the concat operation.\n",
      "  player_logs_concat = pd.concat(player_logs, ignore_index=True)\n"
     ]
    },
    {
     "name": "stdout",
     "output_type": "stream",
     "text": [
      "Fetching logs for player Mychal Mulder (ID: 1628539) for season 2020-21...\n",
      "Fetching logs for player Mychal Mulder (ID: 1628539) for season 2021-22...\n",
      "Fetching logs for player Mychal Mulder (ID: 1628539) for season 2022-23...\n",
      "Fetching logs for player Mychal Mulder (ID: 1628539) for season 2023-24...\n"
     ]
    },
    {
     "name": "stderr",
     "output_type": "stream",
     "text": [
      "C:\\Users\\jwag1\\AppData\\Local\\Temp\\ipykernel_32800\\3592326873.py:51: FutureWarning: The behavior of DataFrame concatenation with empty or all-NA entries is deprecated. In a future version, this will no longer exclude empty or all-NA columns when determining the result dtypes. To retain the old behavior, exclude the relevant entries before the concat operation.\n",
      "  player_logs_concat = pd.concat(player_logs, ignore_index=True)\n"
     ]
    },
    {
     "name": "stdout",
     "output_type": "stream",
     "text": [
      "Fetching logs for player Ade Murkey (ID: 1630278) for season 2020-21...\n",
      "Fetching logs for player Ade Murkey (ID: 1630278) for season 2021-22...\n",
      "Fetching logs for player Ade Murkey (ID: 1630278) for season 2022-23...\n",
      "Fetching logs for player Ade Murkey (ID: 1630278) for season 2023-24...\n"
     ]
    },
    {
     "name": "stderr",
     "output_type": "stream",
     "text": [
      "C:\\Users\\jwag1\\AppData\\Local\\Temp\\ipykernel_32800\\3592326873.py:51: FutureWarning: The behavior of DataFrame concatenation with empty or all-NA entries is deprecated. In a future version, this will no longer exclude empty or all-NA columns when determining the result dtypes. To retain the old behavior, exclude the relevant entries before the concat operation.\n",
      "  player_logs_concat = pd.concat(player_logs, ignore_index=True)\n"
     ]
    },
    {
     "name": "stdout",
     "output_type": "stream",
     "text": [
      "Fetching logs for player Trey Murphy III (ID: 1630530) for season 2020-21...\n",
      "Fetching logs for player Trey Murphy III (ID: 1630530) for season 2021-22...\n",
      "Fetching logs for player Trey Murphy III (ID: 1630530) for season 2022-23...\n",
      "Fetching logs for player Trey Murphy III (ID: 1630530) for season 2023-24...\n"
     ]
    },
    {
     "name": "stderr",
     "output_type": "stream",
     "text": [
      "C:\\Users\\jwag1\\AppData\\Local\\Temp\\ipykernel_32800\\3592326873.py:51: FutureWarning: The behavior of DataFrame concatenation with empty or all-NA entries is deprecated. In a future version, this will no longer exclude empty or all-NA columns when determining the result dtypes. To retain the old behavior, exclude the relevant entries before the concat operation.\n",
      "  player_logs_concat = pd.concat(player_logs, ignore_index=True)\n"
     ]
    },
    {
     "name": "stdout",
     "output_type": "stream",
     "text": [
      "Fetching logs for player Dejounte Murray (ID: 1627749) for season 2020-21...\n",
      "Fetching logs for player Dejounte Murray (ID: 1627749) for season 2021-22...\n",
      "Fetching logs for player Dejounte Murray (ID: 1627749) for season 2022-23...\n",
      "Fetching logs for player Dejounte Murray (ID: 1627749) for season 2023-24...\n",
      "Fetching logs for player Jamal Murray (ID: 1627750) for season 2020-21...\n",
      "Fetching logs for player Jamal Murray (ID: 1627750) for season 2021-22...\n",
      "Fetching logs for player Jamal Murray (ID: 1627750) for season 2022-23...\n",
      "Fetching logs for player Jamal Murray (ID: 1627750) for season 2023-24...\n"
     ]
    },
    {
     "name": "stderr",
     "output_type": "stream",
     "text": [
      "C:\\Users\\jwag1\\AppData\\Local\\Temp\\ipykernel_32800\\3592326873.py:51: FutureWarning: The behavior of DataFrame concatenation with empty or all-NA entries is deprecated. In a future version, this will no longer exclude empty or all-NA columns when determining the result dtypes. To retain the old behavior, exclude the relevant entries before the concat operation.\n",
      "  player_logs_concat = pd.concat(player_logs, ignore_index=True)\n"
     ]
    },
    {
     "name": "stdout",
     "output_type": "stream",
     "text": [
      "Fetching logs for player Keegan Murray (ID: 1631099) for season 2020-21...\n",
      "Fetching logs for player Keegan Murray (ID: 1631099) for season 2021-22...\n",
      "Fetching logs for player Keegan Murray (ID: 1631099) for season 2022-23...\n",
      "Fetching logs for player Keegan Murray (ID: 1631099) for season 2023-24...\n"
     ]
    },
    {
     "name": "stderr",
     "output_type": "stream",
     "text": [
      "C:\\Users\\jwag1\\AppData\\Local\\Temp\\ipykernel_32800\\3592326873.py:51: FutureWarning: The behavior of DataFrame concatenation with empty or all-NA entries is deprecated. In a future version, this will no longer exclude empty or all-NA columns when determining the result dtypes. To retain the old behavior, exclude the relevant entries before the concat operation.\n",
      "  player_logs_concat = pd.concat(player_logs, ignore_index=True)\n"
     ]
    },
    {
     "name": "stdout",
     "output_type": "stream",
     "text": [
      "Fetching logs for player Kris Murray (ID: 1631200) for season 2020-21...\n",
      "Fetching logs for player Kris Murray (ID: 1631200) for season 2021-22...\n",
      "Fetching logs for player Kris Murray (ID: 1631200) for season 2022-23...\n",
      "Fetching logs for player Kris Murray (ID: 1631200) for season 2023-24...\n"
     ]
    },
    {
     "name": "stderr",
     "output_type": "stream",
     "text": [
      "C:\\Users\\jwag1\\AppData\\Local\\Temp\\ipykernel_32800\\3592326873.py:51: FutureWarning: The behavior of DataFrame concatenation with empty or all-NA entries is deprecated. In a future version, this will no longer exclude empty or all-NA columns when determining the result dtypes. To retain the old behavior, exclude the relevant entries before the concat operation.\n",
      "  player_logs_concat = pd.concat(player_logs, ignore_index=True)\n"
     ]
    },
    {
     "name": "stdout",
     "output_type": "stream",
     "text": [
      "Fetching logs for player Mike Muscala (ID: 203488) for season 2020-21...\n",
      "Fetching logs for player Mike Muscala (ID: 203488) for season 2021-22...\n",
      "Fetching logs for player Mike Muscala (ID: 203488) for season 2022-23...\n",
      "Fetching logs for player Mike Muscala (ID: 203488) for season 2023-24...\n",
      "Fetching logs for player Svi Mykhailiuk (ID: 1629004) for season 2020-21...\n",
      "Fetching logs for player Svi Mykhailiuk (ID: 1629004) for season 2021-22...\n",
      "Fetching logs for player Svi Mykhailiuk (ID: 1629004) for season 2022-23...\n",
      "Fetching logs for player Svi Mykhailiuk (ID: 1629004) for season 2023-24...\n",
      "Fetching logs for player Abdel Nader (ID: 1627846) for season 2020-21...\n",
      "Fetching logs for player Abdel Nader (ID: 1627846) for season 2021-22...\n",
      "Fetching logs for player Abdel Nader (ID: 1627846) for season 2022-23...\n",
      "Fetching logs for player Abdel Nader (ID: 1627846) for season 2023-24...\n"
     ]
    },
    {
     "name": "stderr",
     "output_type": "stream",
     "text": [
      "C:\\Users\\jwag1\\AppData\\Local\\Temp\\ipykernel_32800\\3592326873.py:51: FutureWarning: The behavior of DataFrame concatenation with empty or all-NA entries is deprecated. In a future version, this will no longer exclude empty or all-NA columns when determining the result dtypes. To retain the old behavior, exclude the relevant entries before the concat operation.\n",
      "  player_logs_concat = pd.concat(player_logs, ignore_index=True)\n"
     ]
    },
    {
     "name": "stdout",
     "output_type": "stream",
     "text": [
      "Fetching logs for player Pete Nance (ID: 1631250) for season 2020-21...\n",
      "Fetching logs for player Pete Nance (ID: 1631250) for season 2021-22...\n",
      "Fetching logs for player Pete Nance (ID: 1631250) for season 2022-23...\n",
      "Fetching logs for player Pete Nance (ID: 1631250) for season 2023-24...\n"
     ]
    },
    {
     "name": "stderr",
     "output_type": "stream",
     "text": [
      "C:\\Users\\jwag1\\AppData\\Local\\Temp\\ipykernel_32800\\3592326873.py:51: FutureWarning: The behavior of DataFrame concatenation with empty or all-NA entries is deprecated. In a future version, this will no longer exclude empty or all-NA columns when determining the result dtypes. To retain the old behavior, exclude the relevant entries before the concat operation.\n",
      "  player_logs_concat = pd.concat(player_logs, ignore_index=True)\n"
     ]
    },
    {
     "name": "stdout",
     "output_type": "stream",
     "text": [
      "Fetching logs for player Larry Nance Jr. (ID: 1626204) for season 2020-21...\n",
      "Fetching logs for player Larry Nance Jr. (ID: 1626204) for season 2021-22...\n",
      "Fetching logs for player Larry Nance Jr. (ID: 1626204) for season 2022-23...\n",
      "Fetching logs for player Larry Nance Jr. (ID: 1626204) for season 2023-24...\n",
      "Fetching logs for player Andrew Nembhard (ID: 1629614) for season 2020-21...\n",
      "Fetching logs for player Andrew Nembhard (ID: 1629614) for season 2021-22...\n",
      "Fetching logs for player Andrew Nembhard (ID: 1629614) for season 2022-23...\n",
      "Fetching logs for player Andrew Nembhard (ID: 1629614) for season 2023-24...\n"
     ]
    },
    {
     "name": "stderr",
     "output_type": "stream",
     "text": [
      "C:\\Users\\jwag1\\AppData\\Local\\Temp\\ipykernel_32800\\3592326873.py:51: FutureWarning: The behavior of DataFrame concatenation with empty or all-NA entries is deprecated. In a future version, this will no longer exclude empty or all-NA columns when determining the result dtypes. To retain the old behavior, exclude the relevant entries before the concat operation.\n",
      "  player_logs_concat = pd.concat(player_logs, ignore_index=True)\n"
     ]
    },
    {
     "name": "stdout",
     "output_type": "stream",
     "text": [
      "Fetching logs for player RJ Nembhard Jr. (ID: 1630612) for season 2020-21...\n",
      "Fetching logs for player RJ Nembhard Jr. (ID: 1630612) for season 2021-22...\n",
      "Fetching logs for player RJ Nembhard Jr. (ID: 1630612) for season 2022-23...\n",
      "Fetching logs for player RJ Nembhard Jr. (ID: 1630612) for season 2023-24...\n"
     ]
    },
    {
     "name": "stderr",
     "output_type": "stream",
     "text": [
      "C:\\Users\\jwag1\\AppData\\Local\\Temp\\ipykernel_32800\\3592326873.py:51: FutureWarning: The behavior of DataFrame concatenation with empty or all-NA entries is deprecated. In a future version, this will no longer exclude empty or all-NA columns when determining the result dtypes. To retain the old behavior, exclude the relevant entries before the concat operation.\n",
      "  player_logs_concat = pd.concat(player_logs, ignore_index=True)\n"
     ]
    },
    {
     "name": "stdout",
     "output_type": "stream",
     "text": [
      "Fetching logs for player Aaron Nesmith (ID: 1630174) for season 2020-21...\n",
      "Fetching logs for player Aaron Nesmith (ID: 1630174) for season 2021-22...\n",
      "Fetching logs for player Aaron Nesmith (ID: 1630174) for season 2022-23...\n",
      "Fetching logs for player Aaron Nesmith (ID: 1630174) for season 2023-24...\n",
      "Fetching logs for player Raul Neto (ID: 203526) for season 2020-21...\n",
      "Fetching logs for player Raul Neto (ID: 203526) for season 2021-22...\n",
      "Fetching logs for player Raul Neto (ID: 203526) for season 2022-23...\n",
      "Fetching logs for player Raul Neto (ID: 203526) for season 2023-24...\n"
     ]
    },
    {
     "name": "stderr",
     "output_type": "stream",
     "text": [
      "C:\\Users\\jwag1\\AppData\\Local\\Temp\\ipykernel_32800\\3592326873.py:51: FutureWarning: The behavior of DataFrame concatenation with empty or all-NA entries is deprecated. In a future version, this will no longer exclude empty or all-NA columns when determining the result dtypes. To retain the old behavior, exclude the relevant entries before the concat operation.\n",
      "  player_logs_concat = pd.concat(player_logs, ignore_index=True)\n"
     ]
    },
    {
     "name": "stdout",
     "output_type": "stream",
     "text": [
      "Fetching logs for player Malik Newman (ID: 1629005) for season 2020-21...\n",
      "Fetching logs for player Malik Newman (ID: 1629005) for season 2021-22...\n",
      "Fetching logs for player Malik Newman (ID: 1629005) for season 2022-23...\n",
      "Fetching logs for player Malik Newman (ID: 1629005) for season 2023-24...\n"
     ]
    },
    {
     "name": "stderr",
     "output_type": "stream",
     "text": [
      "C:\\Users\\jwag1\\AppData\\Local\\Temp\\ipykernel_32800\\3592326873.py:51: FutureWarning: The behavior of DataFrame concatenation with empty or all-NA entries is deprecated. In a future version, this will no longer exclude empty or all-NA columns when determining the result dtypes. To retain the old behavior, exclude the relevant entries before the concat operation.\n",
      "  player_logs_concat = pd.concat(player_logs, ignore_index=True)\n"
     ]
    },
    {
     "name": "stdout",
     "output_type": "stream",
     "text": [
      "Fetching logs for player Georges Niang (ID: 1627777) for season 2020-21...\n",
      "Fetching logs for player Georges Niang (ID: 1627777) for season 2021-22...\n",
      "Fetching logs for player Georges Niang (ID: 1627777) for season 2022-23...\n",
      "Fetching logs for player Georges Niang (ID: 1627777) for season 2023-24...\n",
      "Fetching logs for player Daishen Nix (ID: 1630227) for season 2020-21...\n",
      "Fetching logs for player Daishen Nix (ID: 1630227) for season 2021-22...\n",
      "Fetching logs for player Daishen Nix (ID: 1630227) for season 2022-23...\n",
      "Fetching logs for player Daishen Nix (ID: 1630227) for season 2023-24...\n"
     ]
    },
    {
     "name": "stderr",
     "output_type": "stream",
     "text": [
      "C:\\Users\\jwag1\\AppData\\Local\\Temp\\ipykernel_32800\\3592326873.py:51: FutureWarning: The behavior of DataFrame concatenation with empty or all-NA entries is deprecated. In a future version, this will no longer exclude empty or all-NA columns when determining the result dtypes. To retain the old behavior, exclude the relevant entries before the concat operation.\n",
      "  player_logs_concat = pd.concat(player_logs, ignore_index=True)\n"
     ]
    },
    {
     "name": "stdout",
     "output_type": "stream",
     "text": [
      "Fetching logs for player Zeke Nnaji (ID: 1630192) for season 2020-21...\n",
      "Fetching logs for player Zeke Nnaji (ID: 1630192) for season 2021-22...\n",
      "Fetching logs for player Zeke Nnaji (ID: 1630192) for season 2022-23...\n",
      "Fetching logs for player Zeke Nnaji (ID: 1630192) for season 2023-24...\n",
      "Fetching logs for player Nerlens Noel (ID: 203457) for season 2020-21...\n",
      "Fetching logs for player Nerlens Noel (ID: 203457) for season 2021-22...\n",
      "Fetching logs for player Nerlens Noel (ID: 203457) for season 2022-23...\n",
      "Fetching logs for player Nerlens Noel (ID: 203457) for season 2023-24...\n"
     ]
    },
    {
     "name": "stderr",
     "output_type": "stream",
     "text": [
      "C:\\Users\\jwag1\\AppData\\Local\\Temp\\ipykernel_32800\\3592326873.py:51: FutureWarning: The behavior of DataFrame concatenation with empty or all-NA entries is deprecated. In a future version, this will no longer exclude empty or all-NA columns when determining the result dtypes. To retain the old behavior, exclude the relevant entries before the concat operation.\n",
      "  player_logs_concat = pd.concat(player_logs, ignore_index=True)\n"
     ]
    },
    {
     "name": "stdout",
     "output_type": "stream",
     "text": [
      "Fetching logs for player Jaylen Nowell (ID: 1629669) for season 2020-21...\n",
      "Fetching logs for player Jaylen Nowell (ID: 1629669) for season 2021-22...\n",
      "Fetching logs for player Jaylen Nowell (ID: 1629669) for season 2022-23...\n",
      "Fetching logs for player Jaylen Nowell (ID: 1629669) for season 2023-24...\n",
      "Fetching logs for player Markquis Nowell (ID: 1641806) for season 2020-21...\n",
      "Fetching logs for player Markquis Nowell (ID: 1641806) for season 2021-22...\n",
      "Fetching logs for player Markquis Nowell (ID: 1641806) for season 2022-23...\n",
      "Fetching logs for player Markquis Nowell (ID: 1641806) for season 2023-24...\n"
     ]
    },
    {
     "name": "stderr",
     "output_type": "stream",
     "text": [
      "C:\\Users\\jwag1\\AppData\\Local\\Temp\\ipykernel_32800\\3592326873.py:51: FutureWarning: The behavior of DataFrame concatenation with empty or all-NA entries is deprecated. In a future version, this will no longer exclude empty or all-NA columns when determining the result dtypes. To retain the old behavior, exclude the relevant entries before the concat operation.\n",
      "  player_logs_concat = pd.concat(player_logs, ignore_index=True)\n"
     ]
    },
    {
     "name": "stdout",
     "output_type": "stream",
     "text": [
      "Fetching logs for player Frank Ntilikina (ID: 1628373) for season 2020-21...\n",
      "Fetching logs for player Frank Ntilikina (ID: 1628373) for season 2021-22...\n",
      "Fetching logs for player Frank Ntilikina (ID: 1628373) for season 2022-23...\n",
      "Fetching logs for player Frank Ntilikina (ID: 1628373) for season 2023-24...\n",
      "Fetching logs for player Kendrick Nunn (ID: 1629134) for season 2020-21...\n",
      "Fetching logs for player Kendrick Nunn (ID: 1629134) for season 2021-22...\n",
      "Fetching logs for player Kendrick Nunn (ID: 1629134) for season 2022-23...\n",
      "Fetching logs for player Kendrick Nunn (ID: 1629134) for season 2023-24...\n"
     ]
    },
    {
     "name": "stderr",
     "output_type": "stream",
     "text": [
      "C:\\Users\\jwag1\\AppData\\Local\\Temp\\ipykernel_32800\\3592326873.py:51: FutureWarning: The behavior of DataFrame concatenation with empty or all-NA entries is deprecated. In a future version, this will no longer exclude empty or all-NA columns when determining the result dtypes. To retain the old behavior, exclude the relevant entries before the concat operation.\n",
      "  player_logs_concat = pd.concat(player_logs, ignore_index=True)\n"
     ]
    },
    {
     "name": "stdout",
     "output_type": "stream",
     "text": [
      "Fetching logs for player James Nunnally (ID: 203263) for season 2020-21...\n",
      "Fetching logs for player James Nunnally (ID: 203263) for season 2021-22...\n",
      "Fetching logs for player James Nunnally (ID: 203263) for season 2022-23...\n",
      "Fetching logs for player James Nunnally (ID: 203263) for season 2023-24...\n"
     ]
    },
    {
     "name": "stderr",
     "output_type": "stream",
     "text": [
      "C:\\Users\\jwag1\\AppData\\Local\\Temp\\ipykernel_32800\\3592326873.py:51: FutureWarning: The behavior of DataFrame concatenation with empty or all-NA entries is deprecated. In a future version, this will no longer exclude empty or all-NA columns when determining the result dtypes. To retain the old behavior, exclude the relevant entries before the concat operation.\n",
      "  player_logs_concat = pd.concat(player_logs, ignore_index=True)\n"
     ]
    },
    {
     "name": "stdout",
     "output_type": "stream",
     "text": [
      "Fetching logs for player Jusuf Nurkic (ID: 203994) for season 2020-21...\n",
      "Fetching logs for player Jusuf Nurkic (ID: 203994) for season 2021-22...\n",
      "Fetching logs for player Jusuf Nurkic (ID: 203994) for season 2022-23...\n",
      "Fetching logs for player Jusuf Nurkic (ID: 203994) for season 2023-24...\n"
     ]
    },
    {
     "name": "stderr",
     "output_type": "stream",
     "text": [
      "\r",
      " 67%|██████▋   | 12/18 [21:29<10:58, 109.81s/it]"
     ]
    },
    {
     "name": "stdout",
     "output_type": "stream",
     "text": [
      "Processing batch 600 to 650...\n",
      "Fetching logs for player David Nwaba (ID: 1628021) for season 2020-21...\n",
      "Fetching logs for player David Nwaba (ID: 1628021) for season 2021-22...\n",
      "Fetching logs for player David Nwaba (ID: 1628021) for season 2022-23...\n",
      "Fetching logs for player David Nwaba (ID: 1628021) for season 2023-24...\n"
     ]
    },
    {
     "name": "stderr",
     "output_type": "stream",
     "text": [
      "C:\\Users\\jwag1\\AppData\\Local\\Temp\\ipykernel_32800\\3592326873.py:51: FutureWarning: The behavior of DataFrame concatenation with empty or all-NA entries is deprecated. In a future version, this will no longer exclude empty or all-NA columns when determining the result dtypes. To retain the old behavior, exclude the relevant entries before the concat operation.\n",
      "  player_logs_concat = pd.concat(player_logs, ignore_index=True)\n"
     ]
    },
    {
     "name": "stdout",
     "output_type": "stream",
     "text": [
      "Fetching logs for player Jordan Nwora (ID: 1629670) for season 2020-21...\n",
      "Fetching logs for player Jordan Nwora (ID: 1629670) for season 2021-22...\n",
      "Fetching logs for player Jordan Nwora (ID: 1629670) for season 2022-23...\n",
      "Fetching logs for player Jordan Nwora (ID: 1629670) for season 2023-24...\n",
      "Fetching logs for player Royce O'Neale (ID: 1626220) for season 2020-21...\n",
      "Fetching logs for player Royce O'Neale (ID: 1626220) for season 2021-22...\n",
      "Fetching logs for player Royce O'Neale (ID: 1626220) for season 2022-23...\n",
      "Fetching logs for player Royce O'Neale (ID: 1626220) for season 2023-24...\n",
      "Fetching logs for player Semi Ojeleye (ID: 1628400) for season 2020-21...\n",
      "Fetching logs for player Semi Ojeleye (ID: 1628400) for season 2021-22...\n",
      "Fetching logs for player Semi Ojeleye (ID: 1628400) for season 2022-23...\n",
      "Fetching logs for player Semi Ojeleye (ID: 1628400) for season 2023-24...\n"
     ]
    },
    {
     "name": "stderr",
     "output_type": "stream",
     "text": [
      "C:\\Users\\jwag1\\AppData\\Local\\Temp\\ipykernel_32800\\3592326873.py:51: FutureWarning: The behavior of DataFrame concatenation with empty or all-NA entries is deprecated. In a future version, this will no longer exclude empty or all-NA columns when determining the result dtypes. To retain the old behavior, exclude the relevant entries before the concat operation.\n",
      "  player_logs_concat = pd.concat(player_logs, ignore_index=True)\n"
     ]
    },
    {
     "name": "stdout",
     "output_type": "stream",
     "text": [
      "Fetching logs for player Jahlil Okafor (ID: 1626143) for season 2020-21...\n",
      "Fetching logs for player Jahlil Okafor (ID: 1626143) for season 2021-22...\n",
      "Fetching logs for player Jahlil Okafor (ID: 1626143) for season 2022-23...\n",
      "Fetching logs for player Jahlil Okafor (ID: 1626143) for season 2023-24...\n"
     ]
    },
    {
     "name": "stderr",
     "output_type": "stream",
     "text": [
      "C:\\Users\\jwag1\\AppData\\Local\\Temp\\ipykernel_32800\\3592326873.py:51: FutureWarning: The behavior of DataFrame concatenation with empty or all-NA entries is deprecated. In a future version, this will no longer exclude empty or all-NA columns when determining the result dtypes. To retain the old behavior, exclude the relevant entries before the concat operation.\n",
      "  player_logs_concat = pd.concat(player_logs, ignore_index=True)\n"
     ]
    },
    {
     "name": "stdout",
     "output_type": "stream",
     "text": [
      "Fetching logs for player Chuma Okeke (ID: 1629643) for season 2020-21...\n",
      "Fetching logs for player Chuma Okeke (ID: 1629643) for season 2021-22...\n",
      "Fetching logs for player Chuma Okeke (ID: 1629643) for season 2022-23...\n",
      "Fetching logs for player Chuma Okeke (ID: 1629643) for season 2023-24...\n",
      "Fetching logs for player Josh Okogie (ID: 1629006) for season 2020-21...\n",
      "Fetching logs for player Josh Okogie (ID: 1629006) for season 2021-22...\n",
      "Fetching logs for player Josh Okogie (ID: 1629006) for season 2022-23...\n",
      "Fetching logs for player Josh Okogie (ID: 1629006) for season 2023-24...\n",
      "Fetching logs for player Onyeka Okongwu (ID: 1630168) for season 2020-21...\n",
      "Fetching logs for player Onyeka Okongwu (ID: 1630168) for season 2021-22...\n",
      "Fetching logs for player Onyeka Okongwu (ID: 1630168) for season 2022-23...\n",
      "Fetching logs for player Onyeka Okongwu (ID: 1630168) for season 2023-24...\n",
      "Fetching logs for player Isaac Okoro (ID: 1630171) for season 2020-21...\n",
      "Fetching logs for player Isaac Okoro (ID: 1630171) for season 2021-22...\n",
      "Fetching logs for player Isaac Okoro (ID: 1630171) for season 2022-23...\n",
      "Fetching logs for player Isaac Okoro (ID: 1630171) for season 2023-24...\n",
      "Fetching logs for player KZ Okpala (ID: 1629644) for season 2020-21...\n",
      "Fetching logs for player KZ Okpala (ID: 1629644) for season 2021-22...\n",
      "Fetching logs for player KZ Okpala (ID: 1629644) for season 2022-23...\n",
      "Fetching logs for player KZ Okpala (ID: 1629644) for season 2023-24...\n"
     ]
    },
    {
     "name": "stderr",
     "output_type": "stream",
     "text": [
      "C:\\Users\\jwag1\\AppData\\Local\\Temp\\ipykernel_32800\\3592326873.py:51: FutureWarning: The behavior of DataFrame concatenation with empty or all-NA entries is deprecated. In a future version, this will no longer exclude empty or all-NA columns when determining the result dtypes. To retain the old behavior, exclude the relevant entries before the concat operation.\n",
      "  player_logs_concat = pd.concat(player_logs, ignore_index=True)\n"
     ]
    },
    {
     "name": "stdout",
     "output_type": "stream",
     "text": [
      "Fetching logs for player Victor Oladipo (ID: 203506) for season 2020-21...\n",
      "Fetching logs for player Victor Oladipo (ID: 203506) for season 2021-22...\n",
      "Fetching logs for player Victor Oladipo (ID: 203506) for season 2022-23...\n",
      "Fetching logs for player Victor Oladipo (ID: 203506) for season 2023-24...\n"
     ]
    },
    {
     "name": "stderr",
     "output_type": "stream",
     "text": [
      "C:\\Users\\jwag1\\AppData\\Local\\Temp\\ipykernel_32800\\3592326873.py:51: FutureWarning: The behavior of DataFrame concatenation with empty or all-NA entries is deprecated. In a future version, this will no longer exclude empty or all-NA columns when determining the result dtypes. To retain the old behavior, exclude the relevant entries before the concat operation.\n",
      "  player_logs_concat = pd.concat(player_logs, ignore_index=True)\n"
     ]
    },
    {
     "name": "stdout",
     "output_type": "stream",
     "text": [
      "Fetching logs for player Cameron Oliver (ID: 1628419) for season 2020-21...\n",
      "Fetching logs for player Cameron Oliver (ID: 1628419) for season 2021-22...\n",
      "Fetching logs for player Cameron Oliver (ID: 1628419) for season 2022-23...\n",
      "Fetching logs for player Cameron Oliver (ID: 1628419) for season 2023-24...\n"
     ]
    },
    {
     "name": "stderr",
     "output_type": "stream",
     "text": [
      "C:\\Users\\jwag1\\AppData\\Local\\Temp\\ipykernel_32800\\3592326873.py:51: FutureWarning: The behavior of DataFrame concatenation with empty or all-NA entries is deprecated. In a future version, this will no longer exclude empty or all-NA columns when determining the result dtypes. To retain the old behavior, exclude the relevant entries before the concat operation.\n",
      "  player_logs_concat = pd.concat(player_logs, ignore_index=True)\n"
     ]
    },
    {
     "name": "stdout",
     "output_type": "stream",
     "text": [
      "Fetching logs for player Kelly Olynyk (ID: 203482) for season 2020-21...\n",
      "Fetching logs for player Kelly Olynyk (ID: 203482) for season 2021-22...\n",
      "Fetching logs for player Kelly Olynyk (ID: 203482) for season 2022-23...\n",
      "Fetching logs for player Kelly Olynyk (ID: 203482) for season 2023-24...\n",
      "Fetching logs for player Eugene Omoruyi (ID: 1630647) for season 2020-21...\n",
      "Fetching logs for player Eugene Omoruyi (ID: 1630647) for season 2021-22...\n",
      "Fetching logs for player Eugene Omoruyi (ID: 1630647) for season 2022-23...\n",
      "Fetching logs for player Eugene Omoruyi (ID: 1630647) for season 2023-24...\n"
     ]
    },
    {
     "name": "stderr",
     "output_type": "stream",
     "text": [
      "C:\\Users\\jwag1\\AppData\\Local\\Temp\\ipykernel_32800\\3592326873.py:51: FutureWarning: The behavior of DataFrame concatenation with empty or all-NA entries is deprecated. In a future version, this will no longer exclude empty or all-NA columns when determining the result dtypes. To retain the old behavior, exclude the relevant entries before the concat operation.\n",
      "  player_logs_concat = pd.concat(player_logs, ignore_index=True)\n"
     ]
    },
    {
     "name": "stdout",
     "output_type": "stream",
     "text": [
      "Fetching logs for player Miye Oni (ID: 1629671) for season 2020-21...\n",
      "Fetching logs for player Miye Oni (ID: 1629671) for season 2021-22...\n",
      "Fetching logs for player Miye Oni (ID: 1629671) for season 2022-23...\n",
      "Fetching logs for player Miye Oni (ID: 1629671) for season 2023-24...\n"
     ]
    },
    {
     "name": "stderr",
     "output_type": "stream",
     "text": [
      "C:\\Users\\jwag1\\AppData\\Local\\Temp\\ipykernel_32800\\3592326873.py:51: FutureWarning: The behavior of DataFrame concatenation with empty or all-NA entries is deprecated. In a future version, this will no longer exclude empty or all-NA columns when determining the result dtypes. To retain the old behavior, exclude the relevant entries before the concat operation.\n",
      "  player_logs_concat = pd.concat(player_logs, ignore_index=True)\n"
     ]
    },
    {
     "name": "stdout",
     "output_type": "stream",
     "text": [
      "Fetching logs for player Cedi Osman (ID: 1626224) for season 2020-21...\n",
      "Fetching logs for player Cedi Osman (ID: 1626224) for season 2021-22...\n",
      "Fetching logs for player Cedi Osman (ID: 1626224) for season 2022-23...\n",
      "Fetching logs for player Cedi Osman (ID: 1626224) for season 2023-24...\n",
      "Fetching logs for player Daniel Oturu (ID: 1630187) for season 2020-21...\n",
      "Fetching logs for player Daniel Oturu (ID: 1630187) for season 2021-22...\n",
      "Fetching logs for player Daniel Oturu (ID: 1630187) for season 2022-23...\n",
      "Fetching logs for player Daniel Oturu (ID: 1630187) for season 2023-24...\n"
     ]
    },
    {
     "name": "stderr",
     "output_type": "stream",
     "text": [
      "C:\\Users\\jwag1\\AppData\\Local\\Temp\\ipykernel_32800\\3592326873.py:51: FutureWarning: The behavior of DataFrame concatenation with empty or all-NA entries is deprecated. In a future version, this will no longer exclude empty or all-NA columns when determining the result dtypes. To retain the old behavior, exclude the relevant entries before the concat operation.\n",
      "  player_logs_concat = pd.concat(player_logs, ignore_index=True)\n"
     ]
    },
    {
     "name": "stdout",
     "output_type": "stream",
     "text": [
      "Fetching logs for player Kelly Oubre Jr. (ID: 1626162) for season 2020-21...\n",
      "Fetching logs for player Kelly Oubre Jr. (ID: 1626162) for season 2021-22...\n",
      "Fetching logs for player Kelly Oubre Jr. (ID: 1626162) for season 2022-23...\n",
      "Fetching logs for player Kelly Oubre Jr. (ID: 1626162) for season 2023-24...\n",
      "Fetching logs for player Jaysean Paige (ID: 1629873) for season 2020-21...\n",
      "Fetching logs for player Jaysean Paige (ID: 1629873) for season 2021-22...\n",
      "Fetching logs for player Jaysean Paige (ID: 1629873) for season 2022-23...\n",
      "Fetching logs for player Jaysean Paige (ID: 1629873) for season 2023-24...\n"
     ]
    },
    {
     "name": "stderr",
     "output_type": "stream",
     "text": [
      "C:\\Users\\jwag1\\AppData\\Local\\Temp\\ipykernel_32800\\3592326873.py:51: FutureWarning: The behavior of DataFrame concatenation with empty or all-NA entries is deprecated. In a future version, this will no longer exclude empty or all-NA columns when determining the result dtypes. To retain the old behavior, exclude the relevant entries before the concat operation.\n",
      "  player_logs_concat = pd.concat(player_logs, ignore_index=True)\n"
     ]
    },
    {
     "name": "stdout",
     "output_type": "stream",
     "text": [
      "Fetching logs for player Trayvon Palmer (ID: 1629309) for season 2020-21...\n",
      "Fetching logs for player Trayvon Palmer (ID: 1629309) for season 2021-22...\n",
      "Fetching logs for player Trayvon Palmer (ID: 1629309) for season 2022-23...\n",
      "Fetching logs for player Trayvon Palmer (ID: 1629309) for season 2023-24...\n"
     ]
    },
    {
     "name": "stderr",
     "output_type": "stream",
     "text": [
      "C:\\Users\\jwag1\\AppData\\Local\\Temp\\ipykernel_32800\\3592326873.py:51: FutureWarning: The behavior of DataFrame concatenation with empty or all-NA entries is deprecated. In a future version, this will no longer exclude empty or all-NA columns when determining the result dtypes. To retain the old behavior, exclude the relevant entries before the concat operation.\n",
      "  player_logs_concat = pd.concat(player_logs, ignore_index=True)\n"
     ]
    },
    {
     "name": "stdout",
     "output_type": "stream",
     "text": [
      "Fetching logs for player Kevin Pangos (ID: 1630698) for season 2020-21...\n",
      "Fetching logs for player Kevin Pangos (ID: 1630698) for season 2021-22...\n",
      "Fetching logs for player Kevin Pangos (ID: 1630698) for season 2022-23...\n",
      "Fetching logs for player Kevin Pangos (ID: 1630698) for season 2023-24...\n"
     ]
    },
    {
     "name": "stderr",
     "output_type": "stream",
     "text": [
      "C:\\Users\\jwag1\\AppData\\Local\\Temp\\ipykernel_32800\\3592326873.py:51: FutureWarning: The behavior of DataFrame concatenation with empty or all-NA entries is deprecated. In a future version, this will no longer exclude empty or all-NA columns when determining the result dtypes. To retain the old behavior, exclude the relevant entries before the concat operation.\n",
      "  player_logs_concat = pd.concat(player_logs, ignore_index=True)\n"
     ]
    },
    {
     "name": "stdout",
     "output_type": "stream",
     "text": [
      "Fetching logs for player Jabari Parker (ID: 203953) for season 2020-21...\n",
      "Fetching logs for player Jabari Parker (ID: 203953) for season 2021-22...\n",
      "Fetching logs for player Jabari Parker (ID: 203953) for season 2022-23...\n",
      "Fetching logs for player Jabari Parker (ID: 203953) for season 2023-24...\n"
     ]
    },
    {
     "name": "stderr",
     "output_type": "stream",
     "text": [
      "C:\\Users\\jwag1\\AppData\\Local\\Temp\\ipykernel_32800\\3592326873.py:51: FutureWarning: The behavior of DataFrame concatenation with empty or all-NA entries is deprecated. In a future version, this will no longer exclude empty or all-NA columns when determining the result dtypes. To retain the old behavior, exclude the relevant entries before the concat operation.\n",
      "  player_logs_concat = pd.concat(player_logs, ignore_index=True)\n"
     ]
    },
    {
     "name": "stdout",
     "output_type": "stream",
     "text": [
      "Fetching logs for player Eric Paschall (ID: 1629672) for season 2020-21...\n",
      "Fetching logs for player Eric Paschall (ID: 1629672) for season 2021-22...\n",
      "Fetching logs for player Eric Paschall (ID: 1629672) for season 2022-23...\n",
      "Fetching logs for player Eric Paschall (ID: 1629672) for season 2023-24...\n"
     ]
    },
    {
     "name": "stderr",
     "output_type": "stream",
     "text": [
      "C:\\Users\\jwag1\\AppData\\Local\\Temp\\ipykernel_32800\\3592326873.py:51: FutureWarning: The behavior of DataFrame concatenation with empty or all-NA entries is deprecated. In a future version, this will no longer exclude empty or all-NA columns when determining the result dtypes. To retain the old behavior, exclude the relevant entries before the concat operation.\n",
      "  player_logs_concat = pd.concat(player_logs, ignore_index=True)\n"
     ]
    },
    {
     "name": "stdout",
     "output_type": "stream",
     "text": [
      "Fetching logs for player Anzejs Pasecniks (ID: 1628394) for season 2020-21...\n",
      "Fetching logs for player Anzejs Pasecniks (ID: 1628394) for season 2021-22...\n",
      "Fetching logs for player Anzejs Pasecniks (ID: 1628394) for season 2022-23...\n",
      "Fetching logs for player Anzejs Pasecniks (ID: 1628394) for season 2023-24...\n"
     ]
    },
    {
     "name": "stderr",
     "output_type": "stream",
     "text": [
      "C:\\Users\\jwag1\\AppData\\Local\\Temp\\ipykernel_32800\\3592326873.py:51: FutureWarning: The behavior of DataFrame concatenation with empty or all-NA entries is deprecated. In a future version, this will no longer exclude empty or all-NA columns when determining the result dtypes. To retain the old behavior, exclude the relevant entries before the concat operation.\n",
      "  player_logs_concat = pd.concat(player_logs, ignore_index=True)\n"
     ]
    },
    {
     "name": "stdout",
     "output_type": "stream",
     "text": [
      "Fetching logs for player Patrick Patterson (ID: 202335) for season 2020-21...\n",
      "Fetching logs for player Patrick Patterson (ID: 202335) for season 2021-22...\n",
      "Fetching logs for player Patrick Patterson (ID: 202335) for season 2022-23...\n",
      "Fetching logs for player Patrick Patterson (ID: 202335) for season 2023-24...\n"
     ]
    },
    {
     "name": "stderr",
     "output_type": "stream",
     "text": [
      "C:\\Users\\jwag1\\AppData\\Local\\Temp\\ipykernel_32800\\3592326873.py:51: FutureWarning: The behavior of DataFrame concatenation with empty or all-NA entries is deprecated. In a future version, this will no longer exclude empty or all-NA columns when determining the result dtypes. To retain the old behavior, exclude the relevant entries before the concat operation.\n",
      "  player_logs_concat = pd.concat(player_logs, ignore_index=True)\n"
     ]
    },
    {
     "name": "stdout",
     "output_type": "stream",
     "text": [
      "Fetching logs for player Justin Patton (ID: 1628383) for season 2020-21...\n",
      "Fetching logs for player Justin Patton (ID: 1628383) for season 2021-22...\n",
      "Fetching logs for player Justin Patton (ID: 1628383) for season 2022-23...\n",
      "Fetching logs for player Justin Patton (ID: 1628383) for season 2023-24...\n"
     ]
    },
    {
     "name": "stderr",
     "output_type": "stream",
     "text": [
      "C:\\Users\\jwag1\\AppData\\Local\\Temp\\ipykernel_32800\\3592326873.py:51: FutureWarning: The behavior of DataFrame concatenation with empty or all-NA entries is deprecated. In a future version, this will no longer exclude empty or all-NA columns when determining the result dtypes. To retain the old behavior, exclude the relevant entries before the concat operation.\n",
      "  player_logs_concat = pd.concat(player_logs, ignore_index=True)\n"
     ]
    },
    {
     "name": "stdout",
     "output_type": "stream",
     "text": [
      "Fetching logs for player Chris Paul (ID: 101108) for season 2020-21...\n",
      "Fetching logs for player Chris Paul (ID: 101108) for season 2021-22...\n",
      "Fetching logs for player Chris Paul (ID: 101108) for season 2022-23...\n",
      "Fetching logs for player Chris Paul (ID: 101108) for season 2023-24...\n",
      "Fetching logs for player Cameron Payne (ID: 1626166) for season 2020-21...\n",
      "Fetching logs for player Cameron Payne (ID: 1626166) for season 2021-22...\n",
      "Fetching logs for player Cameron Payne (ID: 1626166) for season 2022-23...\n",
      "Fetching logs for player Cameron Payne (ID: 1626166) for season 2023-24...\n",
      "Fetching logs for player Elfrid Payton (ID: 203901) for season 2020-21...\n",
      "Fetching logs for player Elfrid Payton (ID: 203901) for season 2021-22...\n",
      "Fetching logs for player Elfrid Payton (ID: 203901) for season 2022-23...\n",
      "Fetching logs for player Elfrid Payton (ID: 203901) for season 2023-24...\n"
     ]
    },
    {
     "name": "stderr",
     "output_type": "stream",
     "text": [
      "C:\\Users\\jwag1\\AppData\\Local\\Temp\\ipykernel_32800\\3592326873.py:51: FutureWarning: The behavior of DataFrame concatenation with empty or all-NA entries is deprecated. In a future version, this will no longer exclude empty or all-NA columns when determining the result dtypes. To retain the old behavior, exclude the relevant entries before the concat operation.\n",
      "  player_logs_concat = pd.concat(player_logs, ignore_index=True)\n"
     ]
    },
    {
     "name": "stdout",
     "output_type": "stream",
     "text": [
      "Fetching logs for player Gary Payton II (ID: 1627780) for season 2020-21...\n",
      "Fetching logs for player Gary Payton II (ID: 1627780) for season 2021-22...\n",
      "Fetching logs for player Gary Payton II (ID: 1627780) for season 2022-23...\n",
      "Fetching logs for player Gary Payton II (ID: 1627780) for season 2023-24...\n",
      "Fetching logs for player Norvel Pelle (ID: 203658) for season 2020-21...\n",
      "Fetching logs for player Norvel Pelle (ID: 203658) for season 2021-22...\n",
      "Fetching logs for player Norvel Pelle (ID: 203658) for season 2022-23...\n",
      "Fetching logs for player Norvel Pelle (ID: 203658) for season 2023-24...\n"
     ]
    },
    {
     "name": "stderr",
     "output_type": "stream",
     "text": [
      "C:\\Users\\jwag1\\AppData\\Local\\Temp\\ipykernel_32800\\3592326873.py:51: FutureWarning: The behavior of DataFrame concatenation with empty or all-NA entries is deprecated. In a future version, this will no longer exclude empty or all-NA columns when determining the result dtypes. To retain the old behavior, exclude the relevant entries before the concat operation.\n",
      "  player_logs_concat = pd.concat(player_logs, ignore_index=True)\n"
     ]
    },
    {
     "name": "stdout",
     "output_type": "stream",
     "text": [
      "Fetching logs for player Maozinha Pereira (ID: 1641970) for season 2020-21...\n",
      "Fetching logs for player Maozinha Pereira (ID: 1641970) for season 2021-22...\n",
      "Fetching logs for player Maozinha Pereira (ID: 1641970) for season 2022-23...\n",
      "Fetching logs for player Maozinha Pereira (ID: 1641970) for season 2023-24...\n"
     ]
    },
    {
     "name": "stderr",
     "output_type": "stream",
     "text": [
      "C:\\Users\\jwag1\\AppData\\Local\\Temp\\ipykernel_32800\\3592326873.py:51: FutureWarning: The behavior of DataFrame concatenation with empty or all-NA entries is deprecated. In a future version, this will no longer exclude empty or all-NA columns when determining the result dtypes. To retain the old behavior, exclude the relevant entries before the concat operation.\n",
      "  player_logs_concat = pd.concat(player_logs, ignore_index=True)\n"
     ]
    },
    {
     "name": "stdout",
     "output_type": "stream",
     "text": [
      "Fetching logs for player Reggie Perry (ID: 1629617) for season 2020-21...\n",
      "Fetching logs for player Reggie Perry (ID: 1629617) for season 2021-22...\n",
      "Fetching logs for player Reggie Perry (ID: 1629617) for season 2022-23...\n",
      "Fetching logs for player Reggie Perry (ID: 1629617) for season 2023-24...\n"
     ]
    },
    {
     "name": "stderr",
     "output_type": "stream",
     "text": [
      "C:\\Users\\jwag1\\AppData\\Local\\Temp\\ipykernel_32800\\3592326873.py:51: FutureWarning: The behavior of DataFrame concatenation with empty or all-NA entries is deprecated. In a future version, this will no longer exclude empty or all-NA columns when determining the result dtypes. To retain the old behavior, exclude the relevant entries before the concat operation.\n",
      "  player_logs_concat = pd.concat(player_logs, ignore_index=True)\n"
     ]
    },
    {
     "name": "stdout",
     "output_type": "stream",
     "text": [
      "Fetching logs for player Drew Peterson (ID: 1641809) for season 2020-21...\n",
      "Fetching logs for player Drew Peterson (ID: 1641809) for season 2021-22...\n",
      "Fetching logs for player Drew Peterson (ID: 1641809) for season 2022-23...\n",
      "Fetching logs for player Drew Peterson (ID: 1641809) for season 2023-24...\n"
     ]
    },
    {
     "name": "stderr",
     "output_type": "stream",
     "text": [
      "C:\\Users\\jwag1\\AppData\\Local\\Temp\\ipykernel_32800\\3592326873.py:51: FutureWarning: The behavior of DataFrame concatenation with empty or all-NA entries is deprecated. In a future version, this will no longer exclude empty or all-NA columns when determining the result dtypes. To retain the old behavior, exclude the relevant entries before the concat operation.\n",
      "  player_logs_concat = pd.concat(player_logs, ignore_index=True)\n"
     ]
    },
    {
     "name": "stdout",
     "output_type": "stream",
     "text": [
      "Fetching logs for player Filip Petrusev (ID: 1630196) for season 2020-21...\n",
      "Fetching logs for player Filip Petrusev (ID: 1630196) for season 2021-22...\n",
      "Fetching logs for player Filip Petrusev (ID: 1630196) for season 2022-23...\n",
      "Fetching logs for player Filip Petrusev (ID: 1630196) for season 2023-24...\n"
     ]
    },
    {
     "name": "stderr",
     "output_type": "stream",
     "text": [
      "C:\\Users\\jwag1\\AppData\\Local\\Temp\\ipykernel_32800\\3592326873.py:51: FutureWarning: The behavior of DataFrame concatenation with empty or all-NA entries is deprecated. In a future version, this will no longer exclude empty or all-NA columns when determining the result dtypes. To retain the old behavior, exclude the relevant entries before the concat operation.\n",
      "  player_logs_concat = pd.concat(player_logs, ignore_index=True)\n"
     ]
    },
    {
     "name": "stdout",
     "output_type": "stream",
     "text": [
      "Fetching logs for player Julian Phillips (ID: 1641763) for season 2020-21...\n",
      "Fetching logs for player Julian Phillips (ID: 1641763) for season 2021-22...\n",
      "Fetching logs for player Julian Phillips (ID: 1641763) for season 2022-23...\n",
      "Fetching logs for player Julian Phillips (ID: 1641763) for season 2023-24...\n"
     ]
    },
    {
     "name": "stderr",
     "output_type": "stream",
     "text": [
      "C:\\Users\\jwag1\\AppData\\Local\\Temp\\ipykernel_32800\\3592326873.py:51: FutureWarning: The behavior of DataFrame concatenation with empty or all-NA entries is deprecated. In a future version, this will no longer exclude empty or all-NA columns when determining the result dtypes. To retain the old behavior, exclude the relevant entries before the concat operation.\n",
      "  player_logs_concat = pd.concat(player_logs, ignore_index=True)\n"
     ]
    },
    {
     "name": "stdout",
     "output_type": "stream",
     "text": [
      "Fetching logs for player Jalen Pickett (ID: 1629618) for season 2020-21...\n",
      "Fetching logs for player Jalen Pickett (ID: 1629618) for season 2021-22...\n",
      "Fetching logs for player Jalen Pickett (ID: 1629618) for season 2022-23...\n",
      "Fetching logs for player Jalen Pickett (ID: 1629618) for season 2023-24...\n"
     ]
    },
    {
     "name": "stderr",
     "output_type": "stream",
     "text": [
      "C:\\Users\\jwag1\\AppData\\Local\\Temp\\ipykernel_32800\\3592326873.py:51: FutureWarning: The behavior of DataFrame concatenation with empty or all-NA entries is deprecated. In a future version, this will no longer exclude empty or all-NA columns when determining the result dtypes. To retain the old behavior, exclude the relevant entries before the concat operation.\n",
      "  player_logs_concat = pd.concat(player_logs, ignore_index=True)\n"
     ]
    },
    {
     "name": "stdout",
     "output_type": "stream",
     "text": [
      "Fetching logs for player Jamorko Pickett (ID: 1630691) for season 2020-21...\n",
      "Fetching logs for player Jamorko Pickett (ID: 1630691) for season 2021-22...\n",
      "Fetching logs for player Jamorko Pickett (ID: 1630691) for season 2022-23...\n",
      "Fetching logs for player Jamorko Pickett (ID: 1630691) for season 2023-24...\n"
     ]
    },
    {
     "name": "stderr",
     "output_type": "stream",
     "text": [
      "C:\\Users\\jwag1\\AppData\\Local\\Temp\\ipykernel_32800\\3592326873.py:51: FutureWarning: The behavior of DataFrame concatenation with empty or all-NA entries is deprecated. In a future version, this will no longer exclude empty or all-NA columns when determining the result dtypes. To retain the old behavior, exclude the relevant entries before the concat operation.\n",
      "  player_logs_concat = pd.concat(player_logs, ignore_index=True)\n"
     ]
    },
    {
     "name": "stdout",
     "output_type": "stream",
     "text": [
      "Fetching logs for player Theo Pinson (ID: 1629033) for season 2020-21...\n",
      "Fetching logs for player Theo Pinson (ID: 1629033) for season 2021-22...\n",
      "Fetching logs for player Theo Pinson (ID: 1629033) for season 2022-23...\n",
      "Fetching logs for player Theo Pinson (ID: 1629033) for season 2023-24...\n"
     ]
    },
    {
     "name": "stderr",
     "output_type": "stream",
     "text": [
      "C:\\Users\\jwag1\\AppData\\Local\\Temp\\ipykernel_32800\\3592326873.py:51: FutureWarning: The behavior of DataFrame concatenation with empty or all-NA entries is deprecated. In a future version, this will no longer exclude empty or all-NA columns when determining the result dtypes. To retain the old behavior, exclude the relevant entries before the concat operation.\n",
      "  player_logs_concat = pd.concat(player_logs, ignore_index=True)\n"
     ]
    },
    {
     "name": "stdout",
     "output_type": "stream",
     "text": [
      "Fetching logs for player Scotty Pippen Jr. (ID: 1630590) for season 2020-21...\n",
      "Fetching logs for player Scotty Pippen Jr. (ID: 1630590) for season 2021-22...\n",
      "Fetching logs for player Scotty Pippen Jr. (ID: 1630590) for season 2022-23...\n",
      "Fetching logs for player Scotty Pippen Jr. (ID: 1630590) for season 2023-24...\n"
     ]
    },
    {
     "name": "stderr",
     "output_type": "stream",
     "text": [
      "C:\\Users\\jwag1\\AppData\\Local\\Temp\\ipykernel_32800\\3592326873.py:51: FutureWarning: The behavior of DataFrame concatenation with empty or all-NA entries is deprecated. In a future version, this will no longer exclude empty or all-NA columns when determining the result dtypes. To retain the old behavior, exclude the relevant entries before the concat operation.\n",
      "  player_logs_concat = pd.concat(player_logs, ignore_index=True)\n"
     ]
    },
    {
     "name": "stdout",
     "output_type": "stream",
     "text": [
      "Fetching logs for player Mason Plumlee (ID: 203486) for season 2020-21...\n",
      "Fetching logs for player Mason Plumlee (ID: 203486) for season 2021-22...\n",
      "Fetching logs for player Mason Plumlee (ID: 203486) for season 2022-23...\n",
      "Fetching logs for player Mason Plumlee (ID: 203486) for season 2023-24...\n",
      "Fetching logs for player Brandin Podziemski (ID: 1641764) for season 2020-21...\n",
      "Fetching logs for player Brandin Podziemski (ID: 1641764) for season 2021-22...\n",
      "Fetching logs for player Brandin Podziemski (ID: 1641764) for season 2022-23...\n",
      "Fetching logs for player Brandin Podziemski (ID: 1641764) for season 2023-24...\n"
     ]
    },
    {
     "name": "stderr",
     "output_type": "stream",
     "text": [
      "C:\\Users\\jwag1\\AppData\\Local\\Temp\\ipykernel_32800\\3592326873.py:51: FutureWarning: The behavior of DataFrame concatenation with empty or all-NA entries is deprecated. In a future version, this will no longer exclude empty or all-NA columns when determining the result dtypes. To retain the old behavior, exclude the relevant entries before the concat operation.\n",
      "  player_logs_concat = pd.concat(player_logs, ignore_index=True)\n"
     ]
    },
    {
     "name": "stdout",
     "output_type": "stream",
     "text": [
      "Fetching logs for player Jakob Poeltl (ID: 1627751) for season 2020-21...\n",
      "Fetching logs for player Jakob Poeltl (ID: 1627751) for season 2021-22...\n",
      "Fetching logs for player Jakob Poeltl (ID: 1627751) for season 2022-23...\n",
      "Fetching logs for player Jakob Poeltl (ID: 1627751) for season 2023-24...\n",
      "Fetching logs for player Vincent Poirier (ID: 1629738) for season 2020-21...\n",
      "Fetching logs for player Vincent Poirier (ID: 1629738) for season 2021-22...\n",
      "Fetching logs for player Vincent Poirier (ID: 1629738) for season 2022-23...\n",
      "Fetching logs for player Vincent Poirier (ID: 1629738) for season 2023-24...\n"
     ]
    },
    {
     "name": "stderr",
     "output_type": "stream",
     "text": [
      "C:\\Users\\jwag1\\AppData\\Local\\Temp\\ipykernel_32800\\3592326873.py:51: FutureWarning: The behavior of DataFrame concatenation with empty or all-NA entries is deprecated. In a future version, this will no longer exclude empty or all-NA columns when determining the result dtypes. To retain the old behavior, exclude the relevant entries before the concat operation.\n",
      "  player_logs_concat = pd.concat(player_logs, ignore_index=True)\n"
     ]
    },
    {
     "name": "stdout",
     "output_type": "stream",
     "text": [
      "Fetching logs for player Aleksej Pokusevski (ID: 1630197) for season 2020-21...\n",
      "Fetching logs for player Aleksej Pokusevski (ID: 1630197) for season 2021-22...\n",
      "Fetching logs for player Aleksej Pokusevski (ID: 1630197) for season 2022-23...\n",
      "Fetching logs for player Aleksej Pokusevski (ID: 1630197) for season 2023-24...\n",
      "Fetching logs for player Yves Pons (ID: 1630582) for season 2020-21...\n",
      "Fetching logs for player Yves Pons (ID: 1630582) for season 2021-22...\n",
      "Fetching logs for player Yves Pons (ID: 1630582) for season 2022-23...\n",
      "Fetching logs for player Yves Pons (ID: 1630582) for season 2023-24...\n"
     ]
    },
    {
     "name": "stderr",
     "output_type": "stream",
     "text": [
      "C:\\Users\\jwag1\\AppData\\Local\\Temp\\ipykernel_32800\\3592326873.py:51: FutureWarning: The behavior of DataFrame concatenation with empty or all-NA entries is deprecated. In a future version, this will no longer exclude empty or all-NA columns when determining the result dtypes. To retain the old behavior, exclude the relevant entries before the concat operation.\n",
      "  player_logs_concat = pd.concat(player_logs, ignore_index=True)\n"
     ]
    },
    {
     "name": "stdout",
     "output_type": "stream",
     "text": [
      "Fetching logs for player Jordan Poole (ID: 1629673) for season 2020-21...\n",
      "Fetching logs for player Jordan Poole (ID: 1629673) for season 2021-22...\n",
      "Fetching logs for player Jordan Poole (ID: 1629673) for season 2022-23...\n",
      "Fetching logs for player Jordan Poole (ID: 1629673) for season 2023-24...\n",
      "Fetching logs for player Jontay Porter (ID: 1629007) for season 2020-21...\n",
      "Fetching logs for player Jontay Porter (ID: 1629007) for season 2021-22...\n",
      "Fetching logs for player Jontay Porter (ID: 1629007) for season 2022-23...\n",
      "Fetching logs for player Jontay Porter (ID: 1629007) for season 2023-24...\n"
     ]
    },
    {
     "name": "stderr",
     "output_type": "stream",
     "text": [
      "C:\\Users\\jwag1\\AppData\\Local\\Temp\\ipykernel_32800\\3592326873.py:51: FutureWarning: The behavior of DataFrame concatenation with empty or all-NA entries is deprecated. In a future version, this will no longer exclude empty or all-NA columns when determining the result dtypes. To retain the old behavior, exclude the relevant entries before the concat operation.\n",
      "  player_logs_concat = pd.concat(player_logs, ignore_index=True)\n"
     ]
    },
    {
     "name": "stdout",
     "output_type": "stream",
     "text": [
      "Fetching logs for player Craig Porter Jr. (ID: 1641854) for season 2020-21...\n",
      "Fetching logs for player Craig Porter Jr. (ID: 1641854) for season 2021-22...\n",
      "Fetching logs for player Craig Porter Jr. (ID: 1641854) for season 2022-23...\n",
      "Fetching logs for player Craig Porter Jr. (ID: 1641854) for season 2023-24...\n"
     ]
    },
    {
     "name": "stderr",
     "output_type": "stream",
     "text": [
      "C:\\Users\\jwag1\\AppData\\Local\\Temp\\ipykernel_32800\\3592326873.py:51: FutureWarning: The behavior of DataFrame concatenation with empty or all-NA entries is deprecated. In a future version, this will no longer exclude empty or all-NA columns when determining the result dtypes. To retain the old behavior, exclude the relevant entries before the concat operation.\n",
      "  player_logs_concat = pd.concat(player_logs, ignore_index=True)\n"
     ]
    },
    {
     "name": "stdout",
     "output_type": "stream",
     "text": [
      "Fetching logs for player Kevin Porter Jr. (ID: 1629645) for season 2020-21...\n",
      "Fetching logs for player Kevin Porter Jr. (ID: 1629645) for season 2021-22...\n",
      "Fetching logs for player Kevin Porter Jr. (ID: 1629645) for season 2022-23...\n",
      "Fetching logs for player Kevin Porter Jr. (ID: 1629645) for season 2023-24...\n"
     ]
    },
    {
     "name": "stderr",
     "output_type": "stream",
     "text": [
      "C:\\Users\\jwag1\\AppData\\Local\\Temp\\ipykernel_32800\\3592326873.py:51: FutureWarning: The behavior of DataFrame concatenation with empty or all-NA entries is deprecated. In a future version, this will no longer exclude empty or all-NA columns when determining the result dtypes. To retain the old behavior, exclude the relevant entries before the concat operation.\n",
      "  player_logs_concat = pd.concat(player_logs, ignore_index=True)\n",
      "\r",
      " 72%|███████▏  | 13/18 [23:29<09:24, 112.87s/it]"
     ]
    },
    {
     "name": "stdout",
     "output_type": "stream",
     "text": [
      "Processing batch 650 to 700...\n",
      "Fetching logs for player Michael Porter Jr. (ID: 1629008) for season 2020-21...\n",
      "Fetching logs for player Michael Porter Jr. (ID: 1629008) for season 2021-22...\n",
      "Fetching logs for player Michael Porter Jr. (ID: 1629008) for season 2022-23...\n",
      "Fetching logs for player Michael Porter Jr. (ID: 1629008) for season 2023-24...\n",
      "Fetching logs for player Otto Porter Jr. (ID: 203490) for season 2020-21...\n",
      "Fetching logs for player Otto Porter Jr. (ID: 203490) for season 2021-22...\n",
      "Fetching logs for player Otto Porter Jr. (ID: 203490) for season 2022-23...\n",
      "Fetching logs for player Otto Porter Jr. (ID: 203490) for season 2023-24...\n",
      "Fetching logs for player Bobby Portis (ID: 1626171) for season 2020-21...\n",
      "Fetching logs for player Bobby Portis (ID: 1626171) for season 2021-22...\n",
      "Fetching logs for player Bobby Portis (ID: 1626171) for season 2022-23...\n",
      "Fetching logs for player Bobby Portis (ID: 1626171) for season 2023-24...\n",
      "Fetching logs for player Kristaps Porzingis (ID: 204001) for season 2020-21...\n",
      "Fetching logs for player Kristaps Porzingis (ID: 204001) for season 2021-22...\n",
      "Fetching logs for player Kristaps Porzingis (ID: 204001) for season 2022-23...\n",
      "Fetching logs for player Kristaps Porzingis (ID: 204001) for season 2023-24...\n",
      "Fetching logs for player Micah Potter (ID: 1630695) for season 2020-21...\n",
      "Fetching logs for player Micah Potter (ID: 1630695) for season 2021-22...\n",
      "Fetching logs for player Micah Potter (ID: 1630695) for season 2022-23...\n",
      "Fetching logs for player Micah Potter (ID: 1630695) for season 2023-24...\n"
     ]
    },
    {
     "name": "stderr",
     "output_type": "stream",
     "text": [
      "C:\\Users\\jwag1\\AppData\\Local\\Temp\\ipykernel_32800\\3592326873.py:51: FutureWarning: The behavior of DataFrame concatenation with empty or all-NA entries is deprecated. In a future version, this will no longer exclude empty or all-NA columns when determining the result dtypes. To retain the old behavior, exclude the relevant entries before the concat operation.\n",
      "  player_logs_concat = pd.concat(player_logs, ignore_index=True)\n"
     ]
    },
    {
     "name": "stdout",
     "output_type": "stream",
     "text": [
      "Fetching logs for player Dwight Powell (ID: 203939) for season 2020-21...\n",
      "Fetching logs for player Dwight Powell (ID: 203939) for season 2021-22...\n",
      "Fetching logs for player Dwight Powell (ID: 203939) for season 2022-23...\n",
      "Fetching logs for player Dwight Powell (ID: 203939) for season 2023-24...\n",
      "Fetching logs for player Myles Powell (ID: 1629619) for season 2020-21...\n",
      "Fetching logs for player Myles Powell (ID: 1629619) for season 2021-22...\n",
      "Fetching logs for player Myles Powell (ID: 1629619) for season 2022-23...\n",
      "Fetching logs for player Myles Powell (ID: 1629619) for season 2023-24...\n"
     ]
    },
    {
     "name": "stderr",
     "output_type": "stream",
     "text": [
      "C:\\Users\\jwag1\\AppData\\Local\\Temp\\ipykernel_32800\\3592326873.py:51: FutureWarning: The behavior of DataFrame concatenation with empty or all-NA entries is deprecated. In a future version, this will no longer exclude empty or all-NA columns when determining the result dtypes. To retain the old behavior, exclude the relevant entries before the concat operation.\n",
      "  player_logs_concat = pd.concat(player_logs, ignore_index=True)\n"
     ]
    },
    {
     "name": "stdout",
     "output_type": "stream",
     "text": [
      "Fetching logs for player Norman Powell (ID: 1626181) for season 2020-21...\n",
      "Fetching logs for player Norman Powell (ID: 1626181) for season 2021-22...\n",
      "Fetching logs for player Norman Powell (ID: 1626181) for season 2022-23...\n",
      "Fetching logs for player Norman Powell (ID: 1626181) for season 2023-24...\n",
      "Fetching logs for player Jason Preston (ID: 1630554) for season 2020-21...\n",
      "Fetching logs for player Jason Preston (ID: 1630554) for season 2021-22...\n",
      "Fetching logs for player Jason Preston (ID: 1630554) for season 2022-23...\n",
      "Fetching logs for player Jason Preston (ID: 1630554) for season 2023-24...\n"
     ]
    },
    {
     "name": "stderr",
     "output_type": "stream",
     "text": [
      "C:\\Users\\jwag1\\AppData\\Local\\Temp\\ipykernel_32800\\3592326873.py:51: FutureWarning: The behavior of DataFrame concatenation with empty or all-NA entries is deprecated. In a future version, this will no longer exclude empty or all-NA columns when determining the result dtypes. To retain the old behavior, exclude the relevant entries before the concat operation.\n",
      "  player_logs_concat = pd.concat(player_logs, ignore_index=True)\n"
     ]
    },
    {
     "name": "stdout",
     "output_type": "stream",
     "text": [
      "Fetching logs for player Joshua Primo (ID: 1630563) for season 2020-21...\n",
      "Fetching logs for player Joshua Primo (ID: 1630563) for season 2021-22...\n",
      "Fetching logs for player Joshua Primo (ID: 1630563) for season 2022-23...\n",
      "Fetching logs for player Joshua Primo (ID: 1630563) for season 2023-24...\n"
     ]
    },
    {
     "name": "stderr",
     "output_type": "stream",
     "text": [
      "C:\\Users\\jwag1\\AppData\\Local\\Temp\\ipykernel_32800\\3592326873.py:51: FutureWarning: The behavior of DataFrame concatenation with empty or all-NA entries is deprecated. In a future version, this will no longer exclude empty or all-NA columns when determining the result dtypes. To retain the old behavior, exclude the relevant entries before the concat operation.\n",
      "  player_logs_concat = pd.concat(player_logs, ignore_index=True)\n"
     ]
    },
    {
     "name": "stdout",
     "output_type": "stream",
     "text": [
      "Fetching logs for player Taurean Prince (ID: 1627752) for season 2020-21...\n",
      "Fetching logs for player Taurean Prince (ID: 1627752) for season 2021-22...\n",
      "Fetching logs for player Taurean Prince (ID: 1627752) for season 2022-23...\n",
      "Fetching logs for player Taurean Prince (ID: 1627752) for season 2023-24...\n",
      "Fetching logs for player Payton Pritchard (ID: 1630202) for season 2020-21...\n",
      "Fetching logs for player Payton Pritchard (ID: 1630202) for season 2021-22...\n",
      "Fetching logs for player Payton Pritchard (ID: 1630202) for season 2022-23...\n",
      "Fetching logs for player Payton Pritchard (ID: 1630202) for season 2023-24...\n",
      "Fetching logs for player Olivier-Maxence Prosper (ID: 1641765) for season 2020-21...\n",
      "Fetching logs for player Olivier-Maxence Prosper (ID: 1641765) for season 2021-22...\n",
      "Fetching logs for player Olivier-Maxence Prosper (ID: 1641765) for season 2022-23...\n",
      "Fetching logs for player Olivier-Maxence Prosper (ID: 1641765) for season 2023-24...\n"
     ]
    },
    {
     "name": "stderr",
     "output_type": "stream",
     "text": [
      "C:\\Users\\jwag1\\AppData\\Local\\Temp\\ipykernel_32800\\3592326873.py:51: FutureWarning: The behavior of DataFrame concatenation with empty or all-NA entries is deprecated. In a future version, this will no longer exclude empty or all-NA columns when determining the result dtypes. To retain the old behavior, exclude the relevant entries before the concat operation.\n",
      "  player_logs_concat = pd.concat(player_logs, ignore_index=True)\n"
     ]
    },
    {
     "name": "stdout",
     "output_type": "stream",
     "text": [
      "Fetching logs for player Trevelin Queen (ID: 1630243) for season 2020-21...\n",
      "Fetching logs for player Trevelin Queen (ID: 1630243) for season 2021-22...\n",
      "Fetching logs for player Trevelin Queen (ID: 1630243) for season 2022-23...\n",
      "Fetching logs for player Trevelin Queen (ID: 1630243) for season 2023-24...\n"
     ]
    },
    {
     "name": "stderr",
     "output_type": "stream",
     "text": [
      "C:\\Users\\jwag1\\AppData\\Local\\Temp\\ipykernel_32800\\3592326873.py:51: FutureWarning: The behavior of DataFrame concatenation with empty or all-NA entries is deprecated. In a future version, this will no longer exclude empty or all-NA columns when determining the result dtypes. To retain the old behavior, exclude the relevant entries before the concat operation.\n",
      "  player_logs_concat = pd.concat(player_logs, ignore_index=True)\n"
     ]
    },
    {
     "name": "stdout",
     "output_type": "stream",
     "text": [
      "Fetching logs for player Neemias Queta (ID: 1629674) for season 2020-21...\n",
      "Fetching logs for player Neemias Queta (ID: 1629674) for season 2021-22...\n",
      "Fetching logs for player Neemias Queta (ID: 1629674) for season 2022-23...\n",
      "Fetching logs for player Neemias Queta (ID: 1629674) for season 2023-24...\n"
     ]
    },
    {
     "name": "stderr",
     "output_type": "stream",
     "text": [
      "C:\\Users\\jwag1\\AppData\\Local\\Temp\\ipykernel_32800\\3592326873.py:51: FutureWarning: The behavior of DataFrame concatenation with empty or all-NA entries is deprecated. In a future version, this will no longer exclude empty or all-NA columns when determining the result dtypes. To retain the old behavior, exclude the relevant entries before the concat operation.\n",
      "  player_logs_concat = pd.concat(player_logs, ignore_index=True)\n"
     ]
    },
    {
     "name": "stdout",
     "output_type": "stream",
     "text": [
      "Fetching logs for player Immanuel Quickley (ID: 1630193) for season 2020-21...\n",
      "Fetching logs for player Immanuel Quickley (ID: 1630193) for season 2021-22...\n",
      "Fetching logs for player Immanuel Quickley (ID: 1630193) for season 2022-23...\n",
      "Fetching logs for player Immanuel Quickley (ID: 1630193) for season 2023-24...\n",
      "Fetching logs for player Lester Quinones (ID: 1631311) for season 2020-21...\n",
      "Fetching logs for player Lester Quinones (ID: 1631311) for season 2021-22...\n",
      "Fetching logs for player Lester Quinones (ID: 1631311) for season 2022-23...\n",
      "Fetching logs for player Lester Quinones (ID: 1631311) for season 2023-24...\n"
     ]
    },
    {
     "name": "stderr",
     "output_type": "stream",
     "text": [
      "C:\\Users\\jwag1\\AppData\\Local\\Temp\\ipykernel_32800\\3592326873.py:51: FutureWarning: The behavior of DataFrame concatenation with empty or all-NA entries is deprecated. In a future version, this will no longer exclude empty or all-NA columns when determining the result dtypes. To retain the old behavior, exclude the relevant entries before the concat operation.\n",
      "  player_logs_concat = pd.concat(player_logs, ignore_index=True)\n"
     ]
    },
    {
     "name": "stdout",
     "output_type": "stream",
     "text": [
      "Fetching logs for player Jahmi'us Ramsey (ID: 1630186) for season 2020-21...\n",
      "Fetching logs for player Jahmi'us Ramsey (ID: 1630186) for season 2021-22...\n",
      "Fetching logs for player Jahmi'us Ramsey (ID: 1630186) for season 2022-23...\n",
      "Fetching logs for player Jahmi'us Ramsey (ID: 1630186) for season 2023-24...\n"
     ]
    },
    {
     "name": "stderr",
     "output_type": "stream",
     "text": [
      "C:\\Users\\jwag1\\AppData\\Local\\Temp\\ipykernel_32800\\3592326873.py:51: FutureWarning: The behavior of DataFrame concatenation with empty or all-NA entries is deprecated. In a future version, this will no longer exclude empty or all-NA columns when determining the result dtypes. To retain the old behavior, exclude the relevant entries before the concat operation.\n",
      "  player_logs_concat = pd.concat(player_logs, ignore_index=True)\n"
     ]
    },
    {
     "name": "stdout",
     "output_type": "stream",
     "text": [
      "Fetching logs for player Chasson Randle (ID: 1626184) for season 2020-21...\n",
      "Fetching logs for player Chasson Randle (ID: 1626184) for season 2021-22...\n",
      "Fetching logs for player Chasson Randle (ID: 1626184) for season 2022-23...\n",
      "Fetching logs for player Chasson Randle (ID: 1626184) for season 2023-24...\n"
     ]
    },
    {
     "name": "stderr",
     "output_type": "stream",
     "text": [
      "C:\\Users\\jwag1\\AppData\\Local\\Temp\\ipykernel_32800\\3592326873.py:51: FutureWarning: The behavior of DataFrame concatenation with empty or all-NA entries is deprecated. In a future version, this will no longer exclude empty or all-NA columns when determining the result dtypes. To retain the old behavior, exclude the relevant entries before the concat operation.\n",
      "  player_logs_concat = pd.concat(player_logs, ignore_index=True)\n"
     ]
    },
    {
     "name": "stdout",
     "output_type": "stream",
     "text": [
      "Fetching logs for player Julius Randle (ID: 203944) for season 2020-21...\n",
      "Fetching logs for player Julius Randle (ID: 203944) for season 2021-22...\n",
      "Fetching logs for player Julius Randle (ID: 203944) for season 2022-23...\n",
      "Fetching logs for player Julius Randle (ID: 203944) for season 2023-24...\n",
      "Fetching logs for player Duop Reath (ID: 1641871) for season 2020-21...\n",
      "Fetching logs for player Duop Reath (ID: 1641871) for season 2021-22...\n",
      "Fetching logs for player Duop Reath (ID: 1641871) for season 2022-23...\n",
      "Fetching logs for player Duop Reath (ID: 1641871) for season 2023-24...\n"
     ]
    },
    {
     "name": "stderr",
     "output_type": "stream",
     "text": [
      "C:\\Users\\jwag1\\AppData\\Local\\Temp\\ipykernel_32800\\3592326873.py:51: FutureWarning: The behavior of DataFrame concatenation with empty or all-NA entries is deprecated. In a future version, this will no longer exclude empty or all-NA columns when determining the result dtypes. To retain the old behavior, exclude the relevant entries before the concat operation.\n",
      "  player_logs_concat = pd.concat(player_logs, ignore_index=True)\n"
     ]
    },
    {
     "name": "stdout",
     "output_type": "stream",
     "text": [
      "Fetching logs for player Austin Reaves (ID: 1630559) for season 2020-21...\n",
      "Fetching logs for player Austin Reaves (ID: 1630559) for season 2021-22...\n",
      "Fetching logs for player Austin Reaves (ID: 1630559) for season 2022-23...\n",
      "Fetching logs for player Austin Reaves (ID: 1630559) for season 2023-24...\n"
     ]
    },
    {
     "name": "stderr",
     "output_type": "stream",
     "text": [
      "C:\\Users\\jwag1\\AppData\\Local\\Temp\\ipykernel_32800\\3592326873.py:51: FutureWarning: The behavior of DataFrame concatenation with empty or all-NA entries is deprecated. In a future version, this will no longer exclude empty or all-NA columns when determining the result dtypes. To retain the old behavior, exclude the relevant entries before the concat operation.\n",
      "  player_logs_concat = pd.concat(player_logs, ignore_index=True)\n"
     ]
    },
    {
     "name": "stdout",
     "output_type": "stream",
     "text": [
      "Fetching logs for player Cam Reddish (ID: 1629629) for season 2020-21...\n",
      "Fetching logs for player Cam Reddish (ID: 1629629) for season 2021-22...\n",
      "Fetching logs for player Cam Reddish (ID: 1629629) for season 2022-23...\n",
      "Fetching logs for player Cam Reddish (ID: 1629629) for season 2023-24...\n",
      "Fetching logs for player JJ Redick (ID: 200755) for season 2020-21...\n",
      "Fetching logs for player JJ Redick (ID: 200755) for season 2021-22...\n",
      "Fetching logs for player JJ Redick (ID: 200755) for season 2022-23...\n",
      "Fetching logs for player JJ Redick (ID: 200755) for season 2023-24...\n"
     ]
    },
    {
     "name": "stderr",
     "output_type": "stream",
     "text": [
      "C:\\Users\\jwag1\\AppData\\Local\\Temp\\ipykernel_32800\\3592326873.py:51: FutureWarning: The behavior of DataFrame concatenation with empty or all-NA entries is deprecated. In a future version, this will no longer exclude empty or all-NA columns when determining the result dtypes. To retain the old behavior, exclude the relevant entries before the concat operation.\n",
      "  player_logs_concat = pd.concat(player_logs, ignore_index=True)\n"
     ]
    },
    {
     "name": "stdout",
     "output_type": "stream",
     "text": [
      "Fetching logs for player Davon Reed (ID: 1628432) for season 2020-21...\n",
      "Fetching logs for player Davon Reed (ID: 1628432) for season 2021-22...\n",
      "Fetching logs for player Davon Reed (ID: 1628432) for season 2022-23...\n",
      "Fetching logs for player Davon Reed (ID: 1628432) for season 2023-24...\n"
     ]
    },
    {
     "name": "stderr",
     "output_type": "stream",
     "text": [
      "C:\\Users\\jwag1\\AppData\\Local\\Temp\\ipykernel_32800\\3592326873.py:51: FutureWarning: The behavior of DataFrame concatenation with empty or all-NA entries is deprecated. In a future version, this will no longer exclude empty or all-NA columns when determining the result dtypes. To retain the old behavior, exclude the relevant entries before the concat operation.\n",
      "  player_logs_concat = pd.concat(player_logs, ignore_index=True)\n"
     ]
    },
    {
     "name": "stdout",
     "output_type": "stream",
     "text": [
      "Fetching logs for player Paul Reed (ID: 1630194) for season 2020-21...\n",
      "Fetching logs for player Paul Reed (ID: 1630194) for season 2021-22...\n",
      "Fetching logs for player Paul Reed (ID: 1630194) for season 2022-23...\n",
      "Fetching logs for player Paul Reed (ID: 1630194) for season 2023-24...\n",
      "Fetching logs for player Naz Reid (ID: 1629675) for season 2020-21...\n",
      "Fetching logs for player Naz Reid (ID: 1629675) for season 2021-22...\n",
      "Fetching logs for player Naz Reid (ID: 1629675) for season 2022-23...\n",
      "Fetching logs for player Naz Reid (ID: 1629675) for season 2023-24...\n",
      "Fetching logs for player Cam Reynolds (ID: 1629244) for season 2020-21...\n",
      "Fetching logs for player Cam Reynolds (ID: 1629244) for season 2021-22...\n",
      "Fetching logs for player Cam Reynolds (ID: 1629244) for season 2022-23...\n",
      "Fetching logs for player Cam Reynolds (ID: 1629244) for season 2023-24...\n"
     ]
    },
    {
     "name": "stderr",
     "output_type": "stream",
     "text": [
      "C:\\Users\\jwag1\\AppData\\Local\\Temp\\ipykernel_32800\\3592326873.py:51: FutureWarning: The behavior of DataFrame concatenation with empty or all-NA entries is deprecated. In a future version, this will no longer exclude empty or all-NA columns when determining the result dtypes. To retain the old behavior, exclude the relevant entries before the concat operation.\n",
      "  player_logs_concat = pd.concat(player_logs, ignore_index=True)\n"
     ]
    },
    {
     "name": "stdout",
     "output_type": "stream",
     "text": [
      "Fetching logs for player Jared Rhoden (ID: 1631197) for season 2020-21...\n",
      "Fetching logs for player Jared Rhoden (ID: 1631197) for season 2021-22...\n",
      "Fetching logs for player Jared Rhoden (ID: 1631197) for season 2022-23...\n",
      "Fetching logs for player Jared Rhoden (ID: 1631197) for season 2023-24...\n"
     ]
    },
    {
     "name": "stderr",
     "output_type": "stream",
     "text": [
      "C:\\Users\\jwag1\\AppData\\Local\\Temp\\ipykernel_32800\\3592326873.py:51: FutureWarning: The behavior of DataFrame concatenation with empty or all-NA entries is deprecated. In a future version, this will no longer exclude empty or all-NA columns when determining the result dtypes. To retain the old behavior, exclude the relevant entries before the concat operation.\n",
      "  player_logs_concat = pd.concat(player_logs, ignore_index=True)\n"
     ]
    },
    {
     "name": "stdout",
     "output_type": "stream",
     "text": [
      "Fetching logs for player Nick Richards (ID: 1630208) for season 2020-21...\n",
      "Fetching logs for player Nick Richards (ID: 1630208) for season 2021-22...\n",
      "Fetching logs for player Nick Richards (ID: 1630208) for season 2022-23...\n",
      "Fetching logs for player Nick Richards (ID: 1630208) for season 2023-24...\n",
      "Fetching logs for player Josh Richardson (ID: 1626196) for season 2020-21...\n",
      "Fetching logs for player Josh Richardson (ID: 1626196) for season 2021-22...\n",
      "Fetching logs for player Josh Richardson (ID: 1626196) for season 2022-23...\n",
      "Fetching logs for player Josh Richardson (ID: 1626196) for season 2023-24...\n",
      "Fetching logs for player Grant Riller (ID: 1630203) for season 2020-21...\n",
      "Fetching logs for player Grant Riller (ID: 1630203) for season 2021-22...\n",
      "Fetching logs for player Grant Riller (ID: 1630203) for season 2022-23...\n",
      "Fetching logs for player Grant Riller (ID: 1630203) for season 2023-24...\n"
     ]
    },
    {
     "name": "stderr",
     "output_type": "stream",
     "text": [
      "C:\\Users\\jwag1\\AppData\\Local\\Temp\\ipykernel_32800\\3592326873.py:51: FutureWarning: The behavior of DataFrame concatenation with empty or all-NA entries is deprecated. In a future version, this will no longer exclude empty or all-NA columns when determining the result dtypes. To retain the old behavior, exclude the relevant entries before the concat operation.\n",
      "  player_logs_concat = pd.concat(player_logs, ignore_index=True)\n"
     ]
    },
    {
     "name": "stdout",
     "output_type": "stream",
     "text": [
      "Fetching logs for player Austin Rivers (ID: 203085) for season 2020-21...\n",
      "Fetching logs for player Austin Rivers (ID: 203085) for season 2021-22...\n",
      "Fetching logs for player Austin Rivers (ID: 203085) for season 2022-23...\n",
      "Fetching logs for player Austin Rivers (ID: 203085) for season 2023-24...\n"
     ]
    },
    {
     "name": "stderr",
     "output_type": "stream",
     "text": [
      "C:\\Users\\jwag1\\AppData\\Local\\Temp\\ipykernel_32800\\3592326873.py:51: FutureWarning: The behavior of DataFrame concatenation with empty or all-NA entries is deprecated. In a future version, this will no longer exclude empty or all-NA columns when determining the result dtypes. To retain the old behavior, exclude the relevant entries before the concat operation.\n",
      "  player_logs_concat = pd.concat(player_logs, ignore_index=True)\n"
     ]
    },
    {
     "name": "stdout",
     "output_type": "stream",
     "text": [
      "Fetching logs for player Andre Roberson (ID: 203460) for season 2020-21...\n",
      "Fetching logs for player Andre Roberson (ID: 203460) for season 2021-22...\n",
      "Fetching logs for player Andre Roberson (ID: 203460) for season 2022-23...\n",
      "Fetching logs for player Andre Roberson (ID: 203460) for season 2023-24...\n"
     ]
    },
    {
     "name": "stderr",
     "output_type": "stream",
     "text": [
      "C:\\Users\\jwag1\\AppData\\Local\\Temp\\ipykernel_32800\\3592326873.py:51: FutureWarning: The behavior of DataFrame concatenation with empty or all-NA entries is deprecated. In a future version, this will no longer exclude empty or all-NA columns when determining the result dtypes. To retain the old behavior, exclude the relevant entries before the concat operation.\n",
      "  player_logs_concat = pd.concat(player_logs, ignore_index=True)\n"
     ]
    },
    {
     "name": "stdout",
     "output_type": "stream",
     "text": [
      "Fetching logs for player Duncan Robinson (ID: 1629130) for season 2020-21...\n",
      "Fetching logs for player Duncan Robinson (ID: 1629130) for season 2021-22...\n",
      "Fetching logs for player Duncan Robinson (ID: 1629130) for season 2022-23...\n",
      "Fetching logs for player Duncan Robinson (ID: 1629130) for season 2023-24...\n",
      "Fetching logs for player Jerome Robinson (ID: 1629010) for season 2020-21...\n",
      "Fetching logs for player Jerome Robinson (ID: 1629010) for season 2021-22...\n",
      "Fetching logs for player Jerome Robinson (ID: 1629010) for season 2022-23...\n",
      "Fetching logs for player Jerome Robinson (ID: 1629010) for season 2023-24...\n"
     ]
    },
    {
     "name": "stderr",
     "output_type": "stream",
     "text": [
      "C:\\Users\\jwag1\\AppData\\Local\\Temp\\ipykernel_32800\\3592326873.py:51: FutureWarning: The behavior of DataFrame concatenation with empty or all-NA entries is deprecated. In a future version, this will no longer exclude empty or all-NA columns when determining the result dtypes. To retain the old behavior, exclude the relevant entries before the concat operation.\n",
      "  player_logs_concat = pd.concat(player_logs, ignore_index=True)\n"
     ]
    },
    {
     "name": "stdout",
     "output_type": "stream",
     "text": [
      "Fetching logs for player Justin Robinson (ID: 1629620) for season 2020-21...\n",
      "Fetching logs for player Justin Robinson (ID: 1629620) for season 2021-22...\n",
      "Fetching logs for player Justin Robinson (ID: 1629620) for season 2022-23...\n",
      "Fetching logs for player Justin Robinson (ID: 1629620) for season 2023-24...\n"
     ]
    },
    {
     "name": "stderr",
     "output_type": "stream",
     "text": [
      "C:\\Users\\jwag1\\AppData\\Local\\Temp\\ipykernel_32800\\3592326873.py:51: FutureWarning: The behavior of DataFrame concatenation with empty or all-NA entries is deprecated. In a future version, this will no longer exclude empty or all-NA columns when determining the result dtypes. To retain the old behavior, exclude the relevant entries before the concat operation.\n",
      "  player_logs_concat = pd.concat(player_logs, ignore_index=True)\n"
     ]
    },
    {
     "name": "stdout",
     "output_type": "stream",
     "text": [
      "Fetching logs for player Mitchell Robinson (ID: 1629011) for season 2020-21...\n",
      "Fetching logs for player Mitchell Robinson (ID: 1629011) for season 2021-22...\n",
      "Fetching logs for player Mitchell Robinson (ID: 1629011) for season 2022-23...\n",
      "Fetching logs for player Mitchell Robinson (ID: 1629011) for season 2023-24...\n",
      "Fetching logs for player Orlando Robinson (ID: 1631115) for season 2020-21...\n",
      "Fetching logs for player Orlando Robinson (ID: 1631115) for season 2021-22...\n",
      "Fetching logs for player Orlando Robinson (ID: 1631115) for season 2022-23...\n",
      "Fetching logs for player Orlando Robinson (ID: 1631115) for season 2023-24...\n"
     ]
    },
    {
     "name": "stderr",
     "output_type": "stream",
     "text": [
      "C:\\Users\\jwag1\\AppData\\Local\\Temp\\ipykernel_32800\\3592326873.py:51: FutureWarning: The behavior of DataFrame concatenation with empty or all-NA entries is deprecated. In a future version, this will no longer exclude empty or all-NA columns when determining the result dtypes. To retain the old behavior, exclude the relevant entries before the concat operation.\n",
      "  player_logs_concat = pd.concat(player_logs, ignore_index=True)\n"
     ]
    },
    {
     "name": "stdout",
     "output_type": "stream",
     "text": [
      "Fetching logs for player Glenn Robinson III (ID: 203922) for season 2020-21...\n",
      "Fetching logs for player Glenn Robinson III (ID: 203922) for season 2021-22...\n",
      "Fetching logs for player Glenn Robinson III (ID: 203922) for season 2022-23...\n",
      "Fetching logs for player Glenn Robinson III (ID: 203922) for season 2023-24...\n"
     ]
    },
    {
     "name": "stderr",
     "output_type": "stream",
     "text": [
      "C:\\Users\\jwag1\\AppData\\Local\\Temp\\ipykernel_32800\\3592326873.py:51: FutureWarning: The behavior of DataFrame concatenation with empty or all-NA entries is deprecated. In a future version, this will no longer exclude empty or all-NA columns when determining the result dtypes. To retain the old behavior, exclude the relevant entries before the concat operation.\n",
      "  player_logs_concat = pd.concat(player_logs, ignore_index=True)\n"
     ]
    },
    {
     "name": "stdout",
     "output_type": "stream",
     "text": [
      "Fetching logs for player Jeremiah Robinson-Earl (ID: 1630526) for season 2020-21...\n",
      "Fetching logs for player Jeremiah Robinson-Earl (ID: 1630526) for season 2021-22...\n",
      "Fetching logs for player Jeremiah Robinson-Earl (ID: 1630526) for season 2022-23...\n",
      "Fetching logs for player Jeremiah Robinson-Earl (ID: 1630526) for season 2023-24...\n"
     ]
    },
    {
     "name": "stderr",
     "output_type": "stream",
     "text": [
      "C:\\Users\\jwag1\\AppData\\Local\\Temp\\ipykernel_32800\\3592326873.py:51: FutureWarning: The behavior of DataFrame concatenation with empty or all-NA entries is deprecated. In a future version, this will no longer exclude empty or all-NA columns when determining the result dtypes. To retain the old behavior, exclude the relevant entries before the concat operation.\n",
      "  player_logs_concat = pd.concat(player_logs, ignore_index=True)\n"
     ]
    },
    {
     "name": "stdout",
     "output_type": "stream",
     "text": [
      "Fetching logs for player Isaiah Roby (ID: 1629676) for season 2020-21...\n",
      "Fetching logs for player Isaiah Roby (ID: 1629676) for season 2021-22...\n",
      "Fetching logs for player Isaiah Roby (ID: 1629676) for season 2022-23...\n",
      "Fetching logs for player Isaiah Roby (ID: 1629676) for season 2023-24...\n"
     ]
    },
    {
     "name": "stderr",
     "output_type": "stream",
     "text": [
      "C:\\Users\\jwag1\\AppData\\Local\\Temp\\ipykernel_32800\\3592326873.py:51: FutureWarning: The behavior of DataFrame concatenation with empty or all-NA entries is deprecated. In a future version, this will no longer exclude empty or all-NA columns when determining the result dtypes. To retain the old behavior, exclude the relevant entries before the concat operation.\n",
      "  player_logs_concat = pd.concat(player_logs, ignore_index=True)\n"
     ]
    },
    {
     "name": "stdout",
     "output_type": "stream",
     "text": [
      "Fetching logs for player David Roddy (ID: 1631223) for season 2020-21...\n",
      "Fetching logs for player David Roddy (ID: 1631223) for season 2021-22...\n",
      "Fetching logs for player David Roddy (ID: 1631223) for season 2022-23...\n",
      "Fetching logs for player David Roddy (ID: 1631223) for season 2023-24...\n"
     ]
    },
    {
     "name": "stderr",
     "output_type": "stream",
     "text": [
      "C:\\Users\\jwag1\\AppData\\Local\\Temp\\ipykernel_32800\\3592326873.py:51: FutureWarning: The behavior of DataFrame concatenation with empty or all-NA entries is deprecated. In a future version, this will no longer exclude empty or all-NA columns when determining the result dtypes. To retain the old behavior, exclude the relevant entries before the concat operation.\n",
      "  player_logs_concat = pd.concat(player_logs, ignore_index=True)\n"
     ]
    },
    {
     "name": "stdout",
     "output_type": "stream",
     "text": [
      "Fetching logs for player Ryan Rollins (ID: 1631157) for season 2020-21...\n",
      "Fetching logs for player Ryan Rollins (ID: 1631157) for season 2021-22...\n",
      "Fetching logs for player Ryan Rollins (ID: 1631157) for season 2022-23...\n",
      "Fetching logs for player Ryan Rollins (ID: 1631157) for season 2023-24...\n"
     ]
    },
    {
     "name": "stderr",
     "output_type": "stream",
     "text": [
      "C:\\Users\\jwag1\\AppData\\Local\\Temp\\ipykernel_32800\\3592326873.py:51: FutureWarning: The behavior of DataFrame concatenation with empty or all-NA entries is deprecated. In a future version, this will no longer exclude empty or all-NA columns when determining the result dtypes. To retain the old behavior, exclude the relevant entries before the concat operation.\n",
      "  player_logs_concat = pd.concat(player_logs, ignore_index=True)\n"
     ]
    },
    {
     "name": "stdout",
     "output_type": "stream",
     "text": [
      "Fetching logs for player Rajon Rondo (ID: 200765) for season 2020-21...\n",
      "Fetching logs for player Rajon Rondo (ID: 200765) for season 2021-22...\n",
      "Fetching logs for player Rajon Rondo (ID: 200765) for season 2022-23...\n",
      "Fetching logs for player Rajon Rondo (ID: 200765) for season 2023-24...\n"
     ]
    },
    {
     "name": "stderr",
     "output_type": "stream",
     "text": [
      "C:\\Users\\jwag1\\AppData\\Local\\Temp\\ipykernel_32800\\3592326873.py:51: FutureWarning: The behavior of DataFrame concatenation with empty or all-NA entries is deprecated. In a future version, this will no longer exclude empty or all-NA columns when determining the result dtypes. To retain the old behavior, exclude the relevant entries before the concat operation.\n",
      "  player_logs_concat = pd.concat(player_logs, ignore_index=True)\n"
     ]
    },
    {
     "name": "stdout",
     "output_type": "stream",
     "text": [
      "Fetching logs for player Derrick Rose (ID: 201565) for season 2020-21...\n",
      "Fetching logs for player Derrick Rose (ID: 201565) for season 2021-22...\n",
      "Fetching logs for player Derrick Rose (ID: 201565) for season 2022-23...\n",
      "Fetching logs for player Derrick Rose (ID: 201565) for season 2023-24...\n",
      "Fetching logs for player Terrence Ross (ID: 203082) for season 2020-21...\n",
      "Fetching logs for player Terrence Ross (ID: 203082) for season 2021-22...\n",
      "Fetching logs for player Terrence Ross (ID: 203082) for season 2022-23...\n",
      "Fetching logs for player Terrence Ross (ID: 203082) for season 2023-24...\n"
     ]
    },
    {
     "name": "stderr",
     "output_type": "stream",
     "text": [
      "C:\\Users\\jwag1\\AppData\\Local\\Temp\\ipykernel_32800\\3592326873.py:51: FutureWarning: The behavior of DataFrame concatenation with empty or all-NA entries is deprecated. In a future version, this will no longer exclude empty or all-NA columns when determining the result dtypes. To retain the old behavior, exclude the relevant entries before the concat operation.\n",
      "  player_logs_concat = pd.concat(player_logs, ignore_index=True)\n"
     ]
    },
    {
     "name": "stdout",
     "output_type": "stream",
     "text": [
      "Fetching logs for player Terry Rozier (ID: 1626179) for season 2020-21...\n",
      "Fetching logs for player Terry Rozier (ID: 1626179) for season 2021-22...\n",
      "Fetching logs for player Terry Rozier (ID: 1626179) for season 2022-23...\n",
      "Fetching logs for player Terry Rozier (ID: 1626179) for season 2023-24...\n",
      "Fetching logs for player Ricky Rubio (ID: 201937) for season 2020-21...\n",
      "Fetching logs for player Ricky Rubio (ID: 201937) for season 2021-22...\n",
      "Fetching logs for player Ricky Rubio (ID: 201937) for season 2022-23...\n",
      "Fetching logs for player Ricky Rubio (ID: 201937) for season 2023-24...\n"
     ]
    },
    {
     "name": "stderr",
     "output_type": "stream",
     "text": [
      "C:\\Users\\jwag1\\AppData\\Local\\Temp\\ipykernel_32800\\3592326873.py:51: FutureWarning: The behavior of DataFrame concatenation with empty or all-NA entries is deprecated. In a future version, this will no longer exclude empty or all-NA columns when determining the result dtypes. To retain the old behavior, exclude the relevant entries before the concat operation.\n",
      "  player_logs_concat = pd.concat(player_logs, ignore_index=True)\n"
     ]
    },
    {
     "name": "stdout",
     "output_type": "stream",
     "text": [
      "Fetching logs for player Rayan Rupert (ID: 1641712) for season 2020-21...\n",
      "Fetching logs for player Rayan Rupert (ID: 1641712) for season 2021-22...\n",
      "Fetching logs for player Rayan Rupert (ID: 1641712) for season 2022-23...\n",
      "Fetching logs for player Rayan Rupert (ID: 1641712) for season 2023-24...\n"
     ]
    },
    {
     "name": "stderr",
     "output_type": "stream",
     "text": [
      "C:\\Users\\jwag1\\AppData\\Local\\Temp\\ipykernel_32800\\3592326873.py:51: FutureWarning: The behavior of DataFrame concatenation with empty or all-NA entries is deprecated. In a future version, this will no longer exclude empty or all-NA columns when determining the result dtypes. To retain the old behavior, exclude the relevant entries before the concat operation.\n",
      "  player_logs_concat = pd.concat(player_logs, ignore_index=True)\n",
      "\r",
      " 78%|███████▊  | 14/18 [25:29<07:40, 115.23s/it]"
     ]
    },
    {
     "name": "stdout",
     "output_type": "stream",
     "text": [
      "Processing batch 700 to 750...\n",
      "Fetching logs for player D'Angelo Russell (ID: 1626156) for season 2020-21...\n",
      "Fetching logs for player D'Angelo Russell (ID: 1626156) for season 2021-22...\n",
      "Fetching logs for player D'Angelo Russell (ID: 1626156) for season 2022-23...\n",
      "Fetching logs for player D'Angelo Russell (ID: 1626156) for season 2023-24...\n",
      "Fetching logs for player Matt Ryan (ID: 1630346) for season 2020-21...\n",
      "Fetching logs for player Matt Ryan (ID: 1630346) for season 2021-22...\n",
      "Fetching logs for player Matt Ryan (ID: 1630346) for season 2022-23...\n",
      "Fetching logs for player Matt Ryan (ID: 1630346) for season 2023-24...\n"
     ]
    },
    {
     "name": "stderr",
     "output_type": "stream",
     "text": [
      "C:\\Users\\jwag1\\AppData\\Local\\Temp\\ipykernel_32800\\3592326873.py:51: FutureWarning: The behavior of DataFrame concatenation with empty or all-NA entries is deprecated. In a future version, this will no longer exclude empty or all-NA columns when determining the result dtypes. To retain the old behavior, exclude the relevant entries before the concat operation.\n",
      "  player_logs_concat = pd.concat(player_logs, ignore_index=True)\n"
     ]
    },
    {
     "name": "stdout",
     "output_type": "stream",
     "text": [
      "Fetching logs for player Domantas Sabonis (ID: 1627734) for season 2020-21...\n",
      "Fetching logs for player Domantas Sabonis (ID: 1627734) for season 2021-22...\n",
      "Fetching logs for player Domantas Sabonis (ID: 1627734) for season 2022-23...\n",
      "Fetching logs for player Domantas Sabonis (ID: 1627734) for season 2023-24...\n",
      "Fetching logs for player Luka Samanic (ID: 1629677) for season 2020-21...\n",
      "Fetching logs for player Luka Samanic (ID: 1629677) for season 2021-22...\n",
      "Fetching logs for player Luka Samanic (ID: 1629677) for season 2022-23...\n",
      "Fetching logs for player Luka Samanic (ID: 1629677) for season 2023-24...\n"
     ]
    },
    {
     "name": "stderr",
     "output_type": "stream",
     "text": [
      "C:\\Users\\jwag1\\AppData\\Local\\Temp\\ipykernel_32800\\3592326873.py:51: FutureWarning: The behavior of DataFrame concatenation with empty or all-NA entries is deprecated. In a future version, this will no longer exclude empty or all-NA columns when determining the result dtypes. To retain the old behavior, exclude the relevant entries before the concat operation.\n",
      "  player_logs_concat = pd.concat(player_logs, ignore_index=True)\n"
     ]
    },
    {
     "name": "stdout",
     "output_type": "stream",
     "text": [
      "Fetching logs for player JaKarr Sampson (ID: 203960) for season 2020-21...\n",
      "Fetching logs for player JaKarr Sampson (ID: 203960) for season 2021-22...\n",
      "Fetching logs for player JaKarr Sampson (ID: 203960) for season 2022-23...\n",
      "Fetching logs for player JaKarr Sampson (ID: 203960) for season 2023-24...\n"
     ]
    },
    {
     "name": "stderr",
     "output_type": "stream",
     "text": [
      "C:\\Users\\jwag1\\AppData\\Local\\Temp\\ipykernel_32800\\3592326873.py:51: FutureWarning: The behavior of DataFrame concatenation with empty or all-NA entries is deprecated. In a future version, this will no longer exclude empty or all-NA columns when determining the result dtypes. To retain the old behavior, exclude the relevant entries before the concat operation.\n",
      "  player_logs_concat = pd.concat(player_logs, ignore_index=True)\n"
     ]
    },
    {
     "name": "stdout",
     "output_type": "stream",
     "text": [
      "Fetching logs for player Jermaine Samuels Jr. (ID: 1631257) for season 2020-21...\n",
      "Fetching logs for player Jermaine Samuels Jr. (ID: 1631257) for season 2021-22...\n",
      "Fetching logs for player Jermaine Samuels Jr. (ID: 1631257) for season 2022-23...\n",
      "Fetching logs for player Jermaine Samuels Jr. (ID: 1631257) for season 2023-24...\n"
     ]
    },
    {
     "name": "stderr",
     "output_type": "stream",
     "text": [
      "C:\\Users\\jwag1\\AppData\\Local\\Temp\\ipykernel_32800\\3592326873.py:51: FutureWarning: The behavior of DataFrame concatenation with empty or all-NA entries is deprecated. In a future version, this will no longer exclude empty or all-NA columns when determining the result dtypes. To retain the old behavior, exclude the relevant entries before the concat operation.\n",
      "  player_logs_concat = pd.concat(player_logs, ignore_index=True)\n"
     ]
    },
    {
     "name": "stdout",
     "output_type": "stream",
     "text": [
      "Fetching logs for player Adama Sanogo (ID: 1641766) for season 2020-21...\n",
      "Fetching logs for player Adama Sanogo (ID: 1641766) for season 2021-22...\n",
      "Fetching logs for player Adama Sanogo (ID: 1641766) for season 2022-23...\n",
      "Fetching logs for player Adama Sanogo (ID: 1641766) for season 2023-24...\n"
     ]
    },
    {
     "name": "stderr",
     "output_type": "stream",
     "text": [
      "C:\\Users\\jwag1\\AppData\\Local\\Temp\\ipykernel_32800\\3592326873.py:51: FutureWarning: The behavior of DataFrame concatenation with empty or all-NA entries is deprecated. In a future version, this will no longer exclude empty or all-NA columns when determining the result dtypes. To retain the old behavior, exclude the relevant entries before the concat operation.\n",
      "  player_logs_concat = pd.concat(player_logs, ignore_index=True)\n"
     ]
    },
    {
     "name": "stdout",
     "output_type": "stream",
     "text": [
      "Fetching logs for player Gui Santos (ID: 1630611) for season 2020-21...\n",
      "Fetching logs for player Gui Santos (ID: 1630611) for season 2021-22...\n",
      "Fetching logs for player Gui Santos (ID: 1630611) for season 2022-23...\n",
      "Fetching logs for player Gui Santos (ID: 1630611) for season 2023-24...\n"
     ]
    },
    {
     "name": "stderr",
     "output_type": "stream",
     "text": [
      "C:\\Users\\jwag1\\AppData\\Local\\Temp\\ipykernel_32800\\3592326873.py:51: FutureWarning: The behavior of DataFrame concatenation with empty or all-NA entries is deprecated. In a future version, this will no longer exclude empty or all-NA columns when determining the result dtypes. To retain the old behavior, exclude the relevant entries before the concat operation.\n",
      "  player_logs_concat = pd.concat(player_logs, ignore_index=True)\n"
     ]
    },
    {
     "name": "stdout",
     "output_type": "stream",
     "text": [
      "Fetching logs for player Dario Saric (ID: 203967) for season 2020-21...\n",
      "Fetching logs for player Dario Saric (ID: 203967) for season 2021-22...\n",
      "Fetching logs for player Dario Saric (ID: 203967) for season 2022-23...\n",
      "Fetching logs for player Dario Saric (ID: 203967) for season 2023-24...\n"
     ]
    },
    {
     "name": "stderr",
     "output_type": "stream",
     "text": [
      "C:\\Users\\jwag1\\AppData\\Local\\Temp\\ipykernel_32800\\3592326873.py:51: FutureWarning: The behavior of DataFrame concatenation with empty or all-NA entries is deprecated. In a future version, this will no longer exclude empty or all-NA columns when determining the result dtypes. To retain the old behavior, exclude the relevant entries before the concat operation.\n",
      "  player_logs_concat = pd.concat(player_logs, ignore_index=True)\n"
     ]
    },
    {
     "name": "stdout",
     "output_type": "stream",
     "text": [
      "Fetching logs for player Olivier Sarr (ID: 1630846) for season 2020-21...\n",
      "Fetching logs for player Olivier Sarr (ID: 1630846) for season 2021-22...\n",
      "Fetching logs for player Olivier Sarr (ID: 1630846) for season 2022-23...\n",
      "Fetching logs for player Olivier Sarr (ID: 1630846) for season 2023-24...\n"
     ]
    },
    {
     "name": "stderr",
     "output_type": "stream",
     "text": [
      "C:\\Users\\jwag1\\AppData\\Local\\Temp\\ipykernel_32800\\3592326873.py:51: FutureWarning: The behavior of DataFrame concatenation with empty or all-NA entries is deprecated. In a future version, this will no longer exclude empty or all-NA columns when determining the result dtypes. To retain the old behavior, exclude the relevant entries before the concat operation.\n",
      "  player_logs_concat = pd.concat(player_logs, ignore_index=True)\n"
     ]
    },
    {
     "name": "stdout",
     "output_type": "stream",
     "text": [
      "Fetching logs for player Marcus Sasser (ID: 1631204) for season 2020-21...\n",
      "Fetching logs for player Marcus Sasser (ID: 1631204) for season 2021-22...\n",
      "Fetching logs for player Marcus Sasser (ID: 1631204) for season 2022-23...\n",
      "Fetching logs for player Marcus Sasser (ID: 1631204) for season 2023-24...\n"
     ]
    },
    {
     "name": "stderr",
     "output_type": "stream",
     "text": [
      "C:\\Users\\jwag1\\AppData\\Local\\Temp\\ipykernel_32800\\3592326873.py:51: FutureWarning: The behavior of DataFrame concatenation with empty or all-NA entries is deprecated. In a future version, this will no longer exclude empty or all-NA columns when determining the result dtypes. To retain the old behavior, exclude the relevant entries before the concat operation.\n",
      "  player_logs_concat = pd.concat(player_logs, ignore_index=True)\n"
     ]
    },
    {
     "name": "stdout",
     "output_type": "stream",
     "text": [
      "Fetching logs for player Tomas Satoransky (ID: 203107) for season 2020-21...\n",
      "Fetching logs for player Tomas Satoransky (ID: 203107) for season 2021-22...\n",
      "Fetching logs for player Tomas Satoransky (ID: 203107) for season 2022-23...\n",
      "Fetching logs for player Tomas Satoransky (ID: 203107) for season 2023-24...\n"
     ]
    },
    {
     "name": "stderr",
     "output_type": "stream",
     "text": [
      "C:\\Users\\jwag1\\AppData\\Local\\Temp\\ipykernel_32800\\3592326873.py:51: FutureWarning: The behavior of DataFrame concatenation with empty or all-NA entries is deprecated. In a future version, this will no longer exclude empty or all-NA columns when determining the result dtypes. To retain the old behavior, exclude the relevant entries before the concat operation.\n",
      "  player_logs_concat = pd.concat(player_logs, ignore_index=True)\n"
     ]
    },
    {
     "name": "stdout",
     "output_type": "stream",
     "text": [
      "Fetching logs for player Jordan Schakel (ID: 1630648) for season 2020-21...\n",
      "Fetching logs for player Jordan Schakel (ID: 1630648) for season 2021-22...\n",
      "Fetching logs for player Jordan Schakel (ID: 1630648) for season 2022-23...\n",
      "Fetching logs for player Jordan Schakel (ID: 1630648) for season 2023-24...\n"
     ]
    },
    {
     "name": "stderr",
     "output_type": "stream",
     "text": [
      "C:\\Users\\jwag1\\AppData\\Local\\Temp\\ipykernel_32800\\3592326873.py:51: FutureWarning: The behavior of DataFrame concatenation with empty or all-NA entries is deprecated. In a future version, this will no longer exclude empty or all-NA columns when determining the result dtypes. To retain the old behavior, exclude the relevant entries before the concat operation.\n",
      "  player_logs_concat = pd.concat(player_logs, ignore_index=True)\n"
     ]
    },
    {
     "name": "stdout",
     "output_type": "stream",
     "text": [
      "Fetching logs for player Admiral Schofield (ID: 1629678) for season 2020-21...\n",
      "Fetching logs for player Admiral Schofield (ID: 1629678) for season 2021-22...\n",
      "Fetching logs for player Admiral Schofield (ID: 1629678) for season 2022-23...\n",
      "Fetching logs for player Admiral Schofield (ID: 1629678) for season 2023-24...\n"
     ]
    },
    {
     "name": "stderr",
     "output_type": "stream",
     "text": [
      "C:\\Users\\jwag1\\AppData\\Local\\Temp\\ipykernel_32800\\3592326873.py:51: FutureWarning: The behavior of DataFrame concatenation with empty or all-NA entries is deprecated. In a future version, this will no longer exclude empty or all-NA columns when determining the result dtypes. To retain the old behavior, exclude the relevant entries before the concat operation.\n",
      "  player_logs_concat = pd.concat(player_logs, ignore_index=True)\n"
     ]
    },
    {
     "name": "stdout",
     "output_type": "stream",
     "text": [
      "Fetching logs for player Dennis Schroder (ID: 203471) for season 2020-21...\n",
      "Fetching logs for player Dennis Schroder (ID: 203471) for season 2021-22...\n",
      "Fetching logs for player Dennis Schroder (ID: 203471) for season 2022-23...\n",
      "Fetching logs for player Dennis Schroder (ID: 203471) for season 2023-24...\n",
      "Fetching logs for player Mike Scott (ID: 203118) for season 2020-21...\n",
      "Fetching logs for player Mike Scott (ID: 203118) for season 2021-22...\n",
      "Fetching logs for player Mike Scott (ID: 203118) for season 2022-23...\n",
      "Fetching logs for player Mike Scott (ID: 203118) for season 2023-24...\n"
     ]
    },
    {
     "name": "stderr",
     "output_type": "stream",
     "text": [
      "C:\\Users\\jwag1\\AppData\\Local\\Temp\\ipykernel_32800\\3592326873.py:51: FutureWarning: The behavior of DataFrame concatenation with empty or all-NA entries is deprecated. In a future version, this will no longer exclude empty or all-NA columns when determining the result dtypes. To retain the old behavior, exclude the relevant entries before the concat operation.\n",
      "  player_logs_concat = pd.concat(player_logs, ignore_index=True)\n"
     ]
    },
    {
     "name": "stdout",
     "output_type": "stream",
     "text": [
      "Fetching logs for player Trevon Scott (ID: 1630286) for season 2020-21...\n",
      "Fetching logs for player Trevon Scott (ID: 1630286) for season 2021-22...\n",
      "Fetching logs for player Trevon Scott (ID: 1630286) for season 2022-23...\n",
      "Fetching logs for player Trevon Scott (ID: 1630286) for season 2023-24...\n"
     ]
    },
    {
     "name": "stderr",
     "output_type": "stream",
     "text": [
      "C:\\Users\\jwag1\\AppData\\Local\\Temp\\ipykernel_32800\\3592326873.py:51: FutureWarning: The behavior of DataFrame concatenation with empty or all-NA entries is deprecated. In a future version, this will no longer exclude empty or all-NA columns when determining the result dtypes. To retain the old behavior, exclude the relevant entries before the concat operation.\n",
      "  player_logs_concat = pd.concat(player_logs, ignore_index=True)\n"
     ]
    },
    {
     "name": "stdout",
     "output_type": "stream",
     "text": [
      "Fetching logs for player Jay Scrubb (ID: 1630206) for season 2020-21...\n",
      "Fetching logs for player Jay Scrubb (ID: 1630206) for season 2021-22...\n",
      "Fetching logs for player Jay Scrubb (ID: 1630206) for season 2022-23...\n",
      "Fetching logs for player Jay Scrubb (ID: 1630206) for season 2023-24...\n"
     ]
    },
    {
     "name": "stderr",
     "output_type": "stream",
     "text": [
      "C:\\Users\\jwag1\\AppData\\Local\\Temp\\ipykernel_32800\\3592326873.py:51: FutureWarning: The behavior of DataFrame concatenation with empty or all-NA entries is deprecated. In a future version, this will no longer exclude empty or all-NA columns when determining the result dtypes. To retain the old behavior, exclude the relevant entries before the concat operation.\n",
      "  player_logs_concat = pd.concat(player_logs, ignore_index=True)\n"
     ]
    },
    {
     "name": "stdout",
     "output_type": "stream",
     "text": [
      "Fetching logs for player Dereon Seabron (ID: 1631220) for season 2020-21...\n",
      "Fetching logs for player Dereon Seabron (ID: 1631220) for season 2021-22...\n",
      "Fetching logs for player Dereon Seabron (ID: 1631220) for season 2022-23...\n",
      "Fetching logs for player Dereon Seabron (ID: 1631220) for season 2023-24...\n"
     ]
    },
    {
     "name": "stderr",
     "output_type": "stream",
     "text": [
      "C:\\Users\\jwag1\\AppData\\Local\\Temp\\ipykernel_32800\\3592326873.py:51: FutureWarning: The behavior of DataFrame concatenation with empty or all-NA entries is deprecated. In a future version, this will no longer exclude empty or all-NA columns when determining the result dtypes. To retain the old behavior, exclude the relevant entries before the concat operation.\n",
      "  player_logs_concat = pd.concat(player_logs, ignore_index=True)\n"
     ]
    },
    {
     "name": "stdout",
     "output_type": "stream",
     "text": [
      "Fetching logs for player Wayne Selden (ID: 1627782) for season 2020-21...\n",
      "Fetching logs for player Wayne Selden (ID: 1627782) for season 2021-22...\n",
      "Fetching logs for player Wayne Selden (ID: 1627782) for season 2022-23...\n",
      "Fetching logs for player Wayne Selden (ID: 1627782) for season 2023-24...\n"
     ]
    },
    {
     "name": "stderr",
     "output_type": "stream",
     "text": [
      "C:\\Users\\jwag1\\AppData\\Local\\Temp\\ipykernel_32800\\3592326873.py:51: FutureWarning: The behavior of DataFrame concatenation with empty or all-NA entries is deprecated. In a future version, this will no longer exclude empty or all-NA columns when determining the result dtypes. To retain the old behavior, exclude the relevant entries before the concat operation.\n",
      "  player_logs_concat = pd.concat(player_logs, ignore_index=True)\n"
     ]
    },
    {
     "name": "stdout",
     "output_type": "stream",
     "text": [
      "Fetching logs for player Alperen Sengun (ID: 1630578) for season 2020-21...\n",
      "Fetching logs for player Alperen Sengun (ID: 1630578) for season 2021-22...\n",
      "Fetching logs for player Alperen Sengun (ID: 1630578) for season 2022-23...\n",
      "Fetching logs for player Alperen Sengun (ID: 1630578) for season 2023-24...\n"
     ]
    },
    {
     "name": "stderr",
     "output_type": "stream",
     "text": [
      "C:\\Users\\jwag1\\AppData\\Local\\Temp\\ipykernel_32800\\3592326873.py:51: FutureWarning: The behavior of DataFrame concatenation with empty or all-NA entries is deprecated. In a future version, this will no longer exclude empty or all-NA columns when determining the result dtypes. To retain the old behavior, exclude the relevant entries before the concat operation.\n",
      "  player_logs_concat = pd.concat(player_logs, ignore_index=True)\n"
     ]
    },
    {
     "name": "stdout",
     "output_type": "stream",
     "text": [
      "Fetching logs for player Brice Sensabaugh (ID: 1641729) for season 2020-21...\n",
      "Fetching logs for player Brice Sensabaugh (ID: 1641729) for season 2021-22...\n",
      "Fetching logs for player Brice Sensabaugh (ID: 1641729) for season 2022-23...\n",
      "Fetching logs for player Brice Sensabaugh (ID: 1641729) for season 2023-24...\n"
     ]
    },
    {
     "name": "stderr",
     "output_type": "stream",
     "text": [
      "C:\\Users\\jwag1\\AppData\\Local\\Temp\\ipykernel_32800\\3592326873.py:51: FutureWarning: The behavior of DataFrame concatenation with empty or all-NA entries is deprecated. In a future version, this will no longer exclude empty or all-NA columns when determining the result dtypes. To retain the old behavior, exclude the relevant entries before the concat operation.\n",
      "  player_logs_concat = pd.concat(player_logs, ignore_index=True)\n"
     ]
    },
    {
     "name": "stdout",
     "output_type": "stream",
     "text": [
      "Fetching logs for player Collin Sexton (ID: 1629012) for season 2020-21...\n",
      "Fetching logs for player Collin Sexton (ID: 1629012) for season 2021-22...\n",
      "Fetching logs for player Collin Sexton (ID: 1629012) for season 2022-23...\n",
      "Fetching logs for player Collin Sexton (ID: 1629012) for season 2023-24...\n",
      "Fetching logs for player Landry Shamet (ID: 1629013) for season 2020-21...\n",
      "Fetching logs for player Landry Shamet (ID: 1629013) for season 2021-22...\n",
      "Fetching logs for player Landry Shamet (ID: 1629013) for season 2022-23...\n",
      "Fetching logs for player Landry Shamet (ID: 1629013) for season 2023-24...\n",
      "Fetching logs for player Day'Ron Sharpe (ID: 1630549) for season 2020-21...\n",
      "Fetching logs for player Day'Ron Sharpe (ID: 1630549) for season 2021-22...\n",
      "Fetching logs for player Day'Ron Sharpe (ID: 1630549) for season 2022-23...\n",
      "Fetching logs for player Day'Ron Sharpe (ID: 1630549) for season 2023-24...\n"
     ]
    },
    {
     "name": "stderr",
     "output_type": "stream",
     "text": [
      "C:\\Users\\jwag1\\AppData\\Local\\Temp\\ipykernel_32800\\3592326873.py:51: FutureWarning: The behavior of DataFrame concatenation with empty or all-NA entries is deprecated. In a future version, this will no longer exclude empty or all-NA columns when determining the result dtypes. To retain the old behavior, exclude the relevant entries before the concat operation.\n",
      "  player_logs_concat = pd.concat(player_logs, ignore_index=True)\n"
     ]
    },
    {
     "name": "stdout",
     "output_type": "stream",
     "text": [
      "Fetching logs for player Shaedon Sharpe (ID: 1631101) for season 2020-21...\n",
      "Fetching logs for player Shaedon Sharpe (ID: 1631101) for season 2021-22...\n",
      "Fetching logs for player Shaedon Sharpe (ID: 1631101) for season 2022-23...\n",
      "Fetching logs for player Shaedon Sharpe (ID: 1631101) for season 2023-24...\n"
     ]
    },
    {
     "name": "stderr",
     "output_type": "stream",
     "text": [
      "C:\\Users\\jwag1\\AppData\\Local\\Temp\\ipykernel_32800\\3592326873.py:51: FutureWarning: The behavior of DataFrame concatenation with empty or all-NA entries is deprecated. In a future version, this will no longer exclude empty or all-NA columns when determining the result dtypes. To retain the old behavior, exclude the relevant entries before the concat operation.\n",
      "  player_logs_concat = pd.concat(player_logs, ignore_index=True)\n"
     ]
    },
    {
     "name": "stdout",
     "output_type": "stream",
     "text": [
      "Fetching logs for player Ben Sheppard (ID: 1641767) for season 2020-21...\n",
      "Fetching logs for player Ben Sheppard (ID: 1641767) for season 2021-22...\n",
      "Fetching logs for player Ben Sheppard (ID: 1641767) for season 2022-23...\n",
      "Fetching logs for player Ben Sheppard (ID: 1641767) for season 2023-24...\n"
     ]
    },
    {
     "name": "stderr",
     "output_type": "stream",
     "text": [
      "C:\\Users\\jwag1\\AppData\\Local\\Temp\\ipykernel_32800\\3592326873.py:51: FutureWarning: The behavior of DataFrame concatenation with empty or all-NA entries is deprecated. In a future version, this will no longer exclude empty or all-NA columns when determining the result dtypes. To retain the old behavior, exclude the relevant entries before the concat operation.\n",
      "  player_logs_concat = pd.concat(player_logs, ignore_index=True)\n"
     ]
    },
    {
     "name": "stdout",
     "output_type": "stream",
     "text": [
      "Fetching logs for player Iman Shumpert (ID: 202697) for season 2020-21...\n",
      "Fetching logs for player Iman Shumpert (ID: 202697) for season 2021-22...\n",
      "Fetching logs for player Iman Shumpert (ID: 202697) for season 2022-23...\n",
      "Fetching logs for player Iman Shumpert (ID: 202697) for season 2023-24...\n"
     ]
    },
    {
     "name": "stderr",
     "output_type": "stream",
     "text": [
      "C:\\Users\\jwag1\\AppData\\Local\\Temp\\ipykernel_32800\\3592326873.py:51: FutureWarning: The behavior of DataFrame concatenation with empty or all-NA entries is deprecated. In a future version, this will no longer exclude empty or all-NA columns when determining the result dtypes. To retain the old behavior, exclude the relevant entries before the concat operation.\n",
      "  player_logs_concat = pd.concat(player_logs, ignore_index=True)\n"
     ]
    },
    {
     "name": "stdout",
     "output_type": "stream",
     "text": [
      "Fetching logs for player Pascal Siakam (ID: 1627783) for season 2020-21...\n",
      "Fetching logs for player Pascal Siakam (ID: 1627783) for season 2021-22...\n",
      "Fetching logs for player Pascal Siakam (ID: 1627783) for season 2022-23...\n",
      "Fetching logs for player Pascal Siakam (ID: 1627783) for season 2023-24...\n",
      "Fetching logs for player Chris Silva (ID: 1629735) for season 2020-21...\n",
      "Fetching logs for player Chris Silva (ID: 1629735) for season 2021-22...\n",
      "Fetching logs for player Chris Silva (ID: 1629735) for season 2022-23...\n",
      "Fetching logs for player Chris Silva (ID: 1629735) for season 2023-24...\n"
     ]
    },
    {
     "name": "stderr",
     "output_type": "stream",
     "text": [
      "C:\\Users\\jwag1\\AppData\\Local\\Temp\\ipykernel_32800\\3592326873.py:51: FutureWarning: The behavior of DataFrame concatenation with empty or all-NA entries is deprecated. In a future version, this will no longer exclude empty or all-NA columns when determining the result dtypes. To retain the old behavior, exclude the relevant entries before the concat operation.\n",
      "  player_logs_concat = pd.concat(player_logs, ignore_index=True)\n"
     ]
    },
    {
     "name": "stdout",
     "output_type": "stream",
     "text": [
      "Fetching logs for player Ben Simmons (ID: 1627732) for season 2020-21...\n",
      "Fetching logs for player Ben Simmons (ID: 1627732) for season 2021-22...\n",
      "Fetching logs for player Ben Simmons (ID: 1627732) for season 2022-23...\n",
      "Fetching logs for player Ben Simmons (ID: 1627732) for season 2023-24...\n"
     ]
    },
    {
     "name": "stderr",
     "output_type": "stream",
     "text": [
      "C:\\Users\\jwag1\\AppData\\Local\\Temp\\ipykernel_32800\\3592326873.py:51: FutureWarning: The behavior of DataFrame concatenation with empty or all-NA entries is deprecated. In a future version, this will no longer exclude empty or all-NA columns when determining the result dtypes. To retain the old behavior, exclude the relevant entries before the concat operation.\n",
      "  player_logs_concat = pd.concat(player_logs, ignore_index=True)\n"
     ]
    },
    {
     "name": "stdout",
     "output_type": "stream",
     "text": [
      "Fetching logs for player Kobi Simmons (ID: 1628424) for season 2020-21...\n",
      "Fetching logs for player Kobi Simmons (ID: 1628424) for season 2021-22...\n",
      "Fetching logs for player Kobi Simmons (ID: 1628424) for season 2022-23...\n",
      "Fetching logs for player Kobi Simmons (ID: 1628424) for season 2023-24...\n"
     ]
    },
    {
     "name": "stderr",
     "output_type": "stream",
     "text": [
      "C:\\Users\\jwag1\\AppData\\Local\\Temp\\ipykernel_32800\\3592326873.py:51: FutureWarning: The behavior of DataFrame concatenation with empty or all-NA entries is deprecated. In a future version, this will no longer exclude empty or all-NA columns when determining the result dtypes. To retain the old behavior, exclude the relevant entries before the concat operation.\n",
      "  player_logs_concat = pd.concat(player_logs, ignore_index=True)\n"
     ]
    },
    {
     "name": "stdout",
     "output_type": "stream",
     "text": [
      "Fetching logs for player Marko Simonovic (ID: 1630250) for season 2020-21...\n",
      "Fetching logs for player Marko Simonovic (ID: 1630250) for season 2021-22...\n",
      "Fetching logs for player Marko Simonovic (ID: 1630250) for season 2022-23...\n",
      "Fetching logs for player Marko Simonovic (ID: 1630250) for season 2023-24...\n"
     ]
    },
    {
     "name": "stderr",
     "output_type": "stream",
     "text": [
      "C:\\Users\\jwag1\\AppData\\Local\\Temp\\ipykernel_32800\\3592326873.py:51: FutureWarning: The behavior of DataFrame concatenation with empty or all-NA entries is deprecated. In a future version, this will no longer exclude empty or all-NA columns when determining the result dtypes. To retain the old behavior, exclude the relevant entries before the concat operation.\n",
      "  player_logs_concat = pd.concat(player_logs, ignore_index=True)\n"
     ]
    },
    {
     "name": "stdout",
     "output_type": "stream",
     "text": [
      "Fetching logs for player Anfernee Simons (ID: 1629014) for season 2020-21...\n",
      "Fetching logs for player Anfernee Simons (ID: 1629014) for season 2021-22...\n",
      "Fetching logs for player Anfernee Simons (ID: 1629014) for season 2022-23...\n",
      "Fetching logs for player Anfernee Simons (ID: 1629014) for season 2023-24...\n",
      "Fetching logs for player Zavier Simpson (ID: 1630285) for season 2020-21...\n",
      "Fetching logs for player Zavier Simpson (ID: 1630285) for season 2021-22...\n",
      "Fetching logs for player Zavier Simpson (ID: 1630285) for season 2022-23...\n",
      "Fetching logs for player Zavier Simpson (ID: 1630285) for season 2023-24...\n"
     ]
    },
    {
     "name": "stderr",
     "output_type": "stream",
     "text": [
      "C:\\Users\\jwag1\\AppData\\Local\\Temp\\ipykernel_32800\\3592326873.py:51: FutureWarning: The behavior of DataFrame concatenation with empty or all-NA entries is deprecated. In a future version, this will no longer exclude empty or all-NA columns when determining the result dtypes. To retain the old behavior, exclude the relevant entries before the concat operation.\n",
      "  player_logs_concat = pd.concat(player_logs, ignore_index=True)\n"
     ]
    },
    {
     "name": "stdout",
     "output_type": "stream",
     "text": [
      "Fetching logs for player Jericho Sims (ID: 1630579) for season 2020-21...\n",
      "Fetching logs for player Jericho Sims (ID: 1630579) for season 2021-22...\n",
      "Fetching logs for player Jericho Sims (ID: 1630579) for season 2022-23...\n",
      "Fetching logs for player Jericho Sims (ID: 1630579) for season 2023-24...\n"
     ]
    },
    {
     "name": "stderr",
     "output_type": "stream",
     "text": [
      "C:\\Users\\jwag1\\AppData\\Local\\Temp\\ipykernel_32800\\3592326873.py:51: FutureWarning: The behavior of DataFrame concatenation with empty or all-NA entries is deprecated. In a future version, this will no longer exclude empty or all-NA columns when determining the result dtypes. To retain the old behavior, exclude the relevant entries before the concat operation.\n",
      "  player_logs_concat = pd.concat(player_logs, ignore_index=True)\n"
     ]
    },
    {
     "name": "stdout",
     "output_type": "stream",
     "text": [
      "Fetching logs for player Deividas Sirvydis (ID: 1629686) for season 2020-21...\n",
      "Fetching logs for player Deividas Sirvydis (ID: 1629686) for season 2021-22...\n",
      "Fetching logs for player Deividas Sirvydis (ID: 1629686) for season 2022-23...\n",
      "Fetching logs for player Deividas Sirvydis (ID: 1629686) for season 2023-24...\n"
     ]
    },
    {
     "name": "stderr",
     "output_type": "stream",
     "text": [
      "C:\\Users\\jwag1\\AppData\\Local\\Temp\\ipykernel_32800\\3592326873.py:51: FutureWarning: The behavior of DataFrame concatenation with empty or all-NA entries is deprecated. In a future version, this will no longer exclude empty or all-NA columns when determining the result dtypes. To retain the old behavior, exclude the relevant entries before the concat operation.\n",
      "  player_logs_concat = pd.concat(player_logs, ignore_index=True)\n"
     ]
    },
    {
     "name": "stdout",
     "output_type": "stream",
     "text": [
      "Fetching logs for player Dmytro Skapintsev (ID: 1631376) for season 2020-21...\n",
      "Fetching logs for player Dmytro Skapintsev (ID: 1631376) for season 2021-22...\n",
      "Fetching logs for player Dmytro Skapintsev (ID: 1631376) for season 2022-23...\n",
      "Fetching logs for player Dmytro Skapintsev (ID: 1631376) for season 2023-24...\n"
     ]
    },
    {
     "name": "stderr",
     "output_type": "stream",
     "text": [
      "C:\\Users\\jwag1\\AppData\\Local\\Temp\\ipykernel_32800\\3592326873.py:51: FutureWarning: The behavior of DataFrame concatenation with empty or all-NA entries is deprecated. In a future version, this will no longer exclude empty or all-NA columns when determining the result dtypes. To retain the old behavior, exclude the relevant entries before the concat operation.\n",
      "  player_logs_concat = pd.concat(player_logs, ignore_index=True)\n"
     ]
    },
    {
     "name": "stdout",
     "output_type": "stream",
     "text": [
      "Fetching logs for player Jalen Slawson (ID: 1641771) for season 2020-21...\n",
      "Fetching logs for player Jalen Slawson (ID: 1641771) for season 2021-22...\n",
      "Fetching logs for player Jalen Slawson (ID: 1641771) for season 2022-23...\n",
      "Fetching logs for player Jalen Slawson (ID: 1641771) for season 2023-24...\n"
     ]
    },
    {
     "name": "stderr",
     "output_type": "stream",
     "text": [
      "C:\\Users\\jwag1\\AppData\\Local\\Temp\\ipykernel_32800\\3592326873.py:51: FutureWarning: The behavior of DataFrame concatenation with empty or all-NA entries is deprecated. In a future version, this will no longer exclude empty or all-NA columns when determining the result dtypes. To retain the old behavior, exclude the relevant entries before the concat operation.\n",
      "  player_logs_concat = pd.concat(player_logs, ignore_index=True)\n"
     ]
    },
    {
     "name": "stdout",
     "output_type": "stream",
     "text": [
      "Fetching logs for player Alen Smailagic (ID: 1629346) for season 2020-21...\n",
      "Fetching logs for player Alen Smailagic (ID: 1629346) for season 2021-22...\n",
      "Fetching logs for player Alen Smailagic (ID: 1629346) for season 2022-23...\n",
      "Fetching logs for player Alen Smailagic (ID: 1629346) for season 2023-24...\n"
     ]
    },
    {
     "name": "stderr",
     "output_type": "stream",
     "text": [
      "C:\\Users\\jwag1\\AppData\\Local\\Temp\\ipykernel_32800\\3592326873.py:51: FutureWarning: The behavior of DataFrame concatenation with empty or all-NA entries is deprecated. In a future version, this will no longer exclude empty or all-NA columns when determining the result dtypes. To retain the old behavior, exclude the relevant entries before the concat operation.\n",
      "  player_logs_concat = pd.concat(player_logs, ignore_index=True)\n"
     ]
    },
    {
     "name": "stdout",
     "output_type": "stream",
     "text": [
      "Fetching logs for player Javonte Smart (ID: 1630606) for season 2020-21...\n",
      "Fetching logs for player Javonte Smart (ID: 1630606) for season 2021-22...\n",
      "Fetching logs for player Javonte Smart (ID: 1630606) for season 2022-23...\n",
      "Fetching logs for player Javonte Smart (ID: 1630606) for season 2023-24...\n"
     ]
    },
    {
     "name": "stderr",
     "output_type": "stream",
     "text": [
      "C:\\Users\\jwag1\\AppData\\Local\\Temp\\ipykernel_32800\\3592326873.py:51: FutureWarning: The behavior of DataFrame concatenation with empty or all-NA entries is deprecated. In a future version, this will no longer exclude empty or all-NA columns when determining the result dtypes. To retain the old behavior, exclude the relevant entries before the concat operation.\n",
      "  player_logs_concat = pd.concat(player_logs, ignore_index=True)\n"
     ]
    },
    {
     "name": "stdout",
     "output_type": "stream",
     "text": [
      "Fetching logs for player Marcus Smart (ID: 203935) for season 2020-21...\n",
      "Fetching logs for player Marcus Smart (ID: 203935) for season 2021-22...\n",
      "Fetching logs for player Marcus Smart (ID: 203935) for season 2022-23...\n",
      "Fetching logs for player Marcus Smart (ID: 203935) for season 2023-24...\n",
      "Fetching logs for player Dru Smith (ID: 1630696) for season 2020-21...\n",
      "Fetching logs for player Dru Smith (ID: 1630696) for season 2021-22...\n",
      "Fetching logs for player Dru Smith (ID: 1630696) for season 2022-23...\n",
      "Fetching logs for player Dru Smith (ID: 1630696) for season 2023-24...\n"
     ]
    },
    {
     "name": "stderr",
     "output_type": "stream",
     "text": [
      "C:\\Users\\jwag1\\AppData\\Local\\Temp\\ipykernel_32800\\3592326873.py:51: FutureWarning: The behavior of DataFrame concatenation with empty or all-NA entries is deprecated. In a future version, this will no longer exclude empty or all-NA columns when determining the result dtypes. To retain the old behavior, exclude the relevant entries before the concat operation.\n",
      "  player_logs_concat = pd.concat(player_logs, ignore_index=True)\n"
     ]
    },
    {
     "name": "stdout",
     "output_type": "stream",
     "text": [
      "Fetching logs for player Ish Smith (ID: 202397) for season 2020-21...\n",
      "Fetching logs for player Ish Smith (ID: 202397) for season 2021-22...\n",
      "Fetching logs for player Ish Smith (ID: 202397) for season 2022-23...\n",
      "Fetching logs for player Ish Smith (ID: 202397) for season 2023-24...\n",
      "Fetching logs for player Jalen Smith (ID: 1630188) for season 2020-21...\n",
      "Fetching logs for player Jalen Smith (ID: 1630188) for season 2021-22...\n",
      "Fetching logs for player Jalen Smith (ID: 1630188) for season 2022-23...\n",
      "Fetching logs for player Jalen Smith (ID: 1630188) for season 2023-24...\n",
      "Fetching logs for player Terquavion Smith (ID: 1631173) for season 2020-21...\n",
      "Fetching logs for player Terquavion Smith (ID: 1631173) for season 2021-22...\n",
      "Fetching logs for player Terquavion Smith (ID: 1631173) for season 2022-23...\n",
      "Fetching logs for player Terquavion Smith (ID: 1631173) for season 2023-24...\n"
     ]
    },
    {
     "name": "stderr",
     "output_type": "stream",
     "text": [
      "C:\\Users\\jwag1\\AppData\\Local\\Temp\\ipykernel_32800\\3592326873.py:51: FutureWarning: The behavior of DataFrame concatenation with empty or all-NA entries is deprecated. In a future version, this will no longer exclude empty or all-NA columns when determining the result dtypes. To retain the old behavior, exclude the relevant entries before the concat operation.\n",
      "  player_logs_concat = pd.concat(player_logs, ignore_index=True)\n"
     ]
    },
    {
     "name": "stdout",
     "output_type": "stream",
     "text": [
      "Fetching logs for player Dennis Smith Jr. (ID: 1628372) for season 2020-21...\n",
      "Fetching logs for player Dennis Smith Jr. (ID: 1628372) for season 2021-22...\n",
      "Fetching logs for player Dennis Smith Jr. (ID: 1628372) for season 2022-23...\n",
      "Fetching logs for player Dennis Smith Jr. (ID: 1628372) for season 2023-24...\n",
      "Fetching logs for player Jabari Smith Jr. (ID: 1631095) for season 2020-21...\n",
      "Fetching logs for player Jabari Smith Jr. (ID: 1631095) for season 2021-22...\n",
      "Fetching logs for player Jabari Smith Jr. (ID: 1631095) for season 2022-23...\n",
      "Fetching logs for player Jabari Smith Jr. (ID: 1631095) for season 2023-24...\n"
     ]
    },
    {
     "name": "stderr",
     "output_type": "stream",
     "text": [
      "C:\\Users\\jwag1\\AppData\\Local\\Temp\\ipykernel_32800\\3592326873.py:51: FutureWarning: The behavior of DataFrame concatenation with empty or all-NA entries is deprecated. In a future version, this will no longer exclude empty or all-NA columns when determining the result dtypes. To retain the old behavior, exclude the relevant entries before the concat operation.\n",
      "  player_logs_concat = pd.concat(player_logs, ignore_index=True)\n"
     ]
    },
    {
     "name": "stdout",
     "output_type": "stream",
     "text": [
      "Fetching logs for player Nick Smith Jr. (ID: 1641733) for season 2020-21...\n",
      "Fetching logs for player Nick Smith Jr. (ID: 1641733) for season 2021-22...\n",
      "Fetching logs for player Nick Smith Jr. (ID: 1641733) for season 2022-23...\n",
      "Fetching logs for player Nick Smith Jr. (ID: 1641733) for season 2023-24...\n"
     ]
    },
    {
     "name": "stderr",
     "output_type": "stream",
     "text": [
      "C:\\Users\\jwag1\\AppData\\Local\\Temp\\ipykernel_32800\\3592326873.py:51: FutureWarning: The behavior of DataFrame concatenation with empty or all-NA entries is deprecated. In a future version, this will no longer exclude empty or all-NA columns when determining the result dtypes. To retain the old behavior, exclude the relevant entries before the concat operation.\n",
      "  player_logs_concat = pd.concat(player_logs, ignore_index=True)\n"
     ]
    },
    {
     "name": "stdout",
     "output_type": "stream",
     "text": [
      "Fetching logs for player Xavier Sneed (ID: 1630270) for season 2020-21...\n",
      "Fetching logs for player Xavier Sneed (ID: 1630270) for season 2021-22...\n",
      "Fetching logs for player Xavier Sneed (ID: 1630270) for season 2022-23...\n",
      "Fetching logs for player Xavier Sneed (ID: 1630270) for season 2023-24...\n"
     ]
    },
    {
     "name": "stderr",
     "output_type": "stream",
     "text": [
      "C:\\Users\\jwag1\\AppData\\Local\\Temp\\ipykernel_32800\\3592326873.py:51: FutureWarning: The behavior of DataFrame concatenation with empty or all-NA entries is deprecated. In a future version, this will no longer exclude empty or all-NA columns when determining the result dtypes. To retain the old behavior, exclude the relevant entries before the concat operation.\n",
      "  player_logs_concat = pd.concat(player_logs, ignore_index=True)\n",
      "\r",
      " 83%|████████▎ | 15/18 [27:31<05:51, 117.15s/it]"
     ]
    },
    {
     "name": "stdout",
     "output_type": "stream",
     "text": [
      "Processing batch 750 to 800...\n",
      "Fetching logs for player Tony Snell (ID: 203503) for season 2020-21...\n",
      "Fetching logs for player Tony Snell (ID: 203503) for season 2021-22...\n",
      "Fetching logs for player Tony Snell (ID: 203503) for season 2022-23...\n",
      "Fetching logs for player Tony Snell (ID: 203503) for season 2023-24...\n"
     ]
    },
    {
     "name": "stderr",
     "output_type": "stream",
     "text": [
      "C:\\Users\\jwag1\\AppData\\Local\\Temp\\ipykernel_32800\\3592326873.py:51: FutureWarning: The behavior of DataFrame concatenation with empty or all-NA entries is deprecated. In a future version, this will no longer exclude empty or all-NA columns when determining the result dtypes. To retain the old behavior, exclude the relevant entries before the concat operation.\n",
      "  player_logs_concat = pd.concat(player_logs, ignore_index=True)\n"
     ]
    },
    {
     "name": "stdout",
     "output_type": "stream",
     "text": [
      "Fetching logs for player Jeremy Sochan (ID: 1631110) for season 2020-21...\n",
      "Fetching logs for player Jeremy Sochan (ID: 1631110) for season 2021-22...\n",
      "Fetching logs for player Jeremy Sochan (ID: 1631110) for season 2022-23...\n",
      "Fetching logs for player Jeremy Sochan (ID: 1631110) for season 2023-24...\n"
     ]
    },
    {
     "name": "stderr",
     "output_type": "stream",
     "text": [
      "C:\\Users\\jwag1\\AppData\\Local\\Temp\\ipykernel_32800\\3592326873.py:51: FutureWarning: The behavior of DataFrame concatenation with empty or all-NA entries is deprecated. In a future version, this will no longer exclude empty or all-NA columns when determining the result dtypes. To retain the old behavior, exclude the relevant entries before the concat operation.\n",
      "  player_logs_concat = pd.concat(player_logs, ignore_index=True)\n"
     ]
    },
    {
     "name": "stdout",
     "output_type": "stream",
     "text": [
      "Fetching logs for player Ray Spalding (ID: 1629034) for season 2020-21...\n",
      "Fetching logs for player Ray Spalding (ID: 1629034) for season 2021-22...\n",
      "Fetching logs for player Ray Spalding (ID: 1629034) for season 2022-23...\n",
      "Fetching logs for player Ray Spalding (ID: 1629034) for season 2023-24...\n"
     ]
    },
    {
     "name": "stderr",
     "output_type": "stream",
     "text": [
      "C:\\Users\\jwag1\\AppData\\Local\\Temp\\ipykernel_32800\\3592326873.py:51: FutureWarning: The behavior of DataFrame concatenation with empty or all-NA entries is deprecated. In a future version, this will no longer exclude empty or all-NA columns when determining the result dtypes. To retain the old behavior, exclude the relevant entries before the concat operation.\n",
      "  player_logs_concat = pd.concat(player_logs, ignore_index=True)\n"
     ]
    },
    {
     "name": "stdout",
     "output_type": "stream",
     "text": [
      "Fetching logs for player Pat Spencer (ID: 1630311) for season 2020-21...\n",
      "Fetching logs for player Pat Spencer (ID: 1630311) for season 2021-22...\n",
      "Fetching logs for player Pat Spencer (ID: 1630311) for season 2022-23...\n",
      "Fetching logs for player Pat Spencer (ID: 1630311) for season 2023-24...\n"
     ]
    },
    {
     "name": "stderr",
     "output_type": "stream",
     "text": [
      "C:\\Users\\jwag1\\AppData\\Local\\Temp\\ipykernel_32800\\3592326873.py:51: FutureWarning: The behavior of DataFrame concatenation with empty or all-NA entries is deprecated. In a future version, this will no longer exclude empty or all-NA columns when determining the result dtypes. To retain the old behavior, exclude the relevant entries before the concat operation.\n",
      "  player_logs_concat = pd.concat(player_logs, ignore_index=True)\n"
     ]
    },
    {
     "name": "stdout",
     "output_type": "stream",
     "text": [
      "Fetching logs for player Jaden Springer (ID: 1630531) for season 2020-21...\n",
      "Fetching logs for player Jaden Springer (ID: 1630531) for season 2021-22...\n",
      "Fetching logs for player Jaden Springer (ID: 1630531) for season 2022-23...\n",
      "Fetching logs for player Jaden Springer (ID: 1630531) for season 2023-24...\n"
     ]
    },
    {
     "name": "stderr",
     "output_type": "stream",
     "text": [
      "C:\\Users\\jwag1\\AppData\\Local\\Temp\\ipykernel_32800\\3592326873.py:51: FutureWarning: The behavior of DataFrame concatenation with empty or all-NA entries is deprecated. In a future version, this will no longer exclude empty or all-NA columns when determining the result dtypes. To retain the old behavior, exclude the relevant entries before the concat operation.\n",
      "  player_logs_concat = pd.concat(player_logs, ignore_index=True)\n"
     ]
    },
    {
     "name": "stdout",
     "output_type": "stream",
     "text": [
      "Fetching logs for player Cassius Stanley (ID: 1630199) for season 2020-21...\n",
      "Fetching logs for player Cassius Stanley (ID: 1630199) for season 2021-22...\n",
      "Fetching logs for player Cassius Stanley (ID: 1630199) for season 2022-23...\n",
      "Fetching logs for player Cassius Stanley (ID: 1630199) for season 2023-24...\n"
     ]
    },
    {
     "name": "stderr",
     "output_type": "stream",
     "text": [
      "C:\\Users\\jwag1\\AppData\\Local\\Temp\\ipykernel_32800\\3592326873.py:51: FutureWarning: The behavior of DataFrame concatenation with empty or all-NA entries is deprecated. In a future version, this will no longer exclude empty or all-NA columns when determining the result dtypes. To retain the old behavior, exclude the relevant entries before the concat operation.\n",
      "  player_logs_concat = pd.concat(player_logs, ignore_index=True)\n"
     ]
    },
    {
     "name": "stdout",
     "output_type": "stream",
     "text": [
      "Fetching logs for player Nik Stauskas (ID: 203917) for season 2020-21...\n",
      "Fetching logs for player Nik Stauskas (ID: 203917) for season 2021-22...\n",
      "Fetching logs for player Nik Stauskas (ID: 203917) for season 2022-23...\n",
      "Fetching logs for player Nik Stauskas (ID: 203917) for season 2023-24...\n"
     ]
    },
    {
     "name": "stderr",
     "output_type": "stream",
     "text": [
      "C:\\Users\\jwag1\\AppData\\Local\\Temp\\ipykernel_32800\\3592326873.py:51: FutureWarning: The behavior of DataFrame concatenation with empty or all-NA entries is deprecated. In a future version, this will no longer exclude empty or all-NA columns when determining the result dtypes. To retain the old behavior, exclude the relevant entries before the concat operation.\n",
      "  player_logs_concat = pd.concat(player_logs, ignore_index=True)\n"
     ]
    },
    {
     "name": "stdout",
     "output_type": "stream",
     "text": [
      "Fetching logs for player Lance Stephenson (ID: 202362) for season 2020-21...\n",
      "Fetching logs for player Lance Stephenson (ID: 202362) for season 2021-22...\n",
      "Fetching logs for player Lance Stephenson (ID: 202362) for season 2022-23...\n",
      "Fetching logs for player Lance Stephenson (ID: 202362) for season 2023-24...\n"
     ]
    },
    {
     "name": "stderr",
     "output_type": "stream",
     "text": [
      "C:\\Users\\jwag1\\AppData\\Local\\Temp\\ipykernel_32800\\3592326873.py:51: FutureWarning: The behavior of DataFrame concatenation with empty or all-NA entries is deprecated. In a future version, this will no longer exclude empty or all-NA columns when determining the result dtypes. To retain the old behavior, exclude the relevant entries before the concat operation.\n",
      "  player_logs_concat = pd.concat(player_logs, ignore_index=True)\n"
     ]
    },
    {
     "name": "stdout",
     "output_type": "stream",
     "text": [
      "Fetching logs for player Lamar Stevens (ID: 1630205) for season 2020-21...\n",
      "Fetching logs for player Lamar Stevens (ID: 1630205) for season 2021-22...\n",
      "Fetching logs for player Lamar Stevens (ID: 1630205) for season 2022-23...\n",
      "Fetching logs for player Lamar Stevens (ID: 1630205) for season 2023-24...\n",
      "Fetching logs for player DJ Stewart (ID: 1630597) for season 2020-21...\n",
      "Fetching logs for player DJ Stewart (ID: 1630597) for season 2021-22...\n",
      "Fetching logs for player DJ Stewart (ID: 1630597) for season 2022-23...\n",
      "Fetching logs for player DJ Stewart (ID: 1630597) for season 2023-24...\n",
      "Fetching logs for player Isaiah Stewart (ID: 1630191) for season 2020-21...\n",
      "Fetching logs for player Isaiah Stewart (ID: 1630191) for season 2021-22...\n",
      "Fetching logs for player Isaiah Stewart (ID: 1630191) for season 2022-23...\n",
      "Fetching logs for player Isaiah Stewart (ID: 1630191) for season 2023-24...\n",
      "Fetching logs for player Julian Strawther (ID: 1631124) for season 2020-21...\n",
      "Fetching logs for player Julian Strawther (ID: 1631124) for season 2021-22...\n",
      "Fetching logs for player Julian Strawther (ID: 1631124) for season 2022-23...\n",
      "Fetching logs for player Julian Strawther (ID: 1631124) for season 2023-24...\n"
     ]
    },
    {
     "name": "stderr",
     "output_type": "stream",
     "text": [
      "C:\\Users\\jwag1\\AppData\\Local\\Temp\\ipykernel_32800\\3592326873.py:51: FutureWarning: The behavior of DataFrame concatenation with empty or all-NA entries is deprecated. In a future version, this will no longer exclude empty or all-NA columns when determining the result dtypes. To retain the old behavior, exclude the relevant entries before the concat operation.\n",
      "  player_logs_concat = pd.concat(player_logs, ignore_index=True)\n"
     ]
    },
    {
     "name": "stdout",
     "output_type": "stream",
     "text": [
      "Fetching logs for player Max Strus (ID: 1629622) for season 2020-21...\n",
      "Fetching logs for player Max Strus (ID: 1629622) for season 2021-22...\n",
      "Fetching logs for player Max Strus (ID: 1629622) for season 2022-23...\n",
      "Fetching logs for player Max Strus (ID: 1629622) for season 2023-24...\n",
      "Fetching logs for player Jalen Suggs (ID: 1630591) for season 2020-21...\n",
      "Fetching logs for player Jalen Suggs (ID: 1630591) for season 2021-22...\n",
      "Fetching logs for player Jalen Suggs (ID: 1630591) for season 2022-23...\n",
      "Fetching logs for player Jalen Suggs (ID: 1630591) for season 2023-24...\n"
     ]
    },
    {
     "name": "stderr",
     "output_type": "stream",
     "text": [
      "C:\\Users\\jwag1\\AppData\\Local\\Temp\\ipykernel_32800\\3592326873.py:51: FutureWarning: The behavior of DataFrame concatenation with empty or all-NA entries is deprecated. In a future version, this will no longer exclude empty or all-NA columns when determining the result dtypes. To retain the old behavior, exclude the relevant entries before the concat operation.\n",
      "  player_logs_concat = pd.concat(player_logs, ignore_index=True)\n"
     ]
    },
    {
     "name": "stdout",
     "output_type": "stream",
     "text": [
      "Fetching logs for player Edmond Sumner (ID: 1628410) for season 2020-21...\n",
      "Fetching logs for player Edmond Sumner (ID: 1628410) for season 2021-22...\n",
      "Fetching logs for player Edmond Sumner (ID: 1628410) for season 2022-23...\n",
      "Fetching logs for player Edmond Sumner (ID: 1628410) for season 2023-24...\n"
     ]
    },
    {
     "name": "stderr",
     "output_type": "stream",
     "text": [
      "C:\\Users\\jwag1\\AppData\\Local\\Temp\\ipykernel_32800\\3592326873.py:51: FutureWarning: The behavior of DataFrame concatenation with empty or all-NA entries is deprecated. In a future version, this will no longer exclude empty or all-NA columns when determining the result dtypes. To retain the old behavior, exclude the relevant entries before the concat operation.\n",
      "  player_logs_concat = pd.concat(player_logs, ignore_index=True)\n"
     ]
    },
    {
     "name": "stdout",
     "output_type": "stream",
     "text": [
      "Fetching logs for player Cole Swider (ID: 1631306) for season 2020-21...\n",
      "Fetching logs for player Cole Swider (ID: 1631306) for season 2021-22...\n",
      "Fetching logs for player Cole Swider (ID: 1631306) for season 2022-23...\n",
      "Fetching logs for player Cole Swider (ID: 1631306) for season 2023-24...\n"
     ]
    },
    {
     "name": "stderr",
     "output_type": "stream",
     "text": [
      "C:\\Users\\jwag1\\AppData\\Local\\Temp\\ipykernel_32800\\3592326873.py:51: FutureWarning: The behavior of DataFrame concatenation with empty or all-NA entries is deprecated. In a future version, this will no longer exclude empty or all-NA columns when determining the result dtypes. To retain the old behavior, exclude the relevant entries before the concat operation.\n",
      "  player_logs_concat = pd.concat(player_logs, ignore_index=True)\n"
     ]
    },
    {
     "name": "stdout",
     "output_type": "stream",
     "text": [
      "Fetching logs for player Craig Sword (ID: 1628591) for season 2020-21...\n",
      "Fetching logs for player Craig Sword (ID: 1628591) for season 2021-22...\n",
      "Fetching logs for player Craig Sword (ID: 1628591) for season 2022-23...\n",
      "Fetching logs for player Craig Sword (ID: 1628591) for season 2023-24...\n"
     ]
    },
    {
     "name": "stderr",
     "output_type": "stream",
     "text": [
      "C:\\Users\\jwag1\\AppData\\Local\\Temp\\ipykernel_32800\\3592326873.py:51: FutureWarning: The behavior of DataFrame concatenation with empty or all-NA entries is deprecated. In a future version, this will no longer exclude empty or all-NA columns when determining the result dtypes. To retain the old behavior, exclude the relevant entries before the concat operation.\n",
      "  player_logs_concat = pd.concat(player_logs, ignore_index=True)\n"
     ]
    },
    {
     "name": "stdout",
     "output_type": "stream",
     "text": [
      "Fetching logs for player Keifer Sykes (ID: 1626208) for season 2020-21...\n",
      "Fetching logs for player Keifer Sykes (ID: 1626208) for season 2021-22...\n",
      "Fetching logs for player Keifer Sykes (ID: 1626208) for season 2022-23...\n",
      "Fetching logs for player Keifer Sykes (ID: 1626208) for season 2023-24...\n"
     ]
    },
    {
     "name": "stderr",
     "output_type": "stream",
     "text": [
      "C:\\Users\\jwag1\\AppData\\Local\\Temp\\ipykernel_32800\\3592326873.py:51: FutureWarning: The behavior of DataFrame concatenation with empty or all-NA entries is deprecated. In a future version, this will no longer exclude empty or all-NA columns when determining the result dtypes. To retain the old behavior, exclude the relevant entries before the concat operation.\n",
      "  player_logs_concat = pd.concat(player_logs, ignore_index=True)\n"
     ]
    },
    {
     "name": "stdout",
     "output_type": "stream",
     "text": [
      "Fetching logs for player Jae'Sean Tate (ID: 1630256) for season 2020-21...\n",
      "Fetching logs for player Jae'Sean Tate (ID: 1630256) for season 2021-22...\n",
      "Fetching logs for player Jae'Sean Tate (ID: 1630256) for season 2022-23...\n",
      "Fetching logs for player Jae'Sean Tate (ID: 1630256) for season 2023-24...\n",
      "Fetching logs for player Jayson Tatum (ID: 1628369) for season 2020-21...\n",
      "Fetching logs for player Jayson Tatum (ID: 1628369) for season 2021-22...\n",
      "Fetching logs for player Jayson Tatum (ID: 1628369) for season 2022-23...\n",
      "Fetching logs for player Jayson Tatum (ID: 1628369) for season 2023-24...\n",
      "Fetching logs for player Terry Taylor (ID: 1630678) for season 2020-21...\n",
      "Fetching logs for player Terry Taylor (ID: 1630678) for season 2021-22...\n",
      "Fetching logs for player Terry Taylor (ID: 1630678) for season 2022-23...\n",
      "Fetching logs for player Terry Taylor (ID: 1630678) for season 2023-24...\n"
     ]
    },
    {
     "name": "stderr",
     "output_type": "stream",
     "text": [
      "C:\\Users\\jwag1\\AppData\\Local\\Temp\\ipykernel_32800\\3592326873.py:51: FutureWarning: The behavior of DataFrame concatenation with empty or all-NA entries is deprecated. In a future version, this will no longer exclude empty or all-NA columns when determining the result dtypes. To retain the old behavior, exclude the relevant entries before the concat operation.\n",
      "  player_logs_concat = pd.concat(player_logs, ignore_index=True)\n"
     ]
    },
    {
     "name": "stdout",
     "output_type": "stream",
     "text": [
      "Fetching logs for player Jeff Teague (ID: 201952) for season 2020-21...\n",
      "Fetching logs for player Jeff Teague (ID: 201952) for season 2021-22...\n",
      "Fetching logs for player Jeff Teague (ID: 201952) for season 2022-23...\n",
      "Fetching logs for player Jeff Teague (ID: 201952) for season 2023-24...\n"
     ]
    },
    {
     "name": "stderr",
     "output_type": "stream",
     "text": [
      "C:\\Users\\jwag1\\AppData\\Local\\Temp\\ipykernel_32800\\3592326873.py:51: FutureWarning: The behavior of DataFrame concatenation with empty or all-NA entries is deprecated. In a future version, this will no longer exclude empty or all-NA columns when determining the result dtypes. To retain the old behavior, exclude the relevant entries before the concat operation.\n",
      "  player_logs_concat = pd.concat(player_logs, ignore_index=True)\n"
     ]
    },
    {
     "name": "stdout",
     "output_type": "stream",
     "text": [
      "Fetching logs for player Garrett Temple (ID: 202066) for season 2020-21...\n",
      "Fetching logs for player Garrett Temple (ID: 202066) for season 2021-22...\n",
      "Fetching logs for player Garrett Temple (ID: 202066) for season 2022-23...\n",
      "Fetching logs for player Garrett Temple (ID: 202066) for season 2023-24...\n",
      "Fetching logs for player Dalen Terry (ID: 1631207) for season 2020-21...\n",
      "Fetching logs for player Dalen Terry (ID: 1631207) for season 2021-22...\n",
      "Fetching logs for player Dalen Terry (ID: 1631207) for season 2022-23...\n",
      "Fetching logs for player Dalen Terry (ID: 1631207) for season 2023-24...\n"
     ]
    },
    {
     "name": "stderr",
     "output_type": "stream",
     "text": [
      "C:\\Users\\jwag1\\AppData\\Local\\Temp\\ipykernel_32800\\3592326873.py:51: FutureWarning: The behavior of DataFrame concatenation with empty or all-NA entries is deprecated. In a future version, this will no longer exclude empty or all-NA columns when determining the result dtypes. To retain the old behavior, exclude the relevant entries before the concat operation.\n",
      "  player_logs_concat = pd.concat(player_logs, ignore_index=True)\n"
     ]
    },
    {
     "name": "stdout",
     "output_type": "stream",
     "text": [
      "Fetching logs for player Emanuel Terry (ID: 1629150) for season 2020-21...\n",
      "Fetching logs for player Emanuel Terry (ID: 1629150) for season 2021-22...\n",
      "Fetching logs for player Emanuel Terry (ID: 1629150) for season 2022-23...\n",
      "Fetching logs for player Emanuel Terry (ID: 1629150) for season 2023-24...\n"
     ]
    },
    {
     "name": "stderr",
     "output_type": "stream",
     "text": [
      "C:\\Users\\jwag1\\AppData\\Local\\Temp\\ipykernel_32800\\3592326873.py:51: FutureWarning: The behavior of DataFrame concatenation with empty or all-NA entries is deprecated. In a future version, this will no longer exclude empty or all-NA columns when determining the result dtypes. To retain the old behavior, exclude the relevant entries before the concat operation.\n",
      "  player_logs_concat = pd.concat(player_logs, ignore_index=True)\n"
     ]
    },
    {
     "name": "stdout",
     "output_type": "stream",
     "text": [
      "Fetching logs for player Tyrell Terry (ID: 1630179) for season 2020-21...\n",
      "Fetching logs for player Tyrell Terry (ID: 1630179) for season 2021-22...\n",
      "Fetching logs for player Tyrell Terry (ID: 1630179) for season 2022-23...\n",
      "Fetching logs for player Tyrell Terry (ID: 1630179) for season 2023-24...\n"
     ]
    },
    {
     "name": "stderr",
     "output_type": "stream",
     "text": [
      "C:\\Users\\jwag1\\AppData\\Local\\Temp\\ipykernel_32800\\3592326873.py:51: FutureWarning: The behavior of DataFrame concatenation with empty or all-NA entries is deprecated. In a future version, this will no longer exclude empty or all-NA columns when determining the result dtypes. To retain the old behavior, exclude the relevant entries before the concat operation.\n",
      "  player_logs_concat = pd.concat(player_logs, ignore_index=True)\n"
     ]
    },
    {
     "name": "stdout",
     "output_type": "stream",
     "text": [
      "Fetching logs for player Jon Teske (ID: 1630257) for season 2020-21...\n",
      "Fetching logs for player Jon Teske (ID: 1630257) for season 2021-22...\n",
      "Fetching logs for player Jon Teske (ID: 1630257) for season 2022-23...\n",
      "Fetching logs for player Jon Teske (ID: 1630257) for season 2023-24...\n"
     ]
    },
    {
     "name": "stderr",
     "output_type": "stream",
     "text": [
      "C:\\Users\\jwag1\\AppData\\Local\\Temp\\ipykernel_32800\\3592326873.py:51: FutureWarning: The behavior of DataFrame concatenation with empty or all-NA entries is deprecated. In a future version, this will no longer exclude empty or all-NA columns when determining the result dtypes. To retain the old behavior, exclude the relevant entries before the concat operation.\n",
      "  player_logs_concat = pd.concat(player_logs, ignore_index=True)\n"
     ]
    },
    {
     "name": "stdout",
     "output_type": "stream",
     "text": [
      "Fetching logs for player Daniel Theis (ID: 1628464) for season 2020-21...\n",
      "Fetching logs for player Daniel Theis (ID: 1628464) for season 2021-22...\n",
      "Fetching logs for player Daniel Theis (ID: 1628464) for season 2022-23...\n",
      "Fetching logs for player Daniel Theis (ID: 1628464) for season 2023-24...\n",
      "Fetching logs for player Brodric Thomas (ID: 1630271) for season 2020-21...\n",
      "Fetching logs for player Brodric Thomas (ID: 1630271) for season 2021-22...\n",
      "Fetching logs for player Brodric Thomas (ID: 1630271) for season 2022-23...\n",
      "Fetching logs for player Brodric Thomas (ID: 1630271) for season 2023-24...\n"
     ]
    },
    {
     "name": "stderr",
     "output_type": "stream",
     "text": [
      "C:\\Users\\jwag1\\AppData\\Local\\Temp\\ipykernel_32800\\3592326873.py:51: FutureWarning: The behavior of DataFrame concatenation with empty or all-NA entries is deprecated. In a future version, this will no longer exclude empty or all-NA columns when determining the result dtypes. To retain the old behavior, exclude the relevant entries before the concat operation.\n",
      "  player_logs_concat = pd.concat(player_logs, ignore_index=True)\n"
     ]
    },
    {
     "name": "stdout",
     "output_type": "stream",
     "text": [
      "Fetching logs for player Cam Thomas (ID: 1630560) for season 2020-21...\n",
      "Fetching logs for player Cam Thomas (ID: 1630560) for season 2021-22...\n",
      "Fetching logs for player Cam Thomas (ID: 1630560) for season 2022-23...\n",
      "Fetching logs for player Cam Thomas (ID: 1630560) for season 2023-24...\n"
     ]
    },
    {
     "name": "stderr",
     "output_type": "stream",
     "text": [
      "C:\\Users\\jwag1\\AppData\\Local\\Temp\\ipykernel_32800\\3592326873.py:51: FutureWarning: The behavior of DataFrame concatenation with empty or all-NA entries is deprecated. In a future version, this will no longer exclude empty or all-NA columns when determining the result dtypes. To retain the old behavior, exclude the relevant entries before the concat operation.\n",
      "  player_logs_concat = pd.concat(player_logs, ignore_index=True)\n"
     ]
    },
    {
     "name": "stdout",
     "output_type": "stream",
     "text": [
      "Fetching logs for player Isaiah Thomas (ID: 202738) for season 2020-21...\n",
      "Fetching logs for player Isaiah Thomas (ID: 202738) for season 2021-22...\n",
      "Fetching logs for player Isaiah Thomas (ID: 202738) for season 2022-23...\n",
      "Fetching logs for player Isaiah Thomas (ID: 202738) for season 2023-24...\n"
     ]
    },
    {
     "name": "stderr",
     "output_type": "stream",
     "text": [
      "C:\\Users\\jwag1\\AppData\\Local\\Temp\\ipykernel_32800\\3592326873.py:51: FutureWarning: The behavior of DataFrame concatenation with empty or all-NA entries is deprecated. In a future version, this will no longer exclude empty or all-NA columns when determining the result dtypes. To retain the old behavior, exclude the relevant entries before the concat operation.\n",
      "  player_logs_concat = pd.concat(player_logs, ignore_index=True)\n"
     ]
    },
    {
     "name": "stdout",
     "output_type": "stream",
     "text": [
      "Fetching logs for player Khyri Thomas (ID: 1629017) for season 2020-21...\n",
      "Fetching logs for player Khyri Thomas (ID: 1629017) for season 2021-22...\n",
      "Fetching logs for player Khyri Thomas (ID: 1629017) for season 2022-23...\n",
      "Fetching logs for player Khyri Thomas (ID: 1629017) for season 2023-24...\n"
     ]
    },
    {
     "name": "stderr",
     "output_type": "stream",
     "text": [
      "C:\\Users\\jwag1\\AppData\\Local\\Temp\\ipykernel_32800\\3592326873.py:51: FutureWarning: The behavior of DataFrame concatenation with empty or all-NA entries is deprecated. In a future version, this will no longer exclude empty or all-NA columns when determining the result dtypes. To retain the old behavior, exclude the relevant entries before the concat operation.\n",
      "  player_logs_concat = pd.concat(player_logs, ignore_index=True)\n"
     ]
    },
    {
     "name": "stdout",
     "output_type": "stream",
     "text": [
      "Fetching logs for player Matt Thomas (ID: 1629744) for season 2020-21...\n",
      "Fetching logs for player Matt Thomas (ID: 1629744) for season 2021-22...\n",
      "Fetching logs for player Matt Thomas (ID: 1629744) for season 2022-23...\n",
      "Fetching logs for player Matt Thomas (ID: 1629744) for season 2023-24...\n"
     ]
    },
    {
     "name": "stderr",
     "output_type": "stream",
     "text": [
      "C:\\Users\\jwag1\\AppData\\Local\\Temp\\ipykernel_32800\\3592326873.py:51: FutureWarning: The behavior of DataFrame concatenation with empty or all-NA entries is deprecated. In a future version, this will no longer exclude empty or all-NA columns when determining the result dtypes. To retain the old behavior, exclude the relevant entries before the concat operation.\n",
      "  player_logs_concat = pd.concat(player_logs, ignore_index=True)\n"
     ]
    },
    {
     "name": "stdout",
     "output_type": "stream",
     "text": [
      "Fetching logs for player Amen Thompson (ID: 1641708) for season 2020-21...\n",
      "Fetching logs for player Amen Thompson (ID: 1641708) for season 2021-22...\n",
      "Fetching logs for player Amen Thompson (ID: 1641708) for season 2022-23...\n",
      "Fetching logs for player Amen Thompson (ID: 1641708) for season 2023-24...\n"
     ]
    },
    {
     "name": "stderr",
     "output_type": "stream",
     "text": [
      "C:\\Users\\jwag1\\AppData\\Local\\Temp\\ipykernel_32800\\3592326873.py:51: FutureWarning: The behavior of DataFrame concatenation with empty or all-NA entries is deprecated. In a future version, this will no longer exclude empty or all-NA columns when determining the result dtypes. To retain the old behavior, exclude the relevant entries before the concat operation.\n",
      "  player_logs_concat = pd.concat(player_logs, ignore_index=True)\n"
     ]
    },
    {
     "name": "stdout",
     "output_type": "stream",
     "text": [
      "Fetching logs for player Ausar Thompson (ID: 1641709) for season 2020-21...\n",
      "Fetching logs for player Ausar Thompson (ID: 1641709) for season 2021-22...\n",
      "Fetching logs for player Ausar Thompson (ID: 1641709) for season 2022-23...\n",
      "Fetching logs for player Ausar Thompson (ID: 1641709) for season 2023-24...\n"
     ]
    },
    {
     "name": "stderr",
     "output_type": "stream",
     "text": [
      "C:\\Users\\jwag1\\AppData\\Local\\Temp\\ipykernel_32800\\3592326873.py:51: FutureWarning: The behavior of DataFrame concatenation with empty or all-NA entries is deprecated. In a future version, this will no longer exclude empty or all-NA columns when determining the result dtypes. To retain the old behavior, exclude the relevant entries before the concat operation.\n",
      "  player_logs_concat = pd.concat(player_logs, ignore_index=True)\n"
     ]
    },
    {
     "name": "stdout",
     "output_type": "stream",
     "text": [
      "Fetching logs for player Klay Thompson (ID: 202691) for season 2020-21...\n",
      "Fetching logs for player Klay Thompson (ID: 202691) for season 2021-22...\n",
      "Fetching logs for player Klay Thompson (ID: 202691) for season 2022-23...\n",
      "Fetching logs for player Klay Thompson (ID: 202691) for season 2023-24...\n"
     ]
    },
    {
     "name": "stderr",
     "output_type": "stream",
     "text": [
      "C:\\Users\\jwag1\\AppData\\Local\\Temp\\ipykernel_32800\\3592326873.py:51: FutureWarning: The behavior of DataFrame concatenation with empty or all-NA entries is deprecated. In a future version, this will no longer exclude empty or all-NA columns when determining the result dtypes. To retain the old behavior, exclude the relevant entries before the concat operation.\n",
      "  player_logs_concat = pd.concat(player_logs, ignore_index=True)\n"
     ]
    },
    {
     "name": "stdout",
     "output_type": "stream",
     "text": [
      "Fetching logs for player Tristan Thompson (ID: 202684) for season 2020-21...\n",
      "Fetching logs for player Tristan Thompson (ID: 202684) for season 2021-22...\n",
      "Fetching logs for player Tristan Thompson (ID: 202684) for season 2022-23...\n",
      "Fetching logs for player Tristan Thompson (ID: 202684) for season 2023-24...\n"
     ]
    },
    {
     "name": "stderr",
     "output_type": "stream",
     "text": [
      "C:\\Users\\jwag1\\AppData\\Local\\Temp\\ipykernel_32800\\3592326873.py:51: FutureWarning: The behavior of DataFrame concatenation with empty or all-NA entries is deprecated. In a future version, this will no longer exclude empty or all-NA columns when determining the result dtypes. To retain the old behavior, exclude the relevant entries before the concat operation.\n",
      "  player_logs_concat = pd.concat(player_logs, ignore_index=True)\n"
     ]
    },
    {
     "name": "stdout",
     "output_type": "stream",
     "text": [
      "Fetching logs for player JT Thor (ID: 1630550) for season 2020-21...\n",
      "Fetching logs for player JT Thor (ID: 1630550) for season 2021-22...\n",
      "Fetching logs for player JT Thor (ID: 1630550) for season 2022-23...\n",
      "Fetching logs for player JT Thor (ID: 1630550) for season 2023-24...\n"
     ]
    },
    {
     "name": "stderr",
     "output_type": "stream",
     "text": [
      "C:\\Users\\jwag1\\AppData\\Local\\Temp\\ipykernel_32800\\3592326873.py:51: FutureWarning: The behavior of DataFrame concatenation with empty or all-NA entries is deprecated. In a future version, this will no longer exclude empty or all-NA columns when determining the result dtypes. To retain the old behavior, exclude the relevant entries before the concat operation.\n",
      "  player_logs_concat = pd.concat(player_logs, ignore_index=True)\n"
     ]
    },
    {
     "name": "stdout",
     "output_type": "stream",
     "text": [
      "Fetching logs for player Sindarius Thornwell (ID: 1628414) for season 2020-21...\n",
      "Fetching logs for player Sindarius Thornwell (ID: 1628414) for season 2021-22...\n",
      "Fetching logs for player Sindarius Thornwell (ID: 1628414) for season 2022-23...\n",
      "Fetching logs for player Sindarius Thornwell (ID: 1628414) for season 2023-24...\n"
     ]
    },
    {
     "name": "stderr",
     "output_type": "stream",
     "text": [
      "C:\\Users\\jwag1\\AppData\\Local\\Temp\\ipykernel_32800\\3592326873.py:51: FutureWarning: The behavior of DataFrame concatenation with empty or all-NA entries is deprecated. In a future version, this will no longer exclude empty or all-NA columns when determining the result dtypes. To retain the old behavior, exclude the relevant entries before the concat operation.\n",
      "  player_logs_concat = pd.concat(player_logs, ignore_index=True)\n"
     ]
    },
    {
     "name": "stdout",
     "output_type": "stream",
     "text": [
      "Fetching logs for player Matisse Thybulle (ID: 1629680) for season 2020-21...\n",
      "Fetching logs for player Matisse Thybulle (ID: 1629680) for season 2021-22...\n",
      "Fetching logs for player Matisse Thybulle (ID: 1629680) for season 2022-23...\n",
      "Fetching logs for player Matisse Thybulle (ID: 1629680) for season 2023-24...\n",
      "Fetching logs for player Killian Tillie (ID: 1629681) for season 2020-21...\n",
      "Fetching logs for player Killian Tillie (ID: 1629681) for season 2021-22...\n",
      "Fetching logs for player Killian Tillie (ID: 1629681) for season 2022-23...\n",
      "Fetching logs for player Killian Tillie (ID: 1629681) for season 2023-24...\n"
     ]
    },
    {
     "name": "stderr",
     "output_type": "stream",
     "text": [
      "C:\\Users\\jwag1\\AppData\\Local\\Temp\\ipykernel_32800\\3592326873.py:51: FutureWarning: The behavior of DataFrame concatenation with empty or all-NA entries is deprecated. In a future version, this will no longer exclude empty or all-NA columns when determining the result dtypes. To retain the old behavior, exclude the relevant entries before the concat operation.\n",
      "  player_logs_concat = pd.concat(player_logs, ignore_index=True)\n"
     ]
    },
    {
     "name": "stdout",
     "output_type": "stream",
     "text": [
      "Fetching logs for player Xavier Tillman (ID: 1630214) for season 2020-21...\n",
      "Fetching logs for player Xavier Tillman (ID: 1630214) for season 2021-22...\n",
      "Fetching logs for player Xavier Tillman (ID: 1630214) for season 2022-23...\n",
      "Fetching logs for player Xavier Tillman (ID: 1630214) for season 2023-24...\n",
      "Fetching logs for player Isaiah Todd (ID: 1630225) for season 2020-21...\n",
      "Fetching logs for player Isaiah Todd (ID: 1630225) for season 2021-22...\n",
      "Fetching logs for player Isaiah Todd (ID: 1630225) for season 2022-23...\n",
      "Fetching logs for player Isaiah Todd (ID: 1630225) for season 2023-24...\n"
     ]
    },
    {
     "name": "stderr",
     "output_type": "stream",
     "text": [
      "C:\\Users\\jwag1\\AppData\\Local\\Temp\\ipykernel_32800\\3592326873.py:51: FutureWarning: The behavior of DataFrame concatenation with empty or all-NA entries is deprecated. In a future version, this will no longer exclude empty or all-NA columns when determining the result dtypes. To retain the old behavior, exclude the relevant entries before the concat operation.\n",
      "  player_logs_concat = pd.concat(player_logs, ignore_index=True)\n"
     ]
    },
    {
     "name": "stdout",
     "output_type": "stream",
     "text": [
      "Fetching logs for player Anthony Tolliver (ID: 201229) for season 2020-21...\n",
      "Fetching logs for player Anthony Tolliver (ID: 201229) for season 2021-22...\n",
      "Fetching logs for player Anthony Tolliver (ID: 201229) for season 2022-23...\n",
      "Fetching logs for player Anthony Tolliver (ID: 201229) for season 2023-24...\n"
     ]
    },
    {
     "name": "stderr",
     "output_type": "stream",
     "text": [
      "C:\\Users\\jwag1\\AppData\\Local\\Temp\\ipykernel_32800\\3592326873.py:51: FutureWarning: The behavior of DataFrame concatenation with empty or all-NA entries is deprecated. In a future version, this will no longer exclude empty or all-NA columns when determining the result dtypes. To retain the old behavior, exclude the relevant entries before the concat operation.\n",
      "  player_logs_concat = pd.concat(player_logs, ignore_index=True)\n"
     ]
    },
    {
     "name": "stdout",
     "output_type": "stream",
     "text": [
      "Fetching logs for player Jacob Toppin (ID: 1631210) for season 2020-21...\n",
      "Fetching logs for player Jacob Toppin (ID: 1631210) for season 2021-22...\n",
      "Fetching logs for player Jacob Toppin (ID: 1631210) for season 2022-23...\n",
      "Fetching logs for player Jacob Toppin (ID: 1631210) for season 2023-24...\n"
     ]
    },
    {
     "name": "stderr",
     "output_type": "stream",
     "text": [
      "C:\\Users\\jwag1\\AppData\\Local\\Temp\\ipykernel_32800\\3592326873.py:51: FutureWarning: The behavior of DataFrame concatenation with empty or all-NA entries is deprecated. In a future version, this will no longer exclude empty or all-NA columns when determining the result dtypes. To retain the old behavior, exclude the relevant entries before the concat operation.\n",
      "  player_logs_concat = pd.concat(player_logs, ignore_index=True)\n"
     ]
    },
    {
     "name": "stdout",
     "output_type": "stream",
     "text": [
      "Fetching logs for player Obi Toppin (ID: 1630167) for season 2020-21...\n",
      "Fetching logs for player Obi Toppin (ID: 1630167) for season 2021-22...\n",
      "Fetching logs for player Obi Toppin (ID: 1630167) for season 2022-23...\n",
      "Fetching logs for player Obi Toppin (ID: 1630167) for season 2023-24...\n",
      "Fetching logs for player Juan Toscano-Anderson (ID: 1629308) for season 2020-21...\n",
      "Fetching logs for player Juan Toscano-Anderson (ID: 1629308) for season 2021-22...\n",
      "Fetching logs for player Juan Toscano-Anderson (ID: 1629308) for season 2022-23...\n",
      "Fetching logs for player Juan Toscano-Anderson (ID: 1629308) for season 2023-24...\n",
      "Fetching logs for player Axel Toupane (ID: 1626253) for season 2020-21...\n",
      "Fetching logs for player Axel Toupane (ID: 1626253) for season 2021-22...\n",
      "Fetching logs for player Axel Toupane (ID: 1626253) for season 2022-23...\n",
      "Fetching logs for player Axel Toupane (ID: 1626253) for season 2023-24...\n"
     ]
    },
    {
     "name": "stderr",
     "output_type": "stream",
     "text": [
      "C:\\Users\\jwag1\\AppData\\Local\\Temp\\ipykernel_32800\\3592326873.py:51: FutureWarning: The behavior of DataFrame concatenation with empty or all-NA entries is deprecated. In a future version, this will no longer exclude empty or all-NA columns when determining the result dtypes. To retain the old behavior, exclude the relevant entries before the concat operation.\n",
      "  player_logs_concat = pd.concat(player_logs, ignore_index=True)\n"
     ]
    },
    {
     "name": "stdout",
     "output_type": "stream",
     "text": [
      "Fetching logs for player Karl-Anthony Towns (ID: 1626157) for season 2020-21...\n",
      "Fetching logs for player Karl-Anthony Towns (ID: 1626157) for season 2021-22...\n",
      "Fetching logs for player Karl-Anthony Towns (ID: 1626157) for season 2022-23...\n",
      "Fetching logs for player Karl-Anthony Towns (ID: 1626157) for season 2023-24...\n",
      "Fetching logs for player Gary Trent Jr. (ID: 1629018) for season 2020-21...\n",
      "Fetching logs for player Gary Trent Jr. (ID: 1629018) for season 2021-22...\n",
      "Fetching logs for player Gary Trent Jr. (ID: 1629018) for season 2022-23...\n",
      "Fetching logs for player Gary Trent Jr. (ID: 1629018) for season 2023-24...\n"
     ]
    },
    {
     "name": "stderr",
     "output_type": "stream",
     "text": [
      "\r",
      " 89%|████████▉ | 16/18 [29:36<03:59, 119.59s/it]"
     ]
    },
    {
     "name": "stdout",
     "output_type": "stream",
     "text": [
      "Processing batch 800 to 850...\n",
      "Fetching logs for player Oscar Tshiebwe (ID: 1631131) for season 2020-21...\n",
      "Fetching logs for player Oscar Tshiebwe (ID: 1631131) for season 2021-22...\n",
      "Fetching logs for player Oscar Tshiebwe (ID: 1631131) for season 2022-23...\n",
      "Fetching logs for player Oscar Tshiebwe (ID: 1631131) for season 2023-24...\n"
     ]
    },
    {
     "name": "stderr",
     "output_type": "stream",
     "text": [
      "C:\\Users\\jwag1\\AppData\\Local\\Temp\\ipykernel_32800\\3592326873.py:51: FutureWarning: The behavior of DataFrame concatenation with empty or all-NA entries is deprecated. In a future version, this will no longer exclude empty or all-NA columns when determining the result dtypes. To retain the old behavior, exclude the relevant entries before the concat operation.\n",
      "  player_logs_concat = pd.concat(player_logs, ignore_index=True)\n"
     ]
    },
    {
     "name": "stdout",
     "output_type": "stream",
     "text": [
      "Fetching logs for player P.J. Tucker (ID: 200782) for season 2020-21...\n",
      "Fetching logs for player P.J. Tucker (ID: 200782) for season 2021-22...\n",
      "Fetching logs for player P.J. Tucker (ID: 200782) for season 2022-23...\n",
      "Fetching logs for player P.J. Tucker (ID: 200782) for season 2023-24...\n",
      "Fetching logs for player Rayjon Tucker (ID: 1629730) for season 2020-21...\n",
      "Fetching logs for player Rayjon Tucker (ID: 1629730) for season 2021-22...\n",
      "Fetching logs for player Rayjon Tucker (ID: 1629730) for season 2022-23...\n",
      "Fetching logs for player Rayjon Tucker (ID: 1629730) for season 2023-24...\n"
     ]
    },
    {
     "name": "stderr",
     "output_type": "stream",
     "text": [
      "C:\\Users\\jwag1\\AppData\\Local\\Temp\\ipykernel_32800\\3592326873.py:51: FutureWarning: The behavior of DataFrame concatenation with empty or all-NA entries is deprecated. In a future version, this will no longer exclude empty or all-NA columns when determining the result dtypes. To retain the old behavior, exclude the relevant entries before the concat operation.\n",
      "  player_logs_concat = pd.concat(player_logs, ignore_index=True)\n"
     ]
    },
    {
     "name": "stdout",
     "output_type": "stream",
     "text": [
      "Fetching logs for player Myles Turner (ID: 1626167) for season 2020-21...\n",
      "Fetching logs for player Myles Turner (ID: 1626167) for season 2021-22...\n",
      "Fetching logs for player Myles Turner (ID: 1626167) for season 2022-23...\n",
      "Fetching logs for player Myles Turner (ID: 1626167) for season 2023-24...\n",
      "Fetching logs for player Hunter Tyson (ID: 1641816) for season 2020-21...\n",
      "Fetching logs for player Hunter Tyson (ID: 1641816) for season 2021-22...\n",
      "Fetching logs for player Hunter Tyson (ID: 1641816) for season 2022-23...\n",
      "Fetching logs for player Hunter Tyson (ID: 1641816) for season 2023-24...\n"
     ]
    },
    {
     "name": "stderr",
     "output_type": "stream",
     "text": [
      "C:\\Users\\jwag1\\AppData\\Local\\Temp\\ipykernel_32800\\3592326873.py:51: FutureWarning: The behavior of DataFrame concatenation with empty or all-NA entries is deprecated. In a future version, this will no longer exclude empty or all-NA columns when determining the result dtypes. To retain the old behavior, exclude the relevant entries before the concat operation.\n",
      "  player_logs_concat = pd.concat(player_logs, ignore_index=True)\n"
     ]
    },
    {
     "name": "stdout",
     "output_type": "stream",
     "text": [
      "Fetching logs for player Stanley Umude (ID: 1630649) for season 2020-21...\n",
      "Fetching logs for player Stanley Umude (ID: 1630649) for season 2021-22...\n",
      "Fetching logs for player Stanley Umude (ID: 1630649) for season 2022-23...\n",
      "Fetching logs for player Stanley Umude (ID: 1630649) for season 2023-24...\n"
     ]
    },
    {
     "name": "stderr",
     "output_type": "stream",
     "text": [
      "C:\\Users\\jwag1\\AppData\\Local\\Temp\\ipykernel_32800\\3592326873.py:51: FutureWarning: The behavior of DataFrame concatenation with empty or all-NA entries is deprecated. In a future version, this will no longer exclude empty or all-NA columns when determining the result dtypes. To retain the old behavior, exclude the relevant entries before the concat operation.\n",
      "  player_logs_concat = pd.concat(player_logs, ignore_index=True)\n"
     ]
    },
    {
     "name": "stdout",
     "output_type": "stream",
     "text": [
      "Fetching logs for player Jonas Valanciunas (ID: 202685) for season 2020-21...\n",
      "Fetching logs for player Jonas Valanciunas (ID: 202685) for season 2021-22...\n",
      "Fetching logs for player Jonas Valanciunas (ID: 202685) for season 2022-23...\n",
      "Fetching logs for player Jonas Valanciunas (ID: 202685) for season 2023-24...\n",
      "Fetching logs for player Denzel Valentine (ID: 1627756) for season 2020-21...\n",
      "Fetching logs for player Denzel Valentine (ID: 1627756) for season 2021-22...\n",
      "Fetching logs for player Denzel Valentine (ID: 1627756) for season 2022-23...\n",
      "Fetching logs for player Denzel Valentine (ID: 1627756) for season 2023-24...\n"
     ]
    },
    {
     "name": "stderr",
     "output_type": "stream",
     "text": [
      "C:\\Users\\jwag1\\AppData\\Local\\Temp\\ipykernel_32800\\3592326873.py:51: FutureWarning: The behavior of DataFrame concatenation with empty or all-NA entries is deprecated. In a future version, this will no longer exclude empty or all-NA columns when determining the result dtypes. To retain the old behavior, exclude the relevant entries before the concat operation.\n",
      "  player_logs_concat = pd.concat(player_logs, ignore_index=True)\n"
     ]
    },
    {
     "name": "stdout",
     "output_type": "stream",
     "text": [
      "Fetching logs for player Fred VanVleet (ID: 1627832) for season 2020-21...\n",
      "Fetching logs for player Fred VanVleet (ID: 1627832) for season 2021-22...\n",
      "Fetching logs for player Fred VanVleet (ID: 1627832) for season 2022-23...\n",
      "Fetching logs for player Fred VanVleet (ID: 1627832) for season 2023-24...\n",
      "Fetching logs for player Jarred Vanderbilt (ID: 1629020) for season 2020-21...\n",
      "Fetching logs for player Jarred Vanderbilt (ID: 1629020) for season 2021-22...\n",
      "Fetching logs for player Jarred Vanderbilt (ID: 1629020) for season 2022-23...\n",
      "Fetching logs for player Jarred Vanderbilt (ID: 1629020) for season 2023-24...\n",
      "Fetching logs for player Anderson Varejao (ID: 2760) for season 2020-21...\n",
      "Fetching logs for player Anderson Varejao (ID: 2760) for season 2021-22...\n",
      "Fetching logs for player Anderson Varejao (ID: 2760) for season 2022-23...\n",
      "Fetching logs for player Anderson Varejao (ID: 2760) for season 2023-24...\n"
     ]
    },
    {
     "name": "stderr",
     "output_type": "stream",
     "text": [
      "C:\\Users\\jwag1\\AppData\\Local\\Temp\\ipykernel_32800\\3592326873.py:51: FutureWarning: The behavior of DataFrame concatenation with empty or all-NA entries is deprecated. In a future version, this will no longer exclude empty or all-NA columns when determining the result dtypes. To retain the old behavior, exclude the relevant entries before the concat operation.\n",
      "  player_logs_concat = pd.concat(player_logs, ignore_index=True)\n"
     ]
    },
    {
     "name": "stdout",
     "output_type": "stream",
     "text": [
      "Fetching logs for player Devin Vassell (ID: 1630170) for season 2020-21...\n",
      "Fetching logs for player Devin Vassell (ID: 1630170) for season 2021-22...\n",
      "Fetching logs for player Devin Vassell (ID: 1630170) for season 2022-23...\n",
      "Fetching logs for player Devin Vassell (ID: 1630170) for season 2023-24...\n",
      "Fetching logs for player Sasha Vezenkov (ID: 1628426) for season 2020-21...\n",
      "Fetching logs for player Sasha Vezenkov (ID: 1628426) for season 2021-22...\n",
      "Fetching logs for player Sasha Vezenkov (ID: 1628426) for season 2022-23...\n",
      "Fetching logs for player Sasha Vezenkov (ID: 1628426) for season 2023-24...\n"
     ]
    },
    {
     "name": "stderr",
     "output_type": "stream",
     "text": [
      "C:\\Users\\jwag1\\AppData\\Local\\Temp\\ipykernel_32800\\3592326873.py:51: FutureWarning: The behavior of DataFrame concatenation with empty or all-NA entries is deprecated. In a future version, this will no longer exclude empty or all-NA columns when determining the result dtypes. To retain the old behavior, exclude the relevant entries before the concat operation.\n",
      "  player_logs_concat = pd.concat(player_logs, ignore_index=True)\n"
     ]
    },
    {
     "name": "stdout",
     "output_type": "stream",
     "text": [
      "Fetching logs for player Luca Vildoza (ID: 1630492) for season 2020-21...\n",
      "Fetching logs for player Luca Vildoza (ID: 1630492) for season 2021-22...\n",
      "Fetching logs for player Luca Vildoza (ID: 1630492) for season 2022-23...\n",
      "Fetching logs for player Luca Vildoza (ID: 1630492) for season 2023-24...\n",
      "Fetching logs for player Gabe Vincent (ID: 1629216) for season 2020-21...\n",
      "Fetching logs for player Gabe Vincent (ID: 1629216) for season 2021-22...\n",
      "Fetching logs for player Gabe Vincent (ID: 1629216) for season 2022-23...\n",
      "Fetching logs for player Gabe Vincent (ID: 1629216) for season 2023-24...\n",
      "Fetching logs for player Noah Vonleh (ID: 203943) for season 2020-21...\n",
      "Fetching logs for player Noah Vonleh (ID: 203943) for season 2021-22...\n",
      "Fetching logs for player Noah Vonleh (ID: 203943) for season 2022-23...\n",
      "Fetching logs for player Noah Vonleh (ID: 203943) for season 2023-24...\n"
     ]
    },
    {
     "name": "stderr",
     "output_type": "stream",
     "text": [
      "C:\\Users\\jwag1\\AppData\\Local\\Temp\\ipykernel_32800\\3592326873.py:51: FutureWarning: The behavior of DataFrame concatenation with empty or all-NA entries is deprecated. In a future version, this will no longer exclude empty or all-NA columns when determining the result dtypes. To retain the old behavior, exclude the relevant entries before the concat operation.\n",
      "  player_logs_concat = pd.concat(player_logs, ignore_index=True)\n"
     ]
    },
    {
     "name": "stdout",
     "output_type": "stream",
     "text": [
      "Fetching logs for player Nikola Vucevic (ID: 202696) for season 2020-21...\n",
      "Fetching logs for player Nikola Vucevic (ID: 202696) for season 2021-22...\n",
      "Fetching logs for player Nikola Vucevic (ID: 202696) for season 2022-23...\n",
      "Fetching logs for player Nikola Vucevic (ID: 202696) for season 2023-24...\n",
      "Fetching logs for player Tristan Vukcevic (ID: 1641774) for season 2020-21...\n",
      "Fetching logs for player Tristan Vukcevic (ID: 1641774) for season 2021-22...\n",
      "Fetching logs for player Tristan Vukcevic (ID: 1641774) for season 2022-23...\n",
      "Fetching logs for player Tristan Vukcevic (ID: 1641774) for season 2023-24...\n"
     ]
    },
    {
     "name": "stderr",
     "output_type": "stream",
     "text": [
      "C:\\Users\\jwag1\\AppData\\Local\\Temp\\ipykernel_32800\\3592326873.py:51: FutureWarning: The behavior of DataFrame concatenation with empty or all-NA entries is deprecated. In a future version, this will no longer exclude empty or all-NA columns when determining the result dtypes. To retain the old behavior, exclude the relevant entries before the concat operation.\n",
      "  player_logs_concat = pd.concat(player_logs, ignore_index=True)\n"
     ]
    },
    {
     "name": "stdout",
     "output_type": "stream",
     "text": [
      "Fetching logs for player Dean Wade (ID: 1629731) for season 2020-21...\n",
      "Fetching logs for player Dean Wade (ID: 1629731) for season 2021-22...\n",
      "Fetching logs for player Dean Wade (ID: 1629731) for season 2022-23...\n",
      "Fetching logs for player Dean Wade (ID: 1629731) for season 2023-24...\n",
      "Fetching logs for player Franz Wagner (ID: 1630532) for season 2020-21...\n",
      "Fetching logs for player Franz Wagner (ID: 1630532) for season 2021-22...\n",
      "Fetching logs for player Franz Wagner (ID: 1630532) for season 2022-23...\n",
      "Fetching logs for player Franz Wagner (ID: 1630532) for season 2023-24...\n"
     ]
    },
    {
     "name": "stderr",
     "output_type": "stream",
     "text": [
      "C:\\Users\\jwag1\\AppData\\Local\\Temp\\ipykernel_32800\\3592326873.py:51: FutureWarning: The behavior of DataFrame concatenation with empty or all-NA entries is deprecated. In a future version, this will no longer exclude empty or all-NA columns when determining the result dtypes. To retain the old behavior, exclude the relevant entries before the concat operation.\n",
      "  player_logs_concat = pd.concat(player_logs, ignore_index=True)\n"
     ]
    },
    {
     "name": "stdout",
     "output_type": "stream",
     "text": [
      "Fetching logs for player Moritz Wagner (ID: 1629021) for season 2020-21...\n",
      "Fetching logs for player Moritz Wagner (ID: 1629021) for season 2021-22...\n",
      "Fetching logs for player Moritz Wagner (ID: 1629021) for season 2022-23...\n",
      "Fetching logs for player Moritz Wagner (ID: 1629021) for season 2023-24...\n",
      "Fetching logs for player Ish Wainright (ID: 1630688) for season 2020-21...\n",
      "Fetching logs for player Ish Wainright (ID: 1630688) for season 2021-22...\n",
      "Fetching logs for player Ish Wainright (ID: 1630688) for season 2022-23...\n",
      "Fetching logs for player Ish Wainright (ID: 1630688) for season 2023-24...\n"
     ]
    },
    {
     "name": "stderr",
     "output_type": "stream",
     "text": [
      "C:\\Users\\jwag1\\AppData\\Local\\Temp\\ipykernel_32800\\3592326873.py:51: FutureWarning: The behavior of DataFrame concatenation with empty or all-NA entries is deprecated. In a future version, this will no longer exclude empty or all-NA columns when determining the result dtypes. To retain the old behavior, exclude the relevant entries before the concat operation.\n",
      "  player_logs_concat = pd.concat(player_logs, ignore_index=True)\n"
     ]
    },
    {
     "name": "stdout",
     "output_type": "stream",
     "text": [
      "Fetching logs for player Jabari Walker (ID: 1631133) for season 2020-21...\n",
      "Fetching logs for player Jabari Walker (ID: 1631133) for season 2021-22...\n",
      "Fetching logs for player Jabari Walker (ID: 1631133) for season 2022-23...\n",
      "Fetching logs for player Jabari Walker (ID: 1631133) for season 2023-24...\n"
     ]
    },
    {
     "name": "stderr",
     "output_type": "stream",
     "text": [
      "C:\\Users\\jwag1\\AppData\\Local\\Temp\\ipykernel_32800\\3592326873.py:51: FutureWarning: The behavior of DataFrame concatenation with empty or all-NA entries is deprecated. In a future version, this will no longer exclude empty or all-NA columns when determining the result dtypes. To retain the old behavior, exclude the relevant entries before the concat operation.\n",
      "  player_logs_concat = pd.concat(player_logs, ignore_index=True)\n"
     ]
    },
    {
     "name": "stdout",
     "output_type": "stream",
     "text": [
      "Fetching logs for player Jarace Walker (ID: 1641716) for season 2020-21...\n",
      "Fetching logs for player Jarace Walker (ID: 1641716) for season 2021-22...\n",
      "Fetching logs for player Jarace Walker (ID: 1641716) for season 2022-23...\n",
      "Fetching logs for player Jarace Walker (ID: 1641716) for season 2023-24...\n"
     ]
    },
    {
     "name": "stderr",
     "output_type": "stream",
     "text": [
      "C:\\Users\\jwag1\\AppData\\Local\\Temp\\ipykernel_32800\\3592326873.py:51: FutureWarning: The behavior of DataFrame concatenation with empty or all-NA entries is deprecated. In a future version, this will no longer exclude empty or all-NA columns when determining the result dtypes. To retain the old behavior, exclude the relevant entries before the concat operation.\n",
      "  player_logs_concat = pd.concat(player_logs, ignore_index=True)\n"
     ]
    },
    {
     "name": "stdout",
     "output_type": "stream",
     "text": [
      "Fetching logs for player Kemba Walker (ID: 202689) for season 2020-21...\n",
      "Fetching logs for player Kemba Walker (ID: 202689) for season 2021-22...\n",
      "Fetching logs for player Kemba Walker (ID: 202689) for season 2022-23...\n",
      "Fetching logs for player Kemba Walker (ID: 202689) for season 2023-24...\n"
     ]
    },
    {
     "name": "stderr",
     "output_type": "stream",
     "text": [
      "C:\\Users\\jwag1\\AppData\\Local\\Temp\\ipykernel_32800\\3592326873.py:51: FutureWarning: The behavior of DataFrame concatenation with empty or all-NA entries is deprecated. In a future version, this will no longer exclude empty or all-NA columns when determining the result dtypes. To retain the old behavior, exclude the relevant entries before the concat operation.\n",
      "  player_logs_concat = pd.concat(player_logs, ignore_index=True)\n"
     ]
    },
    {
     "name": "stdout",
     "output_type": "stream",
     "text": [
      "Fetching logs for player MJ Walker (ID: 1630640) for season 2020-21...\n",
      "Fetching logs for player MJ Walker (ID: 1630640) for season 2021-22...\n",
      "Fetching logs for player MJ Walker (ID: 1630640) for season 2022-23...\n",
      "Fetching logs for player MJ Walker (ID: 1630640) for season 2023-24...\n"
     ]
    },
    {
     "name": "stderr",
     "output_type": "stream",
     "text": [
      "C:\\Users\\jwag1\\AppData\\Local\\Temp\\ipykernel_32800\\3592326873.py:51: FutureWarning: The behavior of DataFrame concatenation with empty or all-NA entries is deprecated. In a future version, this will no longer exclude empty or all-NA columns when determining the result dtypes. To retain the old behavior, exclude the relevant entries before the concat operation.\n",
      "  player_logs_concat = pd.concat(player_logs, ignore_index=True)\n"
     ]
    },
    {
     "name": "stdout",
     "output_type": "stream",
     "text": [
      "Fetching logs for player Lonnie Walker IV (ID: 1629022) for season 2020-21...\n",
      "Fetching logs for player Lonnie Walker IV (ID: 1629022) for season 2021-22...\n",
      "Fetching logs for player Lonnie Walker IV (ID: 1629022) for season 2022-23...\n",
      "Fetching logs for player Lonnie Walker IV (ID: 1629022) for season 2023-24...\n",
      "Fetching logs for player John Wall (ID: 202322) for season 2020-21...\n",
      "Fetching logs for player John Wall (ID: 202322) for season 2021-22...\n",
      "Fetching logs for player John Wall (ID: 202322) for season 2022-23...\n",
      "Fetching logs for player John Wall (ID: 202322) for season 2023-24...\n"
     ]
    },
    {
     "name": "stderr",
     "output_type": "stream",
     "text": [
      "C:\\Users\\jwag1\\AppData\\Local\\Temp\\ipykernel_32800\\3592326873.py:51: FutureWarning: The behavior of DataFrame concatenation with empty or all-NA entries is deprecated. In a future version, this will no longer exclude empty or all-NA columns when determining the result dtypes. To retain the old behavior, exclude the relevant entries before the concat operation.\n",
      "  player_logs_concat = pd.concat(player_logs, ignore_index=True)\n"
     ]
    },
    {
     "name": "stdout",
     "output_type": "stream",
     "text": [
      "Fetching logs for player Cason Wallace (ID: 1641717) for season 2020-21...\n",
      "Fetching logs for player Cason Wallace (ID: 1641717) for season 2021-22...\n",
      "Fetching logs for player Cason Wallace (ID: 1641717) for season 2022-23...\n",
      "Fetching logs for player Cason Wallace (ID: 1641717) for season 2023-24...\n"
     ]
    },
    {
     "name": "stderr",
     "output_type": "stream",
     "text": [
      "C:\\Users\\jwag1\\AppData\\Local\\Temp\\ipykernel_32800\\3592326873.py:51: FutureWarning: The behavior of DataFrame concatenation with empty or all-NA entries is deprecated. In a future version, this will no longer exclude empty or all-NA columns when determining the result dtypes. To retain the old behavior, exclude the relevant entries before the concat operation.\n",
      "  player_logs_concat = pd.concat(player_logs, ignore_index=True)\n"
     ]
    },
    {
     "name": "stdout",
     "output_type": "stream",
     "text": [
      "Fetching logs for player Tyrone Wallace (ID: 1627820) for season 2020-21...\n",
      "Fetching logs for player Tyrone Wallace (ID: 1627820) for season 2021-22...\n",
      "Fetching logs for player Tyrone Wallace (ID: 1627820) for season 2022-23...\n",
      "Fetching logs for player Tyrone Wallace (ID: 1627820) for season 2023-24...\n"
     ]
    },
    {
     "name": "stderr",
     "output_type": "stream",
     "text": [
      "C:\\Users\\jwag1\\AppData\\Local\\Temp\\ipykernel_32800\\3592326873.py:51: FutureWarning: The behavior of DataFrame concatenation with empty or all-NA entries is deprecated. In a future version, this will no longer exclude empty or all-NA columns when determining the result dtypes. To retain the old behavior, exclude the relevant entries before the concat operation.\n",
      "  player_logs_concat = pd.concat(player_logs, ignore_index=True)\n"
     ]
    },
    {
     "name": "stdout",
     "output_type": "stream",
     "text": [
      "Fetching logs for player Jordan Walsh (ID: 1641775) for season 2020-21...\n",
      "Fetching logs for player Jordan Walsh (ID: 1641775) for season 2021-22...\n",
      "Fetching logs for player Jordan Walsh (ID: 1641775) for season 2022-23...\n",
      "Fetching logs for player Jordan Walsh (ID: 1641775) for season 2023-24...\n"
     ]
    },
    {
     "name": "stderr",
     "output_type": "stream",
     "text": [
      "C:\\Users\\jwag1\\AppData\\Local\\Temp\\ipykernel_32800\\3592326873.py:51: FutureWarning: The behavior of DataFrame concatenation with empty or all-NA entries is deprecated. In a future version, this will no longer exclude empty or all-NA columns when determining the result dtypes. To retain the old behavior, exclude the relevant entries before the concat operation.\n",
      "  player_logs_concat = pd.concat(player_logs, ignore_index=True)\n"
     ]
    },
    {
     "name": "stdout",
     "output_type": "stream",
     "text": [
      "Fetching logs for player Derrick Walton Jr. (ID: 1628476) for season 2020-21...\n",
      "Fetching logs for player Derrick Walton Jr. (ID: 1628476) for season 2021-22...\n",
      "Fetching logs for player Derrick Walton Jr. (ID: 1628476) for season 2022-23...\n",
      "Fetching logs for player Derrick Walton Jr. (ID: 1628476) for season 2023-24...\n"
     ]
    },
    {
     "name": "stderr",
     "output_type": "stream",
     "text": [
      "C:\\Users\\jwag1\\AppData\\Local\\Temp\\ipykernel_32800\\3592326873.py:51: FutureWarning: The behavior of DataFrame concatenation with empty or all-NA entries is deprecated. In a future version, this will no longer exclude empty or all-NA columns when determining the result dtypes. To retain the old behavior, exclude the relevant entries before the concat operation.\n",
      "  player_logs_concat = pd.concat(player_logs, ignore_index=True)\n"
     ]
    },
    {
     "name": "stdout",
     "output_type": "stream",
     "text": [
      "Fetching logs for player Brad Wanamaker (ID: 202954) for season 2020-21...\n",
      "Fetching logs for player Brad Wanamaker (ID: 202954) for season 2021-22...\n",
      "Fetching logs for player Brad Wanamaker (ID: 202954) for season 2022-23...\n",
      "Fetching logs for player Brad Wanamaker (ID: 202954) for season 2023-24...\n"
     ]
    },
    {
     "name": "stderr",
     "output_type": "stream",
     "text": [
      "C:\\Users\\jwag1\\AppData\\Local\\Temp\\ipykernel_32800\\3592326873.py:51: FutureWarning: The behavior of DataFrame concatenation with empty or all-NA entries is deprecated. In a future version, this will no longer exclude empty or all-NA columns when determining the result dtypes. To retain the old behavior, exclude the relevant entries before the concat operation.\n",
      "  player_logs_concat = pd.concat(player_logs, ignore_index=True)\n"
     ]
    },
    {
     "name": "stdout",
     "output_type": "stream",
     "text": [
      "Fetching logs for player T.J. Warren (ID: 203933) for season 2020-21...\n",
      "Fetching logs for player T.J. Warren (ID: 203933) for season 2021-22...\n",
      "Fetching logs for player T.J. Warren (ID: 203933) for season 2022-23...\n",
      "Fetching logs for player T.J. Warren (ID: 203933) for season 2023-24...\n"
     ]
    },
    {
     "name": "stderr",
     "output_type": "stream",
     "text": [
      "C:\\Users\\jwag1\\AppData\\Local\\Temp\\ipykernel_32800\\3592326873.py:51: FutureWarning: The behavior of DataFrame concatenation with empty or all-NA entries is deprecated. In a future version, this will no longer exclude empty or all-NA columns when determining the result dtypes. To retain the old behavior, exclude the relevant entries before the concat operation.\n",
      "  player_logs_concat = pd.concat(player_logs, ignore_index=True)\n"
     ]
    },
    {
     "name": "stdout",
     "output_type": "stream",
     "text": [
      "Fetching logs for player P.J. Washington (ID: 1629023) for season 2020-21...\n",
      "Fetching logs for player P.J. Washington (ID: 1629023) for season 2021-22...\n",
      "Fetching logs for player P.J. Washington (ID: 1629023) for season 2022-23...\n",
      "Fetching logs for player P.J. Washington (ID: 1629023) for season 2023-24...\n",
      "Fetching logs for player Duane Washington Jr. (ID: 1630613) for season 2020-21...\n",
      "Fetching logs for player Duane Washington Jr. (ID: 1630613) for season 2021-22...\n",
      "Fetching logs for player Duane Washington Jr. (ID: 1630613) for season 2022-23...\n",
      "Fetching logs for player Duane Washington Jr. (ID: 1630613) for season 2023-24...\n"
     ]
    },
    {
     "name": "stderr",
     "output_type": "stream",
     "text": [
      "C:\\Users\\jwag1\\AppData\\Local\\Temp\\ipykernel_32800\\3592326873.py:51: FutureWarning: The behavior of DataFrame concatenation with empty or all-NA entries is deprecated. In a future version, this will no longer exclude empty or all-NA columns when determining the result dtypes. To retain the old behavior, exclude the relevant entries before the concat operation.\n",
      "  player_logs_concat = pd.concat(player_logs, ignore_index=True)\n"
     ]
    },
    {
     "name": "stdout",
     "output_type": "stream",
     "text": [
      "Fetching logs for player TyTy Washington Jr. (ID: 1631102) for season 2020-21...\n",
      "Fetching logs for player TyTy Washington Jr. (ID: 1631102) for season 2021-22...\n",
      "Fetching logs for player TyTy Washington Jr. (ID: 1631102) for season 2022-23...\n",
      "Fetching logs for player TyTy Washington Jr. (ID: 1631102) for season 2023-24...\n"
     ]
    },
    {
     "name": "stderr",
     "output_type": "stream",
     "text": [
      "C:\\Users\\jwag1\\AppData\\Local\\Temp\\ipykernel_32800\\3592326873.py:51: FutureWarning: The behavior of DataFrame concatenation with empty or all-NA entries is deprecated. In a future version, this will no longer exclude empty or all-NA columns when determining the result dtypes. To retain the old behavior, exclude the relevant entries before the concat operation.\n",
      "  player_logs_concat = pd.concat(player_logs, ignore_index=True)\n"
     ]
    },
    {
     "name": "stdout",
     "output_type": "stream",
     "text": [
      "Fetching logs for player Yuta Watanabe (ID: 1629139) for season 2020-21...\n",
      "Fetching logs for player Yuta Watanabe (ID: 1629139) for season 2021-22...\n",
      "Fetching logs for player Yuta Watanabe (ID: 1629139) for season 2022-23...\n",
      "Fetching logs for player Yuta Watanabe (ID: 1629139) for season 2023-24...\n",
      "Fetching logs for player Tremont Waters (ID: 1629682) for season 2020-21...\n",
      "Fetching logs for player Tremont Waters (ID: 1629682) for season 2021-22...\n",
      "Fetching logs for player Tremont Waters (ID: 1629682) for season 2022-23...\n",
      "Fetching logs for player Tremont Waters (ID: 1629682) for season 2023-24...\n"
     ]
    },
    {
     "name": "stderr",
     "output_type": "stream",
     "text": [
      "C:\\Users\\jwag1\\AppData\\Local\\Temp\\ipykernel_32800\\3592326873.py:51: FutureWarning: The behavior of DataFrame concatenation with empty or all-NA entries is deprecated. In a future version, this will no longer exclude empty or all-NA columns when determining the result dtypes. To retain the old behavior, exclude the relevant entries before the concat operation.\n",
      "  player_logs_concat = pd.concat(player_logs, ignore_index=True)\n"
     ]
    },
    {
     "name": "stdout",
     "output_type": "stream",
     "text": [
      "Fetching logs for player Lindy Waters III (ID: 1630322) for season 2020-21...\n",
      "Fetching logs for player Lindy Waters III (ID: 1630322) for season 2021-22...\n",
      "Fetching logs for player Lindy Waters III (ID: 1630322) for season 2022-23...\n",
      "Fetching logs for player Lindy Waters III (ID: 1630322) for season 2023-24...\n"
     ]
    },
    {
     "name": "stderr",
     "output_type": "stream",
     "text": [
      "C:\\Users\\jwag1\\AppData\\Local\\Temp\\ipykernel_32800\\3592326873.py:51: FutureWarning: The behavior of DataFrame concatenation with empty or all-NA entries is deprecated. In a future version, this will no longer exclude empty or all-NA columns when determining the result dtypes. To retain the old behavior, exclude the relevant entries before the concat operation.\n",
      "  player_logs_concat = pd.concat(player_logs, ignore_index=True)\n"
     ]
    },
    {
     "name": "stdout",
     "output_type": "stream",
     "text": [
      "Fetching logs for player Trendon Watford (ID: 1630570) for season 2020-21...\n",
      "Fetching logs for player Trendon Watford (ID: 1630570) for season 2021-22...\n",
      "Fetching logs for player Trendon Watford (ID: 1630570) for season 2022-23...\n",
      "Fetching logs for player Trendon Watford (ID: 1630570) for season 2023-24...\n"
     ]
    },
    {
     "name": "stderr",
     "output_type": "stream",
     "text": [
      "C:\\Users\\jwag1\\AppData\\Local\\Temp\\ipykernel_32800\\3592326873.py:51: FutureWarning: The behavior of DataFrame concatenation with empty or all-NA entries is deprecated. In a future version, this will no longer exclude empty or all-NA columns when determining the result dtypes. To retain the old behavior, exclude the relevant entries before the concat operation.\n",
      "  player_logs_concat = pd.concat(player_logs, ignore_index=True)\n"
     ]
    },
    {
     "name": "stdout",
     "output_type": "stream",
     "text": [
      "Fetching logs for player Paul Watson (ID: 1628778) for season 2020-21...\n",
      "Fetching logs for player Paul Watson (ID: 1628778) for season 2021-22...\n",
      "Fetching logs for player Paul Watson (ID: 1628778) for season 2022-23...\n",
      "Fetching logs for player Paul Watson (ID: 1628778) for season 2023-24...\n"
     ]
    },
    {
     "name": "stderr",
     "output_type": "stream",
     "text": [
      "C:\\Users\\jwag1\\AppData\\Local\\Temp\\ipykernel_32800\\3592326873.py:51: FutureWarning: The behavior of DataFrame concatenation with empty or all-NA entries is deprecated. In a future version, this will no longer exclude empty or all-NA columns when determining the result dtypes. To retain the old behavior, exclude the relevant entries before the concat operation.\n",
      "  player_logs_concat = pd.concat(player_logs, ignore_index=True)\n"
     ]
    },
    {
     "name": "stdout",
     "output_type": "stream",
     "text": [
      "Fetching logs for player Peyton Watson (ID: 1631212) for season 2020-21...\n",
      "Fetching logs for player Peyton Watson (ID: 1631212) for season 2021-22...\n",
      "Fetching logs for player Peyton Watson (ID: 1631212) for season 2022-23...\n",
      "Fetching logs for player Peyton Watson (ID: 1631212) for season 2023-24...\n"
     ]
    },
    {
     "name": "stderr",
     "output_type": "stream",
     "text": [
      "C:\\Users\\jwag1\\AppData\\Local\\Temp\\ipykernel_32800\\3592326873.py:51: FutureWarning: The behavior of DataFrame concatenation with empty or all-NA entries is deprecated. In a future version, this will no longer exclude empty or all-NA columns when determining the result dtypes. To retain the old behavior, exclude the relevant entries before the concat operation.\n",
      "  player_logs_concat = pd.concat(player_logs, ignore_index=True)\n"
     ]
    },
    {
     "name": "stdout",
     "output_type": "stream",
     "text": [
      "Fetching logs for player Quinndary Weatherspoon (ID: 1629683) for season 2020-21...\n",
      "Fetching logs for player Quinndary Weatherspoon (ID: 1629683) for season 2021-22...\n",
      "Fetching logs for player Quinndary Weatherspoon (ID: 1629683) for season 2022-23...\n",
      "Fetching logs for player Quinndary Weatherspoon (ID: 1629683) for season 2023-24...\n"
     ]
    },
    {
     "name": "stderr",
     "output_type": "stream",
     "text": [
      "C:\\Users\\jwag1\\AppData\\Local\\Temp\\ipykernel_32800\\3592326873.py:51: FutureWarning: The behavior of DataFrame concatenation with empty or all-NA entries is deprecated. In a future version, this will no longer exclude empty or all-NA columns when determining the result dtypes. To retain the old behavior, exclude the relevant entries before the concat operation.\n",
      "  player_logs_concat = pd.concat(player_logs, ignore_index=True)\n"
     ]
    },
    {
     "name": "stdout",
     "output_type": "stream",
     "text": [
      "Fetching logs for player Victor Wembanyama (ID: 1641705) for season 2020-21...\n",
      "Fetching logs for player Victor Wembanyama (ID: 1641705) for season 2021-22...\n",
      "Fetching logs for player Victor Wembanyama (ID: 1641705) for season 2022-23...\n",
      "Fetching logs for player Victor Wembanyama (ID: 1641705) for season 2023-24...\n"
     ]
    },
    {
     "name": "stderr",
     "output_type": "stream",
     "text": [
      "C:\\Users\\jwag1\\AppData\\Local\\Temp\\ipykernel_32800\\3592326873.py:51: FutureWarning: The behavior of DataFrame concatenation with empty or all-NA entries is deprecated. In a future version, this will no longer exclude empty or all-NA columns when determining the result dtypes. To retain the old behavior, exclude the relevant entries before the concat operation.\n",
      "  player_logs_concat = pd.concat(player_logs, ignore_index=True)\n"
     ]
    },
    {
     "name": "stdout",
     "output_type": "stream",
     "text": [
      "Fetching logs for player Blake Wesley (ID: 1631104) for season 2020-21...\n",
      "Fetching logs for player Blake Wesley (ID: 1631104) for season 2021-22...\n",
      "Fetching logs for player Blake Wesley (ID: 1631104) for season 2022-23...\n",
      "Fetching logs for player Blake Wesley (ID: 1631104) for season 2023-24...\n"
     ]
    },
    {
     "name": "stderr",
     "output_type": "stream",
     "text": [
      "C:\\Users\\jwag1\\AppData\\Local\\Temp\\ipykernel_32800\\3592326873.py:51: FutureWarning: The behavior of DataFrame concatenation with empty or all-NA entries is deprecated. In a future version, this will no longer exclude empty or all-NA columns when determining the result dtypes. To retain the old behavior, exclude the relevant entries before the concat operation.\n",
      "  player_logs_concat = pd.concat(player_logs, ignore_index=True)\n"
     ]
    },
    {
     "name": "stdout",
     "output_type": "stream",
     "text": [
      "Fetching logs for player Russell Westbrook (ID: 201566) for season 2020-21...\n",
      "Fetching logs for player Russell Westbrook (ID: 201566) for season 2021-22...\n",
      "Fetching logs for player Russell Westbrook (ID: 201566) for season 2022-23...\n",
      "Fetching logs for player Russell Westbrook (ID: 201566) for season 2023-24...\n",
      "Fetching logs for player Coby White (ID: 1629632) for season 2020-21...\n",
      "Fetching logs for player Coby White (ID: 1629632) for season 2021-22...\n",
      "Fetching logs for player Coby White (ID: 1629632) for season 2022-23...\n",
      "Fetching logs for player Coby White (ID: 1629632) for season 2023-24...\n",
      "Fetching logs for player Derrick White (ID: 1628401) for season 2020-21...\n",
      "Fetching logs for player Derrick White (ID: 1628401) for season 2021-22...\n",
      "Fetching logs for player Derrick White (ID: 1628401) for season 2022-23...\n",
      "Fetching logs for player Derrick White (ID: 1628401) for season 2023-24...\n",
      "Fetching logs for player Jack White (ID: 1631298) for season 2020-21...\n",
      "Fetching logs for player Jack White (ID: 1631298) for season 2021-22...\n",
      "Fetching logs for player Jack White (ID: 1631298) for season 2022-23...\n",
      "Fetching logs for player Jack White (ID: 1631298) for season 2023-24...\n"
     ]
    },
    {
     "name": "stderr",
     "output_type": "stream",
     "text": [
      "C:\\Users\\jwag1\\AppData\\Local\\Temp\\ipykernel_32800\\3592326873.py:51: FutureWarning: The behavior of DataFrame concatenation with empty or all-NA entries is deprecated. In a future version, this will no longer exclude empty or all-NA columns when determining the result dtypes. To retain the old behavior, exclude the relevant entries before the concat operation.\n",
      "  player_logs_concat = pd.concat(player_logs, ignore_index=True)\n",
      "\r",
      " 94%|█████████▍| 17/18 [31:44<02:02, 122.10s/it]"
     ]
    },
    {
     "name": "stdout",
     "output_type": "stream",
     "text": [
      "Processing batch 850 to 900...\n",
      "Fetching logs for player Dariq Whitehead (ID: 1641727) for season 2020-21...\n",
      "Fetching logs for player Dariq Whitehead (ID: 1641727) for season 2021-22...\n",
      "Fetching logs for player Dariq Whitehead (ID: 1641727) for season 2022-23...\n",
      "Fetching logs for player Dariq Whitehead (ID: 1641727) for season 2023-24...\n"
     ]
    },
    {
     "name": "stderr",
     "output_type": "stream",
     "text": [
      "C:\\Users\\jwag1\\AppData\\Local\\Temp\\ipykernel_32800\\3592326873.py:51: FutureWarning: The behavior of DataFrame concatenation with empty or all-NA entries is deprecated. In a future version, this will no longer exclude empty or all-NA columns when determining the result dtypes. To retain the old behavior, exclude the relevant entries before the concat operation.\n",
      "  player_logs_concat = pd.concat(player_logs, ignore_index=True)\n"
     ]
    },
    {
     "name": "stdout",
     "output_type": "stream",
     "text": [
      "Fetching logs for player Hassan Whiteside (ID: 202355) for season 2020-21...\n",
      "Fetching logs for player Hassan Whiteside (ID: 202355) for season 2021-22...\n",
      "Fetching logs for player Hassan Whiteside (ID: 202355) for season 2022-23...\n",
      "Fetching logs for player Hassan Whiteside (ID: 202355) for season 2023-24...\n"
     ]
    },
    {
     "name": "stderr",
     "output_type": "stream",
     "text": [
      "C:\\Users\\jwag1\\AppData\\Local\\Temp\\ipykernel_32800\\3592326873.py:51: FutureWarning: The behavior of DataFrame concatenation with empty or all-NA entries is deprecated. In a future version, this will no longer exclude empty or all-NA columns when determining the result dtypes. To retain the old behavior, exclude the relevant entries before the concat operation.\n",
      "  player_logs_concat = pd.concat(player_logs, ignore_index=True)\n"
     ]
    },
    {
     "name": "stdout",
     "output_type": "stream",
     "text": [
      "Fetching logs for player Cam Whitmore (ID: 1641715) for season 2020-21...\n",
      "Fetching logs for player Cam Whitmore (ID: 1641715) for season 2021-22...\n",
      "Fetching logs for player Cam Whitmore (ID: 1641715) for season 2022-23...\n",
      "Fetching logs for player Cam Whitmore (ID: 1641715) for season 2023-24...\n"
     ]
    },
    {
     "name": "stderr",
     "output_type": "stream",
     "text": [
      "C:\\Users\\jwag1\\AppData\\Local\\Temp\\ipykernel_32800\\3592326873.py:51: FutureWarning: The behavior of DataFrame concatenation with empty or all-NA entries is deprecated. In a future version, this will no longer exclude empty or all-NA columns when determining the result dtypes. To retain the old behavior, exclude the relevant entries before the concat operation.\n",
      "  player_logs_concat = pd.concat(player_logs, ignore_index=True)\n"
     ]
    },
    {
     "name": "stdout",
     "output_type": "stream",
     "text": [
      "Fetching logs for player Greg Whittington (ID: 204222) for season 2020-21...\n",
      "Fetching logs for player Greg Whittington (ID: 204222) for season 2021-22...\n",
      "Fetching logs for player Greg Whittington (ID: 204222) for season 2022-23...\n",
      "Fetching logs for player Greg Whittington (ID: 204222) for season 2023-24...\n"
     ]
    },
    {
     "name": "stderr",
     "output_type": "stream",
     "text": [
      "C:\\Users\\jwag1\\AppData\\Local\\Temp\\ipykernel_32800\\3592326873.py:51: FutureWarning: The behavior of DataFrame concatenation with empty or all-NA entries is deprecated. In a future version, this will no longer exclude empty or all-NA columns when determining the result dtypes. To retain the old behavior, exclude the relevant entries before the concat operation.\n",
      "  player_logs_concat = pd.concat(player_logs, ignore_index=True)\n"
     ]
    },
    {
     "name": "stdout",
     "output_type": "stream",
     "text": [
      "Fetching logs for player Joe Wieskamp (ID: 1630580) for season 2020-21...\n",
      "Fetching logs for player Joe Wieskamp (ID: 1630580) for season 2021-22...\n",
      "Fetching logs for player Joe Wieskamp (ID: 1630580) for season 2022-23...\n",
      "Fetching logs for player Joe Wieskamp (ID: 1630580) for season 2023-24...\n"
     ]
    },
    {
     "name": "stderr",
     "output_type": "stream",
     "text": [
      "C:\\Users\\jwag1\\AppData\\Local\\Temp\\ipykernel_32800\\3592326873.py:51: FutureWarning: The behavior of DataFrame concatenation with empty or all-NA entries is deprecated. In a future version, this will no longer exclude empty or all-NA columns when determining the result dtypes. To retain the old behavior, exclude the relevant entries before the concat operation.\n",
      "  player_logs_concat = pd.concat(player_logs, ignore_index=True)\n"
     ]
    },
    {
     "name": "stdout",
     "output_type": "stream",
     "text": [
      "Fetching logs for player Aaron Wiggins (ID: 1630598) for season 2020-21...\n",
      "Fetching logs for player Aaron Wiggins (ID: 1630598) for season 2021-22...\n",
      "Fetching logs for player Aaron Wiggins (ID: 1630598) for season 2022-23...\n",
      "Fetching logs for player Aaron Wiggins (ID: 1630598) for season 2023-24...\n"
     ]
    },
    {
     "name": "stderr",
     "output_type": "stream",
     "text": [
      "C:\\Users\\jwag1\\AppData\\Local\\Temp\\ipykernel_32800\\3592326873.py:51: FutureWarning: The behavior of DataFrame concatenation with empty or all-NA entries is deprecated. In a future version, this will no longer exclude empty or all-NA columns when determining the result dtypes. To retain the old behavior, exclude the relevant entries before the concat operation.\n",
      "  player_logs_concat = pd.concat(player_logs, ignore_index=True)\n"
     ]
    },
    {
     "name": "stdout",
     "output_type": "stream",
     "text": [
      "Fetching logs for player Andrew Wiggins (ID: 203952) for season 2020-21...\n",
      "Fetching logs for player Andrew Wiggins (ID: 203952) for season 2021-22...\n",
      "Fetching logs for player Andrew Wiggins (ID: 203952) for season 2022-23...\n",
      "Fetching logs for player Andrew Wiggins (ID: 203952) for season 2023-24...\n",
      "Fetching logs for player Lindell Wigginton (ID: 1629623) for season 2020-21...\n",
      "Fetching logs for player Lindell Wigginton (ID: 1629623) for season 2021-22...\n",
      "Fetching logs for player Lindell Wigginton (ID: 1629623) for season 2022-23...\n",
      "Fetching logs for player Lindell Wigginton (ID: 1629623) for season 2023-24...\n"
     ]
    },
    {
     "name": "stderr",
     "output_type": "stream",
     "text": [
      "C:\\Users\\jwag1\\AppData\\Local\\Temp\\ipykernel_32800\\3592326873.py:51: FutureWarning: The behavior of DataFrame concatenation with empty or all-NA entries is deprecated. In a future version, this will no longer exclude empty or all-NA columns when determining the result dtypes. To retain the old behavior, exclude the relevant entries before the concat operation.\n",
      "  player_logs_concat = pd.concat(player_logs, ignore_index=True)\n"
     ]
    },
    {
     "name": "stdout",
     "output_type": "stream",
     "text": [
      "Fetching logs for player Alondes Williams (ID: 1631214) for season 2020-21...\n",
      "Fetching logs for player Alondes Williams (ID: 1631214) for season 2021-22...\n",
      "Fetching logs for player Alondes Williams (ID: 1631214) for season 2022-23...\n",
      "Fetching logs for player Alondes Williams (ID: 1631214) for season 2023-24...\n"
     ]
    },
    {
     "name": "stderr",
     "output_type": "stream",
     "text": [
      "C:\\Users\\jwag1\\AppData\\Local\\Temp\\ipykernel_32800\\3592326873.py:51: FutureWarning: The behavior of DataFrame concatenation with empty or all-NA entries is deprecated. In a future version, this will no longer exclude empty or all-NA columns when determining the result dtypes. To retain the old behavior, exclude the relevant entries before the concat operation.\n",
      "  player_logs_concat = pd.concat(player_logs, ignore_index=True)\n"
     ]
    },
    {
     "name": "stdout",
     "output_type": "stream",
     "text": [
      "Fetching logs for player Brandon Williams (ID: 1630314) for season 2020-21...\n",
      "Fetching logs for player Brandon Williams (ID: 1630314) for season 2021-22...\n",
      "Fetching logs for player Brandon Williams (ID: 1630314) for season 2022-23...\n",
      "Fetching logs for player Brandon Williams (ID: 1630314) for season 2023-24...\n"
     ]
    },
    {
     "name": "stderr",
     "output_type": "stream",
     "text": [
      "C:\\Users\\jwag1\\AppData\\Local\\Temp\\ipykernel_32800\\3592326873.py:51: FutureWarning: The behavior of DataFrame concatenation with empty or all-NA entries is deprecated. In a future version, this will no longer exclude empty or all-NA columns when determining the result dtypes. To retain the old behavior, exclude the relevant entries before the concat operation.\n",
      "  player_logs_concat = pd.concat(player_logs, ignore_index=True)\n"
     ]
    },
    {
     "name": "stdout",
     "output_type": "stream",
     "text": [
      "Fetching logs for player Donovan Williams (ID: 1631495) for season 2020-21...\n",
      "Fetching logs for player Donovan Williams (ID: 1631495) for season 2021-22...\n",
      "Fetching logs for player Donovan Williams (ID: 1631495) for season 2022-23...\n",
      "Fetching logs for player Donovan Williams (ID: 1631495) for season 2023-24...\n"
     ]
    },
    {
     "name": "stderr",
     "output_type": "stream",
     "text": [
      "C:\\Users\\jwag1\\AppData\\Local\\Temp\\ipykernel_32800\\3592326873.py:51: FutureWarning: The behavior of DataFrame concatenation with empty or all-NA entries is deprecated. In a future version, this will no longer exclude empty or all-NA columns when determining the result dtypes. To retain the old behavior, exclude the relevant entries before the concat operation.\n",
      "  player_logs_concat = pd.concat(player_logs, ignore_index=True)\n"
     ]
    },
    {
     "name": "stdout",
     "output_type": "stream",
     "text": [
      "Fetching logs for player Grant Williams (ID: 1629684) for season 2020-21...\n",
      "Fetching logs for player Grant Williams (ID: 1629684) for season 2021-22...\n",
      "Fetching logs for player Grant Williams (ID: 1629684) for season 2022-23...\n",
      "Fetching logs for player Grant Williams (ID: 1629684) for season 2023-24...\n",
      "Fetching logs for player Jalen Williams (ID: 1631114) for season 2020-21...\n",
      "Fetching logs for player Jalen Williams (ID: 1631114) for season 2021-22...\n",
      "Fetching logs for player Jalen Williams (ID: 1631114) for season 2022-23...\n",
      "Fetching logs for player Jalen Williams (ID: 1631114) for season 2023-24...\n"
     ]
    },
    {
     "name": "stderr",
     "output_type": "stream",
     "text": [
      "C:\\Users\\jwag1\\AppData\\Local\\Temp\\ipykernel_32800\\3592326873.py:51: FutureWarning: The behavior of DataFrame concatenation with empty or all-NA entries is deprecated. In a future version, this will no longer exclude empty or all-NA columns when determining the result dtypes. To retain the old behavior, exclude the relevant entries before the concat operation.\n",
      "  player_logs_concat = pd.concat(player_logs, ignore_index=True)\n"
     ]
    },
    {
     "name": "stdout",
     "output_type": "stream",
     "text": [
      "Fetching logs for player Jaylin Williams (ID: 1631119) for season 2020-21...\n",
      "Fetching logs for player Jaylin Williams (ID: 1631119) for season 2021-22...\n",
      "Fetching logs for player Jaylin Williams (ID: 1631119) for season 2022-23...\n",
      "Fetching logs for player Jaylin Williams (ID: 1631119) for season 2023-24...\n"
     ]
    },
    {
     "name": "stderr",
     "output_type": "stream",
     "text": [
      "C:\\Users\\jwag1\\AppData\\Local\\Temp\\ipykernel_32800\\3592326873.py:51: FutureWarning: The behavior of DataFrame concatenation with empty or all-NA entries is deprecated. In a future version, this will no longer exclude empty or all-NA columns when determining the result dtypes. To retain the old behavior, exclude the relevant entries before the concat operation.\n",
      "  player_logs_concat = pd.concat(player_logs, ignore_index=True)\n"
     ]
    },
    {
     "name": "stdout",
     "output_type": "stream",
     "text": [
      "Fetching logs for player Kenrich Williams (ID: 1629026) for season 2020-21...\n",
      "Fetching logs for player Kenrich Williams (ID: 1629026) for season 2021-22...\n",
      "Fetching logs for player Kenrich Williams (ID: 1629026) for season 2022-23...\n",
      "Fetching logs for player Kenrich Williams (ID: 1629026) for season 2023-24...\n",
      "Fetching logs for player Lou Williams (ID: 101150) for season 2020-21...\n",
      "Fetching logs for player Lou Williams (ID: 101150) for season 2021-22...\n",
      "Fetching logs for player Lou Williams (ID: 101150) for season 2022-23...\n",
      "Fetching logs for player Lou Williams (ID: 101150) for season 2023-24...\n"
     ]
    },
    {
     "name": "stderr",
     "output_type": "stream",
     "text": [
      "C:\\Users\\jwag1\\AppData\\Local\\Temp\\ipykernel_32800\\3592326873.py:51: FutureWarning: The behavior of DataFrame concatenation with empty or all-NA entries is deprecated. In a future version, this will no longer exclude empty or all-NA columns when determining the result dtypes. To retain the old behavior, exclude the relevant entries before the concat operation.\n",
      "  player_logs_concat = pd.concat(player_logs, ignore_index=True)\n"
     ]
    },
    {
     "name": "stdout",
     "output_type": "stream",
     "text": [
      "Fetching logs for player Malik Williams (ID: 1642013) for season 2020-21...\n",
      "Fetching logs for player Malik Williams (ID: 1642013) for season 2021-22...\n",
      "Fetching logs for player Malik Williams (ID: 1642013) for season 2022-23...\n",
      "Fetching logs for player Malik Williams (ID: 1642013) for season 2023-24...\n"
     ]
    },
    {
     "name": "stderr",
     "output_type": "stream",
     "text": [
      "C:\\Users\\jwag1\\AppData\\Local\\Temp\\ipykernel_32800\\3592326873.py:51: FutureWarning: The behavior of DataFrame concatenation with empty or all-NA entries is deprecated. In a future version, this will no longer exclude empty or all-NA columns when determining the result dtypes. To retain the old behavior, exclude the relevant entries before the concat operation.\n",
      "  player_logs_concat = pd.concat(player_logs, ignore_index=True)\n"
     ]
    },
    {
     "name": "stdout",
     "output_type": "stream",
     "text": [
      "Fetching logs for player Mark Williams (ID: 1631109) for season 2020-21...\n",
      "Fetching logs for player Mark Williams (ID: 1631109) for season 2021-22...\n",
      "Fetching logs for player Mark Williams (ID: 1631109) for season 2022-23...\n",
      "Fetching logs for player Mark Williams (ID: 1631109) for season 2023-24...\n"
     ]
    },
    {
     "name": "stderr",
     "output_type": "stream",
     "text": [
      "C:\\Users\\jwag1\\AppData\\Local\\Temp\\ipykernel_32800\\3592326873.py:51: FutureWarning: The behavior of DataFrame concatenation with empty or all-NA entries is deprecated. In a future version, this will no longer exclude empty or all-NA columns when determining the result dtypes. To retain the old behavior, exclude the relevant entries before the concat operation.\n",
      "  player_logs_concat = pd.concat(player_logs, ignore_index=True)\n"
     ]
    },
    {
     "name": "stdout",
     "output_type": "stream",
     "text": [
      "Fetching logs for player Nate Williams (ID: 1631466) for season 2020-21...\n",
      "Fetching logs for player Nate Williams (ID: 1631466) for season 2021-22...\n",
      "Fetching logs for player Nate Williams (ID: 1631466) for season 2022-23...\n",
      "Fetching logs for player Nate Williams (ID: 1631466) for season 2023-24...\n"
     ]
    },
    {
     "name": "stderr",
     "output_type": "stream",
     "text": [
      "C:\\Users\\jwag1\\AppData\\Local\\Temp\\ipykernel_32800\\3592326873.py:51: FutureWarning: The behavior of DataFrame concatenation with empty or all-NA entries is deprecated. In a future version, this will no longer exclude empty or all-NA columns when determining the result dtypes. To retain the old behavior, exclude the relevant entries before the concat operation.\n",
      "  player_logs_concat = pd.concat(player_logs, ignore_index=True)\n"
     ]
    },
    {
     "name": "stdout",
     "output_type": "stream",
     "text": [
      "Fetching logs for player Patrick Williams (ID: 1630172) for season 2020-21...\n",
      "Fetching logs for player Patrick Williams (ID: 1630172) for season 2021-22...\n",
      "Fetching logs for player Patrick Williams (ID: 1630172) for season 2022-23...\n",
      "Fetching logs for player Patrick Williams (ID: 1630172) for season 2023-24...\n",
      "Fetching logs for player Ziaire Williams (ID: 1630533) for season 2020-21...\n",
      "Fetching logs for player Ziaire Williams (ID: 1630533) for season 2021-22...\n",
      "Fetching logs for player Ziaire Williams (ID: 1630533) for season 2022-23...\n",
      "Fetching logs for player Ziaire Williams (ID: 1630533) for season 2023-24...\n"
     ]
    },
    {
     "name": "stderr",
     "output_type": "stream",
     "text": [
      "C:\\Users\\jwag1\\AppData\\Local\\Temp\\ipykernel_32800\\3592326873.py:51: FutureWarning: The behavior of DataFrame concatenation with empty or all-NA entries is deprecated. In a future version, this will no longer exclude empty or all-NA columns when determining the result dtypes. To retain the old behavior, exclude the relevant entries before the concat operation.\n",
      "  player_logs_concat = pd.concat(player_logs, ignore_index=True)\n"
     ]
    },
    {
     "name": "stdout",
     "output_type": "stream",
     "text": [
      "Fetching logs for player Robert Williams III (ID: 1629057) for season 2020-21...\n",
      "Fetching logs for player Robert Williams III (ID: 1629057) for season 2021-22...\n",
      "Fetching logs for player Robert Williams III (ID: 1629057) for season 2022-23...\n",
      "Fetching logs for player Robert Williams III (ID: 1629057) for season 2023-24...\n",
      "Fetching logs for player Vince Williams Jr. (ID: 1631246) for season 2020-21...\n",
      "Fetching logs for player Vince Williams Jr. (ID: 1631246) for season 2021-22...\n",
      "Fetching logs for player Vince Williams Jr. (ID: 1631246) for season 2022-23...\n",
      "Fetching logs for player Vince Williams Jr. (ID: 1631246) for season 2023-24...\n"
     ]
    },
    {
     "name": "stderr",
     "output_type": "stream",
     "text": [
      "C:\\Users\\jwag1\\AppData\\Local\\Temp\\ipykernel_32800\\3592326873.py:51: FutureWarning: The behavior of DataFrame concatenation with empty or all-NA entries is deprecated. In a future version, this will no longer exclude empty or all-NA columns when determining the result dtypes. To retain the old behavior, exclude the relevant entries before the concat operation.\n",
      "  player_logs_concat = pd.concat(player_logs, ignore_index=True)\n"
     ]
    },
    {
     "name": "stdout",
     "output_type": "stream",
     "text": [
      "Fetching logs for player Zion Williamson (ID: 1629627) for season 2020-21...\n",
      "Fetching logs for player Zion Williamson (ID: 1629627) for season 2021-22...\n",
      "Fetching logs for player Zion Williamson (ID: 1629627) for season 2022-23...\n",
      "Fetching logs for player Zion Williamson (ID: 1629627) for season 2023-24...\n"
     ]
    },
    {
     "name": "stderr",
     "output_type": "stream",
     "text": [
      "C:\\Users\\jwag1\\AppData\\Local\\Temp\\ipykernel_32800\\3592326873.py:51: FutureWarning: The behavior of DataFrame concatenation with empty or all-NA entries is deprecated. In a future version, this will no longer exclude empty or all-NA columns when determining the result dtypes. To retain the old behavior, exclude the relevant entries before the concat operation.\n",
      "  player_logs_concat = pd.concat(player_logs, ignore_index=True)\n"
     ]
    },
    {
     "name": "stdout",
     "output_type": "stream",
     "text": [
      "Fetching logs for player D.J. Wilson (ID: 1628391) for season 2020-21...\n",
      "Fetching logs for player D.J. Wilson (ID: 1628391) for season 2021-22...\n",
      "Fetching logs for player D.J. Wilson (ID: 1628391) for season 2022-23...\n",
      "Fetching logs for player D.J. Wilson (ID: 1628391) for season 2023-24...\n"
     ]
    },
    {
     "name": "stderr",
     "output_type": "stream",
     "text": [
      "C:\\Users\\jwag1\\AppData\\Local\\Temp\\ipykernel_32800\\3592326873.py:51: FutureWarning: The behavior of DataFrame concatenation with empty or all-NA entries is deprecated. In a future version, this will no longer exclude empty or all-NA columns when determining the result dtypes. To retain the old behavior, exclude the relevant entries before the concat operation.\n",
      "  player_logs_concat = pd.concat(player_logs, ignore_index=True)\n"
     ]
    },
    {
     "name": "stdout",
     "output_type": "stream",
     "text": [
      "Fetching logs for player Jalen Wilson (ID: 1630592) for season 2020-21...\n",
      "Fetching logs for player Jalen Wilson (ID: 1630592) for season 2021-22...\n",
      "Fetching logs for player Jalen Wilson (ID: 1630592) for season 2022-23...\n",
      "Fetching logs for player Jalen Wilson (ID: 1630592) for season 2023-24...\n"
     ]
    },
    {
     "name": "stderr",
     "output_type": "stream",
     "text": [
      "C:\\Users\\jwag1\\AppData\\Local\\Temp\\ipykernel_32800\\3592326873.py:51: FutureWarning: The behavior of DataFrame concatenation with empty or all-NA entries is deprecated. In a future version, this will no longer exclude empty or all-NA columns when determining the result dtypes. To retain the old behavior, exclude the relevant entries before the concat operation.\n",
      "  player_logs_concat = pd.concat(player_logs, ignore_index=True)\n"
     ]
    },
    {
     "name": "stdout",
     "output_type": "stream",
     "text": [
      "Fetching logs for player Dylan Windler (ID: 1629685) for season 2020-21...\n",
      "Fetching logs for player Dylan Windler (ID: 1629685) for season 2021-22...\n",
      "Fetching logs for player Dylan Windler (ID: 1629685) for season 2022-23...\n",
      "Fetching logs for player Dylan Windler (ID: 1629685) for season 2023-24...\n",
      "Fetching logs for player Justise Winslow (ID: 1626159) for season 2020-21...\n",
      "Fetching logs for player Justise Winslow (ID: 1626159) for season 2021-22...\n",
      "Fetching logs for player Justise Winslow (ID: 1626159) for season 2022-23...\n",
      "Fetching logs for player Justise Winslow (ID: 1626159) for season 2023-24...\n"
     ]
    },
    {
     "name": "stderr",
     "output_type": "stream",
     "text": [
      "C:\\Users\\jwag1\\AppData\\Local\\Temp\\ipykernel_32800\\3592326873.py:51: FutureWarning: The behavior of DataFrame concatenation with empty or all-NA entries is deprecated. In a future version, this will no longer exclude empty or all-NA columns when determining the result dtypes. To retain the old behavior, exclude the relevant entries before the concat operation.\n",
      "  player_logs_concat = pd.concat(player_logs, ignore_index=True)\n"
     ]
    },
    {
     "name": "stdout",
     "output_type": "stream",
     "text": [
      "Fetching logs for player Cassius Winston (ID: 1630216) for season 2020-21...\n",
      "Fetching logs for player Cassius Winston (ID: 1630216) for season 2021-22...\n",
      "Fetching logs for player Cassius Winston (ID: 1630216) for season 2022-23...\n",
      "Fetching logs for player Cassius Winston (ID: 1630216) for season 2023-24...\n"
     ]
    },
    {
     "name": "stderr",
     "output_type": "stream",
     "text": [
      "C:\\Users\\jwag1\\AppData\\Local\\Temp\\ipykernel_32800\\3592326873.py:51: FutureWarning: The behavior of DataFrame concatenation with empty or all-NA entries is deprecated. In a future version, this will no longer exclude empty or all-NA columns when determining the result dtypes. To retain the old behavior, exclude the relevant entries before the concat operation.\n",
      "  player_logs_concat = pd.concat(player_logs, ignore_index=True)\n"
     ]
    },
    {
     "name": "stdout",
     "output_type": "stream",
     "text": [
      "Fetching logs for player James Wiseman (ID: 1630164) for season 2020-21...\n",
      "Fetching logs for player James Wiseman (ID: 1630164) for season 2021-22...\n",
      "Fetching logs for player James Wiseman (ID: 1630164) for season 2022-23...\n",
      "Fetching logs for player James Wiseman (ID: 1630164) for season 2023-24...\n"
     ]
    },
    {
     "name": "stderr",
     "output_type": "stream",
     "text": [
      "C:\\Users\\jwag1\\AppData\\Local\\Temp\\ipykernel_32800\\3592326873.py:51: FutureWarning: The behavior of DataFrame concatenation with empty or all-NA entries is deprecated. In a future version, this will no longer exclude empty or all-NA columns when determining the result dtypes. To retain the old behavior, exclude the relevant entries before the concat operation.\n",
      "  player_logs_concat = pd.concat(player_logs, ignore_index=True)\n"
     ]
    },
    {
     "name": "stdout",
     "output_type": "stream",
     "text": [
      "Fetching logs for player Isaiah Wong (ID: 1631209) for season 2020-21...\n",
      "Fetching logs for player Isaiah Wong (ID: 1631209) for season 2021-22...\n",
      "Fetching logs for player Isaiah Wong (ID: 1631209) for season 2022-23...\n",
      "Fetching logs for player Isaiah Wong (ID: 1631209) for season 2023-24...\n"
     ]
    },
    {
     "name": "stderr",
     "output_type": "stream",
     "text": [
      "C:\\Users\\jwag1\\AppData\\Local\\Temp\\ipykernel_32800\\3592326873.py:51: FutureWarning: The behavior of DataFrame concatenation with empty or all-NA entries is deprecated. In a future version, this will no longer exclude empty or all-NA columns when determining the result dtypes. To retain the old behavior, exclude the relevant entries before the concat operation.\n",
      "  player_logs_concat = pd.concat(player_logs, ignore_index=True)\n"
     ]
    },
    {
     "name": "stdout",
     "output_type": "stream",
     "text": [
      "Fetching logs for player Christian Wood (ID: 1626174) for season 2020-21...\n",
      "Fetching logs for player Christian Wood (ID: 1626174) for season 2021-22...\n",
      "Fetching logs for player Christian Wood (ID: 1626174) for season 2022-23...\n",
      "Fetching logs for player Christian Wood (ID: 1626174) for season 2023-24...\n",
      "Fetching logs for player Robert Woodard II (ID: 1630218) for season 2020-21...\n",
      "Fetching logs for player Robert Woodard II (ID: 1630218) for season 2021-22...\n",
      "Fetching logs for player Robert Woodard II (ID: 1630218) for season 2022-23...\n",
      "Fetching logs for player Robert Woodard II (ID: 1630218) for season 2023-24...\n"
     ]
    },
    {
     "name": "stderr",
     "output_type": "stream",
     "text": [
      "C:\\Users\\jwag1\\AppData\\Local\\Temp\\ipykernel_32800\\3592326873.py:51: FutureWarning: The behavior of DataFrame concatenation with empty or all-NA entries is deprecated. In a future version, this will no longer exclude empty or all-NA columns when determining the result dtypes. To retain the old behavior, exclude the relevant entries before the concat operation.\n",
      "  player_logs_concat = pd.concat(player_logs, ignore_index=True)\n"
     ]
    },
    {
     "name": "stdout",
     "output_type": "stream",
     "text": [
      "Fetching logs for player Delon Wright (ID: 1626153) for season 2020-21...\n",
      "Fetching logs for player Delon Wright (ID: 1626153) for season 2021-22...\n",
      "Fetching logs for player Delon Wright (ID: 1626153) for season 2022-23...\n",
      "Fetching logs for player Delon Wright (ID: 1626153) for season 2023-24...\n",
      "Fetching logs for player Moses Wright (ID: 1630589) for season 2020-21...\n",
      "Fetching logs for player Moses Wright (ID: 1630589) for season 2021-22...\n",
      "Fetching logs for player Moses Wright (ID: 1630589) for season 2022-23...\n",
      "Fetching logs for player Moses Wright (ID: 1630589) for season 2023-24...\n"
     ]
    },
    {
     "name": "stderr",
     "output_type": "stream",
     "text": [
      "C:\\Users\\jwag1\\AppData\\Local\\Temp\\ipykernel_32800\\3592326873.py:51: FutureWarning: The behavior of DataFrame concatenation with empty or all-NA entries is deprecated. In a future version, this will no longer exclude empty or all-NA columns when determining the result dtypes. To retain the old behavior, exclude the relevant entries before the concat operation.\n",
      "  player_logs_concat = pd.concat(player_logs, ignore_index=True)\n"
     ]
    },
    {
     "name": "stdout",
     "output_type": "stream",
     "text": [
      "Fetching logs for player McKinley Wright IV (ID: 1630593) for season 2020-21...\n",
      "Fetching logs for player McKinley Wright IV (ID: 1630593) for season 2021-22...\n",
      "Fetching logs for player McKinley Wright IV (ID: 1630593) for season 2022-23...\n",
      "Fetching logs for player McKinley Wright IV (ID: 1630593) for season 2023-24...\n"
     ]
    },
    {
     "name": "stderr",
     "output_type": "stream",
     "text": [
      "C:\\Users\\jwag1\\AppData\\Local\\Temp\\ipykernel_32800\\3592326873.py:51: FutureWarning: The behavior of DataFrame concatenation with empty or all-NA entries is deprecated. In a future version, this will no longer exclude empty or all-NA columns when determining the result dtypes. To retain the old behavior, exclude the relevant entries before the concat operation.\n",
      "  player_logs_concat = pd.concat(player_logs, ignore_index=True)\n"
     ]
    },
    {
     "name": "stdout",
     "output_type": "stream",
     "text": [
      "Fetching logs for player Gabe York (ID: 1628221) for season 2020-21...\n",
      "Fetching logs for player Gabe York (ID: 1628221) for season 2021-22...\n",
      "Fetching logs for player Gabe York (ID: 1628221) for season 2022-23...\n",
      "Fetching logs for player Gabe York (ID: 1628221) for season 2023-24...\n"
     ]
    },
    {
     "name": "stderr",
     "output_type": "stream",
     "text": [
      "C:\\Users\\jwag1\\AppData\\Local\\Temp\\ipykernel_32800\\3592326873.py:51: FutureWarning: The behavior of DataFrame concatenation with empty or all-NA entries is deprecated. In a future version, this will no longer exclude empty or all-NA columns when determining the result dtypes. To retain the old behavior, exclude the relevant entries before the concat operation.\n",
      "  player_logs_concat = pd.concat(player_logs, ignore_index=True)\n"
     ]
    },
    {
     "name": "stdout",
     "output_type": "stream",
     "text": [
      "Fetching logs for player Thaddeus Young (ID: 201152) for season 2020-21...\n",
      "Fetching logs for player Thaddeus Young (ID: 201152) for season 2021-22...\n",
      "Fetching logs for player Thaddeus Young (ID: 201152) for season 2022-23...\n",
      "Fetching logs for player Thaddeus Young (ID: 201152) for season 2023-24...\n",
      "Fetching logs for player Trae Young (ID: 1629027) for season 2020-21...\n",
      "Fetching logs for player Trae Young (ID: 1629027) for season 2021-22...\n",
      "Fetching logs for player Trae Young (ID: 1629027) for season 2022-23...\n",
      "Fetching logs for player Trae Young (ID: 1629027) for season 2023-24...\n",
      "Fetching logs for player Omer Yurtseven (ID: 1630209) for season 2020-21...\n",
      "Fetching logs for player Omer Yurtseven (ID: 1630209) for season 2021-22...\n",
      "Fetching logs for player Omer Yurtseven (ID: 1630209) for season 2022-23...\n",
      "Fetching logs for player Omer Yurtseven (ID: 1630209) for season 2023-24...\n"
     ]
    },
    {
     "name": "stderr",
     "output_type": "stream",
     "text": [
      "C:\\Users\\jwag1\\AppData\\Local\\Temp\\ipykernel_32800\\3592326873.py:51: FutureWarning: The behavior of DataFrame concatenation with empty or all-NA entries is deprecated. In a future version, this will no longer exclude empty or all-NA columns when determining the result dtypes. To retain the old behavior, exclude the relevant entries before the concat operation.\n",
      "  player_logs_concat = pd.concat(player_logs, ignore_index=True)\n"
     ]
    },
    {
     "name": "stdout",
     "output_type": "stream",
     "text": [
      "Fetching logs for player Cody Zeller (ID: 203469) for season 2020-21...\n",
      "Fetching logs for player Cody Zeller (ID: 203469) for season 2021-22...\n",
      "Fetching logs for player Cody Zeller (ID: 203469) for season 2022-23...\n",
      "Fetching logs for player Cody Zeller (ID: 203469) for season 2023-24...\n",
      "Fetching logs for player Ivica Zubac (ID: 1627826) for season 2020-21...\n",
      "Fetching logs for player Ivica Zubac (ID: 1627826) for season 2021-22...\n",
      "Fetching logs for player Ivica Zubac (ID: 1627826) for season 2022-23...\n",
      "Fetching logs for player Ivica Zubac (ID: 1627826) for season 2023-24...\n"
     ]
    },
    {
     "name": "stderr",
     "output_type": "stream",
     "text": [
      "100%|██████████| 18/18 [33:25<00:00, 111.44s/it]\n"
     ]
    },
    {
     "name": "stdout",
     "output_type": "stream",
     "text": [
      "  SEASON_ID Player_ID     Game_ID     GAME_DATE      MATCHUP WL MIN FGM FGA  \\\n",
      "0     22020   1630173  0022001069  MAY 16, 2021    MIA @ DET  W  42  10  16   \n",
      "1     22020   1630173  0022001062  MAY 15, 2021    MIA @ MIL  L   2   1   2   \n",
      "2     22020   1630173  0022001050  MAY 13, 2021  MIA vs. PHI  W   2   0   0   \n",
      "3     22020   1630173  0022000986  MAY 04, 2021  MIA vs. DAL  L   6   1   2   \n",
      "4     22020   1630173  0022000969  MAY 02, 2021    MIA @ CHA  W   1   0   1   \n",
      "\n",
      "   FG_PCT  ... REB AST  STL BLK TOV  PF PTS PLUS_MINUS VIDEO_AVAILABLE  \\\n",
      "0   0.625  ...  10   0    2   1   2   3  23          6               1   \n",
      "1   0.500  ...   0   1    0   0   0   0   2          3               1   \n",
      "2   0.000  ...   0   0    0   0   0   0   0         -5               1   \n",
      "3   0.500  ...   1   1    0   1   0   0   2         12               1   \n",
      "4   0.000  ...   0   0    0   0   0   0   0         -3               1   \n",
      "\n",
      "         PlayerName  \n",
      "0  Precious Achiuwa  \n",
      "1  Precious Achiuwa  \n",
      "2  Precious Achiuwa  \n",
      "3  Precious Achiuwa  \n",
      "4  Precious Achiuwa  \n",
      "\n",
      "[5 rows x 28 columns]\n"
     ]
    },
    {
     "name": "stderr",
     "output_type": "stream",
     "text": [
      "C:\\Users\\jwag1\\AppData\\Local\\Temp\\ipykernel_32800\\3592326873.py:55: FutureWarning: The behavior of DataFrame concatenation with empty or all-NA entries is deprecated. In a future version, this will no longer exclude empty or all-NA columns when determining the result dtypes. To retain the old behavior, exclude the relevant entries before the concat operation.\n",
      "  df_all_logs = pd.concat(all_logs, ignore_index=True)\n"
     ]
    }
   ],
   "source": [
    "from tqdm import tqdm  # Optional: For progress bar\n",
    "from nba_api.stats.endpoints import PlayerGameLog, CommonAllPlayers\n",
    "import time\n",
    "\n",
    "# Define the seasons of interest\n",
    "seasons = ['2020-21', '2021-22', '2022-23', '2023-24']\n",
    "\n",
    "# Fetch all players who have played during the specified seasons\n",
    "print(\"Fetching all players...\")\n",
    "all_players = CommonAllPlayers().get_data_frames()[0]\n",
    "print(\"Fetched all players.\")\n",
    "\n",
    "# Filter players who have played during these seasons\n",
    "players_data = all_players[(all_players['TO_YEAR'].astype(int) >= 2020) & (all_players['FROM_YEAR'].astype(int) <= 2023)]\n",
    "print(\"Filtered players data.\")\n",
    "\n",
    "# Initialize list to store game logs\n",
    "all_logs = []\n",
    "\n",
    "# Batch size for batch processing\n",
    "batch_size = 50\n",
    "\n",
    "# Loop through players in batches\n",
    "print(\"Starting batch processing...\")\n",
    "for i in tqdm(range(0, len(players_data), batch_size)):\n",
    "    print(f\"Processing batch {i} to {i+batch_size}...\")\n",
    "    batch_players = players_data.iloc[i:i+batch_size]\n",
    "    \n",
    "    for index, player in batch_players.iterrows():\n",
    "        player_id = str(player['PERSON_ID'])\n",
    "        player_name = player['DISPLAY_FIRST_LAST']\n",
    "        \n",
    "        player_logs = []  # List to store game logs for the current player\n",
    "        \n",
    "        for season in seasons:\n",
    "            try:\n",
    "                print(f\"Fetching logs for player {player_name} (ID: {player_id}) for season {season}...\")\n",
    "                game_log = PlayerGameLog(player_id=player_id, season=season, timeout=60)\n",
    "                logs = game_log.get_data_frames()[0]\n",
    "                \n",
    "                # Add player name to logs DataFrame\n",
    "                logs['PlayerName'] = player_name\n",
    "                \n",
    "                player_logs.append(logs)\n",
    "            except Exception as e:\n",
    "                print(f\"Error fetching logs for player {player_name} (ID: {player_id}) for season {season}: {e}\")\n",
    "                time.sleep(1)  # Add a short delay before retrying or continuing\n",
    "\n",
    "        # Concatenate logs for current player across all seasons\n",
    "        if player_logs:\n",
    "            player_logs_concat = pd.concat(player_logs, ignore_index=True)\n",
    "            all_logs.append(player_logs_concat)\n",
    "\n",
    "# Concatenate all player logs into a single DataFrame\n",
    "df_all_logs = pd.concat(all_logs, ignore_index=True)\n",
    "\n",
    "# Display or further process df_all_logs\n",
    "print(df_all_logs.head())"
   ]
  },
  {
   "cell_type": "markdown",
   "id": "bd5494ef",
   "metadata": {},
   "source": [
    "### 2. Save game logs in csv"
   ]
  },
  {
   "cell_type": "code",
   "execution_count": null,
   "id": "e7a4c752",
   "metadata": {},
   "outputs": [],
   "source": [
    "# Save the fetched game logs to a CSV file\n",
    "save_path = 'C:\\\\Users\\\\jwag1\\\\Documents\\\\player_game_logs_2020.csv'\n",
    "df_all_logs.to_csv(save_path, index=False)\n",
    "print(f\"Saved game logs to {save_path}\")\n"
   ]
  }
 ],
 "metadata": {
  "kernelspec": {
   "display_name": "Python 3 (ipykernel)",
   "language": "python",
   "name": "python3"
  },
  "language_info": {
   "codemirror_mode": {
    "name": "ipython",
    "version": 3
   },
   "file_extension": ".py",
   "mimetype": "text/x-python",
   "name": "python",
   "nbconvert_exporter": "python",
   "pygments_lexer": "ipython3",
   "version": "3.11.7"
  }
 },
 "nbformat": 4,
 "nbformat_minor": 5
}
